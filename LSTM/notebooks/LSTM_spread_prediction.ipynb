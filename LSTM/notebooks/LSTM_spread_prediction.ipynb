{
 "cells": [
  {
   "cell_type": "markdown",
   "metadata": {},
   "source": [
    "# COVID-19 Predictings using LSTM"
   ]
  },
  {
   "cell_type": "markdown",
   "metadata": {},
   "source": [
    "This notebook is used to compare outcomes of deep learning methods to mathematical SIR model variants.\n",
    "\n",
    "Deep learning methods require a lot of data as input for training. However, training one single model for all countries across the world raises a lot of problems. Not all countries show the same trend in infections, testing and registration is different for multiple countries, data shows a lot of fluctuations etc. \n",
    "\n",
    "A solution to this problem is to train a model countries' data with similar trends. Training a country is therefore done by using similar countries as training input. "
   ]
  },
  {
   "cell_type": "markdown",
   "metadata": {},
   "source": [
    "## Preparation"
   ]
  },
  {
   "cell_type": "code",
   "execution_count": 1,
   "metadata": {},
   "outputs": [],
   "source": [
    "import os\n",
    "import warnings \n",
    "warnings.filterwarnings('ignore')\n",
    "os.chdir('..')"
   ]
  },
  {
   "cell_type": "code",
   "execution_count": 2,
   "metadata": {},
   "outputs": [],
   "source": [
    "import time\n",
    "import torch\n",
    "import statistics\n",
    "\n",
    "import numpy   as np \n",
    "import pandas  as pd\n",
    "\n",
    "import seaborn as sns\n",
    "from matplotlib import pyplot as plt\n",
    "\n",
    "from sklearn.metrics       import mean_squared_log_error\n",
    "from sklearn.preprocessing import StandardScaler\n",
    "\n",
    "from tqdm             import tqdm\n",
    "from IPython.display  import display \n",
    "\n",
    "from torch import nn\n",
    "from torch import optim\n",
    "from torch.optim import lr_scheduler"
   ]
  },
  {
   "cell_type": "code",
   "execution_count": 3,
   "metadata": {},
   "outputs": [],
   "source": [
    "from core.data      import compare_countries as cc\n",
    "from core.data      import utils             as dataUtils\n",
    "\n",
    "from core.nn        import WeightInitializer\n",
    "from core.nn.loss   import l1_norm_error\n",
    "from core.nn.loss   import GradientSmoothLoss\n",
    "\n",
    "from core.networks  import BasicRecurrentPredictor"
   ]
  },
  {
   "cell_type": "code",
   "execution_count": 4,
   "metadata": {},
   "outputs": [],
   "source": [
    "# Reproduceble results\n",
    "torch.manual_seed(123);\n",
    "torch.cuda.manual_seed(123)\n",
    "np.random.seed(123)\n",
    "torch.backends.cudnn.deterministic = True"
   ]
  },
  {
   "cell_type": "markdown",
   "metadata": {},
   "source": [
    "### Global variables"
   ]
  },
  {
   "cell_type": "code",
   "execution_count": 5,
   "metadata": {},
   "outputs": [],
   "source": [
    "COUNTRY      = 'Germany'\n",
    "DEVICE       = 'cpu'\n",
    "TRAIN_UP_TO  = pd.to_datetime('2020-10-01')"
   ]
  },
  {
   "cell_type": "markdown",
   "metadata": {},
   "source": [
    "## Data"
   ]
  },
  {
   "cell_type": "markdown",
   "metadata": {},
   "source": [
    "Data is collected from the [GitHub](https://github.com/CSSEGISandData/COVID-19) repository  created by Johns Hopkins CSSE."
   ]
  },
  {
   "cell_type": "code",
   "execution_count": 6,
   "metadata": {},
   "outputs": [
    {
     "data": {
      "text/html": [
       "<div>\n",
       "<style scoped>\n",
       "    .dataframe tbody tr th:only-of-type {\n",
       "        vertical-align: middle;\n",
       "    }\n",
       "\n",
       "    .dataframe tbody tr th {\n",
       "        vertical-align: top;\n",
       "    }\n",
       "\n",
       "    .dataframe thead th {\n",
       "        text-align: right;\n",
       "    }\n",
       "</style>\n",
       "<table border=\"1\" class=\"dataframe\">\n",
       "  <thead>\n",
       "    <tr style=\"text-align: right;\">\n",
       "      <th></th>\n",
       "      <th>Province_State</th>\n",
       "      <th>Country_Region</th>\n",
       "      <th>Date</th>\n",
       "      <th>ConfirmedCases</th>\n",
       "      <th>Fatalities</th>\n",
       "    </tr>\n",
       "  </thead>\n",
       "  <tbody>\n",
       "    <tr>\n",
       "      <th>0</th>\n",
       "      <td>NaN</td>\n",
       "      <td>Afghanistan</td>\n",
       "      <td>2020-01-22</td>\n",
       "      <td>0.0</td>\n",
       "      <td>0.0</td>\n",
       "    </tr>\n",
       "    <tr>\n",
       "      <th>1</th>\n",
       "      <td>NaN</td>\n",
       "      <td>Afghanistan</td>\n",
       "      <td>2020-01-23</td>\n",
       "      <td>0.0</td>\n",
       "      <td>0.0</td>\n",
       "    </tr>\n",
       "    <tr>\n",
       "      <th>2</th>\n",
       "      <td>NaN</td>\n",
       "      <td>Afghanistan</td>\n",
       "      <td>2020-01-24</td>\n",
       "      <td>0.0</td>\n",
       "      <td>0.0</td>\n",
       "    </tr>\n",
       "    <tr>\n",
       "      <th>3</th>\n",
       "      <td>NaN</td>\n",
       "      <td>Afghanistan</td>\n",
       "      <td>2020-01-25</td>\n",
       "      <td>0.0</td>\n",
       "      <td>0.0</td>\n",
       "    </tr>\n",
       "    <tr>\n",
       "      <th>4</th>\n",
       "      <td>NaN</td>\n",
       "      <td>Afghanistan</td>\n",
       "      <td>2020-01-26</td>\n",
       "      <td>0.0</td>\n",
       "      <td>0.0</td>\n",
       "    </tr>\n",
       "  </tbody>\n",
       "</table>\n",
       "</div>"
      ],
      "text/plain": [
       "  Province_State Country_Region       Date  ConfirmedCases  Fatalities\n",
       "0            NaN    Afghanistan 2020-01-22             0.0         0.0\n",
       "1            NaN    Afghanistan 2020-01-23             0.0         0.0\n",
       "2            NaN    Afghanistan 2020-01-24             0.0         0.0\n",
       "3            NaN    Afghanistan 2020-01-25             0.0         0.0\n",
       "4            NaN    Afghanistan 2020-01-26             0.0         0.0"
      ]
     },
     "execution_count": 6,
     "metadata": {},
     "output_type": "execute_result"
    }
   ],
   "source": [
    "allData = pd.read_csv('assets/covid_spread.csv', parse_dates=['Date'])\n",
    "allData.head()"
   ]
  },
  {
   "cell_type": "code",
   "execution_count": 7,
   "metadata": {
    "scrolled": true
   },
   "outputs": [
    {
     "data": {
      "text/html": [
       "<div>\n",
       "<style scoped>\n",
       "    .dataframe tbody tr th:only-of-type {\n",
       "        vertical-align: middle;\n",
       "    }\n",
       "\n",
       "    .dataframe tbody tr th {\n",
       "        vertical-align: top;\n",
       "    }\n",
       "\n",
       "    .dataframe thead th {\n",
       "        text-align: right;\n",
       "    }\n",
       "</style>\n",
       "<table border=\"1\" class=\"dataframe\">\n",
       "  <thead>\n",
       "    <tr style=\"text-align: right;\">\n",
       "      <th></th>\n",
       "      <th>Province_State</th>\n",
       "      <th>Country_Region</th>\n",
       "      <th>Date</th>\n",
       "      <th>ConfirmedCases</th>\n",
       "      <th>Fatalities</th>\n",
       "    </tr>\n",
       "  </thead>\n",
       "  <tbody>\n",
       "    <tr>\n",
       "      <th>0</th>\n",
       "      <td>Afghanistan</td>\n",
       "      <td>Afghanistan</td>\n",
       "      <td>2020-01-22</td>\n",
       "      <td>0.0</td>\n",
       "      <td>0.0</td>\n",
       "    </tr>\n",
       "    <tr>\n",
       "      <th>1</th>\n",
       "      <td>Afghanistan</td>\n",
       "      <td>Afghanistan</td>\n",
       "      <td>2020-01-23</td>\n",
       "      <td>0.0</td>\n",
       "      <td>0.0</td>\n",
       "    </tr>\n",
       "    <tr>\n",
       "      <th>2</th>\n",
       "      <td>Afghanistan</td>\n",
       "      <td>Afghanistan</td>\n",
       "      <td>2020-01-24</td>\n",
       "      <td>0.0</td>\n",
       "      <td>0.0</td>\n",
       "    </tr>\n",
       "    <tr>\n",
       "      <th>3</th>\n",
       "      <td>Afghanistan</td>\n",
       "      <td>Afghanistan</td>\n",
       "      <td>2020-01-25</td>\n",
       "      <td>0.0</td>\n",
       "      <td>0.0</td>\n",
       "    </tr>\n",
       "    <tr>\n",
       "      <th>4</th>\n",
       "      <td>Afghanistan</td>\n",
       "      <td>Afghanistan</td>\n",
       "      <td>2020-01-26</td>\n",
       "      <td>0.0</td>\n",
       "      <td>0.0</td>\n",
       "    </tr>\n",
       "  </tbody>\n",
       "</table>\n",
       "</div>"
      ],
      "text/plain": [
       "  Province_State Country_Region       Date  ConfirmedCases  Fatalities\n",
       "0    Afghanistan    Afghanistan 2020-01-22             0.0         0.0\n",
       "1    Afghanistan    Afghanistan 2020-01-23             0.0         0.0\n",
       "2    Afghanistan    Afghanistan 2020-01-24             0.0         0.0\n",
       "3    Afghanistan    Afghanistan 2020-01-25             0.0         0.0\n",
       "4    Afghanistan    Afghanistan 2020-01-26             0.0         0.0"
      ]
     },
     "execution_count": 7,
     "metadata": {},
     "output_type": "execute_result"
    }
   ],
   "source": [
    "# Add data to Province_State\n",
    "allData = dataUtils.preprocess_data(allData)\n",
    "allData.head()"
   ]
  },
  {
   "cell_type": "code",
   "execution_count": 8,
   "metadata": {},
   "outputs": [
    {
     "data": {
      "text/html": [
       "<div>\n",
       "<style scoped>\n",
       "    .dataframe tbody tr th:only-of-type {\n",
       "        vertical-align: middle;\n",
       "    }\n",
       "\n",
       "    .dataframe tbody tr th {\n",
       "        vertical-align: top;\n",
       "    }\n",
       "\n",
       "    .dataframe thead th {\n",
       "        text-align: right;\n",
       "    }\n",
       "</style>\n",
       "<table border=\"1\" class=\"dataframe\">\n",
       "  <thead>\n",
       "    <tr style=\"text-align: right;\">\n",
       "      <th></th>\n",
       "      <th></th>\n",
       "      <th>Province_State</th>\n",
       "      <th>Country_Region</th>\n",
       "      <th>Date</th>\n",
       "      <th>ConfirmedCases</th>\n",
       "      <th>Fatalities</th>\n",
       "      <th>New Confirmed</th>\n",
       "    </tr>\n",
       "  </thead>\n",
       "  <tbody>\n",
       "    <tr>\n",
       "      <th rowspan=\"5\" valign=\"top\">0</th>\n",
       "      <th>1</th>\n",
       "      <td>Afghanistan</td>\n",
       "      <td>Afghanistan</td>\n",
       "      <td>2020-01-23</td>\n",
       "      <td>0.0</td>\n",
       "      <td>0.0</td>\n",
       "      <td>0.0</td>\n",
       "    </tr>\n",
       "    <tr>\n",
       "      <th>2</th>\n",
       "      <td>Afghanistan</td>\n",
       "      <td>Afghanistan</td>\n",
       "      <td>2020-01-24</td>\n",
       "      <td>0.0</td>\n",
       "      <td>0.0</td>\n",
       "      <td>0.0</td>\n",
       "    </tr>\n",
       "    <tr>\n",
       "      <th>3</th>\n",
       "      <td>Afghanistan</td>\n",
       "      <td>Afghanistan</td>\n",
       "      <td>2020-01-25</td>\n",
       "      <td>0.0</td>\n",
       "      <td>0.0</td>\n",
       "      <td>0.0</td>\n",
       "    </tr>\n",
       "    <tr>\n",
       "      <th>4</th>\n",
       "      <td>Afghanistan</td>\n",
       "      <td>Afghanistan</td>\n",
       "      <td>2020-01-26</td>\n",
       "      <td>0.0</td>\n",
       "      <td>0.0</td>\n",
       "      <td>0.0</td>\n",
       "    </tr>\n",
       "    <tr>\n",
       "      <th>5</th>\n",
       "      <td>Afghanistan</td>\n",
       "      <td>Afghanistan</td>\n",
       "      <td>2020-01-27</td>\n",
       "      <td>0.0</td>\n",
       "      <td>0.0</td>\n",
       "      <td>0.0</td>\n",
       "    </tr>\n",
       "    <tr>\n",
       "      <th>...</th>\n",
       "      <th>...</th>\n",
       "      <td>...</td>\n",
       "      <td>...</td>\n",
       "      <td>...</td>\n",
       "      <td>...</td>\n",
       "      <td>...</td>\n",
       "      <td>...</td>\n",
       "    </tr>\n",
       "    <tr>\n",
       "      <th rowspan=\"5\" valign=\"top\">190</th>\n",
       "      <th>99275</th>\n",
       "      <td>Zimbabwe</td>\n",
       "      <td>Zimbabwe</td>\n",
       "      <td>2021-01-16</td>\n",
       "      <td>26881.0</td>\n",
       "      <td>683.0</td>\n",
       "      <td>772.0</td>\n",
       "    </tr>\n",
       "    <tr>\n",
       "      <th>99276</th>\n",
       "      <td>Zimbabwe</td>\n",
       "      <td>Zimbabwe</td>\n",
       "      <td>2021-01-17</td>\n",
       "      <td>27203.0</td>\n",
       "      <td>713.0</td>\n",
       "      <td>322.0</td>\n",
       "    </tr>\n",
       "    <tr>\n",
       "      <th>99277</th>\n",
       "      <td>Zimbabwe</td>\n",
       "      <td>Zimbabwe</td>\n",
       "      <td>2021-01-18</td>\n",
       "      <td>27892.0</td>\n",
       "      <td>773.0</td>\n",
       "      <td>689.0</td>\n",
       "    </tr>\n",
       "    <tr>\n",
       "      <th>99278</th>\n",
       "      <td>Zimbabwe</td>\n",
       "      <td>Zimbabwe</td>\n",
       "      <td>2021-01-19</td>\n",
       "      <td>28675.0</td>\n",
       "      <td>825.0</td>\n",
       "      <td>783.0</td>\n",
       "    </tr>\n",
       "    <tr>\n",
       "      <th>99279</th>\n",
       "      <td>Zimbabwe</td>\n",
       "      <td>Zimbabwe</td>\n",
       "      <td>2021-01-20</td>\n",
       "      <td>29408.0</td>\n",
       "      <td>879.0</td>\n",
       "      <td>733.0</td>\n",
       "    </tr>\n",
       "  </tbody>\n",
       "</table>\n",
       "<p>99089 rows × 6 columns</p>\n",
       "</div>"
      ],
      "text/plain": [
       "          Province_State Country_Region       Date  ConfirmedCases  \\\n",
       "0   1        Afghanistan    Afghanistan 2020-01-23             0.0   \n",
       "    2        Afghanistan    Afghanistan 2020-01-24             0.0   \n",
       "    3        Afghanistan    Afghanistan 2020-01-25             0.0   \n",
       "    4        Afghanistan    Afghanistan 2020-01-26             0.0   \n",
       "    5        Afghanistan    Afghanistan 2020-01-27             0.0   \n",
       "...                  ...            ...        ...             ...   \n",
       "190 99275       Zimbabwe       Zimbabwe 2021-01-16         26881.0   \n",
       "    99276       Zimbabwe       Zimbabwe 2021-01-17         27203.0   \n",
       "    99277       Zimbabwe       Zimbabwe 2021-01-18         27892.0   \n",
       "    99278       Zimbabwe       Zimbabwe 2021-01-19         28675.0   \n",
       "    99279       Zimbabwe       Zimbabwe 2021-01-20         29408.0   \n",
       "\n",
       "           Fatalities  New Confirmed  \n",
       "0   1             0.0            0.0  \n",
       "    2             0.0            0.0  \n",
       "    3             0.0            0.0  \n",
       "    4             0.0            0.0  \n",
       "    5             0.0            0.0  \n",
       "...               ...            ...  \n",
       "190 99275       683.0          772.0  \n",
       "    99276       713.0          322.0  \n",
       "    99277       773.0          689.0  \n",
       "    99278       825.0          783.0  \n",
       "    99279       879.0          733.0  \n",
       "\n",
       "[99089 rows x 6 columns]"
      ]
     },
     "execution_count": 8,
     "metadata": {},
     "output_type": "execute_result"
    }
   ],
   "source": [
    "# Replace Confirmed cases with new confirmed cases\n",
    "allData = allData.sort_values(\"Date\")\n",
    "allData[\"New Confirmed\"] = allData.groupby(\"Country_Region\")[\"ConfirmedCases\"].diff()\n",
    "columns = allData.columns\n",
    "allData = allData.groupby('Country_Region', as_index=False).apply(lambda group: group.iloc[1:])\n",
    "allData"
   ]
  },
  {
   "cell_type": "code",
   "execution_count": 9,
   "metadata": {},
   "outputs": [],
   "source": [
    "allData = allData.reset_index()[columns]\n",
    "allData = allData.drop(\"ConfirmedCases\", axis=1)\n",
    "allData = allData.rename(columns={\"New Confirmed\": \"ConfirmedCases\"})"
   ]
  },
  {
   "cell_type": "markdown",
   "metadata": {},
   "source": [
    "### Similar country training data"
   ]
  },
  {
   "cell_type": "markdown",
   "metadata": {},
   "source": [
    "Select the data using a threshold. This threshold only selects countries higher than this value. Then, the smallest error is computed by the sliding-window method for every step. Data from the selected country is slided across, to compute the error at each step.  \n",
    "\n",
    "The result is a dataframe containing the following:\n",
    "- **Province_State** : the name of the state/province\n",
    "- **deathError**     : the minimum error that was found between source and that specific country for fatalities\n",
    "- **deathIdx**       : the index where the above error was found (in the thresholded array)\n",
    "- **confirmedError** : the minimum error that was found between source and that specific country for confirmed cases\n",
    "- **confirmedIdx**   : the index where the above error was found (in the thresholded array)\n",
    "\n",
    "**MAPE** (mean absolute percenta error) it used as the comparing measure. This represents the error in percentage relative to the source country, hence being easier to interpret and understand.  \n"
   ]
  },
  {
   "cell_type": "code",
   "execution_count": 13,
   "metadata": {},
   "outputs": [
    {
     "data": {
      "text/html": [
       "<div>\n",
       "<style scoped>\n",
       "    .dataframe tbody tr th:only-of-type {\n",
       "        vertical-align: middle;\n",
       "    }\n",
       "\n",
       "    .dataframe tbody tr th {\n",
       "        vertical-align: top;\n",
       "    }\n",
       "\n",
       "    .dataframe thead th {\n",
       "        text-align: right;\n",
       "    }\n",
       "</style>\n",
       "<table border=\"1\" class=\"dataframe\">\n",
       "  <thead>\n",
       "    <tr style=\"text-align: right;\">\n",
       "      <th></th>\n",
       "      <th>Province_State</th>\n",
       "      <th>deathError</th>\n",
       "      <th>confirmedError</th>\n",
       "      <th>deathIdx</th>\n",
       "      <th>confirmedIdx</th>\n",
       "    </tr>\n",
       "  </thead>\n",
       "  <tbody>\n",
       "    <tr>\n",
       "      <th>3</th>\n",
       "      <td>Italy</td>\n",
       "      <td>2.125351</td>\n",
       "      <td>0.665058</td>\n",
       "      <td>0</td>\n",
       "      <td>6</td>\n",
       "    </tr>\n",
       "    <tr>\n",
       "      <th>2</th>\n",
       "      <td>Iran</td>\n",
       "      <td>0.733100</td>\n",
       "      <td>1.783384</td>\n",
       "      <td>0</td>\n",
       "      <td>0</td>\n",
       "    </tr>\n",
       "    <tr>\n",
       "      <th>4</th>\n",
       "      <td>US</td>\n",
       "      <td>12.511726</td>\n",
       "      <td>38.968186</td>\n",
       "      <td>0</td>\n",
       "      <td>0</td>\n",
       "    </tr>\n",
       "    <tr>\n",
       "      <th>0</th>\n",
       "      <td>Hubei</td>\n",
       "      <td>0.565931</td>\n",
       "      <td>62.733887</td>\n",
       "      <td>0</td>\n",
       "      <td>0</td>\n",
       "    </tr>\n",
       "    <tr>\n",
       "      <th>1</th>\n",
       "      <td>France</td>\n",
       "      <td>1.879258</td>\n",
       "      <td>241.076756</td>\n",
       "      <td>0</td>\n",
       "      <td>0</td>\n",
       "    </tr>\n",
       "  </tbody>\n",
       "</table>\n",
       "</div>"
      ],
      "text/plain": [
       "  Province_State  deathError  confirmedError deathIdx confirmedIdx\n",
       "3          Italy    2.125351        0.665058        0            6\n",
       "2           Iran    0.733100        1.783384        0            0\n",
       "4             US   12.511726       38.968186        0            0\n",
       "0          Hubei    0.565931       62.733887        0            0\n",
       "1         France    1.879258      241.076756        0            0"
      ]
     },
     "metadata": {},
     "output_type": "display_data"
    },
    {
     "data": {
      "text/html": [
       "<div>\n",
       "<style scoped>\n",
       "    .dataframe tbody tr th:only-of-type {\n",
       "        vertical-align: middle;\n",
       "    }\n",
       "\n",
       "    .dataframe tbody tr th {\n",
       "        vertical-align: top;\n",
       "    }\n",
       "\n",
       "    .dataframe thead th {\n",
       "        text-align: right;\n",
       "    }\n",
       "</style>\n",
       "<table border=\"1\" class=\"dataframe\">\n",
       "  <thead>\n",
       "    <tr style=\"text-align: right;\">\n",
       "      <th></th>\n",
       "      <th>Province_State</th>\n",
       "      <th>deathError</th>\n",
       "      <th>confirmedError</th>\n",
       "      <th>deathIdx</th>\n",
       "      <th>confirmedIdx</th>\n",
       "    </tr>\n",
       "  </thead>\n",
       "  <tbody>\n",
       "    <tr>\n",
       "      <th>0</th>\n",
       "      <td>Hubei</td>\n",
       "      <td>0.565931</td>\n",
       "      <td>62.733887</td>\n",
       "      <td>0</td>\n",
       "      <td>0</td>\n",
       "    </tr>\n",
       "    <tr>\n",
       "      <th>2</th>\n",
       "      <td>Iran</td>\n",
       "      <td>0.733100</td>\n",
       "      <td>1.783384</td>\n",
       "      <td>0</td>\n",
       "      <td>0</td>\n",
       "    </tr>\n",
       "    <tr>\n",
       "      <th>1</th>\n",
       "      <td>France</td>\n",
       "      <td>1.879258</td>\n",
       "      <td>241.076756</td>\n",
       "      <td>0</td>\n",
       "      <td>0</td>\n",
       "    </tr>\n",
       "    <tr>\n",
       "      <th>3</th>\n",
       "      <td>Italy</td>\n",
       "      <td>2.125351</td>\n",
       "      <td>0.665058</td>\n",
       "      <td>0</td>\n",
       "      <td>6</td>\n",
       "    </tr>\n",
       "    <tr>\n",
       "      <th>5</th>\n",
       "      <td>United Kingdom</td>\n",
       "      <td>2.751744</td>\n",
       "      <td>292.846311</td>\n",
       "      <td>0</td>\n",
       "      <td>0</td>\n",
       "    </tr>\n",
       "  </tbody>\n",
       "</table>\n",
       "</div>"
      ],
      "text/plain": [
       "   Province_State  deathError  confirmedError deathIdx confirmedIdx\n",
       "0           Hubei    0.565931       62.733887        0            0\n",
       "2            Iran    0.733100        1.783384        0            0\n",
       "1          France    1.879258      241.076756        0            0\n",
       "3           Italy    2.125351        0.665058        0            6\n",
       "5  United Kingdom    2.751744      292.846311        0            0"
      ]
     },
     "metadata": {},
     "output_type": "display_data"
    }
   ],
   "source": [
    "errorData  = cc.get_nearest_sequence(allData, COUNTRY, \n",
    "                                     alignThreshConf = 70,\n",
    "                                     alignThreshDead = 20,  \n",
    "                                     errorFunc       = l1_norm_error\n",
    "                                    )\n",
    "\n",
    "display(errorData.sort_values(by='confirmedError').head())\n",
    "display(errorData.sort_values(by='deathError').head())"
   ]
  },
  {
   "cell_type": "markdown",
   "metadata": {},
   "source": [
    "### Creating traning data"
   ]
  },
  {
   "cell_type": "markdown",
   "metadata": {},
   "source": [
    "Training data is selected including only the countries that have an average error smaller that a threshold. This is done for both confirmed cases and fatalities. These models are trained seperately. "
   ]
  },
  {
   "cell_type": "code",
   "execution_count": 25,
   "metadata": {},
   "outputs": [
    {
     "data": {
      "text/html": [
       "<div>\n",
       "<style scoped>\n",
       "    .dataframe tbody tr th:only-of-type {\n",
       "        vertical-align: middle;\n",
       "    }\n",
       "\n",
       "    .dataframe tbody tr th {\n",
       "        vertical-align: top;\n",
       "    }\n",
       "\n",
       "    .dataframe thead th {\n",
       "        text-align: right;\n",
       "    }\n",
       "</style>\n",
       "<table border=\"1\" class=\"dataframe\">\n",
       "  <thead>\n",
       "    <tr style=\"text-align: right;\">\n",
       "      <th></th>\n",
       "      <th>Date</th>\n",
       "      <th>Province_State</th>\n",
       "      <th>ConfirmedCases</th>\n",
       "    </tr>\n",
       "  </thead>\n",
       "  <tbody>\n",
       "    <tr>\n",
       "      <th>48483</th>\n",
       "      <td>2020-01-27</td>\n",
       "      <td>Germany</td>\n",
       "      <td>1.0</td>\n",
       "    </tr>\n",
       "    <tr>\n",
       "      <th>48484</th>\n",
       "      <td>2020-01-28</td>\n",
       "      <td>Germany</td>\n",
       "      <td>3.0</td>\n",
       "    </tr>\n",
       "    <tr>\n",
       "      <th>48487</th>\n",
       "      <td>2020-01-31</td>\n",
       "      <td>Germany</td>\n",
       "      <td>1.0</td>\n",
       "    </tr>\n",
       "    <tr>\n",
       "      <th>48488</th>\n",
       "      <td>2020-02-01</td>\n",
       "      <td>Germany</td>\n",
       "      <td>3.0</td>\n",
       "    </tr>\n",
       "    <tr>\n",
       "      <th>48489</th>\n",
       "      <td>2020-02-02</td>\n",
       "      <td>Germany</td>\n",
       "      <td>2.0</td>\n",
       "    </tr>\n",
       "    <tr>\n",
       "      <th>...</th>\n",
       "      <td>...</td>\n",
       "      <td>...</td>\n",
       "      <td>...</td>\n",
       "    </tr>\n",
       "    <tr>\n",
       "      <th>48838</th>\n",
       "      <td>2021-01-16</td>\n",
       "      <td>Germany</td>\n",
       "      <td>14817.0</td>\n",
       "    </tr>\n",
       "    <tr>\n",
       "      <th>48839</th>\n",
       "      <td>2021-01-17</td>\n",
       "      <td>Germany</td>\n",
       "      <td>11484.0</td>\n",
       "    </tr>\n",
       "    <tr>\n",
       "      <th>48840</th>\n",
       "      <td>2021-01-18</td>\n",
       "      <td>Germany</td>\n",
       "      <td>9253.0</td>\n",
       "    </tr>\n",
       "    <tr>\n",
       "      <th>48841</th>\n",
       "      <td>2021-01-19</td>\n",
       "      <td>Germany</td>\n",
       "      <td>12233.0</td>\n",
       "    </tr>\n",
       "    <tr>\n",
       "      <th>48842</th>\n",
       "      <td>2021-01-20</td>\n",
       "      <td>Germany</td>\n",
       "      <td>29003.0</td>\n",
       "    </tr>\n",
       "  </tbody>\n",
       "</table>\n",
       "<p>340 rows × 3 columns</p>\n",
       "</div>"
      ],
      "text/plain": [
       "            Date Province_State  ConfirmedCases\n",
       "48483 2020-01-27        Germany             1.0\n",
       "48484 2020-01-28        Germany             3.0\n",
       "48487 2020-01-31        Germany             1.0\n",
       "48488 2020-02-01        Germany             3.0\n",
       "48489 2020-02-02        Germany             2.0\n",
       "...          ...            ...             ...\n",
       "48838 2021-01-16        Germany         14817.0\n",
       "48839 2021-01-17        Germany         11484.0\n",
       "48840 2021-01-18        Germany          9253.0\n",
       "48841 2021-01-19        Germany         12233.0\n",
       "48842 2021-01-20        Germany         29003.0\n",
       "\n",
       "[340 rows x 3 columns]"
      ]
     },
     "execution_count": 25,
     "metadata": {},
     "output_type": "execute_result"
    }
   ],
   "source": [
    "confData = dataUtils.get_target_data(allData, errorData, \n",
    "                                     errorThresh = .5, \n",
    "                                     country     = COUNTRY, \n",
    "                                     target      = 'confirmed')\n",
    "deadData = dataUtils.get_target_data(allData, errorData, \n",
    "                                     errorThresh = .5, \n",
    "                                     country     = COUNTRY, \n",
    "                                     target      = 'fatalities')\n",
    "\n",
    "# confData.head()\n",
    "\n",
    "confData"
   ]
  },
  {
   "cell_type": "markdown",
   "metadata": {},
   "source": [
    "[StandardScaler](https://scikit-learn.org/stable/modules/generated/sklearn.preprocessing.StandardScaler.html) is used to scale the dates because a small standard deviation is expected for features. This scaler will be further used for scaling both the training data and the model predictions."
   ]
  },
  {
   "cell_type": "code",
   "execution_count": 12,
   "metadata": {},
   "outputs": [],
   "source": [
    "confScaler = dataUtils.get_scaler(confData, 'confirmed')\n",
    "deadScaler = dataUtils.get_scaler(deadData, 'fatalities')"
   ]
  },
  {
   "cell_type": "markdown",
   "metadata": {},
   "source": [
    "## Predicting"
   ]
  },
  {
   "cell_type": "markdown",
   "metadata": {},
   "source": [
    "### Model"
   ]
  },
  {
   "cell_type": "markdown",
   "metadata": {},
   "source": [
    "The reccurent predictor is composed from 2 parts:\n",
    "- reccurent cells  \n",
    "- multi layer perceptron that is applied after each encoded timpestamp \n",
    "Each part will be individually configured."
   ]
  },
  {
   "cell_type": "markdown",
   "metadata": {},
   "source": [
    "Two individual models are trained for the two features, Confirmed Cases and Fatalities. "
   ]
  },
  {
   "cell_type": "markdown",
   "metadata": {},
   "source": [
    "An overview of the model is shown in this figure:"
   ]
  },
  {
   "cell_type": "markdown",
   "metadata": {},
   "source": [
    "![RNN_Flow](../assets/images/rnn_model.png)"
   ]
  },
  {
   "cell_type": "markdown",
   "metadata": {},
   "source": [
    "#### Parameters"
   ]
  },
  {
   "cell_type": "markdown",
   "metadata": {},
   "source": [
    "These define overall shapes of the data and the size of the embeddings:\n",
    "- **chNo**   : the number of input and output features, they must have the same length, in out case this       \n",
    "- **future** : the number of timestapms to predict into the feature "
   ]
  },
  {
   "cell_type": "markdown",
   "metadata": {},
   "source": [
    "#### RNN parameters"
   ]
  },
  {
   "cell_type": "markdown",
   "metadata": {},
   "source": [
    "- **rnnCell** : RNN cell types that are supported in Pytorch (LSTM/GRU/RNN), the most powerfull one is LSTM, though, having a small amount of data(like in our case) GRU may be better choice thus is generalize better. RNNCell is also an option yet, but it yielded the worst results\n",
    "- **rnnNoCells** : represent the number of reccurent cells in the model a higher number leads to a very unstable model (especially for this task) and the exploding gradients problem occurs very often during training \n",
    "- **hidChNo** : number of RNN cell hidden dimension\n",
    "\n",
    "**Note**: yes, this part could have been implemented using the higher level and more optimized [API](https://pytorch.org/docs/stable/nn.html#torch.nn.LSTM) from PyTorch, but I think this is more expressive and easier to understand and it is not such does not require a lot more code"
   ]
  },
  {
   "cell_type": "markdown",
   "metadata": {},
   "source": [
    "#### MLP parameters"
   ]
  },
  {
   "cell_type": "markdown",
   "metadata": {},
   "source": [
    "- **mlpLayerCfg** : a list with the numbers of neurons in each hidden layer. The layers might be wideer but is to be avoided having a very deep network (numerical instability during training and no real benefit from it)\n",
    "- **mlpActiv** : activation layer after each dense/linear layer, I have used [PReLU](https://pytorch.org/docs/stable/nn.html#prelu) which is a sort of learnable loss \n",
    "- **dropRate** : dropout rate applied after each dense/linear layer, for our case 0 is used\n",
    "- **normType** : normalization layer, not used used\n",
    "- **mlpActivLast** : last layer activation function "
   ]
  },
  {
   "cell_type": "markdown",
   "metadata": {},
   "source": [
    "## Training"
   ]
  },
  {
   "cell_type": "markdown",
   "metadata": {},
   "source": [
    "Because the both Confirmed and Fatalities are going to follow the same lead and only a few parameters will vary, I will only explain once everything and add a few notes if that will be necessarly. "
   ]
  },
  {
   "cell_type": "code",
   "execution_count": 15,
   "metadata": {},
   "outputs": [],
   "source": [
    "w = WeightInitializer()"
   ]
  },
  {
   "cell_type": "markdown",
   "metadata": {},
   "source": [
    "### Confirmed"
   ]
  },
  {
   "cell_type": "markdown",
   "metadata": {},
   "source": [
    "For this section we have more data, since the cases have started earlier and the fatalities came later on. "
   ]
  },
  {
   "cell_type": "markdown",
   "metadata": {},
   "source": [
    "#### Initialize Confirmed Cases Model"
   ]
  },
  {
   "cell_type": "code",
   "execution_count": 16,
   "metadata": {},
   "outputs": [],
   "source": [
    "# build the model\n",
    "confModel = BasicRecurrentPredictor(\n",
    "            # parameters\n",
    "            chNo        = 1,          # number of input features\n",
    "            future      = 0,\n",
    "            returnFullSeq = True,     # return both the encoded sequence \n",
    "                                      # and the future prediction\n",
    "    \n",
    "            # RNN\n",
    "            rnnCell     = 'LSTMCell', # RNN cell type (LSTM/GRU/RNN)\n",
    "            rnnNoCells  = 1,          # no of RNN cells\n",
    "            hidChNo     = 16,         # number of RNN cell hidden dimension\n",
    "            \n",
    "            # MLP\n",
    "            mlpLayerCfg   = [4],      # layer hidden dims\n",
    "            mlpActiv      = 'PReLU',  # inner activation of the mlp\n",
    "            dropRate      = None,     # dropout rate for each layer of mlp\n",
    "            normType      = None,     # normalization type\n",
    "            mlpActivLast  = None      # note that every timestamp \n",
    "                                      # in the sequence will be activated too\n",
    "            \n",
    "            ).build()"
   ]
  },
  {
   "cell_type": "markdown",
   "metadata": {},
   "source": [
    "Moving on, the model will have the weights initialized as as follows:\n",
    "- RNN : default (provided by PyTorch)\n",
    "- MLP : normal distribution"
   ]
  },
  {
   "cell_type": "code",
   "execution_count": 17,
   "metadata": {},
   "outputs": [],
   "source": [
    "w.init_weights(confModel, 'normal_', {})"
   ]
  },
  {
   "cell_type": "markdown",
   "metadata": {},
   "source": [
    "#### Timing constants and data splitting"
   ]
  },
  {
   "cell_type": "markdown",
   "metadata": {},
   "source": [
    "![data_model](../assets/images/data_diagram.png)"
   ]
  },
  {
   "cell_type": "markdown",
   "metadata": {},
   "source": [
    "Constants:\n",
    "- **winSize**     - the  size of observation period and prediction period \n",
    "- **obsSize**     - number of timestemps used for observation\n",
    "- **futureSteps** - the number of predicted days, not including the observation period\n",
    "- **supPredSteps** - are the number predicted days that are going to be optimized in a supervised manner\n",
    "- **uPredSteps** - are the number predicted days that are going to be optimized in an unsupervised manner\n",
    "- **allPredSteps** - the total length of the prediction output including the observation period and the future steps"
   ]
  },
  {
   "cell_type": "code",
   "execution_count": 19,
   "metadata": {},
   "outputs": [],
   "source": [
    "winSize       = 10\n",
    "obsSize       = 5\n",
    "futureSteps   = 15\n",
    "supPredSteps  = winSize - obsSize\n",
    "uPredSteps    = futureSteps - supPredSteps\n",
    "allPredSteps  = futureSteps + obsSize"
   ]
  },
  {
   "cell_type": "markdown",
   "metadata": {},
   "source": [
    "#### Train Data"
   ]
  },
  {
   "cell_type": "markdown",
   "metadata": {},
   "source": [
    "Split the dataframe from the previously selected data into batches and normalize it. The data is only selected until a specific date, and the rest is left for validation.  "
   ]
  },
  {
   "cell_type": "code",
   "execution_count": 21,
   "metadata": {},
   "outputs": [
    {
     "data": {
      "text/plain": [
       "torch.Size([219, 10, 1])"
      ]
     },
     "execution_count": 21,
     "metadata": {},
     "output_type": "execute_result"
    }
   ],
   "source": [
    "confTrainData = dataUtils.get_train_data(confData, 'confirmed', \n",
    "                                  step       = 1,\n",
    "                                  winSize    = winSize, \n",
    "                                  trainLimit = TRAIN_UP_TO, \n",
    "                                  scaler     = confScaler,\n",
    "                                  shuffle    = True)\n",
    "confTrainData.shape\n",
    "\n",
    "# print(confTrainData)"
   ]
  },
  {
   "cell_type": "code",
   "execution_count": 26,
   "metadata": {},
   "outputs": [
    {
     "data": {
      "text/html": [
       "<div>\n",
       "<style scoped>\n",
       "    .dataframe tbody tr th:only-of-type {\n",
       "        vertical-align: middle;\n",
       "    }\n",
       "\n",
       "    .dataframe tbody tr th {\n",
       "        vertical-align: top;\n",
       "    }\n",
       "\n",
       "    .dataframe thead th {\n",
       "        text-align: right;\n",
       "    }\n",
       "</style>\n",
       "<table border=\"1\" class=\"dataframe\">\n",
       "  <thead>\n",
       "    <tr style=\"text-align: right;\">\n",
       "      <th></th>\n",
       "      <th>Date</th>\n",
       "      <th>Province_State</th>\n",
       "      <th>ConfirmedCases</th>\n",
       "    </tr>\n",
       "  </thead>\n",
       "  <tbody>\n",
       "    <tr>\n",
       "      <th>48483</th>\n",
       "      <td>2020-01-27</td>\n",
       "      <td>Germany</td>\n",
       "      <td>1.0</td>\n",
       "    </tr>\n",
       "    <tr>\n",
       "      <th>48484</th>\n",
       "      <td>2020-01-28</td>\n",
       "      <td>Germany</td>\n",
       "      <td>3.0</td>\n",
       "    </tr>\n",
       "    <tr>\n",
       "      <th>48487</th>\n",
       "      <td>2020-01-31</td>\n",
       "      <td>Germany</td>\n",
       "      <td>1.0</td>\n",
       "    </tr>\n",
       "    <tr>\n",
       "      <th>48488</th>\n",
       "      <td>2020-02-01</td>\n",
       "      <td>Germany</td>\n",
       "      <td>3.0</td>\n",
       "    </tr>\n",
       "    <tr>\n",
       "      <th>48489</th>\n",
       "      <td>2020-02-02</td>\n",
       "      <td>Germany</td>\n",
       "      <td>2.0</td>\n",
       "    </tr>\n",
       "    <tr>\n",
       "      <th>...</th>\n",
       "      <td>...</td>\n",
       "      <td>...</td>\n",
       "      <td>...</td>\n",
       "    </tr>\n",
       "    <tr>\n",
       "      <th>48838</th>\n",
       "      <td>2021-01-16</td>\n",
       "      <td>Germany</td>\n",
       "      <td>14817.0</td>\n",
       "    </tr>\n",
       "    <tr>\n",
       "      <th>48839</th>\n",
       "      <td>2021-01-17</td>\n",
       "      <td>Germany</td>\n",
       "      <td>11484.0</td>\n",
       "    </tr>\n",
       "    <tr>\n",
       "      <th>48840</th>\n",
       "      <td>2021-01-18</td>\n",
       "      <td>Germany</td>\n",
       "      <td>9253.0</td>\n",
       "    </tr>\n",
       "    <tr>\n",
       "      <th>48841</th>\n",
       "      <td>2021-01-19</td>\n",
       "      <td>Germany</td>\n",
       "      <td>12233.0</td>\n",
       "    </tr>\n",
       "    <tr>\n",
       "      <th>48842</th>\n",
       "      <td>2021-01-20</td>\n",
       "      <td>Germany</td>\n",
       "      <td>29003.0</td>\n",
       "    </tr>\n",
       "  </tbody>\n",
       "</table>\n",
       "<p>340 rows × 3 columns</p>\n",
       "</div>"
      ],
      "text/plain": [
       "            Date Province_State  ConfirmedCases\n",
       "48483 2020-01-27        Germany             1.0\n",
       "48484 2020-01-28        Germany             3.0\n",
       "48487 2020-01-31        Germany             1.0\n",
       "48488 2020-02-01        Germany             3.0\n",
       "48489 2020-02-02        Germany             2.0\n",
       "...          ...            ...             ...\n",
       "48838 2021-01-16        Germany         14817.0\n",
       "48839 2021-01-17        Germany         11484.0\n",
       "48840 2021-01-18        Germany          9253.0\n",
       "48841 2021-01-19        Germany         12233.0\n",
       "48842 2021-01-20        Germany         29003.0\n",
       "\n",
       "[340 rows x 3 columns]"
      ]
     },
     "execution_count": 26,
     "metadata": {},
     "output_type": "execute_result"
    }
   ],
   "source": [
    "confData"
   ]
  },
  {
   "cell_type": "markdown",
   "metadata": {},
   "source": [
    "#### Loss"
   ]
  },
  {
   "cell_type": "markdown",
   "metadata": {},
   "source": [
    "$$ \\mathcal{L}_{total} = \\mathcal{L}_{sup} + \\mathcal{L}_{unsup} $$"
   ]
  },
  {
   "cell_type": "markdown",
   "metadata": {},
   "source": [
    "##### Supervised loss"
   ]
  },
  {
   "cell_type": "markdown",
   "metadata": {},
   "source": [
    "[SmoothL1Loss](https://pytorch.org/docs/stable/nn.html#torch.nn.SmoothL1Loss) (Huber Loss) is used for training. It is less sensitive to outliers than MSELoss and prevents exploding gradients."
   ]
  },
  {
   "cell_type": "code",
   "execution_count": 20,
   "metadata": {},
   "outputs": [],
   "source": [
    "confLoss  = nn.SmoothL1Loss()"
   ]
  },
  {
   "cell_type": "markdown",
   "metadata": {},
   "source": [
    "##### Unsupervised loss"
   ]
  },
  {
   "cell_type": "markdown",
   "metadata": {},
   "source": [
    "It may not be very straight forward from data that the output should somehow resemble a logistic curve, so do this we are trying to optimize this in an unsupervised manner. A smoothing loss, is implied which will limit the growth of a function over a large periods. \n",
    "\n",
    "To better scale this loss and to make it more stable, insead of scaling the final result I chose clipping the values before averaging them. \n",
    "\n",
    "Please note that the the length of the predicton and the clipping values are considered hyperparameters, and they should be tuned for each country."
   ]
  },
  {
   "cell_type": "code",
   "execution_count": 21,
   "metadata": {},
   "outputs": [],
   "source": [
    "gradsTrain  = confTrainData[:, 1:] - confTrainData[:, :-1] \n",
    "confGradMax = gradsTrain.max()\n",
    "\n",
    "confGLoss   = GradientSmoothLoss(confGradMax, uPredSteps)"
   ]
  },
  {
   "cell_type": "markdown",
   "metadata": {},
   "source": [
    "#### Optimizer"
   ]
  },
  {
   "cell_type": "markdown",
   "metadata": {},
   "source": [
    "As optimization algorithm the LBFGS one is chosed, it is a very memory expensive algorithm, but since we have such little data, it works just fine. For more details about how it works I leave the following link on [Quora](https://www.quora.com/Is-the-L-bfgs-always-better-than-stochastic-gradient-descent?share=1)."
   ]
  },
  {
   "cell_type": "code",
   "execution_count": 22,
   "metadata": {},
   "outputs": [],
   "source": [
    "# confOptim = optim.Adam(confModel.parameters(), \n",
    "#                         lr             = 0.05, \n",
    "#                       )\n",
    "\n",
    "confOptim = optim.LBFGS(confModel.parameters(), \n",
    "                        lr             = 0.05, \n",
    "                        max_iter       = 75, \n",
    "                        tolerance_grad = 1e-7, \n",
    "                        history_size   = 75\n",
    "                      )"
   ]
  },
  {
   "cell_type": "markdown",
   "metadata": {},
   "source": [
    "#### Device "
   ]
  },
  {
   "cell_type": "code",
   "execution_count": 23,
   "metadata": {},
   "outputs": [],
   "source": [
    "confModel.to(DEVICE);\n",
    "confTrainData = confTrainData.to(DEVICE);"
   ]
  },
  {
   "cell_type": "markdown",
   "metadata": {},
   "source": [
    "#### Closure"
   ]
  },
  {
   "cell_type": "markdown",
   "metadata": {},
   "source": [
    "The closure is the function that is passed to the optimizers. Here is the \"bussines logic\" of the training process. For the first OBS_SIZE steps, the models prediction is based on the input data, from there, it uses it's own prediction. The whole sequence is returned and evaluted for optimization. \n",
    "\n",
    "For better stability, after the loss is computed, the gradients are clipped such that their L2 norm is 1. For more details check this [article](https://machinelearningmastery.com/exploding-gradients-in-neural-networks/) by Jason Brownlee."
   ]
  },
  {
   "cell_type": "markdown",
   "metadata": {},
   "source": [
    "![image.png](../assets/images/model_data.png)"
   ]
  },
  {
   "cell_type": "code",
   "execution_count": 24,
   "metadata": {},
   "outputs": [],
   "source": [
    "def conf_closure():\n",
    "    confOptim.zero_grad()\n",
    "    confModel.returnFullSeq = True\n",
    "    \n",
    "    # slice data\n",
    "    obsData = confTrainData[:,:obsSize]\n",
    "    \n",
    "    # make prediction\n",
    "    out  = confModel(obsData, future = futureSteps)\n",
    "    out  = out.reshape(-1, allPredSteps, 1)\n",
    "    \n",
    "    # compute gradients\n",
    "    loss = confLoss(out[:, :winSize], confTrainData)\n",
    "    \n",
    "    # unsupervised loss\n",
    "    smoothLoss = confGLoss(out[:,winSize:], 0.25)\n",
    "    loss += smoothLoss \n",
    "    \n",
    "    # make prediciton follow an ascending trend\n",
    "    # by forcing the gradients to be positie (still testing)\n",
    "    grads = out[:, 1:] - out[:, :-1]\n",
    "    grads[grads > 0] = 0\n",
    "    grads = grads.mean().abs()\n",
    "    loss += grads\n",
    "    loss.backward()\n",
    "    \n",
    "    # clip gradients / numerical stability\n",
    "    nn.utils.clip_grad_norm_(confModel.parameters(), 1.0)\n",
    "      \n",
    "    return loss"
   ]
  },
  {
   "cell_type": "markdown",
   "metadata": {},
   "source": [
    "#### Train loop"
   ]
  },
  {
   "cell_type": "markdown",
   "metadata": {},
   "source": [
    "Training loop is the section where the parameters are optimized."
   ]
  },
  {
   "cell_type": "code",
   "execution_count": 25,
   "metadata": {
    "scrolled": true
   },
   "outputs": [
    {
     "name": "stderr",
     "output_type": "stream",
     "text": [
      "100%|██████████| 10/10 [00:20<00:00,  2.08s/it, Loss =0.00263, Lr=0.05]\n"
     ]
    }
   ],
   "source": [
    "pBar = tqdm(range(10))\n",
    "for i in pBar:\n",
    "    loss = confOptim.step(conf_closure)\n",
    "    \n",
    "    # update tqdm to show loss and lr\n",
    "    pBar.set_postfix({'Loss ' : loss.item(), \n",
    "                      'Lr'    : confOptim.param_groups[0]['lr']})\n",
    "    \n",
    "    if torch.isnan(loss):\n",
    "        raise ValueError('Loss is NaN')"
   ]
  },
  {
   "cell_type": "markdown",
   "metadata": {},
   "source": [
    "### Evaluate"
   ]
  },
  {
   "cell_type": "markdown",
   "metadata": {},
   "source": [
    "The evaluation process is done for the source country only. For this, the last OBS_SIZE timestemps from the train data are fed into the model, and the output is compared with data from validation period. "
   ]
  },
  {
   "cell_type": "code",
   "execution_count": 26,
   "metadata": {},
   "outputs": [
    {
     "name": "stdout",
     "output_type": "stream",
     "text": [
      "tensor([[[-0.5304],\n",
      "         [-0.5305],\n",
      "         [-0.4238],\n",
      "         [-0.4731],\n",
      "         [-0.4074]]])\n"
     ]
    }
   ],
   "source": [
    "confValData, confValLabel = dataUtils.get_val_data(confData, 'confirmed', \n",
    "                                                   COUNTRY, \n",
    "                                                   TRAIN_UP_TO, \n",
    "                                                   obsSize, \n",
    "                                                   confScaler)\n",
    "confValData = confValData.to(DEVICE)"
   ]
  },
  {
   "cell_type": "markdown",
   "metadata": {},
   "source": [
    "For evaluating the prediction, MAPE is used. The error is only computed on the predicted future and not on the predicted observation period. "
   ]
  },
  {
   "cell_type": "code",
   "execution_count": null,
   "metadata": {},
<<<<<<< HEAD
   "outputs": [],
=======
   "outputs": [
    {
     "name": "stdout",
     "output_type": "stream",
     "text": [
      "MAPE : -0.00461  (not normalized)\n"
     ]
    },

     "metadata": {
      "needs_background": "light"
     },
     "output_type": "display_data"
    }
   ],
>>>>>>> e1d5ce3b1787fa26d8de983209e771af95d734e6
   "source": [
    "confModel.eval()\n",
    "# get figure\n",
    "fig, ax = plt.subplots(1, 1, figsize = (9, 4))\n",
    "ax.tick_params(axis='x', rotation=45)\n",
    "fig.suptitle(COUNTRY + ' confirmed cases prediction')\n",
    "\n",
    "# make prediction\n",
    "confModel.returnFullSeq = False\n",
    "pred   = confModel(confValData, future = 30).cpu().detach().numpy()\n",
    "pred   = confScaler.inverse_transform(pred[0])\n",
    "\n",
    "error  = l1_norm_error(pred[:confValLabel.shape[0]], confValLabel.numpy())\n",
    "print(\"MAPE : %2.5f\"% error.item(), ' (not normalized)')             \n",
    "\n",
    "# prediction\n",
    "predDate = pd.date_range(start = TRAIN_UP_TO, periods=pred.shape[0])              \n",
    "sns.lineplot(y = pred, x = predDate, ax = ax, linewidth=4.5)\n",
    "\n",
    "# plot train data\n",
    "showTrainData = confData[confData['Province_State'] == COUNTRY]\n",
    "showTrainData = showTrainData[showTrainData['Date'] < TRAIN_UP_TO]\n",
    "sns.lineplot(y = 'ConfirmedCases', x = 'Date', data = showTrainData, ax = ax, linewidth=4.5)\n",
    "\n",
    "# plot val data\n",
    "showValData = confData[confData['Province_State'] == COUNTRY]\n",
    "showValData = showValData[showValData['Date'] >= TRAIN_UP_TO]\n",
    "sns.lineplot(y = 'ConfirmedCases', x ='Date', data = showValData, ax = ax, linewidth=4.5);\n",
    "\n",
    "ax.legend(['Pred', 'Train', 'Validation'])\n",
    "ax.axvline(x=TRAIN_UP_TO, ymin = 0.0, ymax = 1.0, linestyle='--', lw = 1, color = '#808080')\n",
    "ax.grid(True)"
   ]
  },
  {
   "cell_type": "markdown",
   "metadata": {},
   "source": [
    "### Fatalities"
   ]
  },
  {
   "cell_type": "markdown",
   "metadata": {},
   "source": [
    "Because all the explication were done in the previous section, here cleaner view of the code is provided."
   ]
  },
  {
   "cell_type": "markdown",
   "metadata": {},
   "source": [
    "#### Model"
   ]
  },
  {
   "cell_type": "markdown",
   "metadata": {},
   "source": [
    "Initialize the model"
   ]
  },
  {
   "cell_type": "code",
   "execution_count": 26,
   "metadata": {},
   "outputs": [],
   "source": [
    "# build the model\n",
    "deadModel = BasicRecurrentPredictor(\n",
    "            # basic parameters\n",
    "            chNo          = 1,              # number of input features\n",
    "            future        = 0,\n",
    "            returnFullSeq = True,\n",
    "    \n",
    "            # RNN\n",
    "            rnnCell       = 'LSTMCell',     # RNN cell type (LSTM/GRU/RNN)\n",
    "            rnnNoCells    = 1,              # no of RNN cells\n",
    "            hidChNo       = 16,             # number of RNN cell hidden dimension\n",
    "    \n",
    "            # MLP\n",
    "            mlpLayerCfg   = [4],            # layer hidden dims\n",
    "            mlpActiv      = 'PReLU',        # inner activation of the mlp\n",
    "            dropRate      = None,           # dropout rate for each layer of mlp\n",
    "            normType      = None,           # normalization type\n",
    "            mlpActivLast  = None,           # note that every timestamp in the sequence \n",
    "                                            # will be activated too\n",
    "            ).build()"
   ]
  },
  {
   "cell_type": "markdown",
   "metadata": {},
   "source": [
    "Initialize models weights."
   ]
  },
  {
   "cell_type": "code",
   "execution_count": 27,
   "metadata": {},
   "outputs": [],
   "source": [
    "w.init_weights(deadModel, 'normal_', {})"
   ]
  },
  {
   "cell_type": "markdown",
   "metadata": {},
   "source": [
    "#### Timming constants"
   ]
  },
  {
   "cell_type": "code",
   "execution_count": 28,
   "metadata": {},
   "outputs": [],
   "source": [
    "winSize       = 10\n",
    "obsSize       = 5\n",
    "futureSteps   = 12\n",
    "supPredSteps  = winSize - obsSize\n",
    "uPredSteps    = futureSteps - supPredSteps\n",
    "allPredSteps  = futureSteps + obsSize"
   ]
  },
  {
   "cell_type": "markdown",
   "metadata": {},
   "source": [
    "#### Train data"
   ]
  },
  {
   "cell_type": "code",
   "execution_count": 29,
   "metadata": {},
   "outputs": [
    {
     "data": {
      "text/plain": [
       "torch.Size([397, 10, 1])"
      ]
     },
     "execution_count": 29,
     "metadata": {},
     "output_type": "execute_result"
    }
   ],
   "source": [
    "deadTrainData = dataUtils.get_train_data(deadData, 'fatalities', \n",
    "                                      step       = 1,\n",
    "                                      winSize    = winSize, \n",
    "                                      trainLimit = TRAIN_UP_TO, \n",
    "                                      scaler     = deadScaler,\n",
    "                                      shuffle    = True)\n",
    "deadTrainData.shape"
   ]
  },
  {
   "cell_type": "markdown",
   "metadata": {},
   "source": [
    "#### Loss"
   ]
  },
  {
   "cell_type": "code",
   "execution_count": 30,
   "metadata": {},
   "outputs": [],
   "source": [
    "deadLoss  = nn.SmoothL1Loss()"
   ]
  },
  {
   "cell_type": "code",
   "execution_count": 31,
   "metadata": {},
   "outputs": [],
   "source": [
    "gradsTrain = deadTrainData[:, 1:] - deadTrainData[:, :-1] \n",
    "deadGradMax = gradsTrain.max()\n",
    "\n",
    "deadGLoss = GradientSmoothLoss(deadGradMax, uPredSteps)"
   ]
  },
  {
   "cell_type": "markdown",
   "metadata": {},
   "source": [
    "#### Optimizer"
   ]
  },
  {
   "cell_type": "code",
   "execution_count": 32,
   "metadata": {},
   "outputs": [],
   "source": [
    "deadOptim = optim.LBFGS(deadModel.parameters(), \n",
    "                        lr             = 0.05, \n",
    "                        max_iter       = 75, \n",
    "                        tolerance_grad = 1e-7, \n",
    "                        history_size   = 75)"
   ]
  },
  {
   "cell_type": "markdown",
   "metadata": {},
   "source": [
    "#### Device"
   ]
  },
  {
   "cell_type": "code",
   "execution_count": 33,
   "metadata": {},
   "outputs": [],
   "source": [
    "deadModel.to(DEVICE);\n",
    "deadTrainData = deadTrainData.to(DEVICE);"
   ]
  },
  {
   "cell_type": "markdown",
   "metadata": {},
   "source": [
    "#### Closure"
   ]
  },
  {
   "cell_type": "code",
   "execution_count": 34,
   "metadata": {},
   "outputs": [],
   "source": [
    "def dead_closure():\n",
    "    deadOptim.zero_grad()\n",
    "    \n",
    "    # slice data\n",
    "    obsData  = deadTrainData[:,:obsSize]\n",
    "\n",
    "    out  = deadModel(obsData, future = futureSteps)\n",
    "    out  = out.reshape(-1, allPredSteps, 1)\n",
    " \n",
    "    # compute and backprop loss\n",
    "    loss = deadLoss(out[:, :winSize], deadTrainData)   \n",
    "    \n",
    "    # smooth\n",
    "    smoothLoss = deadGLoss(out[:,winSize:], 0.25)\n",
    "    loss += smoothLoss\n",
    "    \n",
    "    # make prediciton follow an ascending trend\n",
    "    # (still testing)\n",
    "    grads = out[:, 1:] - out[:, :-1]\n",
    "    grads[grads > 0] = 0\n",
    "    grads = grads.mean().abs()\n",
    "    loss += grads\n",
    "    loss.backward()\n",
    "    \n",
    "    # clip gradient for numerical stability\n",
    "    nn.utils.clip_grad_norm_(deadModel.parameters(), 1.0)\n",
    "    \n",
    "    return loss"
   ]
  },
  {
   "cell_type": "markdown",
   "metadata": {},
   "source": [
    "#### Train loop"
   ]
  },
  {
   "cell_type": "code",
   "execution_count": 35,
   "metadata": {},
   "outputs": [
    {
     "name": "stderr",
     "output_type": "stream",
     "text": [
      "100%|██████████| 10/10 [00:18<00:00,  1.81s/it, Loss =0.000133]\n"
     ]
    }
   ],
   "source": [
    "pBar = tqdm(range(10))\n",
    "for i in pBar:\n",
    "    loss = deadOptim.step(dead_closure)\n",
    "    pBar.set_postfix({'Loss ' : loss.item()})\n",
    "    \n",
    "    if torch.isnan(loss):\n",
    "        raise ValueError('Loss is NaN')"
   ]
  },
  {
   "cell_type": "markdown",
   "metadata": {},
   "source": [
    "### Evaluate"
   ]
  },
  {
   "cell_type": "code",
   "execution_count": 36,
   "metadata": {},
   "outputs": [],
   "source": [
    "deadValData, deadValLabel = dataUtils.get_val_data(deadData, 'fatalities', \n",
    "                                                   COUNTRY, \n",
    "                                                   TRAIN_UP_TO, \n",
    "                                                   obsSize, \n",
    "                                                   deadScaler)\n",
    "deadValData = deadValData.to(DEVICE)"
   ]
  },
  {
   "cell_type": "code",
   "execution_count": 37,
   "metadata": {},
   "outputs": [
    {
     "name": "stdout",
     "output_type": "stream",
     "text": [
      "MAPE:  1.1117283\n"
     ]
    },
    {
     "data": {
      "image/png": "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\n",
      "text/plain": [
       "<Figure size 648x288 with 1 Axes>"
      ]
     },
     "metadata": {
      "needs_background": "light"
     },
     "output_type": "display_data"
    }
   ],
   "source": [
    "## deadModel.eval()\n",
    "\n",
    "# get figure\n",
    "fig, ax = plt.subplots(1, 1, figsize = (9, 4))\n",
    "ax.tick_params(axis='x', rotation=45)\n",
    "fig.suptitle(COUNTRY + ' fatalities prediction')\n",
    "\n",
    "# make prediction\n",
    "deadModel.returnFullSeq = False\n",
    "pred   = deadModel(deadValData, future = 30).cpu().detach().numpy()\n",
    "pred   = deadScaler.inverse_transform(pred[0])\n",
    "error  = l1_norm_error(pred[:deadValLabel.shape[0]], deadValLabel.numpy())\n",
    "print('MAPE: ', error)             \n",
    "\n",
    "# plot prediction\n",
    "predDate = pd.date_range(start = TRAIN_UP_TO, periods=pred.shape[0])              \n",
    "sns.lineplot(y = pred, x = predDate, ax = ax, linewidth=4.5 )\n",
    "\n",
    "# plot train data\n",
    "showTrainData = deadData[deadData['Province_State'] == COUNTRY]\n",
    "showTrainData = showTrainData[showTrainData['Date'] < TRAIN_UP_TO]\n",
    "sns.lineplot(y = 'Fatalities', x = 'Date', data = showTrainData, ax = ax, linewidth=4.5)\n",
    "\n",
    "# plot val data\n",
    "showValData = deadData[deadData['Province_State'] == COUNTRY]\n",
    "showValData = showValData[showValData['Date'] >= TRAIN_UP_TO]\n",
    "sns.lineplot(y = 'Fatalities', x ='Date', data = showValData, ax = ax, linewidth=4.5);\n",
    "\n",
    "ax.legend(['Pred', 'Train', 'Validation'])\n",
    "ax.axvline(x=TRAIN_UP_TO, ymin = 0.0, ymax = 1.0, linestyle='--', lw = 1, color = '#808080')\n",
    "ax.grid(True)"
   ]
  }
 ],
 "metadata": {
  "kernelspec": {
   "display_name": "Python 3",
   "language": "python",
   "name": "python3"
  },
  "language_info": {
   "codemirror_mode": {
    "name": "ipython",
    "version": 3
   },
   "file_extension": ".py",
   "mimetype": "text/x-python",
   "name": "python",
   "nbconvert_exporter": "python",
   "pygments_lexer": "ipython3",
   "version": "3.7.8"
  }
 },
 "nbformat": 4,
 "nbformat_minor": 4
}
