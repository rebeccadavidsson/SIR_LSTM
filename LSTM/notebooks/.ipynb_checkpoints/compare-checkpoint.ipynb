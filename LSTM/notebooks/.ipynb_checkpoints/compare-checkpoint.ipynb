{
 "cells": [
  {
   "cell_type": "code",
   "execution_count": 1,
   "metadata": {},
   "outputs": [],
   "source": [
    "import os\n",
    "os.chdir(\"..\")"
   ]
  },
  {
   "cell_type": "code",
   "execution_count": 2,
   "metadata": {},
   "outputs": [],
   "source": [
    "from core.compare.compare import CompareModels\n",
    "import pandas as pd\n",
    "\n",
    "%load_ext autoreload\n",
    "%autoreload 2"
   ]
  },
  {
   "cell_type": "code",
   "execution_count": 8,
   "metadata": {},
   "outputs": [
    {
     "ename": "TypeError",
     "evalue": "__init__() missing 1 required positional argument: 'TRAIN_UP_TO'",
     "output_type": "error",
     "traceback": [
      "\u001b[0;31m---------------------------------------------------------------------------\u001b[0m",
      "\u001b[0;31mTypeError\u001b[0m                                 Traceback (most recent call last)",
      "\u001b[0;32m<ipython-input-8-c89f7cd3c3c3>\u001b[0m in \u001b[0;36m<module>\u001b[0;34m\u001b[0m\n\u001b[1;32m     29\u001b[0m         \u001b[0mAccLSTM_date\u001b[0m \u001b[0;34m=\u001b[0m \u001b[0;34m{\u001b[0m\u001b[0;34m}\u001b[0m\u001b[0;34m\u001b[0m\u001b[0;34m\u001b[0m\u001b[0m\n\u001b[1;32m     30\u001b[0m         \u001b[0mAccSIRF_date\u001b[0m \u001b[0;34m=\u001b[0m \u001b[0;34m{\u001b[0m\u001b[0;34m}\u001b[0m\u001b[0;34m\u001b[0m\u001b[0;34m\u001b[0m\u001b[0m\n\u001b[0;32m---> 31\u001b[0;31m         \u001b[0mcompare\u001b[0m \u001b[0;34m=\u001b[0m \u001b[0mCompareModels\u001b[0m\u001b[0;34m(\u001b[0m\u001b[0;34m)\u001b[0m\u001b[0;34m\u001b[0m\u001b[0;34m\u001b[0m\u001b[0m\n\u001b[0m\u001b[1;32m     32\u001b[0m         \u001b[0mdfOverTime\u001b[0m \u001b[0;34m=\u001b[0m \u001b[0mcompare\u001b[0m\u001b[0;34m.\u001b[0m\u001b[0mrunCompare\u001b[0m\u001b[0;34m(\u001b[0m\u001b[0mCOUNTRY\u001b[0m\u001b[0;34m,\u001b[0m \u001b[0mTRAIN_UP_TO\u001b[0m\u001b[0;34m=\u001b[0m\u001b[0mdate\u001b[0m\u001b[0;34m)\u001b[0m\u001b[0;34m\u001b[0m\u001b[0;34m\u001b[0m\u001b[0m\n\u001b[1;32m     33\u001b[0m         \u001b[0mAccLSTM_date\u001b[0m\u001b[0;34m[\u001b[0m\u001b[0mdate\u001b[0m\u001b[0;34m]\u001b[0m \u001b[0;34m=\u001b[0m \u001b[0mdfOverTime\u001b[0m\u001b[0;34m[\u001b[0m\u001b[0;34m\"lstm\"\u001b[0m\u001b[0;34m]\u001b[0m\u001b[0;34m\u001b[0m\u001b[0;34m\u001b[0m\u001b[0m\n",
      "\u001b[0;31mTypeError\u001b[0m: __init__() missing 1 required positional argument: 'TRAIN_UP_TO'"
     ]
    }
   ],
   "source": [
    "countries = [\n",
    "    \"Spain\",\n",
    "    \"Greece\",\n",
    "    \"Japan\",\n",
    "    \"Portugal\",\n",
    "    \"Switzerland\",\n",
    "    \"Netherlands\",\n",
    "    \"United Kingdom\",\n",
    "    \"Brazil\",\n",
    "    \"Germany\",\n",
    "    \"France\",\n",
    "    \"Belguim\",\n",
    "    \"Italy\",\n",
    "    \"Canada\",\n",
    "    \"India\",\n",
    "    \"China\",\n",
    "    \"Sweden\",\n",
    "    \"Norway\",\n",
    "    \"Australia\"\n",
    "]\n",
    "\n",
    "dates = ['2020-07-01', '2020-10-01', '2020-11-01']\n",
    "\n",
    "\n",
    "for COUNTRY in countries:\n",
    "    AccLSTM = {}\n",
    "    AccSIRF = {}\n",
    "    for date in dates:\n",
    "        AccLSTM_date = {}\n",
    "        AccSIRF_date = {}\n",
    "        compare = CompareModels(TRAIN_UP_TO=date)\n",
    "        dfOverTime = compare.runCompare(COUNTRY)\n",
    "        AccLSTM_date[date] = dfOverTime[\"lstm\"]\n",
    "        AccSIRF_date[date] = dfOverTime[\"SIR\"]\n",
    "        AccLSTM[COUNTRY] = dfOverTime[\"lstm\"]\n",
    "        AccSIRF[COUNTRY] = dfOverTime[\"SIR\"]"
   ]
  },
  {
   "cell_type": "code",
   "execution_count": null,
   "metadata": {},
   "outputs": [],
   "source": [
    "\n",
    "countries = [\n",
    "    \"Greece\",\n",
    "    \"Portugal\",\n",
    "    \"Switzerland\",\n",
    "    \"Brazil\",\n",
    "    \"Germany\",\n",
    "]\n",
    "\n",
    "df_LSTM = pd.DataFrame()\n",
    "df_SIR = pd.DataFrame()\n",
    "for country in countries:\n",
    "    print(country)\n",
    "    df_LSTM[country] = AccLSTM[country]\n",
    "    df_SIR[country] = AccSIRF[country]\n",
    "\n",
    "df_LSTM[\"mean\"] = df_LSTM.mean(axis=1)\n",
    "df_SIR[\"mean\"] = df_SIR.mean(axis=1)\n",
    "df_LSTM[\"mean\"].plot(label=\"LSTM\",legend=True);\n",
    "df_SIR[\"mean\"].plot(label=\"SIR\", legend=True);\n"
   ]
  },
  {
   "cell_type": "code",
   "execution_count": null,
   "metadata": {},
   "outputs": [],
   "source": [
    "AccLSTM_copy = AccLSTM.copy()\n",
    "AccSIRF_copy = AccSIRF.copy()"
   ]
  },
  {
   "cell_type": "code",
   "execution_count": null,
   "metadata": {},
   "outputs": [],
   "source": [
    "AccLSTM"
   ]
  },
  {
   "cell_type": "code",
   "execution_count": null,
   "metadata": {},
   "outputs": [],
   "source": []
  }
 ],
 "metadata": {
  "kernelspec": {
   "display_name": "Python 3",
   "language": "python",
   "name": "python3"
  },
  "language_info": {
   "codemirror_mode": {
    "name": "ipython",
    "version": 3
   },
   "file_extension": ".py",
   "mimetype": "text/x-python",
   "name": "python",
   "nbconvert_exporter": "python",
   "pygments_lexer": "ipython3",
   "version": "3.7.8"
  }
 },
 "nbformat": 4,
 "nbformat_minor": 4
}
