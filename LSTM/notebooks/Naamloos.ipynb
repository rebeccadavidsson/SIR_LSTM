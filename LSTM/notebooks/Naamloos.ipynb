{
 "cells": [
  {
   "cell_type": "code",
   "execution_count": 199,
   "metadata": {},
   "outputs": [],
   "source": [
    "import numpy\n",
    "import matplotlib.pyplot as plt\n",
    "import pandas as pd\n",
    "import math\n",
    "import numpy as np\n",
    "from keras.models import Sequential\n",
    "from keras.layers import Dense\n",
    "from keras.layers import LSTM\n",
    "from sklearn.preprocessing import MinMaxScaler\n",
    "from sklearn.metrics import mean_squared_error\n",
    "from sklearn.preprocessing import minmax_scale\n",
    "from numpy import concatenate\n",
    "\n",
    "# fix random seed for reproducibility\n",
    "numpy.random.seed(7)\n",
    "COUNTRY = \"Netherlands\"\n",
    "X = \"stringency_index\"\n",
    "Z = \"Confirmed\""
   ]
  },
  {
   "cell_type": "code",
   "execution_count": 200,
   "metadata": {},
   "outputs": [
    {
     "name": "stderr",
     "output_type": "stream",
     "text": [
      "/usr/local/Caskroom/miniconda/base/lib/python3.7/site-packages/IPython/core/interactiveshell.py:3063: DtypeWarning: Columns (7) have mixed types.Specify dtype option on import or set low_memory=False.\n",
      "  interactivity=interactivity, compiler=compiler, result=result)\n"
     ]
    }
   ],
   "source": [
    "df = pd.read_csv(\"../input/covid19dh.csv\")\n",
    "df = df[(df[\"Country/Region\"] == COUNTRY) & (df['Province/State'].isnull())]\n",
    "df[\"ObservationDate\"] = pd.to_datetime(df[\"ObservationDate\"]) "
   ]
  },
  {
   "cell_type": "code",
   "execution_count": 204,
   "metadata": {},
   "outputs": [
    {
     "ename": "KeyError",
     "evalue": "\"['Deaths'] not in index\"",
     "output_type": "error",
     "traceback": [
      "\u001b[0;31m---------------------------------------------------------------------------\u001b[0m",
      "\u001b[0;31mKeyError\u001b[0m                                  Traceback (most recent call last)",
      "\u001b[0;32m<ipython-input-204-c287c63e70a4>\u001b[0m in \u001b[0;36m<module>\u001b[0;34m\u001b[0m\n\u001b[1;32m      1\u001b[0m \u001b[0mcolumns\u001b[0m \u001b[0;34m=\u001b[0m \u001b[0;34m[\u001b[0m\u001b[0;34m\"stringency_index\"\u001b[0m\u001b[0;34m,\u001b[0m \u001b[0;34m\"Deaths\"\u001b[0m\u001b[0;34m,\u001b[0m \u001b[0;34m\"Confirmed\"\u001b[0m\u001b[0;34m]\u001b[0m\u001b[0;34m\u001b[0m\u001b[0;34m\u001b[0m\u001b[0m\n\u001b[0;32m----> 2\u001b[0;31m \u001b[0mdf\u001b[0m \u001b[0;34m=\u001b[0m \u001b[0mdf\u001b[0m\u001b[0;34m[\u001b[0m\u001b[0mcolumns\u001b[0m\u001b[0;34m]\u001b[0m\u001b[0;34m\u001b[0m\u001b[0;34m\u001b[0m\u001b[0m\n\u001b[0m",
      "\u001b[0;32m/usr/local/Caskroom/miniconda/base/lib/python3.7/site-packages/pandas/core/frame.py\u001b[0m in \u001b[0;36m__getitem__\u001b[0;34m(self, key)\u001b[0m\n\u001b[1;32m   3028\u001b[0m             \u001b[0;32mif\u001b[0m \u001b[0mis_iterator\u001b[0m\u001b[0;34m(\u001b[0m\u001b[0mkey\u001b[0m\u001b[0;34m)\u001b[0m\u001b[0;34m:\u001b[0m\u001b[0;34m\u001b[0m\u001b[0;34m\u001b[0m\u001b[0m\n\u001b[1;32m   3029\u001b[0m                 \u001b[0mkey\u001b[0m \u001b[0;34m=\u001b[0m \u001b[0mlist\u001b[0m\u001b[0;34m(\u001b[0m\u001b[0mkey\u001b[0m\u001b[0;34m)\u001b[0m\u001b[0;34m\u001b[0m\u001b[0;34m\u001b[0m\u001b[0m\n\u001b[0;32m-> 3030\u001b[0;31m             \u001b[0mindexer\u001b[0m \u001b[0;34m=\u001b[0m \u001b[0mself\u001b[0m\u001b[0;34m.\u001b[0m\u001b[0mloc\u001b[0m\u001b[0;34m.\u001b[0m\u001b[0m_get_listlike_indexer\u001b[0m\u001b[0;34m(\u001b[0m\u001b[0mkey\u001b[0m\u001b[0;34m,\u001b[0m \u001b[0maxis\u001b[0m\u001b[0;34m=\u001b[0m\u001b[0;36m1\u001b[0m\u001b[0;34m,\u001b[0m \u001b[0mraise_missing\u001b[0m\u001b[0;34m=\u001b[0m\u001b[0;32mTrue\u001b[0m\u001b[0;34m)\u001b[0m\u001b[0;34m[\u001b[0m\u001b[0;36m1\u001b[0m\u001b[0;34m]\u001b[0m\u001b[0;34m\u001b[0m\u001b[0;34m\u001b[0m\u001b[0m\n\u001b[0m\u001b[1;32m   3031\u001b[0m \u001b[0;34m\u001b[0m\u001b[0m\n\u001b[1;32m   3032\u001b[0m         \u001b[0;31m# take() does not accept boolean indexers\u001b[0m\u001b[0;34m\u001b[0m\u001b[0;34m\u001b[0m\u001b[0;34m\u001b[0m\u001b[0m\n",
      "\u001b[0;32m/usr/local/Caskroom/miniconda/base/lib/python3.7/site-packages/pandas/core/indexing.py\u001b[0m in \u001b[0;36m_get_listlike_indexer\u001b[0;34m(self, key, axis, raise_missing)\u001b[0m\n\u001b[1;32m   1263\u001b[0m             \u001b[0mkeyarr\u001b[0m\u001b[0;34m,\u001b[0m \u001b[0mindexer\u001b[0m\u001b[0;34m,\u001b[0m \u001b[0mnew_indexer\u001b[0m \u001b[0;34m=\u001b[0m \u001b[0max\u001b[0m\u001b[0;34m.\u001b[0m\u001b[0m_reindex_non_unique\u001b[0m\u001b[0;34m(\u001b[0m\u001b[0mkeyarr\u001b[0m\u001b[0;34m)\u001b[0m\u001b[0;34m\u001b[0m\u001b[0;34m\u001b[0m\u001b[0m\n\u001b[1;32m   1264\u001b[0m \u001b[0;34m\u001b[0m\u001b[0m\n\u001b[0;32m-> 1265\u001b[0;31m         \u001b[0mself\u001b[0m\u001b[0;34m.\u001b[0m\u001b[0m_validate_read_indexer\u001b[0m\u001b[0;34m(\u001b[0m\u001b[0mkeyarr\u001b[0m\u001b[0;34m,\u001b[0m \u001b[0mindexer\u001b[0m\u001b[0;34m,\u001b[0m \u001b[0maxis\u001b[0m\u001b[0;34m,\u001b[0m \u001b[0mraise_missing\u001b[0m\u001b[0;34m=\u001b[0m\u001b[0mraise_missing\u001b[0m\u001b[0;34m)\u001b[0m\u001b[0;34m\u001b[0m\u001b[0;34m\u001b[0m\u001b[0m\n\u001b[0m\u001b[1;32m   1266\u001b[0m         \u001b[0;32mreturn\u001b[0m \u001b[0mkeyarr\u001b[0m\u001b[0;34m,\u001b[0m \u001b[0mindexer\u001b[0m\u001b[0;34m\u001b[0m\u001b[0;34m\u001b[0m\u001b[0m\n\u001b[1;32m   1267\u001b[0m \u001b[0;34m\u001b[0m\u001b[0m\n",
      "\u001b[0;32m/usr/local/Caskroom/miniconda/base/lib/python3.7/site-packages/pandas/core/indexing.py\u001b[0m in \u001b[0;36m_validate_read_indexer\u001b[0;34m(self, key, indexer, axis, raise_missing)\u001b[0m\n\u001b[1;32m   1313\u001b[0m             \u001b[0;32mif\u001b[0m \u001b[0mraise_missing\u001b[0m\u001b[0;34m:\u001b[0m\u001b[0;34m\u001b[0m\u001b[0;34m\u001b[0m\u001b[0m\n\u001b[1;32m   1314\u001b[0m                 \u001b[0mnot_found\u001b[0m \u001b[0;34m=\u001b[0m \u001b[0mlist\u001b[0m\u001b[0;34m(\u001b[0m\u001b[0mset\u001b[0m\u001b[0;34m(\u001b[0m\u001b[0mkey\u001b[0m\u001b[0;34m)\u001b[0m \u001b[0;34m-\u001b[0m \u001b[0mset\u001b[0m\u001b[0;34m(\u001b[0m\u001b[0max\u001b[0m\u001b[0;34m)\u001b[0m\u001b[0;34m)\u001b[0m\u001b[0;34m\u001b[0m\u001b[0;34m\u001b[0m\u001b[0m\n\u001b[0;32m-> 1315\u001b[0;31m                 \u001b[0;32mraise\u001b[0m \u001b[0mKeyError\u001b[0m\u001b[0;34m(\u001b[0m\u001b[0;34mf\"{not_found} not in index\"\u001b[0m\u001b[0;34m)\u001b[0m\u001b[0;34m\u001b[0m\u001b[0;34m\u001b[0m\u001b[0m\n\u001b[0m\u001b[1;32m   1316\u001b[0m \u001b[0;34m\u001b[0m\u001b[0m\n\u001b[1;32m   1317\u001b[0m             \u001b[0mnot_found\u001b[0m \u001b[0;34m=\u001b[0m \u001b[0mkey\u001b[0m\u001b[0;34m[\u001b[0m\u001b[0mmissing_mask\u001b[0m\u001b[0;34m]\u001b[0m\u001b[0;34m\u001b[0m\u001b[0;34m\u001b[0m\u001b[0m\n",
      "\u001b[0;31mKeyError\u001b[0m: \"['Deaths'] not in index\""
     ]
    }
   ],
   "source": [
    "columns = [\"stringency_index\", \"Deaths\", \"Confirmed\"]\n",
    "df = df[columns]"
   ]
  },
  {
   "cell_type": "code",
   "execution_count": 206,
   "metadata": {},
   "outputs": [
    {
     "name": "stdout",
     "output_type": "stream",
     "text": [
      "     var1(t-1)  var2(t-1)   var1(t)   var2(t)\n",
      "444   0.910084   0.989744  0.910084  0.992308\n",
      "445   0.910084   0.992308  0.910084  0.994872\n",
      "446   0.910084   0.994872  0.910084  0.997436\n",
      "447   0.910084   0.997436  0.910084  1.000000\n",
      "448   0.910084   1.000000  0.910084  1.000000\n"
     ]
    }
   ],
   "source": [
    "# prepare data for lstm\n",
    "from pandas import read_csv\n",
    "from pandas import DataFrame\n",
    "from pandas import concat\n",
    "from sklearn.preprocessing import LabelEncoder\n",
    "from sklearn.preprocessing import MinMaxScaler\n",
    " \n",
    "# convert series to supervised learning\n",
    "def series_to_supervised(data, n_in=1, n_out=1, dropnan=True):\n",
    "\tn_vars = 1 if type(data) is list else data.shape[1]\n",
    "\tdf = DataFrame(data)\n",
    "\tcols, names = list(), list()\n",
    "\t# input sequence (t-n, ... t-1)\n",
    "\tfor i in range(n_in, 0, -1):\n",
    "\t\tcols.append(df.shift(i))\n",
    "\t\tnames += [('var%d(t-%d)' % (j+1, i)) for j in range(n_vars)]\n",
    "\t# forecast sequence (t, t+1, ... t+n)\n",
    "\tfor i in range(0, n_out):\n",
    "\t\tcols.append(df.shift(-i))\n",
    "\t\tif i == 0:\n",
    "\t\t\tnames += [('var%d(t)' % (j+1)) for j in range(n_vars)]\n",
    "\t\telse:\n",
    "\t\t\tnames += [('var%d(t+%d)' % (j+1, i)) for j in range(n_vars)]\n",
    "\t# put it all together\n",
    "\tagg = concat(cols, axis=1)\n",
    "\tagg.columns = names\n",
    "\t# drop rows with NaN values\n",
    "\tif dropnan:\n",
    "\t\tagg.dropna(inplace=True)\n",
    "\treturn agg\n",
    " \n",
    "# load dataset\n",
    "dataset = df.copy()\n",
    "# dataset = dataset.set_index(\"ObservationDate\")\n",
    "values = dataset.values\n",
    "# integer encode direction\n",
    "encoder = LabelEncoder()\n",
    "values[:,1] = encoder.fit_transform(values[:,1])\n",
    "# ensure all data is float\n",
    "values = values.astype('float32')\n",
    "# normalize features\n",
    "scaler = MinMaxScaler(feature_range=(0, 1))\n",
    "scaled = scaler.fit_transform(values)\n",
    "# frame as supervised learning\n",
    "reframed = series_to_supervised(scaled, 1, 1)\n",
    "# drop columns we don't want to predict\n",
    "# reframed.drop(reframed.columns[[9,10,11,12,13,14,15]], axis=1, inplace=True)\n",
    "print(reframed.tail())"
   ]
  },
  {
   "cell_type": "code",
   "execution_count": 241,
   "metadata": {},
   "outputs": [
    {
     "name": "stdout",
     "output_type": "stream",
     "text": [
      "(407, 1, 3) (407,) (41, 1, 3) (41,)\n"
     ]
    }
   ],
   "source": [
    "# split into train and test sets\n",
    "n_train_hours = int(len(values) / 1.1)\n",
    "values = reframed.values\n",
    "# n_train_hours = 365 * 24\n",
    "train = values[:n_train_hours, :]\n",
    "test = values[n_train_hours:, :]\n",
    "# split into input and outputs\n",
    "train_X, train_y = train[:, :-1], train[:, -1]\n",
    "test_X, test_y = test[:, :-1], test[:, -1]\n",
    "# reshape input to be 3D [samples, timesteps, features]\n",
    "train_X = train_X.reshape((train_X.shape[0], 1, train_X.shape[1]))\n",
    "test_X = test_X.reshape((test_X.shape[0], 1, test_X.shape[1]))\n",
    "print(train_X.shape, train_y.shape, test_X.shape, test_y.shape)"
   ]
  },
  {
   "cell_type": "code",
   "execution_count": 243,
   "metadata": {},
   "outputs": [
    {
     "name": "stdout",
     "output_type": "stream",
     "text": [
      "Epoch 1/200\n",
      "12/12 - 0s - loss: 0.3697 - val_loss: 0.8401\n",
      "Epoch 2/200\n",
      "12/12 - 0s - loss: 0.2930 - val_loss: 0.7168\n",
      "Epoch 3/200\n",
      "12/12 - 0s - loss: 0.2375 - val_loss: 0.6078\n",
      "Epoch 4/200\n",
      "12/12 - 0s - loss: 0.2040 - val_loss: 0.5115\n",
      "Epoch 5/200\n",
      "12/12 - 0s - loss: 0.1814 - val_loss: 0.4255\n",
      "Epoch 6/200\n",
      "12/12 - 0s - loss: 0.1643 - val_loss: 0.3447\n",
      "Epoch 7/200\n",
      "12/12 - 0s - loss: 0.1475 - val_loss: 0.2656\n",
      "Epoch 8/200\n",
      "12/12 - 0s - loss: 0.1354 - val_loss: 0.1956\n",
      "Epoch 9/200\n",
      "12/12 - 0s - loss: 0.1334 - val_loss: 0.1548\n",
      "Epoch 10/200\n",
      "12/12 - 0s - loss: 0.1326 - val_loss: 0.1408\n",
      "Epoch 11/200\n",
      "12/12 - 0s - loss: 0.1274 - val_loss: 0.1369\n",
      "Epoch 12/200\n",
      "12/12 - 0s - loss: 0.1200 - val_loss: 0.1294\n",
      "Epoch 13/200\n",
      "12/12 - 0s - loss: 0.1130 - val_loss: 0.1161\n",
      "Epoch 14/200\n",
      "12/12 - 0s - loss: 0.1067 - val_loss: 0.1005\n",
      "Epoch 15/200\n",
      "12/12 - 0s - loss: 0.1009 - val_loss: 0.0878\n",
      "Epoch 16/200\n",
      "12/12 - 0s - loss: 0.0948 - val_loss: 0.0787\n",
      "Epoch 17/200\n",
      "12/12 - 0s - loss: 0.0883 - val_loss: 0.0704\n",
      "Epoch 18/200\n",
      "12/12 - 0s - loss: 0.0816 - val_loss: 0.0602\n",
      "Epoch 19/200\n",
      "12/12 - 0s - loss: 0.0755 - val_loss: 0.0525\n",
      "Epoch 20/200\n",
      "12/12 - 0s - loss: 0.0699 - val_loss: 0.0479\n",
      "Epoch 21/200\n",
      "12/12 - 0s - loss: 0.0651 - val_loss: 0.0428\n",
      "Epoch 22/200\n",
      "12/12 - 0s - loss: 0.0628 - val_loss: 0.0388\n",
      "Epoch 23/200\n",
      "12/12 - 0s - loss: 0.0580 - val_loss: 0.0253\n",
      "Epoch 24/200\n",
      "12/12 - 0s - loss: 0.0605 - val_loss: 0.0359\n",
      "Epoch 25/200\n",
      "12/12 - 0s - loss: 0.0551 - val_loss: 0.0152\n",
      "Epoch 26/200\n",
      "12/12 - 0s - loss: 0.0616 - val_loss: 0.0532\n",
      "Epoch 27/200\n",
      "12/12 - 0s - loss: 0.0472 - val_loss: 0.0116\n",
      "Epoch 28/200\n",
      "12/12 - 0s - loss: 0.0473 - val_loss: 0.0255\n",
      "Epoch 29/200\n",
      "12/12 - 0s - loss: 0.0445 - val_loss: 0.0164\n",
      "Epoch 30/200\n",
      "12/12 - 0s - loss: 0.0408 - val_loss: 0.0089\n",
      "Epoch 31/200\n",
      "12/12 - 0s - loss: 0.0403 - val_loss: 0.0138\n",
      "Epoch 32/200\n",
      "12/12 - 0s - loss: 0.0350 - val_loss: 0.0073\n",
      "Epoch 33/200\n",
      "12/12 - 0s - loss: 0.0361 - val_loss: 0.0069\n",
      "Epoch 34/200\n",
      "12/12 - 0s - loss: 0.0298 - val_loss: 0.0242\n",
      "Epoch 35/200\n",
      "12/12 - 0s - loss: 0.0284 - val_loss: 0.0045\n",
      "Epoch 36/200\n",
      "12/12 - 0s - loss: 0.0269 - val_loss: 0.0074\n",
      "Epoch 37/200\n",
      "12/12 - 0s - loss: 0.0218 - val_loss: 0.0252\n",
      "Epoch 38/200\n",
      "12/12 - 0s - loss: 0.0205 - val_loss: 0.0135\n",
      "Epoch 39/200\n",
      "12/12 - 0s - loss: 0.0187 - val_loss: 0.0246\n",
      "Epoch 40/200\n",
      "12/12 - 0s - loss: 0.0174 - val_loss: 0.0301\n",
      "Epoch 41/200\n",
      "12/12 - 0s - loss: 0.0165 - val_loss: 0.0374\n",
      "Epoch 42/200\n",
      "12/12 - 0s - loss: 0.0154 - val_loss: 0.0443\n",
      "Epoch 43/200\n",
      "12/12 - 0s - loss: 0.0139 - val_loss: 0.0415\n",
      "Epoch 44/200\n",
      "12/12 - 0s - loss: 0.0132 - val_loss: 0.0303\n",
      "Epoch 45/200\n",
      "12/12 - 0s - loss: 0.0172 - val_loss: 0.0266\n",
      "Epoch 46/200\n",
      "12/12 - 0s - loss: 0.0166 - val_loss: 0.0151\n",
      "Epoch 47/200\n",
      "12/12 - 0s - loss: 0.0160 - val_loss: 0.0292\n",
      "Epoch 48/200\n",
      "12/12 - 0s - loss: 0.0151 - val_loss: 0.0273\n",
      "Epoch 49/200\n",
      "12/12 - 0s - loss: 0.0138 - val_loss: 0.0443\n",
      "Epoch 50/200\n",
      "12/12 - 0s - loss: 0.0139 - val_loss: 0.0275\n",
      "Epoch 51/200\n",
      "12/12 - 0s - loss: 0.0137 - val_loss: 0.0357\n",
      "Epoch 52/200\n",
      "12/12 - 0s - loss: 0.0143 - val_loss: 0.0193\n",
      "Epoch 53/200\n",
      "12/12 - 0s - loss: 0.0139 - val_loss: 0.0234\n",
      "Epoch 54/200\n",
      "12/12 - 0s - loss: 0.0133 - val_loss: 0.0248\n",
      "Epoch 55/200\n",
      "12/12 - 0s - loss: 0.0107 - val_loss: 0.0253\n",
      "Epoch 56/200\n",
      "12/12 - 0s - loss: 0.0135 - val_loss: 0.0251\n",
      "Epoch 57/200\n",
      "12/12 - 0s - loss: 0.0125 - val_loss: 0.0221\n",
      "Epoch 58/200\n",
      "12/12 - 0s - loss: 0.0109 - val_loss: 0.0332\n",
      "Epoch 59/200\n",
      "12/12 - 0s - loss: 0.0119 - val_loss: 0.0206\n",
      "Epoch 60/200\n",
      "12/12 - 0s - loss: 0.0094 - val_loss: 0.0167\n",
      "Epoch 61/200\n",
      "12/12 - 0s - loss: 0.0132 - val_loss: 0.0130\n",
      "Epoch 62/200\n",
      "12/12 - 0s - loss: 0.0134 - val_loss: 0.0078\n",
      "Epoch 63/200\n",
      "12/12 - 0s - loss: 0.0124 - val_loss: 0.0167\n",
      "Epoch 64/200\n",
      "12/12 - 0s - loss: 0.0102 - val_loss: 0.0266\n",
      "Epoch 65/200\n",
      "12/12 - 0s - loss: 0.0082 - val_loss: 0.0154\n",
      "Epoch 66/200\n",
      "12/12 - 0s - loss: 0.0124 - val_loss: 0.0251\n",
      "Epoch 67/200\n",
      "12/12 - 0s - loss: 0.0116 - val_loss: 0.0072\n",
      "Epoch 68/200\n",
      "12/12 - 0s - loss: 0.0094 - val_loss: 0.0290\n",
      "Epoch 69/200\n",
      "12/12 - 0s - loss: 0.0114 - val_loss: 0.0092\n",
      "Epoch 70/200\n",
      "12/12 - 0s - loss: 0.0080 - val_loss: 0.0172\n",
      "Epoch 71/200\n",
      "12/12 - 0s - loss: 0.0107 - val_loss: 0.0067\n",
      "Epoch 72/200\n",
      "12/12 - 0s - loss: 0.0066 - val_loss: 0.0069\n",
      "Epoch 73/200\n",
      "12/12 - 0s - loss: 0.0103 - val_loss: 0.0134\n",
      "Epoch 74/200\n",
      "12/12 - 0s - loss: 0.0106 - val_loss: 0.0044\n",
      "Epoch 75/200\n",
      "12/12 - 0s - loss: 0.0084 - val_loss: 0.0198\n",
      "Epoch 76/200\n",
      "12/12 - 0s - loss: 0.0094 - val_loss: 0.0084\n",
      "Epoch 77/200\n",
      "12/12 - 0s - loss: 0.0065 - val_loss: 0.0083\n",
      "Epoch 78/200\n",
      "12/12 - 0s - loss: 0.0091 - val_loss: 0.0126\n",
      "Epoch 79/200\n",
      "12/12 - 0s - loss: 0.0096 - val_loss: 0.0030\n",
      "Epoch 80/200\n",
      "12/12 - 0s - loss: 0.0077 - val_loss: 0.0149\n",
      "Epoch 81/200\n",
      "12/12 - 0s - loss: 0.0074 - val_loss: 0.0061\n",
      "Epoch 82/200\n",
      "12/12 - 0s - loss: 0.0033 - val_loss: 0.0031\n",
      "Epoch 83/200\n",
      "12/12 - 0s - loss: 0.0058 - val_loss: 0.0026\n",
      "Epoch 84/200\n",
      "12/12 - 0s - loss: 0.0131 - val_loss: 0.0046\n",
      "Epoch 85/200\n",
      "12/12 - 0s - loss: 0.0153 - val_loss: 0.0097\n",
      "Epoch 86/200\n",
      "12/12 - 0s - loss: 0.0139 - val_loss: 0.0192\n",
      "Epoch 87/200\n",
      "12/12 - 0s - loss: 0.0065 - val_loss: 0.0056\n",
      "Epoch 88/200\n",
      "12/12 - 0s - loss: 0.0047 - val_loss: 0.0041\n",
      "Epoch 89/200\n",
      "12/12 - 0s - loss: 0.0099 - val_loss: 0.0131\n",
      "Epoch 90/200\n",
      "12/12 - 0s - loss: 0.0167 - val_loss: 0.0102\n",
      "Epoch 91/200\n",
      "12/12 - 0s - loss: 0.0055 - val_loss: 0.0128\n",
      "Epoch 92/200\n",
      "12/12 - 0s - loss: 0.0067 - val_loss: 0.0138\n",
      "Epoch 93/200\n",
      "12/12 - 0s - loss: 0.0049 - val_loss: 0.0028\n",
      "Epoch 94/200\n",
      "12/12 - 0s - loss: 0.0117 - val_loss: 0.0051\n",
      "Epoch 95/200\n",
      "12/12 - 0s - loss: 0.0075 - val_loss: 0.0063\n",
      "Epoch 96/200\n",
      "12/12 - 0s - loss: 0.0132 - val_loss: 0.0011\n",
      "Epoch 97/200\n",
      "12/12 - 0s - loss: 0.0131 - val_loss: 0.0100\n",
      "Epoch 98/200\n",
      "12/12 - 0s - loss: 0.0072 - val_loss: 0.0016\n",
      "Epoch 99/200\n",
      "12/12 - 0s - loss: 0.0091 - val_loss: 0.0078\n",
      "Epoch 100/200\n",
      "12/12 - 0s - loss: 0.0106 - val_loss: 0.0053\n",
      "Epoch 101/200\n",
      "12/12 - 0s - loss: 0.0084 - val_loss: 0.0013\n",
      "Epoch 102/200\n",
      "12/12 - 0s - loss: 0.0116 - val_loss: 0.0098\n",
      "Epoch 103/200\n",
      "12/12 - 0s - loss: 0.0098 - val_loss: 0.0140\n",
      "Epoch 104/200\n",
      "12/12 - 0s - loss: 0.0080 - val_loss: 0.0088\n",
      "Epoch 105/200\n",
      "12/12 - 0s - loss: 0.0053 - val_loss: 0.0042\n",
      "Epoch 106/200\n",
      "12/12 - 0s - loss: 0.0057 - val_loss: 0.0037\n",
      "Epoch 107/200\n",
      "12/12 - 0s - loss: 0.0044 - val_loss: 0.0027\n",
      "Epoch 108/200\n",
      "12/12 - 0s - loss: 0.0108 - val_loss: 0.0046\n",
      "Epoch 109/200\n",
      "12/12 - 0s - loss: 0.0212 - val_loss: 0.0120\n",
      "Epoch 110/200\n",
      "12/12 - 0s - loss: 0.0222 - val_loss: 0.0072\n",
      "Epoch 111/200\n",
      "12/12 - 0s - loss: 0.0148 - val_loss: 0.0120\n",
      "Epoch 112/200\n",
      "12/12 - 0s - loss: 0.0084 - val_loss: 0.0129\n",
      "Epoch 113/200\n",
      "12/12 - 0s - loss: 0.0097 - val_loss: 0.0068\n",
      "Epoch 114/200\n",
      "12/12 - 0s - loss: 0.0114 - val_loss: 0.0043\n",
      "Epoch 115/200\n",
      "12/12 - 0s - loss: 0.0087 - val_loss: 0.0016\n",
      "Epoch 116/200\n",
      "12/12 - 0s - loss: 0.0078 - val_loss: 0.0113\n",
      "Epoch 117/200\n",
      "12/12 - 0s - loss: 0.0135 - val_loss: 0.0037\n",
      "Epoch 118/200\n",
      "12/12 - 0s - loss: 0.0072 - val_loss: 0.0063\n",
      "Epoch 119/200\n",
      "12/12 - 0s - loss: 0.0080 - val_loss: 0.0057\n",
      "Epoch 120/200\n",
      "12/12 - 0s - loss: 0.0136 - val_loss: 0.0109\n",
      "Epoch 121/200\n",
      "12/12 - 0s - loss: 0.0039 - val_loss: 0.0070\n",
      "Epoch 122/200\n",
      "12/12 - 0s - loss: 0.0040 - val_loss: 0.0102\n",
      "Epoch 123/200\n",
      "12/12 - 0s - loss: 0.0024 - val_loss: 0.0024\n",
      "Epoch 124/200\n",
      "12/12 - 0s - loss: 0.0045 - val_loss: 0.0018\n",
      "Epoch 125/200\n",
      "12/12 - 0s - loss: 0.0084 - val_loss: 0.0063\n",
      "Epoch 126/200\n",
      "12/12 - 0s - loss: 0.0078 - val_loss: 0.0078\n",
      "Epoch 127/200\n",
      "12/12 - 0s - loss: 0.0141 - val_loss: 0.0080\n",
      "Epoch 128/200\n",
      "12/12 - 0s - loss: 0.0068 - val_loss: 0.0022\n",
      "Epoch 129/200\n",
      "12/12 - 0s - loss: 0.0061 - val_loss: 0.0086\n",
      "Epoch 130/200\n",
      "12/12 - 0s - loss: 0.0091 - val_loss: 7.7390e-04\n",
      "Epoch 131/200\n",
      "12/12 - 0s - loss: 0.0080 - val_loss: 0.0064\n",
      "Epoch 132/200\n",
      "12/12 - 0s - loss: 0.0119 - val_loss: 0.0117\n",
      "Epoch 133/200\n",
      "12/12 - 0s - loss: 0.0069 - val_loss: 0.0089\n",
      "Epoch 134/200\n",
      "12/12 - 0s - loss: 0.0075 - val_loss: 0.0062\n",
      "Epoch 135/200\n",
      "12/12 - 0s - loss: 0.0125 - val_loss: 0.0049\n",
      "Epoch 136/200\n",
      "12/12 - 0s - loss: 0.0088 - val_loss: 0.0072\n",
      "Epoch 137/200\n",
      "12/12 - 0s - loss: 0.0101 - val_loss: 0.0015\n",
      "Epoch 138/200\n",
      "12/12 - 0s - loss: 0.0116 - val_loss: 0.0062\n",
      "Epoch 139/200\n",
      "12/12 - 0s - loss: 0.0087 - val_loss: 0.0022\n",
      "Epoch 140/200\n",
      "12/12 - 0s - loss: 0.0078 - val_loss: 0.0112\n",
      "Epoch 141/200\n",
      "12/12 - 0s - loss: 0.0130 - val_loss: 0.0040\n"
     ]
    },
    {
     "name": "stdout",
     "output_type": "stream",
     "text": [
      "Epoch 142/200\n",
      "12/12 - 0s - loss: 0.0071 - val_loss: 0.0054\n",
      "Epoch 143/200\n",
      "12/12 - 0s - loss: 0.0127 - val_loss: 0.0029\n",
      "Epoch 144/200\n",
      "12/12 - 0s - loss: 0.0179 - val_loss: 0.0104\n",
      "Epoch 145/200\n",
      "12/12 - 0s - loss: 0.0081 - val_loss: 0.0071\n",
      "Epoch 146/200\n",
      "12/12 - 0s - loss: 0.0079 - val_loss: 0.0060\n",
      "Epoch 147/200\n",
      "12/12 - 0s - loss: 0.0111 - val_loss: 0.0151\n",
      "Epoch 148/200\n",
      "12/12 - 0s - loss: 0.0172 - val_loss: 0.0131\n",
      "Epoch 149/200\n",
      "12/12 - 0s - loss: 0.0053 - val_loss: 4.6959e-04\n",
      "Epoch 150/200\n",
      "12/12 - 0s - loss: 0.0076 - val_loss: 0.0072\n",
      "Epoch 151/200\n",
      "12/12 - 0s - loss: 0.0105 - val_loss: 0.0116\n",
      "Epoch 152/200\n",
      "12/12 - 0s - loss: 0.0048 - val_loss: 0.0060\n",
      "Epoch 153/200\n",
      "12/12 - 0s - loss: 0.0045 - val_loss: 0.0041\n",
      "Epoch 154/200\n",
      "12/12 - 0s - loss: 0.0108 - val_loss: 5.6545e-04\n",
      "Epoch 155/200\n",
      "12/12 - 0s - loss: 0.0102 - val_loss: 0.0053\n",
      "Epoch 156/200\n",
      "12/12 - 0s - loss: 0.0097 - val_loss: 0.0026\n",
      "Epoch 157/200\n",
      "12/12 - 0s - loss: 0.0043 - val_loss: 0.0019\n",
      "Epoch 158/200\n",
      "12/12 - 0s - loss: 0.0100 - val_loss: 0.0051\n",
      "Epoch 159/200\n",
      "12/12 - 0s - loss: 0.0149 - val_loss: 0.0121\n",
      "Epoch 160/200\n",
      "12/12 - 0s - loss: 0.0128 - val_loss: 0.0160\n",
      "Epoch 161/200\n",
      "12/12 - 0s - loss: 0.0060 - val_loss: 0.0059\n",
      "Epoch 162/200\n",
      "12/12 - 0s - loss: 0.0043 - val_loss: 9.6463e-04\n",
      "Epoch 163/200\n",
      "12/12 - 0s - loss: 0.0067 - val_loss: 0.0080\n",
      "Epoch 164/200\n",
      "12/12 - 0s - loss: 0.0073 - val_loss: 0.0017\n",
      "Epoch 165/200\n",
      "12/12 - 0s - loss: 0.0058 - val_loss: 0.0096\n",
      "Epoch 166/200\n",
      "12/12 - 0s - loss: 0.0138 - val_loss: 0.0042\n",
      "Epoch 167/200\n",
      "12/12 - 0s - loss: 0.0034 - val_loss: 0.0011\n",
      "Epoch 168/200\n",
      "12/12 - 0s - loss: 0.0072 - val_loss: 0.0059\n",
      "Epoch 169/200\n",
      "12/12 - 0s - loss: 0.0094 - val_loss: 0.0126\n",
      "Epoch 170/200\n",
      "12/12 - 0s - loss: 0.0189 - val_loss: 0.0155\n",
      "Epoch 171/200\n",
      "12/12 - 0s - loss: 0.0054 - val_loss: 0.0052\n",
      "Epoch 172/200\n",
      "12/12 - 0s - loss: 0.0095 - val_loss: 0.0052\n",
      "Epoch 173/200\n",
      "12/12 - 0s - loss: 0.0139 - val_loss: 0.0066\n",
      "Epoch 174/200\n",
      "12/12 - 0s - loss: 0.0149 - val_loss: 0.0189\n",
      "Epoch 175/200\n",
      "12/12 - 0s - loss: 0.0117 - val_loss: 0.0073\n",
      "Epoch 176/200\n",
      "12/12 - 0s - loss: 0.0091 - val_loss: 0.0012\n",
      "Epoch 177/200\n",
      "12/12 - 0s - loss: 0.0053 - val_loss: 0.0026\n",
      "Epoch 178/200\n",
      "12/12 - 0s - loss: 0.0111 - val_loss: 5.6916e-04\n",
      "Epoch 179/200\n",
      "12/12 - 0s - loss: 0.0125 - val_loss: 0.0070\n",
      "Epoch 180/200\n",
      "12/12 - 0s - loss: 0.0072 - val_loss: 0.0031\n",
      "Epoch 181/200\n",
      "12/12 - 0s - loss: 0.0064 - val_loss: 0.0083\n",
      "Epoch 182/200\n",
      "12/12 - 0s - loss: 0.0133 - val_loss: 0.0055\n",
      "Epoch 183/200\n",
      "12/12 - 0s - loss: 0.0076 - val_loss: 0.0044\n",
      "Epoch 184/200\n",
      "12/12 - 0s - loss: 0.0067 - val_loss: 0.0074\n",
      "Epoch 185/200\n",
      "12/12 - 0s - loss: 0.0153 - val_loss: 0.0190\n",
      "Epoch 186/200\n",
      "12/12 - 0s - loss: 0.0022 - val_loss: 0.0021\n",
      "Epoch 187/200\n",
      "12/12 - 0s - loss: 0.0033 - val_loss: 0.0016\n",
      "Epoch 188/200\n",
      "12/12 - 0s - loss: 0.0042 - val_loss: 0.0020\n",
      "Epoch 189/200\n",
      "12/12 - 0s - loss: 0.0046 - val_loss: 0.0027\n",
      "Epoch 190/200\n",
      "12/12 - 0s - loss: 0.0021 - val_loss: 0.0039\n",
      "Epoch 191/200\n",
      "12/12 - 0s - loss: 0.0033 - val_loss: 0.0035\n",
      "Epoch 192/200\n",
      "12/12 - 0s - loss: 0.0043 - val_loss: 0.0013\n",
      "Epoch 193/200\n",
      "12/12 - 0s - loss: 0.0023 - val_loss: 5.2775e-04\n",
      "Epoch 194/200\n",
      "12/12 - 0s - loss: 0.0024 - val_loss: 0.0039\n",
      "Epoch 195/200\n",
      "12/12 - 0s - loss: 0.0025 - val_loss: 0.0038\n",
      "Epoch 196/200\n",
      "12/12 - 0s - loss: 0.0060 - val_loss: 0.0067\n",
      "Epoch 197/200\n",
      "12/12 - 0s - loss: 0.0083 - val_loss: 0.0011\n",
      "Epoch 198/200\n",
      "12/12 - 0s - loss: 0.0080 - val_loss: 0.0052\n",
      "Epoch 199/200\n",
      "12/12 - 0s - loss: 0.0107 - val_loss: 3.3763e-04\n",
      "Epoch 200/200\n",
      "12/12 - 0s - loss: 0.0041 - val_loss: 0.0068\n"
     ]
    },
    {
     "data": {
      "image/png": "[encoded data removed]",
      "text/plain": [
       "<Figure size 432x288 with 1 Axes>"
      ]
     },
     "metadata": {
      "needs_background": "light"
     },
     "output_type": "display_data"
    }
   ],
   "source": [
    "model = Sequential()\n",
    "model.add(LSTM(50, input_shape=(train_X.shape[1], train_X.shape[2])))\n",
    "model.add(Dense(1))\n",
    "model.compile(loss='mae', optimizer='adam')\n",
    "# fit network\n",
    "history = model.fit(train_X, train_y, epochs=200, batch_size=36, validation_data=(test_X, test_y), verbose=2, shuffle=False)\n",
    "# plot history\n",
    "plt.plot(history.history['loss'], label='train')\n",
    "plt.plot(history.history['val_loss'], label='test')\n",
    "plt.legend()\n",
    "plt.show()\n"
   ]
  },
  {
   "cell_type": "code",
   "execution_count": 257,
   "metadata": {},
   "outputs": [
    {
     "data": {
      "application/vnd.plotly.v1+json": {
       "config": {
        "plotlyServerURL": "https://plot.ly"
       },
       "data": [
        {
         "mode": "lines",
         "name": "Train",
         "type": "scatter",
         "y": [
          0.36974623799324036,
          0.29301759600639343,
          0.23754383623600006,
          0.20404961705207825,
          0.1814250499010086,
          0.1643024981021881,
          0.14754869043827057,
          0.13544124364852905,
          0.13337939977645874,
          0.13257771730422974,
          0.1273660659790039,
          0.12002740055322647,
          0.11304204165935516,
          0.10671234130859375,
          0.10085390508174896,
          0.09475938230752945,
          0.08832778036594391,
          0.08160960674285889,
          0.07551029324531555,
          0.06988086551427841,
          0.06510328501462936,
          0.06284927576780319,
          0.05795709416270256,
          0.06048627570271492,
          0.0550503171980381,
          0.06157706305384636,
          0.047180209308862686,
          0.047346003353595734,
          0.0445343554019928,
          0.04075248911976814,
          0.04029335826635361,
          0.035022735595703125,
          0.03613891080021858,
          0.029838670045137405,
          0.028383437544107437,
          0.026948604732751846,
          0.02181181311607361,
          0.02052648551762104,
          0.018680008128285408,
          0.017426325008273125,
          0.016486385837197304,
          0.015414630062878132,
          0.013857847079634666,
          0.01319372933357954,
          0.017186690121889114,
          0.01661687158048153,
          0.01596858911216259,
          0.015072004869580269,
          0.013806423172354698,
          0.013890435919165611,
          0.013678791001439095,
          0.014301286078989506,
          0.013855584897100925,
          0.013301815837621689,
          0.010670054703950882,
          0.013494547456502914,
          0.012490196153521538,
          0.010879715904593468,
          0.01189117506146431,
          0.009360458701848984,
          0.013177704997360706,
          0.013368293642997742,
          0.01240190863609314,
          0.010235050693154335,
          0.008231230080127716,
          0.012367413379251957,
          0.01155936997383833,
          0.009383786469697952,
          0.011448840610682964,
          0.00801882240921259,
          0.01069366279989481,
          0.006596438121050596,
          0.0103493956848979,
          0.010592451319098473,
          0.008364572189748287,
          0.009364244528114796,
          0.006533488165587187,
          0.009051071479916573,
          0.009643984958529472,
          0.007708388846367598,
          0.007404525298625231,
          0.003319408977404237,
          0.005757540930062532,
          0.013067726045846939,
          0.01531040109694004,
          0.013941955752670765,
          0.006506325677037239,
          0.004654827993363142,
          0.009936869144439697,
          0.016730641946196556,
          0.005500216037034988,
          0.006679437588900328,
          0.004920235835015774,
          0.011743773706257343,
          0.00746118975803256,
          0.013196241110563278,
          0.013066595420241356,
          0.007247550878673792,
          0.009119600057601929,
          0.010643930174410343,
          0.008406148292124271,
          0.01159521285444498,
          0.009843890555202961,
          0.008010994642972946,
          0.0052922992035746574,
          0.005686198826879263,
          0.004396875388920307,
          0.010761737823486328,
          0.021182775497436523,
          0.022208767011761665,
          0.01479522604495287,
          0.008371338248252869,
          0.009693625383079052,
          0.0114303482696414,
          0.008664493449032307,
          0.007788339629769325,
          0.013486533425748348,
          0.007223063614219427,
          0.00801814254373312,
          0.013563432730734348,
          0.0038815985899418592,
          0.003958129324018955,
          0.00240012863650918,
          0.0044586570002138615,
          0.00840691290795803,
          0.007810552604496479,
          0.014120960608124733,
          0.00675015477463603,
          0.006051379721611738,
          0.0091421939432621,
          0.00797320157289505,
          0.011927099898457527,
          0.006851292215287685,
          0.007532092742621899,
          0.01247111801058054,
          0.008782625198364258,
          0.010061887092888355,
          0.011566376313567162,
          0.008653181605041027,
          0.007810481358319521,
          0.012964684516191483,
          0.007060645148158073,
          0.012668712995946407,
          0.017879987135529518,
          0.008051378652453423,
          0.007851547561585903,
          0.011089798994362354,
          0.017185458913445473,
          0.005251145921647549,
          0.007553559727966785,
          0.010528990998864174,
          0.00478319451212883,
          0.00452762795612216,
          0.01080053299665451,
          0.010216797702014446,
          0.009712104685604572,
          0.004331198055297136,
          0.010028621181845665,
          0.014935939572751522,
          0.012814657762646675,
          0.005960732698440552,
          0.004287277814000845,
          0.006742154248058796,
          0.007271775975823402,
          0.00578808318823576,
          0.013754731975495815,
          0.0033692147117108107,
          0.007233600132167339,
          0.009363963268697262,
          0.018885629251599312,
          0.005447676870971918,
          0.009481146931648254,
          0.013850315473973751,
          0.014885371550917625,
          0.011694991029798985,
          0.009111759252846241,
          0.005296164192259312,
          0.011133198626339436,
          0.012544513680040836,
          0.007151549216359854,
          0.006361451931297779,
          0.01333980169147253,
          0.007641757372766733,
          0.006665945518761873,
          0.015297621488571167,
          0.002208273857831955,
          0.0032529185991734266,
          0.004212039522826672,
          0.004607801325619221,
          0.002098719822242856,
          0.0033496299292892218,
          0.00425128685310483,
          0.002255536150187254,
          0.0024029912892729044,
          0.002516892971470952,
          0.006033686455339193,
          0.008253611624240875,
          0.008041583932936192,
          0.010720951482653618,
          0.0040659224614501
         ]
        },
        {
         "mode": "lines",
         "name": "Validation",
         "type": "scatter",
         "y": [
          0.8400986194610596,
          0.7168199419975281,
          0.6078401803970337,
          0.5115160942077637,
          0.4254564344882965,
          0.3446943759918213,
          0.26558300852775574,
          0.19558140635490417,
          0.15478196740150452,
          0.14082635939121246,
          0.1368691772222519,
          0.129351407289505,
          0.11606382578611374,
          0.10054337233304977,
          0.0877709612250328,
          0.07870259135961533,
          0.07037749886512756,
          0.06015479192137718,
          0.052502695471048355,
          0.04791242256760597,
          0.042817045003175735,
          0.038810327649116516,
          0.025320954620838165,
          0.035868797451257706,
          0.015200099907815456,
          0.05323150008916855,
          0.011601028963923454,
          0.025461819022893906,
          0.016379842534661293,
          0.008931833319365978,
          0.013841266743838787,
          0.007280020974576473,
          0.0068605816923081875,
          0.02418607845902443,
          0.00445672357454896,
          0.007361856754869223,
          0.02521921880543232,
          0.013473519124090672,
          0.024604350328445435,
          0.030135370790958405,
          0.037362899631261826,
          0.04426710307598114,
          0.0415068119764328,
          0.030257102102041245,
          0.026581117883324623,
          0.015124197117984295,
          0.029204554855823517,
          0.027320168912410736,
          0.04427120089530945,
          0.027545230463147163,
          0.03565089404582977,
          0.01928081549704075,
          0.023364024236798286,
          0.024761706590652466,
          0.025322094559669495,
          0.02514607086777687,
          0.02212679572403431,
          0.033160459250211716,
          0.020593339577317238,
          0.01674354262650013,
          0.013009659945964813,
          0.007832628674805164,
          0.016694674268364906,
          0.026615701615810394,
          0.01544849295169115,
          0.025083260610699654,
          0.00720627699047327,
          0.02896469458937645,
          0.009164097718894482,
          0.017198745161294937,
          0.006722854450345039,
          0.006938926875591278,
          0.013437582179903984,
          0.004413357470184565,
          0.01982768066227436,
          0.00837327167391777,
          0.008258168585598469,
          0.012600764632225037,
          0.0030044098384678364,
          0.014907479286193848,
          0.006075778976082802,
          0.0031009563244879246,
          0.0026348582468926907,
          0.004580458626151085,
          0.009728959761559963,
          0.01920381933450699,
          0.005586609710007906,
          0.004067079164087772,
          0.013073845766484737,
          0.01023754384368658,
          0.01278756558895111,
          0.013845555484294891,
          0.0027984294574707747,
          0.005117867141962051,
          0.006323394365608692,
          0.0011418781941756606,
          0.010036297142505646,
          0.001649247482419014,
          0.007835092023015022,
          0.0052918121218681335,
          0.0013056222815066576,
          0.009751604869961739,
          0.014003929682075977,
          0.008829197846353054,
          0.004193022381514311,
          0.0037085094954818487,
          0.0027477596886456013,
          0.0046146949753165245,
          0.011954792775213718,
          0.007223078515380621,
          0.01196227315813303,
          0.012882131151854992,
          0.006751109845936298,
          0.004298447165638208,
          0.001586634898558259,
          0.011306407861411572,
          0.0037051308900117874,
          0.0062969340942800045,
          0.005709406919777393,
          0.010888149030506611,
          0.0069696917198598385,
          0.010222160257399082,
          0.0024157892912626266,
          0.0017649894580245018,
          0.006349322386085987,
          0.007774485275149345,
          0.007955286651849747,
          0.0021869176998734474,
          0.008585681207478046,
          0.0007738950662314892,
          0.006443843711167574,
          0.011678733862936497,
          0.008856911212205887,
          0.006211148574948311,
          0.0049451254308223724,
          0.007243614178150892,
          0.0015337408985942602,
          0.0062462324276566505,
          0.002214840380474925,
          0.011249526403844357,
          0.004048825707286596,
          0.005353180225938559,
          0.0029026793781667948,
          0.010363750159740448,
          0.00707641476765275,
          0.006037148181349039,
          0.015065337531268597,
          0.013106760568916798,
          0.0004695857351180166,
          0.007192928809672594,
          0.011603502556681633,
          0.005983593873679638,
          0.004138865042477846,
          0.0005654547130689025,
          0.005301702301949263,
          0.0026450869627296925,
          0.001868605613708496,
          0.005106023047119379,
          0.012111404910683632,
          0.016015203669667244,
          0.005942115094512701,
          0.0009646342950873077,
          0.007961513474583626,
          0.001692723948508501,
          0.009636834263801575,
          0.0041932580061256886,
          0.0011427474673837423,
          0.00593904173001647,
          0.012589721940457821,
          0.015506408177316189,
          0.005240792408585548,
          0.0052222986705601215,
          0.006567354779690504,
          0.018883343786001205,
          0.007342742756009102,
          0.0012304361443966627,
          0.0026030074805021286,
          0.0005691603873856366,
          0.0069566210731863976,
          0.0030894672963768244,
          0.00834088958799839,
          0.005490720272064209,
          0.004414570052176714,
          0.007416538894176483,
          0.018956486135721207,
          0.002083637285977602,
          0.0015545050846412778,
          0.0020241548772901297,
          0.0026826916728168726,
          0.003871286753565073,
          0.003500432474538684,
          0.001283072866499424,
          0.0005277482559904456,
          0.003856625407934189,
          0.0037747607566416264,
          0.006687690503895283,
          0.0011278841411694884,
          0.005228850990533829,
          0.00033762541715987027,
          0.006795317865908146
         ]
        }
       ],
       "layout": {
        "font": {
         "family": "Arial"
        },
        "height": 400,
        "legend": {
         "x": 0.81,
         "xanchor": "left",
         "y": 0.99,
         "yanchor": "top"
        },
        "template": {
         "data": {
          "bar": [
           {
            "error_x": {
             "color": "#2a3f5f"
            },
            "error_y": {
             "color": "#2a3f5f"
            },
            "marker": {
             "line": {
              "color": "white",
              "width": 0.5
             }
            },
            "type": "bar"
           }
          ],
          "barpolar": [
           {
            "marker": {
             "line": {
              "color": "white",
              "width": 0.5
             }
            },
            "type": "barpolar"
           }
          ],
          "carpet": [
           {
            "aaxis": {
             "endlinecolor": "#2a3f5f",
             "gridcolor": "#C8D4E3",
             "linecolor": "#C8D4E3",
             "minorgridcolor": "#C8D4E3",
             "startlinecolor": "#2a3f5f"
            },
            "baxis": {
             "endlinecolor": "#2a3f5f",
             "gridcolor": "#C8D4E3",
             "linecolor": "#C8D4E3",
             "minorgridcolor": "#C8D4E3",
             "startlinecolor": "#2a3f5f"
            },
            "type": "carpet"
           }
          ],
          "choropleth": [
           {
            "colorbar": {
             "outlinewidth": 0,
             "ticks": ""
            },
            "type": "choropleth"
           }
          ],
          "contour": [
           {
            "colorbar": {
             "outlinewidth": 0,
             "ticks": ""
            },
            "colorscale": [
             [
              0,
              "#0d0887"
             ],
             [
              0.1111111111111111,
              "#46039f"
             ],
             [
              0.2222222222222222,
              "#7201a8"
             ],
             [
              0.3333333333333333,
              "#9c179e"
             ],
             [
              0.4444444444444444,
              "#bd3786"
             ],
             [
              0.5555555555555556,
              "#d8576b"
             ],
             [
              0.6666666666666666,
              "#ed7953"
             ],
             [
              0.7777777777777778,
              "#fb9f3a"
             ],
             [
              0.8888888888888888,
              "#fdca26"
             ],
             [
              1,
              "#f0f921"
             ]
            ],
            "type": "contour"
           }
          ],
          "contourcarpet": [
           {
            "colorbar": {
             "outlinewidth": 0,
             "ticks": ""
            },
            "type": "contourcarpet"
           }
          ],
          "heatmap": [
           {
            "colorbar": {
             "outlinewidth": 0,
             "ticks": ""
            },
            "colorscale": [
             [
              0,
              "#0d0887"
             ],
             [
              0.1111111111111111,
              "#46039f"
             ],
             [
              0.2222222222222222,
              "#7201a8"
             ],
             [
              0.3333333333333333,
              "#9c179e"
             ],
             [
              0.4444444444444444,
              "#bd3786"
             ],
             [
              0.5555555555555556,
              "#d8576b"
             ],
             [
              0.6666666666666666,
              "#ed7953"
             ],
             [
              0.7777777777777778,
              "#fb9f3a"
             ],
             [
              0.8888888888888888,
              "#fdca26"
             ],
             [
              1,
              "#f0f921"
             ]
            ],
            "type": "heatmap"
           }
          ],
          "heatmapgl": [
           {
            "colorbar": {
             "outlinewidth": 0,
             "ticks": ""
            },
            "colorscale": [
             [
              0,
              "#0d0887"
             ],
             [
              0.1111111111111111,
              "#46039f"
             ],
             [
              0.2222222222222222,
              "#7201a8"
             ],
             [
              0.3333333333333333,
              "#9c179e"
             ],
             [
              0.4444444444444444,
              "#bd3786"
             ],
             [
              0.5555555555555556,
              "#d8576b"
             ],
             [
              0.6666666666666666,
              "#ed7953"
             ],
             [
              0.7777777777777778,
              "#fb9f3a"
             ],
             [
              0.8888888888888888,
              "#fdca26"
             ],
             [
              1,
              "#f0f921"
             ]
            ],
            "type": "heatmapgl"
           }
          ],
          "histogram": [
           {
            "marker": {
             "colorbar": {
              "outlinewidth": 0,
              "ticks": ""
             }
            },
            "type": "histogram"
           }
          ],
          "histogram2d": [
           {
            "colorbar": {
             "outlinewidth": 0,
             "ticks": ""
            },
            "colorscale": [
             [
              0,
              "#0d0887"
             ],
             [
              0.1111111111111111,
              "#46039f"
             ],
             [
              0.2222222222222222,
              "#7201a8"
             ],
             [
              0.3333333333333333,
              "#9c179e"
             ],
             [
              0.4444444444444444,
              "#bd3786"
             ],
             [
              0.5555555555555556,
              "#d8576b"
             ],
             [
              0.6666666666666666,
              "#ed7953"
             ],
             [
              0.7777777777777778,
              "#fb9f3a"
             ],
             [
              0.8888888888888888,
              "#fdca26"
             ],
             [
              1,
              "#f0f921"
             ]
            ],
            "type": "histogram2d"
           }
          ],
          "histogram2dcontour": [
           {
            "colorbar": {
             "outlinewidth": 0,
             "ticks": ""
            },
            "colorscale": [
             [
              0,
              "#0d0887"
             ],
             [
              0.1111111111111111,
              "#46039f"
             ],
             [
              0.2222222222222222,
              "#7201a8"
             ],
             [
              0.3333333333333333,
              "#9c179e"
             ],
             [
              0.4444444444444444,
              "#bd3786"
             ],
             [
              0.5555555555555556,
              "#d8576b"
             ],
             [
              0.6666666666666666,
              "#ed7953"
             ],
             [
              0.7777777777777778,
              "#fb9f3a"
             ],
             [
              0.8888888888888888,
              "#fdca26"
             ],
             [
              1,
              "#f0f921"
             ]
            ],
            "type": "histogram2dcontour"
           }
          ],
          "mesh3d": [
           {
            "colorbar": {
             "outlinewidth": 0,
             "ticks": ""
            },
            "type": "mesh3d"
           }
          ],
          "parcoords": [
           {
            "line": {
             "colorbar": {
              "outlinewidth": 0,
              "ticks": ""
             }
            },
            "type": "parcoords"
           }
          ],
          "pie": [
           {
            "automargin": true,
            "type": "pie"
           }
          ],
          "scatter": [
           {
            "marker": {
             "colorbar": {
              "outlinewidth": 0,
              "ticks": ""
             }
            },
            "type": "scatter"
           }
          ],
          "scatter3d": [
           {
            "line": {
             "colorbar": {
              "outlinewidth": 0,
              "ticks": ""
             }
            },
            "marker": {
             "colorbar": {
              "outlinewidth": 0,
              "ticks": ""
             }
            },
            "type": "scatter3d"
           }
          ],
          "scattercarpet": [
           {
            "marker": {
             "colorbar": {
              "outlinewidth": 0,
              "ticks": ""
             }
            },
            "type": "scattercarpet"
           }
          ],
          "scattergeo": [
           {
            "marker": {
             "colorbar": {
              "outlinewidth": 0,
              "ticks": ""
             }
            },
            "type": "scattergeo"
           }
          ],
          "scattergl": [
           {
            "marker": {
             "colorbar": {
              "outlinewidth": 0,
              "ticks": ""
             }
            },
            "type": "scattergl"
           }
          ],
          "scattermapbox": [
           {
            "marker": {
             "colorbar": {
              "outlinewidth": 0,
              "ticks": ""
             }
            },
            "type": "scattermapbox"
           }
          ],
          "scatterpolar": [
           {
            "marker": {
             "colorbar": {
              "outlinewidth": 0,
              "ticks": ""
             }
            },
            "type": "scatterpolar"
           }
          ],
          "scatterpolargl": [
           {
            "marker": {
             "colorbar": {
              "outlinewidth": 0,
              "ticks": ""
             }
            },
            "type": "scatterpolargl"
           }
          ],
          "scatterternary": [
           {
            "marker": {
             "colorbar": {
              "outlinewidth": 0,
              "ticks": ""
             }
            },
            "type": "scatterternary"
           }
          ],
          "surface": [
           {
            "colorbar": {
             "outlinewidth": 0,
             "ticks": ""
            },
            "colorscale": [
             [
              0,
              "#0d0887"
             ],
             [
              0.1111111111111111,
              "#46039f"
             ],
             [
              0.2222222222222222,
              "#7201a8"
             ],
             [
              0.3333333333333333,
              "#9c179e"
             ],
             [
              0.4444444444444444,
              "#bd3786"
             ],
             [
              0.5555555555555556,
              "#d8576b"
             ],
             [
              0.6666666666666666,
              "#ed7953"
             ],
             [
              0.7777777777777778,
              "#fb9f3a"
             ],
             [
              0.8888888888888888,
              "#fdca26"
             ],
             [
              1,
              "#f0f921"
             ]
            ],
            "type": "surface"
           }
          ],
          "table": [
           {
            "cells": {
             "fill": {
              "color": "#EBF0F8"
             },
             "line": {
              "color": "white"
             }
            },
            "header": {
             "fill": {
              "color": "#C8D4E3"
             },
             "line": {
              "color": "white"
             }
            },
            "type": "table"
           }
          ]
         },
         "layout": {
          "annotationdefaults": {
           "arrowcolor": "#2a3f5f",
           "arrowhead": 0,
           "arrowwidth": 1
          },
          "coloraxis": {
           "colorbar": {
            "outlinewidth": 0,
            "ticks": ""
           }
          },
          "colorscale": {
           "diverging": [
            [
             0,
             "#8e0152"
            ],
            [
             0.1,
             "#c51b7d"
            ],
            [
             0.2,
             "#de77ae"
            ],
            [
             0.3,
             "#f1b6da"
            ],
            [
             0.4,
             "#fde0ef"
            ],
            [
             0.5,
             "#f7f7f7"
            ],
            [
             0.6,
             "#e6f5d0"
            ],
            [
             0.7,
             "#b8e186"
            ],
            [
             0.8,
             "#7fbc41"
            ],
            [
             0.9,
             "#4d9221"
            ],
            [
             1,
             "#276419"
            ]
           ],
           "sequential": [
            [
             0,
             "#0d0887"
            ],
            [
             0.1111111111111111,
             "#46039f"
            ],
            [
             0.2222222222222222,
             "#7201a8"
            ],
            [
             0.3333333333333333,
             "#9c179e"
            ],
            [
             0.4444444444444444,
             "#bd3786"
            ],
            [
             0.5555555555555556,
             "#d8576b"
            ],
            [
             0.6666666666666666,
             "#ed7953"
            ],
            [
             0.7777777777777778,
             "#fb9f3a"
            ],
            [
             0.8888888888888888,
             "#fdca26"
            ],
            [
             1,
             "#f0f921"
            ]
           ],
           "sequentialminus": [
            [
             0,
             "#0d0887"
            ],
            [
             0.1111111111111111,
             "#46039f"
            ],
            [
             0.2222222222222222,
             "#7201a8"
            ],
            [
             0.3333333333333333,
             "#9c179e"
            ],
            [
             0.4444444444444444,
             "#bd3786"
            ],
            [
             0.5555555555555556,
             "#d8576b"
            ],
            [
             0.6666666666666666,
             "#ed7953"
            ],
            [
             0.7777777777777778,
             "#fb9f3a"
            ],
            [
             0.8888888888888888,
             "#fdca26"
            ],
            [
             1,
             "#f0f921"
            ]
           ]
          },
          "colorway": [
           "#636efa",
           "#EF553B",
           "#00cc96",
           "#ab63fa",
           "#FFA15A",
           "#19d3f3",
           "#FF6692",
           "#B6E880",
           "#FF97FF",
           "#FECB52"
          ],
          "font": {
           "color": "#2a3f5f"
          },
          "geo": {
           "bgcolor": "white",
           "lakecolor": "white",
           "landcolor": "white",
           "showlakes": true,
           "showland": true,
           "subunitcolor": "#C8D4E3"
          },
          "hoverlabel": {
           "align": "left"
          },
          "hovermode": "closest",
          "mapbox": {
           "style": "light"
          },
          "paper_bgcolor": "white",
          "plot_bgcolor": "white",
          "polar": {
           "angularaxis": {
            "gridcolor": "#EBF0F8",
            "linecolor": "#EBF0F8",
            "ticks": ""
           },
           "bgcolor": "white",
           "radialaxis": {
            "gridcolor": "#EBF0F8",
            "linecolor": "#EBF0F8",
            "ticks": ""
           }
          },
          "scene": {
           "xaxis": {
            "backgroundcolor": "white",
            "gridcolor": "#DFE8F3",
            "gridwidth": 2,
            "linecolor": "#EBF0F8",
            "showbackground": true,
            "ticks": "",
            "zerolinecolor": "#EBF0F8"
           },
           "yaxis": {
            "backgroundcolor": "white",
            "gridcolor": "#DFE8F3",
            "gridwidth": 2,
            "linecolor": "#EBF0F8",
            "showbackground": true,
            "ticks": "",
            "zerolinecolor": "#EBF0F8"
           },
           "zaxis": {
            "backgroundcolor": "white",
            "gridcolor": "#DFE8F3",
            "gridwidth": 2,
            "linecolor": "#EBF0F8",
            "showbackground": true,
            "ticks": "",
            "zerolinecolor": "#EBF0F8"
           }
          },
          "shapedefaults": {
           "line": {
            "color": "#2a3f5f"
           }
          },
          "ternary": {
           "aaxis": {
            "gridcolor": "#DFE8F3",
            "linecolor": "#A2B1C6",
            "ticks": ""
           },
           "baxis": {
            "gridcolor": "#DFE8F3",
            "linecolor": "#A2B1C6",
            "ticks": ""
           },
           "bgcolor": "white",
           "caxis": {
            "gridcolor": "#DFE8F3",
            "linecolor": "#A2B1C6",
            "ticks": ""
           }
          },
          "title": {
           "x": 0.05
          },
          "xaxis": {
           "automargin": true,
           "gridcolor": "#EBF0F8",
           "linecolor": "#EBF0F8",
           "ticks": "",
           "title": {
            "standoff": 15
           },
           "zerolinecolor": "#EBF0F8",
           "zerolinewidth": 2
          },
          "yaxis": {
           "automargin": true,
           "gridcolor": "#EBF0F8",
           "linecolor": "#EBF0F8",
           "ticks": "",
           "title": {
            "standoff": 15
           },
           "zerolinecolor": "#EBF0F8",
           "zerolinewidth": 2
          }
         }
        },
        "title": {
         "text": "LSTM model loss"
        },
        "width": 500,
        "xaxis": {
         "title": {
          "text": "Epoch"
         }
        },
        "yaxis": {
         "title": {
          "text": "Loss"
         }
        }
       }
      },
      "text/html": [
       "<div>                            <div id=\"145d98b9-be6f-4f20-b880-a7d0509d80a5\" class=\"plotly-graph-div\" style=\"height:400px; width:500px;\"></div>            <script type=\"text/javascript\">                require([\"plotly\"], function(Plotly) {                    window.PLOTLYENV=window.PLOTLYENV || {};                                    if (document.getElementById(\"145d98b9-be6f-4f20-b880-a7d0509d80a5\")) {                    Plotly.newPlot(                        \"145d98b9-be6f-4f20-b880-a7d0509d80a5\",                        [{\"mode\": \"lines\", \"name\": \"Train\", \"type\": \"scatter\", \"y\": [0.36974623799324036, 0.29301759600639343, 0.23754383623600006, 0.20404961705207825, 0.1814250499010086, 0.1643024981021881, 0.14754869043827057, 0.13544124364852905, 0.13337939977645874, 0.13257771730422974, 0.1273660659790039, 0.12002740055322647, 0.11304204165935516, 0.10671234130859375, 0.10085390508174896, 0.09475938230752945, 0.08832778036594391, 0.08160960674285889, 0.07551029324531555, 0.06988086551427841, 0.06510328501462936, 0.06284927576780319, 0.05795709416270256, 0.06048627570271492, 0.0550503171980381, 0.06157706305384636, 0.047180209308862686, 0.047346003353595734, 0.0445343554019928, 0.04075248911976814, 0.04029335826635361, 0.035022735595703125, 0.03613891080021858, 0.029838670045137405, 0.028383437544107437, 0.026948604732751846, 0.02181181311607361, 0.02052648551762104, 0.018680008128285408, 0.017426325008273125, 0.016486385837197304, 0.015414630062878132, 0.013857847079634666, 0.01319372933357954, 0.017186690121889114, 0.01661687158048153, 0.01596858911216259, 0.015072004869580269, 0.013806423172354698, 0.013890435919165611, 0.013678791001439095, 0.014301286078989506, 0.013855584897100925, 0.013301815837621689, 0.010670054703950882, 0.013494547456502914, 0.012490196153521538, 0.010879715904593468, 0.01189117506146431, 0.009360458701848984, 0.013177704997360706, 0.013368293642997742, 0.01240190863609314, 0.010235050693154335, 0.008231230080127716, 0.012367413379251957, 0.01155936997383833, 0.009383786469697952, 0.011448840610682964, 0.00801882240921259, 0.01069366279989481, 0.006596438121050596, 0.0103493956848979, 0.010592451319098473, 0.008364572189748287, 0.009364244528114796, 0.006533488165587187, 0.009051071479916573, 0.009643984958529472, 0.007708388846367598, 0.007404525298625231, 0.003319408977404237, 0.005757540930062532, 0.013067726045846939, 0.01531040109694004, 0.013941955752670765, 0.006506325677037239, 0.004654827993363142, 0.009936869144439697, 0.016730641946196556, 0.005500216037034988, 0.006679437588900328, 0.004920235835015774, 0.011743773706257343, 0.00746118975803256, 0.013196241110563278, 0.013066595420241356, 0.007247550878673792, 0.009119600057601929, 0.010643930174410343, 0.008406148292124271, 0.01159521285444498, 0.009843890555202961, 0.008010994642972946, 0.0052922992035746574, 0.005686198826879263, 0.004396875388920307, 0.010761737823486328, 0.021182775497436523, 0.022208767011761665, 0.01479522604495287, 0.008371338248252869, 0.009693625383079052, 0.0114303482696414, 0.008664493449032307, 0.007788339629769325, 0.013486533425748348, 0.007223063614219427, 0.00801814254373312, 0.013563432730734348, 0.0038815985899418592, 0.003958129324018955, 0.00240012863650918, 0.0044586570002138615, 0.00840691290795803, 0.007810552604496479, 0.014120960608124733, 0.00675015477463603, 0.006051379721611738, 0.0091421939432621, 0.00797320157289505, 0.011927099898457527, 0.006851292215287685, 0.007532092742621899, 0.01247111801058054, 0.008782625198364258, 0.010061887092888355, 0.011566376313567162, 0.008653181605041027, 0.007810481358319521, 0.012964684516191483, 0.007060645148158073, 0.012668712995946407, 0.017879987135529518, 0.008051378652453423, 0.007851547561585903, 0.011089798994362354, 0.017185458913445473, 0.005251145921647549, 0.007553559727966785, 0.010528990998864174, 0.00478319451212883, 0.00452762795612216, 0.01080053299665451, 0.010216797702014446, 0.009712104685604572, 0.004331198055297136, 0.010028621181845665, 0.014935939572751522, 0.012814657762646675, 0.005960732698440552, 0.004287277814000845, 0.006742154248058796, 0.007271775975823402, 0.00578808318823576, 0.013754731975495815, 0.0033692147117108107, 0.007233600132167339, 0.009363963268697262, 0.018885629251599312, 0.005447676870971918, 0.009481146931648254, 0.013850315473973751, 0.014885371550917625, 0.011694991029798985, 0.009111759252846241, 0.005296164192259312, 0.011133198626339436, 0.012544513680040836, 0.007151549216359854, 0.006361451931297779, 0.01333980169147253, 0.007641757372766733, 0.006665945518761873, 0.015297621488571167, 0.002208273857831955, 0.0032529185991734266, 0.004212039522826672, 0.004607801325619221, 0.002098719822242856, 0.0033496299292892218, 0.00425128685310483, 0.002255536150187254, 0.0024029912892729044, 0.002516892971470952, 0.006033686455339193, 0.008253611624240875, 0.008041583932936192, 0.010720951482653618, 0.0040659224614501]}, {\"mode\": \"lines\", \"name\": \"Validation\", \"type\": \"scatter\", \"y\": [0.8400986194610596, 0.7168199419975281, 0.6078401803970337, 0.5115160942077637, 0.4254564344882965, 0.3446943759918213, 0.26558300852775574, 0.19558140635490417, 0.15478196740150452, 0.14082635939121246, 0.1368691772222519, 0.129351407289505, 0.11606382578611374, 0.10054337233304977, 0.0877709612250328, 0.07870259135961533, 0.07037749886512756, 0.06015479192137718, 0.052502695471048355, 0.04791242256760597, 0.042817045003175735, 0.038810327649116516, 0.025320954620838165, 0.035868797451257706, 0.015200099907815456, 0.05323150008916855, 0.011601028963923454, 0.025461819022893906, 0.016379842534661293, 0.008931833319365978, 0.013841266743838787, 0.007280020974576473, 0.0068605816923081875, 0.02418607845902443, 0.00445672357454896, 0.007361856754869223, 0.02521921880543232, 0.013473519124090672, 0.024604350328445435, 0.030135370790958405, 0.037362899631261826, 0.04426710307598114, 0.0415068119764328, 0.030257102102041245, 0.026581117883324623, 0.015124197117984295, 0.029204554855823517, 0.027320168912410736, 0.04427120089530945, 0.027545230463147163, 0.03565089404582977, 0.01928081549704075, 0.023364024236798286, 0.024761706590652466, 0.025322094559669495, 0.02514607086777687, 0.02212679572403431, 0.033160459250211716, 0.020593339577317238, 0.01674354262650013, 0.013009659945964813, 0.007832628674805164, 0.016694674268364906, 0.026615701615810394, 0.01544849295169115, 0.025083260610699654, 0.00720627699047327, 0.02896469458937645, 0.009164097718894482, 0.017198745161294937, 0.006722854450345039, 0.006938926875591278, 0.013437582179903984, 0.004413357470184565, 0.01982768066227436, 0.00837327167391777, 0.008258168585598469, 0.012600764632225037, 0.0030044098384678364, 0.014907479286193848, 0.006075778976082802, 0.0031009563244879246, 0.0026348582468926907, 0.004580458626151085, 0.009728959761559963, 0.01920381933450699, 0.005586609710007906, 0.004067079164087772, 0.013073845766484737, 0.01023754384368658, 0.01278756558895111, 0.013845555484294891, 0.0027984294574707747, 0.005117867141962051, 0.006323394365608692, 0.0011418781941756606, 0.010036297142505646, 0.001649247482419014, 0.007835092023015022, 0.0052918121218681335, 0.0013056222815066576, 0.009751604869961739, 0.014003929682075977, 0.008829197846353054, 0.004193022381514311, 0.0037085094954818487, 0.0027477596886456013, 0.0046146949753165245, 0.011954792775213718, 0.007223078515380621, 0.01196227315813303, 0.012882131151854992, 0.006751109845936298, 0.004298447165638208, 0.001586634898558259, 0.011306407861411572, 0.0037051308900117874, 0.0062969340942800045, 0.005709406919777393, 0.010888149030506611, 0.0069696917198598385, 0.010222160257399082, 0.0024157892912626266, 0.0017649894580245018, 0.006349322386085987, 0.007774485275149345, 0.007955286651849747, 0.0021869176998734474, 0.008585681207478046, 0.0007738950662314892, 0.006443843711167574, 0.011678733862936497, 0.008856911212205887, 0.006211148574948311, 0.0049451254308223724, 0.007243614178150892, 0.0015337408985942602, 0.0062462324276566505, 0.002214840380474925, 0.011249526403844357, 0.004048825707286596, 0.005353180225938559, 0.0029026793781667948, 0.010363750159740448, 0.00707641476765275, 0.006037148181349039, 0.015065337531268597, 0.013106760568916798, 0.0004695857351180166, 0.007192928809672594, 0.011603502556681633, 0.005983593873679638, 0.004138865042477846, 0.0005654547130689025, 0.005301702301949263, 0.0026450869627296925, 0.001868605613708496, 0.005106023047119379, 0.012111404910683632, 0.016015203669667244, 0.005942115094512701, 0.0009646342950873077, 0.007961513474583626, 0.001692723948508501, 0.009636834263801575, 0.0041932580061256886, 0.0011427474673837423, 0.00593904173001647, 0.012589721940457821, 0.015506408177316189, 0.005240792408585548, 0.0052222986705601215, 0.006567354779690504, 0.018883343786001205, 0.007342742756009102, 0.0012304361443966627, 0.0026030074805021286, 0.0005691603873856366, 0.0069566210731863976, 0.0030894672963768244, 0.00834088958799839, 0.005490720272064209, 0.004414570052176714, 0.007416538894176483, 0.018956486135721207, 0.002083637285977602, 0.0015545050846412778, 0.0020241548772901297, 0.0026826916728168726, 0.003871286753565073, 0.003500432474538684, 0.001283072866499424, 0.0005277482559904456, 0.003856625407934189, 0.0037747607566416264, 0.006687690503895283, 0.0011278841411694884, 0.005228850990533829, 0.00033762541715987027, 0.006795317865908146]}],                        {\"font\": {\"family\": \"Arial\"}, \"height\": 400, \"legend\": {\"x\": 0.81, \"xanchor\": \"left\", \"y\": 0.99, \"yanchor\": \"top\"}, \"template\": {\"data\": {\"bar\": [{\"error_x\": {\"color\": \"#2a3f5f\"}, \"error_y\": {\"color\": \"#2a3f5f\"}, \"marker\": {\"line\": {\"color\": \"white\", \"width\": 0.5}}, \"type\": \"bar\"}], \"barpolar\": [{\"marker\": {\"line\": {\"color\": \"white\", \"width\": 0.5}}, \"type\": \"barpolar\"}], \"carpet\": [{\"aaxis\": {\"endlinecolor\": \"#2a3f5f\", \"gridcolor\": \"#C8D4E3\", \"linecolor\": \"#C8D4E3\", \"minorgridcolor\": \"#C8D4E3\", \"startlinecolor\": \"#2a3f5f\"}, \"baxis\": {\"endlinecolor\": \"#2a3f5f\", \"gridcolor\": \"#C8D4E3\", \"linecolor\": \"#C8D4E3\", \"minorgridcolor\": \"#C8D4E3\", \"startlinecolor\": \"#2a3f5f\"}, \"type\": \"carpet\"}], \"choropleth\": [{\"colorbar\": {\"outlinewidth\": 0, \"ticks\": \"\"}, \"type\": \"choropleth\"}], \"contour\": [{\"colorbar\": {\"outlinewidth\": 0, \"ticks\": \"\"}, \"colorscale\": [[0.0, \"#0d0887\"], [0.1111111111111111, \"#46039f\"], [0.2222222222222222, \"#7201a8\"], [0.3333333333333333, \"#9c179e\"], [0.4444444444444444, \"#bd3786\"], [0.5555555555555556, \"#d8576b\"], [0.6666666666666666, \"#ed7953\"], [0.7777777777777778, \"#fb9f3a\"], [0.8888888888888888, \"#fdca26\"], [1.0, \"#f0f921\"]], \"type\": \"contour\"}], \"contourcarpet\": [{\"colorbar\": {\"outlinewidth\": 0, \"ticks\": \"\"}, \"type\": \"contourcarpet\"}], \"heatmap\": [{\"colorbar\": {\"outlinewidth\": 0, \"ticks\": \"\"}, \"colorscale\": [[0.0, \"#0d0887\"], [0.1111111111111111, \"#46039f\"], [0.2222222222222222, \"#7201a8\"], [0.3333333333333333, \"#9c179e\"], [0.4444444444444444, \"#bd3786\"], [0.5555555555555556, \"#d8576b\"], [0.6666666666666666, \"#ed7953\"], [0.7777777777777778, \"#fb9f3a\"], [0.8888888888888888, \"#fdca26\"], [1.0, \"#f0f921\"]], \"type\": \"heatmap\"}], \"heatmapgl\": [{\"colorbar\": {\"outlinewidth\": 0, \"ticks\": \"\"}, \"colorscale\": [[0.0, \"#0d0887\"], [0.1111111111111111, \"#46039f\"], [0.2222222222222222, \"#7201a8\"], [0.3333333333333333, \"#9c179e\"], [0.4444444444444444, \"#bd3786\"], [0.5555555555555556, \"#d8576b\"], [0.6666666666666666, \"#ed7953\"], [0.7777777777777778, \"#fb9f3a\"], [0.8888888888888888, \"#fdca26\"], [1.0, \"#f0f921\"]], \"type\": \"heatmapgl\"}], \"histogram\": [{\"marker\": {\"colorbar\": {\"outlinewidth\": 0, \"ticks\": \"\"}}, \"type\": \"histogram\"}], \"histogram2d\": [{\"colorbar\": {\"outlinewidth\": 0, \"ticks\": \"\"}, \"colorscale\": [[0.0, \"#0d0887\"], [0.1111111111111111, \"#46039f\"], [0.2222222222222222, \"#7201a8\"], [0.3333333333333333, \"#9c179e\"], [0.4444444444444444, \"#bd3786\"], [0.5555555555555556, \"#d8576b\"], [0.6666666666666666, \"#ed7953\"], [0.7777777777777778, \"#fb9f3a\"], [0.8888888888888888, \"#fdca26\"], [1.0, \"#f0f921\"]], \"type\": \"histogram2d\"}], \"histogram2dcontour\": [{\"colorbar\": {\"outlinewidth\": 0, \"ticks\": \"\"}, \"colorscale\": [[0.0, \"#0d0887\"], [0.1111111111111111, \"#46039f\"], [0.2222222222222222, \"#7201a8\"], [0.3333333333333333, \"#9c179e\"], [0.4444444444444444, \"#bd3786\"], [0.5555555555555556, \"#d8576b\"], [0.6666666666666666, \"#ed7953\"], [0.7777777777777778, \"#fb9f3a\"], [0.8888888888888888, \"#fdca26\"], [1.0, \"#f0f921\"]], \"type\": \"histogram2dcontour\"}], \"mesh3d\": [{\"colorbar\": {\"outlinewidth\": 0, \"ticks\": \"\"}, \"type\": \"mesh3d\"}], \"parcoords\": [{\"line\": {\"colorbar\": {\"outlinewidth\": 0, \"ticks\": \"\"}}, \"type\": \"parcoords\"}], \"pie\": [{\"automargin\": true, \"type\": \"pie\"}], \"scatter\": [{\"marker\": {\"colorbar\": {\"outlinewidth\": 0, \"ticks\": \"\"}}, \"type\": \"scatter\"}], \"scatter3d\": [{\"line\": {\"colorbar\": {\"outlinewidth\": 0, \"ticks\": \"\"}}, \"marker\": {\"colorbar\": {\"outlinewidth\": 0, \"ticks\": \"\"}}, \"type\": \"scatter3d\"}], \"scattercarpet\": [{\"marker\": {\"colorbar\": {\"outlinewidth\": 0, \"ticks\": \"\"}}, \"type\": \"scattercarpet\"}], \"scattergeo\": [{\"marker\": {\"colorbar\": {\"outlinewidth\": 0, \"ticks\": \"\"}}, \"type\": \"scattergeo\"}], \"scattergl\": [{\"marker\": {\"colorbar\": {\"outlinewidth\": 0, \"ticks\": \"\"}}, \"type\": \"scattergl\"}], \"scattermapbox\": [{\"marker\": {\"colorbar\": {\"outlinewidth\": 0, \"ticks\": \"\"}}, \"type\": \"scattermapbox\"}], \"scatterpolar\": [{\"marker\": {\"colorbar\": {\"outlinewidth\": 0, \"ticks\": \"\"}}, \"type\": \"scatterpolar\"}], \"scatterpolargl\": [{\"marker\": {\"colorbar\": {\"outlinewidth\": 0, \"ticks\": \"\"}}, \"type\": \"scatterpolargl\"}], \"scatterternary\": [{\"marker\": {\"colorbar\": {\"outlinewidth\": 0, \"ticks\": \"\"}}, \"type\": \"scatterternary\"}], \"surface\": [{\"colorbar\": {\"outlinewidth\": 0, \"ticks\": \"\"}, \"colorscale\": [[0.0, \"#0d0887\"], [0.1111111111111111, \"#46039f\"], [0.2222222222222222, \"#7201a8\"], [0.3333333333333333, \"#9c179e\"], [0.4444444444444444, \"#bd3786\"], [0.5555555555555556, \"#d8576b\"], [0.6666666666666666, \"#ed7953\"], [0.7777777777777778, \"#fb9f3a\"], [0.8888888888888888, \"#fdca26\"], [1.0, \"#f0f921\"]], \"type\": \"surface\"}], \"table\": [{\"cells\": {\"fill\": {\"color\": \"#EBF0F8\"}, \"line\": {\"color\": \"white\"}}, \"header\": {\"fill\": {\"color\": \"#C8D4E3\"}, \"line\": {\"color\": \"white\"}}, \"type\": \"table\"}]}, \"layout\": {\"annotationdefaults\": {\"arrowcolor\": \"#2a3f5f\", \"arrowhead\": 0, \"arrowwidth\": 1}, \"coloraxis\": {\"colorbar\": {\"outlinewidth\": 0, \"ticks\": \"\"}}, \"colorscale\": {\"diverging\": [[0, \"#8e0152\"], [0.1, \"#c51b7d\"], [0.2, \"#de77ae\"], [0.3, \"#f1b6da\"], [0.4, \"#fde0ef\"], [0.5, \"#f7f7f7\"], [0.6, \"#e6f5d0\"], [0.7, \"#b8e186\"], [0.8, \"#7fbc41\"], [0.9, \"#4d9221\"], [1, \"#276419\"]], \"sequential\": [[0.0, \"#0d0887\"], [0.1111111111111111, \"#46039f\"], [0.2222222222222222, \"#7201a8\"], [0.3333333333333333, \"#9c179e\"], [0.4444444444444444, \"#bd3786\"], [0.5555555555555556, \"#d8576b\"], [0.6666666666666666, \"#ed7953\"], [0.7777777777777778, \"#fb9f3a\"], [0.8888888888888888, \"#fdca26\"], [1.0, \"#f0f921\"]], \"sequentialminus\": [[0.0, \"#0d0887\"], [0.1111111111111111, \"#46039f\"], [0.2222222222222222, \"#7201a8\"], [0.3333333333333333, \"#9c179e\"], [0.4444444444444444, \"#bd3786\"], [0.5555555555555556, \"#d8576b\"], [0.6666666666666666, \"#ed7953\"], [0.7777777777777778, \"#fb9f3a\"], [0.8888888888888888, \"#fdca26\"], [1.0, \"#f0f921\"]]}, \"colorway\": [\"#636efa\", \"#EF553B\", \"#00cc96\", \"#ab63fa\", \"#FFA15A\", \"#19d3f3\", \"#FF6692\", \"#B6E880\", \"#FF97FF\", \"#FECB52\"], \"font\": {\"color\": \"#2a3f5f\"}, \"geo\": {\"bgcolor\": \"white\", \"lakecolor\": \"white\", \"landcolor\": \"white\", \"showlakes\": true, \"showland\": true, \"subunitcolor\": \"#C8D4E3\"}, \"hoverlabel\": {\"align\": \"left\"}, \"hovermode\": \"closest\", \"mapbox\": {\"style\": \"light\"}, \"paper_bgcolor\": \"white\", \"plot_bgcolor\": \"white\", \"polar\": {\"angularaxis\": {\"gridcolor\": \"#EBF0F8\", \"linecolor\": \"#EBF0F8\", \"ticks\": \"\"}, \"bgcolor\": \"white\", \"radialaxis\": {\"gridcolor\": \"#EBF0F8\", \"linecolor\": \"#EBF0F8\", \"ticks\": \"\"}}, \"scene\": {\"xaxis\": {\"backgroundcolor\": \"white\", \"gridcolor\": \"#DFE8F3\", \"gridwidth\": 2, \"linecolor\": \"#EBF0F8\", \"showbackground\": true, \"ticks\": \"\", \"zerolinecolor\": \"#EBF0F8\"}, \"yaxis\": {\"backgroundcolor\": \"white\", \"gridcolor\": \"#DFE8F3\", \"gridwidth\": 2, \"linecolor\": \"#EBF0F8\", \"showbackground\": true, \"ticks\": \"\", \"zerolinecolor\": \"#EBF0F8\"}, \"zaxis\": {\"backgroundcolor\": \"white\", \"gridcolor\": \"#DFE8F3\", \"gridwidth\": 2, \"linecolor\": \"#EBF0F8\", \"showbackground\": true, \"ticks\": \"\", \"zerolinecolor\": \"#EBF0F8\"}}, \"shapedefaults\": {\"line\": {\"color\": \"#2a3f5f\"}}, \"ternary\": {\"aaxis\": {\"gridcolor\": \"#DFE8F3\", \"linecolor\": \"#A2B1C6\", \"ticks\": \"\"}, \"baxis\": {\"gridcolor\": \"#DFE8F3\", \"linecolor\": \"#A2B1C6\", \"ticks\": \"\"}, \"bgcolor\": \"white\", \"caxis\": {\"gridcolor\": \"#DFE8F3\", \"linecolor\": \"#A2B1C6\", \"ticks\": \"\"}}, \"title\": {\"x\": 0.05}, \"xaxis\": {\"automargin\": true, \"gridcolor\": \"#EBF0F8\", \"linecolor\": \"#EBF0F8\", \"ticks\": \"\", \"title\": {\"standoff\": 15}, \"zerolinecolor\": \"#EBF0F8\", \"zerolinewidth\": 2}, \"yaxis\": {\"automargin\": true, \"gridcolor\": \"#EBF0F8\", \"linecolor\": \"#EBF0F8\", \"ticks\": \"\", \"title\": {\"standoff\": 15}, \"zerolinecolor\": \"#EBF0F8\", \"zerolinewidth\": 2}}}, \"title\": {\"text\": \"LSTM model loss\"}, \"width\": 500, \"xaxis\": {\"title\": {\"text\": \"Epoch\"}}, \"yaxis\": {\"title\": {\"text\": \"Loss\"}}},                        {\"responsive\": true}                    ).then(function(){\n",
       "                            \n",
       "var gd = document.getElementById('145d98b9-be6f-4f20-b880-a7d0509d80a5');\n",
       "var x = new MutationObserver(function (mutations, observer) {{\n",
       "        var display = window.getComputedStyle(gd).display;\n",
       "        if (!display || display === 'none') {{\n",
       "            console.log([gd, 'removed!']);\n",
       "            Plotly.purge(gd);\n",
       "            observer.disconnect();\n",
       "        }}\n",
       "}});\n",
       "\n",
       "// Listen for the removal of the full notebook cells\n",
       "var notebookContainer = gd.closest('#notebook-container');\n",
       "if (notebookContainer) {{\n",
       "    x.observe(notebookContainer, {childList: true});\n",
       "}}\n",
       "\n",
       "// Listen for the clearing of the current output cell\n",
       "var outputEl = gd.closest('.output');\n",
       "if (outputEl) {{\n",
       "    x.observe(outputEl, {childList: true});\n",
       "}}\n",
       "\n",
       "                        })                };                });            </script>        </div>"
      ]
     },
     "metadata": {},
     "output_type": "display_data"
    }
   ],
   "source": [
    "import plotly.graph_objects as go\n",
    "\n",
    "fig = px.line(x=history.history['loss'], title='Train')\n",
    "\n",
    "# Create traces\n",
    "fig = go.Figure()\n",
    "fig.add_trace(go.Scatter(y=history.history['loss'],\n",
    "                    mode='lines', name=\"Train\",))\n",
    "fig.add_trace(go.Scatter(y=history.history['val_loss'],\n",
    "                    mode='lines', name=\"Validation\",))\n",
    "fig.update_layout(\n",
    "    template=\"plotly_white\",\n",
    "    width=500,\n",
    "    height=400\n",
    ")\n",
    "\n",
    "fig.update_layout(legend=dict(\n",
    "    yanchor=\"top\",\n",
    "    y=0.99,\n",
    "    xanchor=\"left\",\n",
    "    x=0.81\n",
    "), title=\"LSTM model loss\", font_family=\"Arial\",\n",
    "                 xaxis_title=\"Epoch\", yaxis_title=\"Loss\")\n",
    "\n",
    "fig.show()"
   ]
  },
  {
   "cell_type": "code",
   "execution_count": 238,
   "metadata": {},
   "outputs": [
    {
     "name": "stdout",
     "output_type": "stream",
     "text": [
      "Test RMSE: 0.007\n"
     ]
    }
   ],
   "source": [
    "# make a prediction\n",
    "yhat = model.predict(test_X)\n",
    "test_X = test_X.reshape((test_X.shape[0], test_X.shape[2]))\n",
    "# invert scaling for forecast\n",
    "inv_yhat = concatenate((yhat, test_X[:, 1:]), axis=1)\n",
    "\n",
    "scaler2 = MinMaxScaler(feature_range=(0, 1)).fit(inv_yhat)\n",
    "inv_yhat = scaler2.inverse_transform(inv_yhat)\n",
    "inv_yhat = inv_yhat[:,0]\n",
    "\n",
    "# invert scaling for actual\n",
    "test_y = test_y.reshape((len(test_y), 1))\n",
    "inv_y = concatenate((test_y, test_X[:, 1:]), axis=1)\n",
    "inv_y = scaler2.inverse_transform(inv_y)\n",
    "inv_y = inv_y[:,0]\n",
    "# calculate RMSE\n",
    "rmse = sqrt(mean_squared_error(inv_y, inv_yhat))\n",
    "print('Test RMSE: %.3f' % rmse)"
   ]
  },
  {
   "cell_type": "code",
   "execution_count": 239,
   "metadata": {},
   "outputs": [
    {
     "data": {
      "image/png": "[encoded data removed]",
      "text/plain": [
       "<Figure size 432x288 with 1 Axes>"
      ]
     },
     "metadata": {
      "needs_background": "light"
     },
     "output_type": "display_data"
    }
   ],
   "source": [
    "plt.plot(inv_y)\n",
    "plt.show()"
   ]
  },
  {
   "cell_type": "code",
   "execution_count": 240,
   "metadata": {},
   "outputs": [
    {
     "data": {
      "text/plain": [
       "[<matplotlib.lines.Line2D at 0x149cc1550>,\n",
       " <matplotlib.lines.Line2D at 0x149cc1750>,\n",
       " <matplotlib.lines.Line2D at 0x149cc1910>]"
      ]
     },
     "execution_count": 240,
     "metadata": {},
     "output_type": "execute_result"
    },
    {
     "data": {
      "image/png": "[encoded data removed]",
      "text/plain": [
       "<Figure size 432x288 with 1 Axes>"
      ]
     },
     "metadata": {
      "needs_background": "light"
     },
     "output_type": "display_data"
    }
   ],
   "source": [
    "plt.plot(test_X)"
   ]
  },
  {
   "cell_type": "code",
   "execution_count": 229,
   "metadata": {},
   "outputs": [
    {
     "data": {
      "text/plain": [
       "[<matplotlib.lines.Line2D at 0x14c8eccd0>]"
      ]
     },
     "execution_count": 229,
     "metadata": {},
     "output_type": "execute_result"
    },
    {
     "data": {
      "image/png": "[encoded data removed]",
      "text/plain": [
       "<Figure size 432x288 with 1 Axes>"
      ]
     },
     "metadata": {
      "needs_background": "light"
     },
     "output_type": "display_data"
    }
   ],
   "source": [
    "plt.plot(df[\"stringency_index\"])"
   ]
  },
  {
   "cell_type": "code",
   "execution_count": null,
   "metadata": {},
   "outputs": [],
   "source": []
  }
 ],
 "metadata": {
  "kernelspec": {
   "display_name": "Python 3",
   "language": "python",
   "name": "python3"
  },
  "language_info": {
   "codemirror_mode": {
    "name": "ipython",
    "version": 3
   },
   "file_extension": ".py",
   "mimetype": "text/x-python",
   "name": "python",
   "nbconvert_exporter": "python",
   "pygments_lexer": "ipython3",
   "version": "3.7.8"
  }
 },
 "nbformat": 4,
 "nbformat_minor": 4
}
