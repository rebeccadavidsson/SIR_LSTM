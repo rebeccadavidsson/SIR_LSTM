{
 "cells": [
  {
   "cell_type": "code",
   "execution_count": null,
   "metadata": {},
   "outputs": [],
   "source": [
    "import os\n",
    "os.chdir(\"..\")"
   ]
  },
  {
   "cell_type": "code",
   "execution_count": null,
   "metadata": {},
   "outputs": [],
   "source": [
    "from core.nn.LSTMmodel import LSTM\n",
    "import pandas as pd\n",
    "import numpy as np\n",
    "import matplotlib.pylab as plt\n",
    "import pickle\n",
    "import datetime\n",
    "import seaborn as sns\n",
    "import covsirphy as cs\n",
    "sns.set()\n",
    "%matplotlib inline\n",
    "\n",
    "%load_ext autoreload\n",
    "%autoreload 2"
   ]
  },
  {
   "cell_type": "code",
   "execution_count": null,
   "metadata": {},
   "outputs": [],
   "source": [
    "COUNTRY      = 'Greece'\n",
    "DEVICE       = 'cpu'\n",
    "TRAIN_UP_TO  = pd.to_datetime('2020-10-01')\n",
    "ThreshConf   = 68\n",
    "ThreshDead   = 20\n",
    "target       = \"New Confirmed\"\n",
    "FUTURE_DAYS  = 45"
   ]
  },
  {
   "cell_type": "code",
   "execution_count": null,
   "metadata": {},
   "outputs": [],
   "source": [
    "lstm = LSTM(COUNTRY, TRAIN_UP_TO, FUTURE_DAYS, ThreshDead, target)"
   ]
  },
  {
   "cell_type": "code",
   "execution_count": null,
   "metadata": {},
   "outputs": [],
   "source": [
    "df = lstm.init_data()"
   ]
  },
  {
   "cell_type": "code",
   "execution_count": null,
   "metadata": {},
   "outputs": [],
   "source": [
    "lstm.iterations = 2\n",
    "best = lstm.optimizeTreshold()\n",
    "lstm.iterations = 15"
   ]
  },
  {
   "cell_type": "code",
   "execution_count": null,
   "metadata": {},
   "outputs": [],
   "source": [
    "ThreshConf   = best[\"Threshold\"]\n",
    "lstm.simulate(ThreshConf = ThreshConf)"
   ]
  },
  {
   "cell_type": "code",
   "execution_count": null,
   "metadata": {},
   "outputs": [],
   "source": [
    "from core.SIR import SIR"
   ]
  },
  {
   "cell_type": "code",
   "execution_count": null,
   "metadata": {},
   "outputs": [],
   "source": [
    "sir_sim = SIR(COUNTRY, TRAIN_UP_TO)"
   ]
  },
  {
   "cell_type": "code",
   "execution_count": null,
   "metadata": {},
   "outputs": [],
   "source": [
    "snl = sir_sim.init_data()"
   ]
  },
  {
   "cell_type": "code",
   "execution_count": null,
   "metadata": {},
   "outputs": [],
   "source": [
    "summary = snl.summary()\n",
    "summary[\"Start_dt\"] = pd.to_datetime(summary[\"Start\"], format=\"%d%b%Y\")\n",
    "summary[\"End_dt\"] = pd.to_datetime(summary[\"End\"], format=\"%d%b%Y\")\n",
    "query = summary[summary[\"End_dt\"] > TRAIN_UP_TO]\n",
    "all_phases = query.index.tolist()\n",
    "\n",
    "snl.combine(phases=all_phases)\n",
    "target_date = datetime.datetime.strftime(TRAIN_UP_TO - datetime.timedelta(days=1), format=\"%d%b%Y\")\n",
    "snl.separate(target_date)"
   ]
  },
  {
   "cell_type": "code",
   "execution_count": null,
   "metadata": {},
   "outputs": [],
   "source": [
    "summary = snl.summary()"
   ]
  },
  {
   "cell_type": "code",
   "execution_count": null,
   "metadata": {},
   "outputs": [],
   "source": [
    "summary = snl.summary()\n",
    "all_phases = summary.index.tolist()\n",
    "snl.disable(phases=all_phases[:-1])\n",
    "snl.enable(phases=all_phases[-1:])\n",
    "snl.summary()"
   ]
  },
  {
   "cell_type": "code",
   "execution_count": null,
   "metadata": {},
   "outputs": [],
   "source": [
    "snl.estimate(model=cs.SIRF)"
   ]
  },
  {
   "cell_type": "code",
   "execution_count": null,
   "metadata": {},
   "outputs": [],
   "source": [
    "df = snl.simulate();\n",
    "df[\"New Confirmed\"] = df[\"Confirmed\"].diff()"
   ]
  },
  {
   "cell_type": "code",
   "execution_count": null,
   "metadata": {},
   "outputs": [],
   "source": [
    "lstm.plot(SIRdata=df)"
   ]
  },
  {
   "cell_type": "code",
   "execution_count": null,
   "metadata": {},
   "outputs": [],
   "source": [
    "accuracy, dfOverTime = lstm.accuracy(SIRdata=df)\n",
    "cm = sns.color_palette(\"coolwarm\", as_cmap=True)\n",
    "accuracy.style.background_gradient(cmap = cm, vmin=np.min(accuracy.values), vmax=np.max(accuracy.values))"
   ]
  },
  {
   "cell_type": "code",
   "execution_count": null,
   "metadata": {},
   "outputs": [],
   "source": [
    "dfOverTime.plot(title=\"Error over time. Lower values indicate higher accuracy.\", xlabel=\"Days\", ylabel=\"RMSE\");"
   ]
  },
  {
   "cell_type": "code",
   "execution_count": null,
   "metadata": {},
   "outputs": [],
   "source": []
  }
 ],
 "metadata": {
  "kernelspec": {
   "display_name": "Python 3",
   "language": "python",
   "name": "python3"
  },
  "language_info": {
   "codemirror_mode": {
    "name": "ipython",
    "version": 3
   },
   "file_extension": ".py",
   "mimetype": "text/x-python",
   "name": "python",
   "nbconvert_exporter": "python",
   "pygments_lexer": "ipython3",
   "version": "3.7.8"
  }
 },
 "nbformat": 4,
 "nbformat_minor": 4
}
