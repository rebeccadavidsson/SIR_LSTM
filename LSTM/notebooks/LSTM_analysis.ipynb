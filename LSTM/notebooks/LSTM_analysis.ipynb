{
 "cells": [
  {
   "cell_type": "code",
   "execution_count": 1,
   "metadata": {},
   "outputs": [],
   "source": [
    "import pickle\n",
    "import datetime\n",
    "from dateutil.relativedelta import relativedelta\n",
    "from tensorflow.keras.layers import BatchNormalization\n",
    "from tensorflow.keras import Input\n",
    "from tensorflow.keras.utils import plot_model\n",
    "from tensorflow.keras.layers import LSTM\n",
    "from tensorflow.keras.layers import Dropout\n",
    "from tensorflow.keras.callbacks import ModelCheckpoint, ReduceLROnPlateau, EarlyStopping\n",
    "from tensorflow.keras.layers import Dense\n",
    "from tensorflow.keras.models import Sequential\n",
    "from sklearn.metrics import mean_squared_error\n",
    "from sklearn.preprocessing import LabelEncoder\n",
    "from sklearn.preprocessing import MinMaxScaler\n",
    "from sklearn.model_selection import train_test_split\n",
    "import sklearn.metrics as metrics\n",
    "from numpy import array\n",
    "import tensorflow as tf\n",
    "import warnings\n",
    "from tqdm import tqdm_notebook as tqdm\n",
    "import plotly.graph_objects as go\n",
    "import plotly.express as px\n",
    "from plotly.subplots import make_subplots\n",
    "import plotly as py\n",
    "from matplotlib import rcParams\n",
    "import seaborn as sns\n",
    "import matplotlib.pylab as plt\n",
    "import math\n",
    "import pickle\n",
    "import os\n",
    "import pandas as pd\n",
    "import folium\n",
    "import math\n",
    "import numpy as np\n",
    "import matplotlib\n",
    "import covsirphy as cs\n",
    "from itertools import cycle\n",
    "sns.set()\n",
    "matplotlib.use('nbagg')\n",
    "warnings.filterwarnings(\"ignore\")"
   ]
  },
  {
   "cell_type": "code",
   "execution_count": 2,
   "metadata": {},
   "outputs": [],
   "source": [
    "%matplotlib inline\n",
    "import covsirphy as cs\n",
    "\n",
    "# Download datasets\n",
    "data_loader = cs.DataLoader(\"input\")\n",
    "jhu_data = data_loader.jhu()\n",
    "population_data = data_loader.population()"
   ]
  },
  {
   "cell_type": "code",
   "execution_count": 3,
   "metadata": {},
   "outputs": [
    {
     "name": "stdout",
     "output_type": "stream",
     "text": [
      "American Samoa not found\n",
      "Others not found\n",
      "South Korea not found\n"
     ]
    }
   ],
   "source": [
    "train = jhu_data.cleaned()\n",
    "countries = train[\"Country\"].unique()\n",
    "total_data = []\n",
    "days_moving_average = 3\n",
    "\n",
    "for country in countries:\n",
    "    try:\n",
    "        s = cs.Scenario(jhu_data, population_data, country=country)\n",
    "        s.complement()\n",
    "        diff = s.records_diff(variables=[\"Confirmed\"], window=days_moving_average, show_figure=False)\n",
    "        d = s.records(show_figure=False)\n",
    "\n",
    "        # Add country name and number of new confirmed cases\n",
    "        d[\"Country\"] = country\n",
    "        d[\"New Confirmed\"] = diff.reset_index()[\"Confirmed\"]\n",
    "        d[\"Confirmed\"] = s.record_df[\"Confirmed\"]\n",
    "        d = d[:-3]\n",
    "        total_data.append(d)\n",
    "    except:\n",
    "        print(country + \" not found\")\n",
    "        "
   ]
  },
  {
   "cell_type": "code",
   "execution_count": 4,
   "metadata": {},
   "outputs": [
    {
     "data": {
      "text/html": [
       "<div>\n",
       "<style scoped>\n",
       "    .dataframe tbody tr th:only-of-type {\n",
       "        vertical-align: middle;\n",
       "    }\n",
       "\n",
       "    .dataframe tbody tr th {\n",
       "        vertical-align: top;\n",
       "    }\n",
       "\n",
       "    .dataframe thead th {\n",
       "        text-align: right;\n",
       "    }\n",
       "</style>\n",
       "<table border=\"1\" class=\"dataframe\">\n",
       "  <thead>\n",
       "    <tr style=\"text-align: right;\">\n",
       "      <th></th>\n",
       "      <th>Date</th>\n",
       "      <th>Infected</th>\n",
       "      <th>Fatal</th>\n",
       "      <th>Recovered</th>\n",
       "      <th>Country</th>\n",
       "      <th>New Confirmed</th>\n",
       "      <th>Confirmed</th>\n",
       "    </tr>\n",
       "  </thead>\n",
       "  <tbody>\n",
       "    <tr>\n",
       "      <th>0</th>\n",
       "      <td>2020-03-16</td>\n",
       "      <td>17</td>\n",
       "      <td>0</td>\n",
       "      <td>1</td>\n",
       "      <td>Afghanistan</td>\n",
       "      <td>2.0</td>\n",
       "      <td>18</td>\n",
       "    </tr>\n",
       "    <tr>\n",
       "      <th>1</th>\n",
       "      <td>2020-03-17</td>\n",
       "      <td>19</td>\n",
       "      <td>0</td>\n",
       "      <td>1</td>\n",
       "      <td>Afghanistan</td>\n",
       "      <td>3.0</td>\n",
       "      <td>20</td>\n",
       "    </tr>\n",
       "    <tr>\n",
       "      <th>2</th>\n",
       "      <td>2020-03-18</td>\n",
       "      <td>23</td>\n",
       "      <td>0</td>\n",
       "      <td>1</td>\n",
       "      <td>Afghanistan</td>\n",
       "      <td>2.0</td>\n",
       "      <td>24</td>\n",
       "    </tr>\n",
       "    <tr>\n",
       "      <th>3</th>\n",
       "      <td>2020-03-19</td>\n",
       "      <td>24</td>\n",
       "      <td>0</td>\n",
       "      <td>1</td>\n",
       "      <td>Afghanistan</td>\n",
       "      <td>3.0</td>\n",
       "      <td>25</td>\n",
       "    </tr>\n",
       "    <tr>\n",
       "      <th>4</th>\n",
       "      <td>2020-03-20</td>\n",
       "      <td>28</td>\n",
       "      <td>0</td>\n",
       "      <td>1</td>\n",
       "      <td>Afghanistan</td>\n",
       "      <td>4.0</td>\n",
       "      <td>29</td>\n",
       "    </tr>\n",
       "  </tbody>\n",
       "</table>\n",
       "</div>"
      ],
      "text/plain": [
       "        Date  Infected  Fatal  Recovered      Country  New Confirmed  \\\n",
       "0 2020-03-16        17      0          1  Afghanistan            2.0   \n",
       "1 2020-03-17        19      0          1  Afghanistan            3.0   \n",
       "2 2020-03-18        23      0          1  Afghanistan            2.0   \n",
       "3 2020-03-19        24      0          1  Afghanistan            3.0   \n",
       "4 2020-03-20        28      0          1  Afghanistan            4.0   \n",
       "\n",
       "   Confirmed  \n",
       "0         18  \n",
       "1         20  \n",
       "2         24  \n",
       "3         25  \n",
       "4         29  "
      ]
     },
     "execution_count": 4,
     "metadata": {},
     "output_type": "execute_result"
    }
   ],
   "source": [
    "train_df = pd.concat(total_data)\n",
    "train_df.head()"
   ]
  },
  {
   "cell_type": "code",
   "execution_count": 5,
   "metadata": {},
   "outputs": [],
   "source": [
    "\n",
    "def pred(model, data):\n",
    "    y_pred = model.predict(data)\n",
    "    return y_pred\n",
    "\n",
    "\n",
    "def forcast(model, data, start_date, num_days, n_steps, regs):\n",
    "    \"\"\"\n",
    "    Utility method for Forcasting\n",
    "    model - trained model on Confirmed/Deaths data\n",
    "    start_date - Starting date of forcasting\n",
    "    num_days - Number of days for which forcasting is required\n",
    "    \"\"\"\n",
    "    res_ = dict()\n",
    "    for i in range(len(data)):\n",
    "        res_[i] = []\n",
    "    y_pred = pred(model, data)\n",
    "    dates = []\n",
    "    date1 = datetime.datetime.strptime(start_date, \"%Y-%m-%d\")\n",
    "\n",
    "    for j in range(1, num_days+1):\n",
    "        for i in range(len(data)):\n",
    "            cur_window = list(data[i][0][1: n_steps+1])\n",
    "            res_[i].append(cur_window[-1])\n",
    "            cur_window.append(y_pred[i])\n",
    "            data[i][0] = cur_window\n",
    "        y_pred = pred(model, data)\n",
    "        dates.append(date1.strftime(\"%Y-%m-%d\"))\n",
    "        date1 += relativedelta(days=1)\n",
    "    res = pd.DataFrame(pd.DataFrame(pd.DataFrame(res_).values.T))\n",
    "    res.columns = dates\n",
    "    res['Country/State'] = regs\n",
    "    return res\n",
    "\n",
    "\n",
    "def get_countrywise_forcast_(\n",
    "    covid_timeseries,\n",
    "    res_regional,\n",
    "    target,\n",
    "    country_name,\n",
    "    state_name,\n",
    "    num_days,\n",
    "    begin_date,\n",
    "    ):\n",
    "    temp = covid_timeseries[covid_timeseries['Country/Region']\n",
    "                            == country_name].query('ObservationDate>='\n",
    "            + begin_date)\n",
    "    x_truth = temp.ObservationDate\n",
    "    y_truth = temp[target]\n",
    "    pred_ = res_regional[res_regional['Country/Region'] == country_name]\n",
    "    x_pred = pred_.Date[0:num_days]\n",
    "    y_pred = (pred_[target])[0:num_days]\n",
    "    return (list(x_truth), list(y_truth), list(x_pred), list(y_pred))\n",
    "\n",
    "\n",
    "\n",
    "def get_countrywise_forcast(\n",
    "    train,\n",
    "    res_regional,\n",
    "    country_name,\n",
    "    state_name,\n",
    "    num_days,\n",
    "    begin_date,\n",
    "    ):\n",
    "    temp = train[train['Country/Region']\n",
    "                 == country_name].query('ObservationDate>='\n",
    "            + begin_date)\n",
    "    x_truth = temp.ObservationDate\n",
    "    y_truth = temp.Confirmed\n",
    "    pred_ = res_regional[res_regional['Country/Region'] == country_name]\n",
    "    x_pred = pred_.Date[0:num_days]\n",
    "    y_pred = pred_.ConfirmedCases[0:num_days]\n",
    "    return (list(x_truth), list(y_truth), list(x_pred), list(y_pred))\n",
    "\n",
    "\n",
    "# Call only when forcast and submission data are available\n",
    "def get_countrywise_forcast_Deaths(country_name, state_name, num_days):\n",
    "    temp = train[(train['Country/Region'] == country_name)\n",
    "                 & (train['Province/State']\n",
    "                 == state_name)].query('ObservationDate>=' + pivot_date)\n",
    "    x_truth = temp.ObservationDate\n",
    "    y_truth = temp.Deaths\n",
    "    pred_ = res_regional[(res_regional['Country_Region']\n",
    "                         == country_name)\n",
    "                         & (res_regional['Province_State']\n",
    "                         == state_name)]\n",
    "    x_pred = pred_.Date[0:num_days]\n",
    "    y_pred = pred_.Fatalities[0:num_days]\n",
    "    return (list(x_truth), list(y_truth), list(x_pred), list(y_pred))\n",
    "\n",
    "\n",
    "# Utility Method to convert newly added prediction to cumulative [Not Accurate]\n",
    "def get_cumulative_confirmed_cases(world_data_):\n",
    "    world_data_ = world_data_.sort_values(['Country_Region', 'Date'])\n",
    "    world_data_['Cumulative Confirmed'] = world_data_['New Confirmed']\n",
    "    for i in tqdm(range(1, len(world_data_))):\n",
    "        if world_data_['Country_Region'].iloc[i] \\\n",
    "            != world_data_['Country_Region'].iloc[i - 1]:\n",
    "            world_data_['Cumulative Confirmed'].iloc[i] = \\\n",
    "                world_data_['ConfirmedCases'].iloc[i]\n",
    "    for i in tqdm(range(1, len(world_data_))):\n",
    "        if world_data_['Country_Region'].iloc[i] \\\n",
    "            == world_data_['Country_Region'].iloc[i - 1]:\n",
    "            world_data_['Cumulative Confirmed'].iloc[i] = \\\n",
    "                world_data_['Cumulative Confirmed'].iloc[i] \\\n",
    "                + world_data_['Cumulative Confirmed'].iloc[i - 1]\n",
    "    return world_data_\n",
    "\n",
    "\n",
    "# function to create training data for LSTM\n",
    "# We will take last 7 days Cases as input and 8th day's case as output\n",
    "def create_train_dataset(target, n_steps, train, pivot_date,\n",
    "                         unique_regions, states_per_regions):\n",
    "    train = train.query(\"ObservationDate<\"+pivot_date)\n",
    "    x, y =[], []\n",
    "    for k in tqdm(range(len(unique_regions))):\n",
    "        for state in states_per_regions[k]:\n",
    "            temp = train[(train['Country/Region'] == unique_regions[k])]\n",
    "            sequence = list(temp[target])\n",
    "            for i in range(len(sequence)):\n",
    "                end_ix = i + n_steps\n",
    "                if end_ix > len(sequence) - 1:\n",
    "                    break\n",
    "                seq_x, seq_y = sequence[i:end_ix], sequence[end_ix]\n",
    "                if(seq_y != 0):\n",
    "                    x.append(seq_x)\n",
    "                    y.append(seq_y)\n",
    "    return array(x), array(y)\n",
    "\n",
    "\n",
    "def create_countrywise_newly_added_train_dataset(target,\n",
    "                                                n_steps,\n",
    "                                                train,\n",
    "                                                pivot_date):\n",
    "    train = train.query(\"ObservationDate<\"+pivot_date)\n",
    "    x, y = [], []\n",
    "    for k in tqdm(range(len(unique_regions))):\n",
    "        temp = train[(train['Country/Region']==unique_regions[k])]\n",
    "        sequence = list(temp[target])\n",
    "        for i in range(len(sequence)):\n",
    "            end_ix = i + n_steps\n",
    "            if end_ix > len(sequence)-1:\n",
    "                break\n",
    "            seq_x, seq_y = sequence[i:end_ix], sequence[end_ix]\n",
    "            if( seq_y != 0):\n",
    "                x.append(seq_x)\n",
    "                y.append(seq_y)\n",
    "    return array(x), array\n",
    "\n",
    "\n",
    "def create_test_dataset_new_c(target, n_steps, train,pivot_date, unique_regions,\n",
    "                        states_per_regions):\n",
    "    train = train.query(\"ObservationDate<\"+pivot_date)\n",
    "    x, regs = [], []\n",
    "    for k in tqdm(range(len(unique_regions))):\n",
    "        for state in states_per_regions[k]:\n",
    "            temp = train[(train['Country/Region'] == unique_regions[k])]\n",
    "            sequence = temp[target].values\n",
    "            x.append(sequence[len(sequence)-n_steps:len(sequence)+1])\n",
    "            regs.append((unique_regions[k],state))  \n",
    "    return x, regs\n",
    "\n",
    "\n",
    "def create_test_dataset(target, n_steps, train,pivot_date, unique_regions,\n",
    "                        states_per_regions):\n",
    "    \"\"\"\n",
    "    Function to create test dataset\n",
    "    our supervised probem is now given last 7 days data predict \n",
    "    the no of cases for 8th day;\n",
    "    target : 'Confirmed'/'Deaths'\n",
    "    \"\"\"\n",
    "\n",
    "    train = train.query(\"ObservationDate<\"+pivot_date)\n",
    "    x, regs = [], []\n",
    "    for k in tqdm(range(len(unique_regions))):\n",
    "        for state in states_per_regions[k]:\n",
    "            temp = train[(train['Country/Region'] == unique_regions[k])]\n",
    "            sequence = temp[target].values\n",
    "            x.append(sequence[len(sequence)-n_steps:len(sequence)+1])\n",
    "            regs.append((unique_regions[k],state))  \n",
    "    return x, regs\n",
    "\n",
    "\n",
    "def create_countrywise_newly_added_test_dataset(target,n_steps,train,pivot_date):\n",
    "    train = train.query(\"ObservationDate<\"+pivot_date)\n",
    "    x=[]\n",
    "    regs=[]\n",
    "    for k in tqdm(range(len(unique_regions))):\n",
    "        temp=train[(train['Country/Region']==unique_regions[k])]\n",
    "        sequence=temp[target]\n",
    "        #print(sequence[len(sequence)-n_steps:len(sequence)+1])\n",
    "        x.append(sequence[len(sequence)-n_steps:len(sequence)+1])\n",
    "        regs.append(unique_regions[k])      \n",
    "    return array(x),regs\n",
    "\n",
    "def get_newly_added(world_data_):\n",
    "    world_data_=world_data_.sort_values(['Country/Region','ObservationDate'])\n",
    "    temp=[0*i for i in range(len(world_data_))]\n",
    "    world_data_['New Confirmed']=temp\n",
    "    world_data_['New Death']=temp\n",
    "    for i in tqdm(range(1,len(world_data_))):\n",
    "        if(world_data_['Country/Region'].iloc[i]==world_data_['Country/Region'].iloc[i-1]):\n",
    "            if(world_data_['Deaths'].iloc[i]<world_data_['Deaths'].iloc[i-1]):\n",
    "                world_data_['Deaths'].iloc[i]=world_data_['Deaths'].iloc[i-1]\n",
    "            if(world_data_['Confirmed'].iloc[i]<world_data_['Confirmed'].iloc[i-1]):\n",
    "                world_data_['Confirmed'].iloc[i]=world_data_['Confirmed'].iloc[i-1]     \n",
    "            world_data_['New Confirmed'].iloc[i]=world_data_['Confirmed'].iloc[i]-world_data_['Confirmed'].iloc[i-1]\n",
    "            world_data_['New Death'].iloc[i]=world_data_['Deaths'].iloc[i]-world_data_['Deaths'].iloc[i-1]\n",
    "        else:\n",
    "            world_data_['New Confirmed'].iloc[i]=world_data_['Confirmed'].iloc[i]\n",
    "            world_data_['New Death'].iloc[i]=world_data_['Deaths'].iloc[i]\n",
    "    return world_data_\n",
    "\n",
    "def list_per_region(train):\n",
    "  # Creating list of all regions of all counntries\n",
    "    unique_regions = train['Country/Region'].unique()\n",
    "    states_per_regions = []\n",
    "    for reg in tqdm(unique_regions):\n",
    "        states_per_regions.append(\n",
    "            train[train['Country/Region'] == reg]['Country/Region'].unique())\n",
    "    return states_per_regions, unique_regions\n",
    "\n",
    "def prepare_submission(res_c, res_d, res_nc, test, pivot_date, end_date): \n",
    "    test = test.query(\"Date>=\"+pivot_date)\n",
    "    test = test.query(\"Date<=\"+end_date)\n",
    "    index=dict()\n",
    "    for i in range(len(res_c)):\n",
    "        index[res_c.iloc[i]['Country/State'][0]]=i\n",
    "    pred_c=[]\n",
    "    pred_d=[]\n",
    "    pred_nc=[]\n",
    "    for i in tqdm(range(len(test))):\n",
    "        if(test.iloc[i]['Country/Region'] in index):\n",
    "            loc=index[test.iloc[i]['Country/Region']]\n",
    "            date = datetime.datetime.strftime(test.iloc[i]['Date'].date(), format=\"%Y-%m-%d\")\n",
    "            \n",
    "            pred_c.append(res_c.iloc[loc][date])     \n",
    "            pred_d.append(res_d.iloc[loc][date]) \n",
    "            pred_nc.append(res_nc.iloc[loc][date]) \n",
    "\n",
    "    test['ConfirmedCases']=pred_c\n",
    "    test['Fatalities']=pred_d\n",
    "    test['New Confirmed']=pred_nc\n",
    "    res_regional=test\n",
    "    res=test.drop(columns=['Country/Region','Date','New Confirmed'])\n",
    "    return res, res_regional\n",
    "\n",
    "def convert_predictions_df(res_c, res_d, res_nc, test, pivot_date, end_date):\n",
    "    test = test.query(\"Date>=\"+pivot_date)\n",
    "    test = test.query(\"Date<=\"+end_date)\n",
    "    index=dict()\n",
    "    for i in range(len(res_nc)):\n",
    "        index[res_nc.iloc[i]['Country/State'][0]]=i\n",
    "\n",
    "    pred_c, pred_d, pred_nc=[], [], []\n",
    "    for i in tqdm(range(len(test))):\n",
    "        if(test.iloc[i]['Country/Region'] in index):\n",
    "            loc=index[test.iloc[i]['Country/Region']]\n",
    "            date = datetime.datetime.strftime(test.iloc[i]['Date'].date(), format=\"%Y-%m-%d\")\n",
    "            pred_nc.append(res_nc.iloc[loc][date]) \n",
    "            pred_c.append(res_c.iloc[loc][date]) \n",
    "            pred_d.append(res_d.iloc[loc][date]) \n",
    "    \n",
    "    test[\"Confirmed\"] = pred_c\n",
    "    test['New Confirmed'] = pred_nc\n",
    "    test[\"Deaths\"] = pred_d\n",
    "   \n",
    "    res_regional=test\n",
    "    res=test.drop(columns=['Country/Region','Date','New Confirmed'])\n",
    "    return res, res_regional\n",
    "\n",
    "def convert_predictions_nc(res_nc, test, pivot_date, end_date):\n",
    "    test = test.query(\"Date>=\"+pivot_date)\n",
    "    test = test.query(\"Date<=\"+end_date)\n",
    "    index=dict()\n",
    "    for i in range(len(res_nc)):\n",
    "        index[res_nc.iloc[i]['Country/State'][0]]=i\n",
    "\n",
    "    pred_c, pred_d, pred_nc=[], [], []\n",
    "    for i in tqdm(range(len(test))):\n",
    "        if(test.iloc[i]['Country/Region'] in index):\n",
    "            loc=index[test.iloc[i]['Country/Region']]\n",
    "            date = datetime.datetime.strftime(test.iloc[i]['Date'].date(), format=\"%Y-%m-%d\")\n",
    "            pred_nc.append(res_nc.iloc[loc][date]) \n",
    "    \n",
    "    test['New Confirmed'] = pred_nc\n",
    "   \n",
    "    res_regional=test\n",
    "    res=test.drop(columns=['Country/Region','Date','New Confirmed'])\n",
    "    return res, res_regional"
   ]
  },
  {
   "cell_type": "markdown",
   "metadata": {},
   "source": [
    "# Hyperparameter tuning"
   ]
  },
  {
   "cell_type": "code",
   "execution_count": 57,
   "metadata": {
    "scrolled": true
   },
   "outputs": [
    {
     "name": "stdout",
     "output_type": "stream",
     "text": [
      "10/24/12/5\n"
     ]
    },
    {
     "data": {
      "application/vnd.jupyter.widget-view+json": {
       "model_id": "fa03f7e937054a0f9efc8541be4c7427",
       "version_major": 2,
       "version_minor": 0
      },
      "text/plain": [
       "HBox(children=(FloatProgress(value=0.0, max=196.0), HTML(value='')))"
      ]
     },
     "metadata": {},
     "output_type": "display_data"
    },
    {
     "name": "stdout",
     "output_type": "stream",
     "text": [
      "\n",
      "Cumulative Confirmed Cases\n"
     ]
    },
    {
     "data": {
      "application/vnd.jupyter.widget-view+json": {
       "model_id": "4b1a29a404484762b201e3fa98d4305e",
       "version_major": 2,
       "version_minor": 0
      },
      "text/plain": [
       "HBox(children=(FloatProgress(value=0.0, max=196.0), HTML(value='')))"
      ]
     },
     "metadata": {},
     "output_type": "display_data"
    },
    {
     "name": "stdout",
     "output_type": "stream",
     "text": [
      "\n",
      "Confirmed Cases\n"
     ]
    },
    {
     "data": {
      "application/vnd.jupyter.widget-view+json": {
       "model_id": "46d7c3960d9148c4b3a28c0a803045ba",
       "version_major": 2,
       "version_minor": 0
      },
      "text/plain": [
       "HBox(children=(FloatProgress(value=0.0, max=196.0), HTML(value='')))"
      ]
     },
     "metadata": {},
     "output_type": "display_data"
    },
    {
     "name": "stdout",
     "output_type": "stream",
     "text": [
      "\n"
     ]
    },
    {
     "data": {
      "application/vnd.jupyter.widget-view+json": {
       "model_id": "9bd413c7c9d34868b45aa2d34c9dc90e",
       "version_major": 2,
       "version_minor": 0
      },
      "text/plain": [
       "HBox(children=(FloatProgress(value=0.0, max=196.0), HTML(value='')))"
      ]
     },
     "metadata": {},
     "output_type": "display_data"
    },
    {
     "name": "stdout",
     "output_type": "stream",
     "text": [
      "\n"
     ]
    },
    {
     "data": {
      "application/vnd.jupyter.widget-view+json": {
       "model_id": "306292fcbdce442880d039b5acaf9b3c",
       "version_major": 2,
       "version_minor": 0
      },
      "text/plain": [
       "HBox(children=(FloatProgress(value=0.0, max=196.0), HTML(value='')))"
      ]
     },
     "metadata": {},
     "output_type": "display_data"
    },
    {
     "name": "stdout",
     "output_type": "stream",
     "text": [
      "\n",
      "Deaths Cases\n"
     ]
    },
    {
     "data": {
      "application/vnd.jupyter.widget-view+json": {
       "model_id": "2156124fce304c09b05a66b40a043bd3",
       "version_major": 2,
       "version_minor": 0
      },
      "text/plain": [
       "HBox(children=(FloatProgress(value=0.0, max=196.0), HTML(value='')))"
      ]
     },
     "metadata": {},
     "output_type": "display_data"
    },
    {
     "name": "stdout",
     "output_type": "stream",
     "text": [
      "\n"
     ]
    },
    {
     "data": {
      "application/vnd.jupyter.widget-view+json": {
       "model_id": "a9453db889234d5cbde0c978e9d52945",
       "version_major": 2,
       "version_minor": 0
      },
      "text/plain": [
       "HBox(children=(FloatProgress(value=0.0, max=196.0), HTML(value='')))"
      ]
     },
     "metadata": {},
     "output_type": "display_data"
    },
    {
     "name": "stdout",
     "output_type": "stream",
     "text": [
      "\n",
      "Finished preparing datasets.\n",
      "Epoch 1/10\n",
      "1046/1046 - 4s - loss: 0.2914 - val_loss: 0.0040\n",
      "Epoch 2/10\n",
      "1046/1046 - 3s - loss: 0.0036 - val_loss: 0.0032\n",
      "Epoch 3/10\n",
      "1046/1046 - 3s - loss: 0.0030 - val_loss: 0.0032\n",
      "Epoch 4/10\n",
      "1046/1046 - 4s - loss: 0.0029 - val_loss: 0.0031\n",
      "Epoch 5/10\n",
      "1046/1046 - 4s - loss: 0.0029 - val_loss: 0.0031\n",
      "Epoch 6/10\n",
      "1046/1046 - 4s - loss: 0.0028 - val_loss: 0.0031\n",
      "Epoch 7/10\n",
      "1046/1046 - 5s - loss: 0.0028 - val_loss: 0.0031\n",
      "Epoch 8/10\n",
      "1046/1046 - 6s - loss: 0.0028 - val_loss: 0.0031\n",
      "Epoch 9/10\n",
      "\n",
      "Epoch 00009: ReduceLROnPlateau reducing learning rate to 0.0006000000284984708.\n",
      "1046/1046 - 7s - loss: 0.0028 - val_loss: 0.0032\n",
      "Epoch 10/10\n",
      "1046/1046 - 5s - loss: 0.0027 - val_loss: 0.0030\n"
     ]
    },
    {
     "data": {
      "application/vnd.jupyter.widget-view+json": {
       "model_id": "1ba37fc55b7e4dc5b380fd2e018767d7",
       "version_major": 2,
       "version_minor": 0
      },
      "text/plain": [
       "HBox(children=(FloatProgress(value=0.0, max=19600.0), HTML(value='')))"
      ]
     },
     "metadata": {},
     "output_type": "display_data"
    },
    {
     "name": "stdout",
     "output_type": "stream",
     "text": [
      "\n",
      "10/24/32/100\n"
     ]
    },
    {
     "data": {
      "application/vnd.jupyter.widget-view+json": {
       "model_id": "7e0bb6135e7b48ad80dc36f57dd63f27",
       "version_major": 2,
       "version_minor": 0
      },
      "text/plain": [
       "HBox(children=(FloatProgress(value=0.0, max=196.0), HTML(value='')))"
      ]
     },
     "metadata": {},
     "output_type": "display_data"
    },
    {
     "name": "stdout",
     "output_type": "stream",
     "text": [
      "\n",
      "Cumulative Confirmed Cases\n"
     ]
    },
    {
     "data": {
      "application/vnd.jupyter.widget-view+json": {
       "model_id": "b65a84f633cd46a6adaa7c0fe8f0e5de",
       "version_major": 2,
       "version_minor": 0
      },
      "text/plain": [
       "HBox(children=(FloatProgress(value=0.0, max=196.0), HTML(value='')))"
      ]
     },
     "metadata": {},
     "output_type": "display_data"
    },
    {
     "name": "stdout",
     "output_type": "stream",
     "text": [
      "\n",
      "Confirmed Cases\n"
     ]
    },
    {
     "data": {
      "application/vnd.jupyter.widget-view+json": {
       "model_id": "a9b1bcbd05c549f9bb491513e5e66a26",
       "version_major": 2,
       "version_minor": 0
      },
      "text/plain": [
       "HBox(children=(FloatProgress(value=0.0, max=196.0), HTML(value='')))"
      ]
     },
     "metadata": {},
     "output_type": "display_data"
    },
    {
     "name": "stdout",
     "output_type": "stream",
     "text": [
      "\n"
     ]
    },
    {
     "data": {
      "application/vnd.jupyter.widget-view+json": {
       "model_id": "6be02816623d4af2b977631fb4264a4f",
       "version_major": 2,
       "version_minor": 0
      },
      "text/plain": [
       "HBox(children=(FloatProgress(value=0.0, max=196.0), HTML(value='')))"
      ]
     },
     "metadata": {},
     "output_type": "display_data"
    },
    {
     "name": "stdout",
     "output_type": "stream",
     "text": [
      "\n"
     ]
    },
    {
     "data": {
      "application/vnd.jupyter.widget-view+json": {
       "model_id": "41ca61fedc954cf899ab0f01b9df94e0",
       "version_major": 2,
       "version_minor": 0
      },
      "text/plain": [
       "HBox(children=(FloatProgress(value=0.0, max=196.0), HTML(value='')))"
      ]
     },
     "metadata": {},
     "output_type": "display_data"
    },
    {
     "name": "stdout",
     "output_type": "stream",
     "text": [
      "\n",
      "Deaths Cases\n"
     ]
    },
    {
     "data": {
      "application/vnd.jupyter.widget-view+json": {
       "model_id": "238a70a2d5bf491caf123cfd57186a5a",
       "version_major": 2,
       "version_minor": 0
      },
      "text/plain": [
       "HBox(children=(FloatProgress(value=0.0, max=196.0), HTML(value='')))"
      ]
     },
     "metadata": {},
     "output_type": "display_data"
    },
    {
     "name": "stdout",
     "output_type": "stream",
     "text": [
      "\n"
     ]
    },
    {
     "data": {
      "application/vnd.jupyter.widget-view+json": {
       "model_id": "4def4cfa22984f0382dec73fe493e2e6",
       "version_major": 2,
       "version_minor": 0
      },
      "text/plain": [
       "HBox(children=(FloatProgress(value=0.0, max=196.0), HTML(value='')))"
      ]
     },
     "metadata": {},
     "output_type": "display_data"
    },
    {
     "name": "stdout",
     "output_type": "stream",
     "text": [
      "\n",
      "Finished preparing datasets.\n",
      "Epoch 1/10\n",
      "517/517 - 2s - loss: 0.6099 - val_loss: 0.0152\n",
      "Epoch 2/10\n",
      "517/517 - 2s - loss: 0.0093 - val_loss: 0.0045\n",
      "Epoch 3/10\n",
      "517/517 - 3s - loss: 0.0022 - val_loss: 0.0016\n",
      "Epoch 4/10\n",
      "517/517 - 2s - loss: 0.0013 - val_loss: 0.0013\n",
      "Epoch 5/10\n",
      "517/517 - 3s - loss: 0.0011 - val_loss: 0.0011\n",
      "Epoch 6/10\n",
      "517/517 - 2s - loss: 9.5696e-04 - val_loss: 8.7325e-04\n",
      "Epoch 7/10\n",
      "517/517 - 2s - loss: 8.5020e-04 - val_loss: 7.7586e-04\n",
      "Epoch 8/10\n",
      "517/517 - 2s - loss: 7.9767e-04 - val_loss: 7.3665e-04\n",
      "Epoch 9/10\n",
      "517/517 - 2s - loss: 7.6220e-04 - val_loss: 8.4950e-04\n",
      "Epoch 10/10\n",
      "517/517 - 3s - loss: 7.1693e-04 - val_loss: 9.5140e-04\n"
     ]
    },
    {
     "data": {
      "application/vnd.jupyter.widget-view+json": {
       "model_id": "28cb1758337f416e8fab0b8f95c01e14",
       "version_major": 2,
       "version_minor": 0
      },
      "text/plain": [
       "HBox(children=(FloatProgress(value=0.0, max=19600.0), HTML(value='')))"
      ]
     },
     "metadata": {},
     "output_type": "display_data"
    },
    {
     "name": "stdout",
     "output_type": "stream",
     "text": [
      "\n",
      "10/24/42/100\n"
     ]
    },
    {
     "data": {
      "application/vnd.jupyter.widget-view+json": {
       "model_id": "f808760cb98042f7847bd9ab0871de7a",
       "version_major": 2,
       "version_minor": 0
      },
      "text/plain": [
       "HBox(children=(FloatProgress(value=0.0, max=196.0), HTML(value='')))"
      ]
     },
     "metadata": {},
     "output_type": "display_data"
    },
    {
     "name": "stdout",
     "output_type": "stream",
     "text": [
      "\n",
      "Cumulative Confirmed Cases\n"
     ]
    },
    {
     "data": {
      "application/vnd.jupyter.widget-view+json": {
       "model_id": "00e580d0da0e4122a25dbd45d2a7d296",
       "version_major": 2,
       "version_minor": 0
      },
      "text/plain": [
       "HBox(children=(FloatProgress(value=0.0, max=196.0), HTML(value='')))"
      ]
     },
     "metadata": {},
     "output_type": "display_data"
    },
    {
     "name": "stdout",
     "output_type": "stream",
     "text": [
      "\n",
      "Confirmed Cases\n"
     ]
    },
    {
     "data": {
      "application/vnd.jupyter.widget-view+json": {
       "model_id": "e53f744b24454ab1a3708cc3d6734187",
       "version_major": 2,
       "version_minor": 0
      },
      "text/plain": [
       "HBox(children=(FloatProgress(value=0.0, max=196.0), HTML(value='')))"
      ]
     },
     "metadata": {},
     "output_type": "display_data"
    },
    {
     "name": "stdout",
     "output_type": "stream",
     "text": [
      "\n"
     ]
    },
    {
     "data": {
      "application/vnd.jupyter.widget-view+json": {
       "model_id": "585e83d892344374ad4065bb35094bad",
       "version_major": 2,
       "version_minor": 0
      },
      "text/plain": [
       "HBox(children=(FloatProgress(value=0.0, max=196.0), HTML(value='')))"
      ]
     },
     "metadata": {},
     "output_type": "display_data"
    },
    {
     "name": "stdout",
     "output_type": "stream",
     "text": [
      "\n"
     ]
    },
    {
     "data": {
      "application/vnd.jupyter.widget-view+json": {
       "model_id": "3fe8b1efe7604344bb0b1c04ea3e77c3",
       "version_major": 2,
       "version_minor": 0
      },
      "text/plain": [
       "HBox(children=(FloatProgress(value=0.0, max=196.0), HTML(value='')))"
      ]
     },
     "metadata": {},
     "output_type": "display_data"
    },
    {
     "name": "stdout",
     "output_type": "stream",
     "text": [
      "\n",
      "Deaths Cases\n"
     ]
    },
    {
     "data": {
      "application/vnd.jupyter.widget-view+json": {
       "model_id": "91022e71e88e4f3191f908b896ac31ed",
       "version_major": 2,
       "version_minor": 0
      },
      "text/plain": [
       "HBox(children=(FloatProgress(value=0.0, max=196.0), HTML(value='')))"
      ]
     },
     "metadata": {},
     "output_type": "display_data"
    },
    {
     "name": "stdout",
     "output_type": "stream",
     "text": [
      "\n"
     ]
    },
    {
     "data": {
      "application/vnd.jupyter.widget-view+json": {
       "model_id": "a3069f033881457ea22b5eddd446ce42",
       "version_major": 2,
       "version_minor": 0
      },
      "text/plain": [
       "HBox(children=(FloatProgress(value=0.0, max=196.0), HTML(value='')))"
      ]
     },
     "metadata": {},
     "output_type": "display_data"
    },
    {
     "name": "stdout",
     "output_type": "stream",
     "text": [
      "\n",
      "Finished preparing datasets.\n",
      "Epoch 1/10\n",
      "517/517 - 3s - loss: 0.6352 - val_loss: 0.0225\n",
      "Epoch 2/10\n",
      "517/517 - 2s - loss: 0.0232 - val_loss: 0.0132\n",
      "Epoch 3/10\n",
      "517/517 - 2s - loss: 0.0070 - val_loss: 0.0050\n",
      "Epoch 4/10\n",
      "517/517 - 2s - loss: 0.0037 - val_loss: 0.0027\n",
      "Epoch 5/10\n",
      "517/517 - 2s - loss: 0.0023 - val_loss: 0.0021\n",
      "Epoch 6/10\n",
      "517/517 - 2s - loss: 0.0017 - val_loss: 0.0013\n",
      "Epoch 7/10\n",
      "517/517 - 2s - loss: 0.0011 - val_loss: 9.7362e-04\n",
      "Epoch 8/10\n",
      "517/517 - 2s - loss: 8.9607e-04 - val_loss: 8.7328e-04\n",
      "Epoch 9/10\n",
      "517/517 - 2s - loss: 8.0196e-04 - val_loss: 7.6931e-04\n",
      "Epoch 10/10\n",
      "517/517 - 2s - loss: 7.2120e-04 - val_loss: 7.1352e-04\n"
     ]
    },
    {
     "data": {
      "application/vnd.jupyter.widget-view+json": {
       "model_id": "88018b6f70e74fd0ac16797282381518",
       "version_major": 2,
       "version_minor": 0
      },
      "text/plain": [
       "HBox(children=(FloatProgress(value=0.0, max=19600.0), HTML(value='')))"
      ]
     },
     "metadata": {},
     "output_type": "display_data"
    },
    {
     "name": "stdout",
     "output_type": "stream",
     "text": [
      "\n",
      "10/32/12/100\n"
     ]
    },
    {
     "data": {
      "application/vnd.jupyter.widget-view+json": {
       "model_id": "b2965172cffe4ea1aab28900c71adc53",
       "version_major": 2,
       "version_minor": 0
      },
      "text/plain": [
       "HBox(children=(FloatProgress(value=0.0, max=196.0), HTML(value='')))"
      ]
     },
     "metadata": {},
     "output_type": "display_data"
    },
    {
     "name": "stdout",
     "output_type": "stream",
     "text": [
      "\n",
      "Cumulative Confirmed Cases\n"
     ]
    },
    {
     "data": {
      "application/vnd.jupyter.widget-view+json": {
       "model_id": "38cbf2853988442b932ee6111acffc2f",
       "version_major": 2,
       "version_minor": 0
      },
      "text/plain": [
       "HBox(children=(FloatProgress(value=0.0, max=196.0), HTML(value='')))"
      ]
     },
     "metadata": {},
     "output_type": "display_data"
    },
    {
     "name": "stdout",
     "output_type": "stream",
     "text": [
      "\n",
      "Confirmed Cases\n"
     ]
    },
    {
     "data": {
      "application/vnd.jupyter.widget-view+json": {
       "model_id": "266335be71be422db4d14ffbc66853cc",
       "version_major": 2,
       "version_minor": 0
      },
      "text/plain": [
       "HBox(children=(FloatProgress(value=0.0, max=196.0), HTML(value='')))"
      ]
     },
     "metadata": {},
     "output_type": "display_data"
    },
    {
     "name": "stdout",
     "output_type": "stream",
     "text": [
      "\n"
     ]
    },
    {
     "data": {
      "application/vnd.jupyter.widget-view+json": {
       "model_id": "7ef1d14b54a44db4a3b2bf6e024b3a59",
       "version_major": 2,
       "version_minor": 0
      },
      "text/plain": [
       "HBox(children=(FloatProgress(value=0.0, max=196.0), HTML(value='')))"
      ]
     },
     "metadata": {},
     "output_type": "display_data"
    },
    {
     "name": "stdout",
     "output_type": "stream",
     "text": [
      "\n"
     ]
    },
    {
     "data": {
      "application/vnd.jupyter.widget-view+json": {
       "model_id": "2391e38cbb91491e959dcd7e93506236",
       "version_major": 2,
       "version_minor": 0
      },
      "text/plain": [
       "HBox(children=(FloatProgress(value=0.0, max=196.0), HTML(value='')))"
      ]
     },
     "metadata": {},
     "output_type": "display_data"
    },
    {
     "name": "stdout",
     "output_type": "stream",
     "text": [
      "\n",
      "Deaths Cases\n"
     ]
    },
    {
     "data": {
      "application/vnd.jupyter.widget-view+json": {
       "model_id": "7a5720f9439847d69fa2756e899769a8",
       "version_major": 2,
       "version_minor": 0
      },
      "text/plain": [
       "HBox(children=(FloatProgress(value=0.0, max=196.0), HTML(value='')))"
      ]
     },
     "metadata": {},
     "output_type": "display_data"
    },
    {
     "name": "stdout",
     "output_type": "stream",
     "text": [
      "\n"
     ]
    },
    {
     "data": {
      "application/vnd.jupyter.widget-view+json": {
       "model_id": "de3d6149ccb84f5e8f19481b45d5323d",
       "version_major": 2,
       "version_minor": 0
      },
      "text/plain": [
       "HBox(children=(FloatProgress(value=0.0, max=196.0), HTML(value='')))"
      ]
     },
     "metadata": {},
     "output_type": "display_data"
    },
    {
     "name": "stdout",
     "output_type": "stream",
     "text": [
      "\n",
      "Finished preparing datasets.\n",
      "Epoch 1/10\n",
      "388/388 - 2s - loss: 0.5966 - val_loss: 0.0142\n",
      "Epoch 2/10\n",
      "388/388 - 2s - loss: 0.0188 - val_loss: 0.0106\n",
      "Epoch 3/10\n",
      "388/388 - 2s - loss: 0.0069 - val_loss: 0.0047\n",
      "Epoch 4/10\n",
      "388/388 - 1s - loss: 0.0037 - val_loss: 0.0069\n",
      "Epoch 5/10\n",
      "388/388 - 2s - loss: 0.0030 - val_loss: 0.0025\n",
      "Epoch 6/10\n",
      "388/388 - 2s - loss: 0.0021 - val_loss: 0.0021\n",
      "Epoch 7/10\n",
      "388/388 - 2s - loss: 0.0017 - val_loss: 0.0016\n",
      "Epoch 8/10\n",
      "388/388 - 1s - loss: 0.0014 - val_loss: 0.0015\n",
      "Epoch 9/10\n",
      "388/388 - 1s - loss: 0.0013 - val_loss: 0.0013\n",
      "Epoch 10/10\n",
      "388/388 - 1s - loss: 0.0012 - val_loss: 0.0012\n"
     ]
    },
    {
     "data": {
      "application/vnd.jupyter.widget-view+json": {
       "model_id": "7640bac2afac4d1298db95c8d97be0e9",
       "version_major": 2,
       "version_minor": 0
      },
      "text/plain": [
       "HBox(children=(FloatProgress(value=0.0, max=19600.0), HTML(value='')))"
      ]
     },
     "metadata": {},
     "output_type": "display_data"
    },
    {
     "name": "stdout",
     "output_type": "stream",
     "text": [
      "\n",
      "10/32/32/100\n"
     ]
    },
    {
     "data": {
      "application/vnd.jupyter.widget-view+json": {
       "model_id": "248fb4e83aa446f783912bd156aa4ec4",
       "version_major": 2,
       "version_minor": 0
      },
      "text/plain": [
       "HBox(children=(FloatProgress(value=0.0, max=196.0), HTML(value='')))"
      ]
     },
     "metadata": {},
     "output_type": "display_data"
    },
    {
     "name": "stdout",
     "output_type": "stream",
     "text": [
      "\n",
      "Cumulative Confirmed Cases\n"
     ]
    },
    {
     "data": {
      "application/vnd.jupyter.widget-view+json": {
       "model_id": "9db9499301374058a7038b1c2e6c390d",
       "version_major": 2,
       "version_minor": 0
      },
      "text/plain": [
       "HBox(children=(FloatProgress(value=0.0, max=196.0), HTML(value='')))"
      ]
     },
     "metadata": {},
     "output_type": "display_data"
    },
    {
     "name": "stdout",
     "output_type": "stream",
     "text": [
      "\n",
      "Confirmed Cases\n"
     ]
    },
    {
     "data": {
      "application/vnd.jupyter.widget-view+json": {
       "model_id": "2cd1ce387b2a4c0aaf9bad9d7c1c7111",
       "version_major": 2,
       "version_minor": 0
      },
      "text/plain": [
       "HBox(children=(FloatProgress(value=0.0, max=196.0), HTML(value='')))"
      ]
     },
     "metadata": {},
     "output_type": "display_data"
    },
    {
     "name": "stdout",
     "output_type": "stream",
     "text": [
      "\n"
     ]
    },
    {
     "data": {
      "application/vnd.jupyter.widget-view+json": {
       "model_id": "98256393da4f437084f234a999da4cbe",
       "version_major": 2,
       "version_minor": 0
      },
      "text/plain": [
       "HBox(children=(FloatProgress(value=0.0, max=196.0), HTML(value='')))"
      ]
     },
     "metadata": {},
     "output_type": "display_data"
    },
    {
     "name": "stdout",
     "output_type": "stream",
     "text": [
      "\n"
     ]
    },
    {
     "data": {
      "application/vnd.jupyter.widget-view+json": {
       "model_id": "3a808598d0684a19922acf6390ecb745",
       "version_major": 2,
       "version_minor": 0
      },
      "text/plain": [
       "HBox(children=(FloatProgress(value=0.0, max=196.0), HTML(value='')))"
      ]
     },
     "metadata": {},
     "output_type": "display_data"
    },
    {
     "name": "stdout",
     "output_type": "stream",
     "text": [
      "\n",
      "Deaths Cases\n"
     ]
    },
    {
     "data": {
      "application/vnd.jupyter.widget-view+json": {
       "model_id": "0e38f1894b7b4ca0bb7824ee3c37f6fd",
       "version_major": 2,
       "version_minor": 0
      },
      "text/plain": [
       "HBox(children=(FloatProgress(value=0.0, max=196.0), HTML(value='')))"
      ]
     },
     "metadata": {},
     "output_type": "display_data"
    },
    {
     "name": "stdout",
     "output_type": "stream",
     "text": [
      "\n"
     ]
    },
    {
     "data": {
      "application/vnd.jupyter.widget-view+json": {
       "model_id": "ec2d13c65666425ab9be9e76221c5219",
       "version_major": 2,
       "version_minor": 0
      },
      "text/plain": [
       "HBox(children=(FloatProgress(value=0.0, max=196.0), HTML(value='')))"
      ]
     },
     "metadata": {},
     "output_type": "display_data"
    },
    {
     "name": "stdout",
     "output_type": "stream",
     "text": [
      "\n",
      "Finished preparing datasets.\n",
      "Epoch 1/10\n",
      "388/388 - 2s - loss: 8.8815 - val_loss: 0.0154\n",
      "Epoch 2/10\n",
      "388/388 - 1s - loss: 0.0125 - val_loss: 0.0124\n",
      "Epoch 3/10\n",
      "388/388 - 2s - loss: 0.0065 - val_loss: 0.0063\n",
      "Epoch 4/10\n",
      "388/388 - 1s - loss: 0.0047 - val_loss: 0.0030\n",
      "Epoch 5/10\n",
      "388/388 - 2s - loss: 0.0023 - val_loss: 0.0019\n",
      "Epoch 6/10\n",
      "388/388 - 2s - loss: 0.0015 - val_loss: 0.0014\n",
      "Epoch 7/10\n",
      "388/388 - 1s - loss: 0.0012 - val_loss: 0.0012\n",
      "Epoch 8/10\n",
      "388/388 - 1s - loss: 0.0011 - val_loss: 0.0011\n",
      "Epoch 9/10\n",
      "388/388 - 1s - loss: 9.9414e-04 - val_loss: 0.0010\n",
      "Epoch 10/10\n",
      "388/388 - 1s - loss: 9.2667e-04 - val_loss: 0.0011\n"
     ]
    },
    {
     "data": {
      "application/vnd.jupyter.widget-view+json": {
       "model_id": "ef0582dff15540c991208cb6b96c20cf",
       "version_major": 2,
       "version_minor": 0
      },
      "text/plain": [
       "HBox(children=(FloatProgress(value=0.0, max=19600.0), HTML(value='')))"
      ]
     },
     "metadata": {},
     "output_type": "display_data"
    },
    {
     "name": "stdout",
     "output_type": "stream",
     "text": [
      "\n",
      "10/32/42/100\n"
     ]
    },
    {
     "data": {
      "application/vnd.jupyter.widget-view+json": {
       "model_id": "d9022b27a4cc4f4393c593b65f42bc0e",
       "version_major": 2,
       "version_minor": 0
      },
      "text/plain": [
       "HBox(children=(FloatProgress(value=0.0, max=196.0), HTML(value='')))"
      ]
     },
     "metadata": {},
     "output_type": "display_data"
    },
    {
     "name": "stdout",
     "output_type": "stream",
     "text": [
      "\n",
      "Cumulative Confirmed Cases\n"
     ]
    },
    {
     "data": {
      "application/vnd.jupyter.widget-view+json": {
       "model_id": "57ff766b74dd46a0a41ec365dce0ee65",
       "version_major": 2,
       "version_minor": 0
      },
      "text/plain": [
       "HBox(children=(FloatProgress(value=0.0, max=196.0), HTML(value='')))"
      ]
     },
     "metadata": {},
     "output_type": "display_data"
    },
    {
     "name": "stdout",
     "output_type": "stream",
     "text": [
      "\n",
      "Confirmed Cases\n"
     ]
    },
    {
     "data": {
      "application/vnd.jupyter.widget-view+json": {
       "model_id": "3c5e2fde5afe405ab52116fb00f54bbd",
       "version_major": 2,
       "version_minor": 0
      },
      "text/plain": [
       "HBox(children=(FloatProgress(value=0.0, max=196.0), HTML(value='')))"
      ]
     },
     "metadata": {},
     "output_type": "display_data"
    },
    {
     "name": "stdout",
     "output_type": "stream",
     "text": [
      "\n"
     ]
    },
    {
     "data": {
      "application/vnd.jupyter.widget-view+json": {
       "model_id": "65006e9f7081487c84efc8b326f2946a",
       "version_major": 2,
       "version_minor": 0
      },
      "text/plain": [
       "HBox(children=(FloatProgress(value=0.0, max=196.0), HTML(value='')))"
      ]
     },
     "metadata": {},
     "output_type": "display_data"
    },
    {
     "name": "stdout",
     "output_type": "stream",
     "text": [
      "\n"
     ]
    },
    {
     "data": {
      "application/vnd.jupyter.widget-view+json": {
       "model_id": "1e88010844cc4230a1ecef0efd5bbcad",
       "version_major": 2,
       "version_minor": 0
      },
      "text/plain": [
       "HBox(children=(FloatProgress(value=0.0, max=196.0), HTML(value='')))"
      ]
     },
     "metadata": {},
     "output_type": "display_data"
    },
    {
     "name": "stdout",
     "output_type": "stream",
     "text": [
      "\n",
      "Deaths Cases\n"
     ]
    },
    {
     "data": {
      "application/vnd.jupyter.widget-view+json": {
       "model_id": "2b4b282a7668441db6a5ea1a502b8c92",
       "version_major": 2,
       "version_minor": 0
      },
      "text/plain": [
       "HBox(children=(FloatProgress(value=0.0, max=196.0), HTML(value='')))"
      ]
     },
     "metadata": {},
     "output_type": "display_data"
    },
    {
     "name": "stdout",
     "output_type": "stream",
     "text": [
      "\n"
     ]
    },
    {
     "data": {
      "application/vnd.jupyter.widget-view+json": {
       "model_id": "cda379c0c634444397dceeeb245984ca",
       "version_major": 2,
       "version_minor": 0
      },
      "text/plain": [
       "HBox(children=(FloatProgress(value=0.0, max=196.0), HTML(value='')))"
      ]
     },
     "metadata": {},
     "output_type": "display_data"
    },
    {
     "name": "stdout",
     "output_type": "stream",
     "text": [
      "\n",
      "Finished preparing datasets.\n",
      "Epoch 1/10\n",
      "388/388 - 2s - loss: 0.2138 - val_loss: 0.0093\n",
      "Epoch 2/10\n",
      "388/388 - 1s - loss: 0.0049 - val_loss: 0.0037\n",
      "Epoch 3/10\n",
      "388/388 - 2s - loss: 0.0027 - val_loss: 0.0022\n",
      "Epoch 4/10\n",
      "388/388 - 2s - loss: 0.0019 - val_loss: 0.0017\n",
      "Epoch 5/10\n",
      "388/388 - 2s - loss: 0.0015 - val_loss: 0.0014\n",
      "Epoch 6/10\n",
      "388/388 - 2s - loss: 0.0013 - val_loss: 0.0013\n",
      "Epoch 7/10\n",
      "388/388 - 2s - loss: 0.0012 - val_loss: 0.0011\n",
      "Epoch 8/10\n",
      "388/388 - 1s - loss: 0.0011 - val_loss: 0.0012\n",
      "Epoch 9/10\n",
      "388/388 - 1s - loss: 9.7983e-04 - val_loss: 8.6094e-04\n",
      "Epoch 10/10\n",
      "388/388 - 1s - loss: 8.0180e-04 - val_loss: 8.2098e-04\n"
     ]
    },
    {
     "data": {
      "application/vnd.jupyter.widget-view+json": {
       "model_id": "8dd93e50868d43fe8acce0e76acdd334",
       "version_major": 2,
       "version_minor": 0
      },
      "text/plain": [
       "HBox(children=(FloatProgress(value=0.0, max=19600.0), HTML(value='')))"
      ]
     },
     "metadata": {},
     "output_type": "display_data"
    },
    {
     "name": "stdout",
     "output_type": "stream",
     "text": [
      "\n",
      "10/64/12/100\n"
     ]
    },
    {
     "data": {
      "application/vnd.jupyter.widget-view+json": {
       "model_id": "d5f48e5e2d9e4ae39b4b8fe2ad7d55d4",
       "version_major": 2,
       "version_minor": 0
      },
      "text/plain": [
       "HBox(children=(FloatProgress(value=0.0, max=196.0), HTML(value='')))"
      ]
     },
     "metadata": {},
     "output_type": "display_data"
    },
    {
     "name": "stdout",
     "output_type": "stream",
     "text": [
      "\n",
      "Cumulative Confirmed Cases\n"
     ]
    },
    {
     "data": {
      "application/vnd.jupyter.widget-view+json": {
       "model_id": "f5e3d2fc9c0540a8a3b605ce0a20f43b",
       "version_major": 2,
       "version_minor": 0
      },
      "text/plain": [
       "HBox(children=(FloatProgress(value=0.0, max=196.0), HTML(value='')))"
      ]
     },
     "metadata": {},
     "output_type": "display_data"
    },
    {
     "name": "stdout",
     "output_type": "stream",
     "text": [
      "\n",
      "Confirmed Cases\n"
     ]
    },
    {
     "data": {
      "application/vnd.jupyter.widget-view+json": {
       "model_id": "bd3c5c397ace42a881a959630215c3a5",
       "version_major": 2,
       "version_minor": 0
      },
      "text/plain": [
       "HBox(children=(FloatProgress(value=0.0, max=196.0), HTML(value='')))"
      ]
     },
     "metadata": {},
     "output_type": "display_data"
    },
    {
     "name": "stdout",
     "output_type": "stream",
     "text": [
      "\n"
     ]
    },
    {
     "data": {
      "application/vnd.jupyter.widget-view+json": {
       "model_id": "e4fa6272cf3b4138a4de04dabf645de1",
       "version_major": 2,
       "version_minor": 0
      },
      "text/plain": [
       "HBox(children=(FloatProgress(value=0.0, max=196.0), HTML(value='')))"
      ]
     },
     "metadata": {},
     "output_type": "display_data"
    },
    {
     "name": "stdout",
     "output_type": "stream",
     "text": [
      "\n"
     ]
    },
    {
     "data": {
      "application/vnd.jupyter.widget-view+json": {
       "model_id": "d8ec180a0049494f85dbd725338b09d8",
       "version_major": 2,
       "version_minor": 0
      },
      "text/plain": [
       "HBox(children=(FloatProgress(value=0.0, max=196.0), HTML(value='')))"
      ]
     },
     "metadata": {},
     "output_type": "display_data"
    },
    {
     "name": "stdout",
     "output_type": "stream",
     "text": [
      "\n",
      "Deaths Cases\n"
     ]
    },
    {
     "data": {
      "application/vnd.jupyter.widget-view+json": {
       "model_id": "050b5232a1a644739e6b85898b7015cc",
       "version_major": 2,
       "version_minor": 0
      },
      "text/plain": [
       "HBox(children=(FloatProgress(value=0.0, max=196.0), HTML(value='')))"
      ]
     },
     "metadata": {},
     "output_type": "display_data"
    },
    {
     "name": "stdout",
     "output_type": "stream",
     "text": [
      "\n"
     ]
    },
    {
     "data": {
      "application/vnd.jupyter.widget-view+json": {
       "model_id": "ec5b4ca9ab414fb2be02610770e49782",
       "version_major": 2,
       "version_minor": 0
      },
      "text/plain": [
       "HBox(children=(FloatProgress(value=0.0, max=196.0), HTML(value='')))"
      ]
     },
     "metadata": {},
     "output_type": "display_data"
    },
    {
     "name": "stdout",
     "output_type": "stream",
     "text": [
      "\n",
      "Finished preparing datasets.\n",
      "Epoch 1/10\n",
      "194/194 - 1s - loss: 0.4301 - val_loss: 0.0147\n",
      "Epoch 2/10\n",
      "194/194 - 1s - loss: 0.0122 - val_loss: 0.0096\n",
      "Epoch 3/10\n",
      "194/194 - 1s - loss: 0.0070 - val_loss: 0.0061\n",
      "Epoch 4/10\n",
      "194/194 - 1s - loss: 0.0052 - val_loss: 0.0043\n",
      "Epoch 5/10\n",
      "194/194 - 1s - loss: 0.0037 - val_loss: 0.0033\n",
      "Epoch 6/10\n",
      "194/194 - 1s - loss: 0.0034 - val_loss: 0.0037\n",
      "Epoch 7/10\n",
      "194/194 - 1s - loss: 0.0036 - val_loss: 0.0021\n",
      "Epoch 8/10\n",
      "194/194 - 1s - loss: 0.0017 - val_loss: 0.0016\n",
      "Epoch 9/10\n",
      "194/194 - 1s - loss: 0.0015 - val_loss: 0.0014\n",
      "Epoch 10/10\n",
      "194/194 - 1s - loss: 0.0014 - val_loss: 0.0029\n"
     ]
    },
    {
     "data": {
      "application/vnd.jupyter.widget-view+json": {
       "model_id": "1a331a0f45874e9082624dd9f03bc6f4",
       "version_major": 2,
       "version_minor": 0
      },
      "text/plain": [
       "HBox(children=(FloatProgress(value=0.0, max=19600.0), HTML(value='')))"
      ]
     },
     "metadata": {},
     "output_type": "display_data"
    },
    {
     "name": "stdout",
     "output_type": "stream",
     "text": [
      "\n",
      "10/64/32/100\n"
     ]
    },
    {
     "data": {
      "application/vnd.jupyter.widget-view+json": {
       "model_id": "ff30655cd010430baa71c325182c292d",
       "version_major": 2,
       "version_minor": 0
      },
      "text/plain": [
       "HBox(children=(FloatProgress(value=0.0, max=196.0), HTML(value='')))"
      ]
     },
     "metadata": {},
     "output_type": "display_data"
    },
    {
     "name": "stdout",
     "output_type": "stream",
     "text": [
      "\n",
      "Cumulative Confirmed Cases\n"
     ]
    },
    {
     "data": {
      "application/vnd.jupyter.widget-view+json": {
       "model_id": "80b01749a319478da7d031dfca8986a2",
       "version_major": 2,
       "version_minor": 0
      },
      "text/plain": [
       "HBox(children=(FloatProgress(value=0.0, max=196.0), HTML(value='')))"
      ]
     },
     "metadata": {},
     "output_type": "display_data"
    },
    {
     "name": "stdout",
     "output_type": "stream",
     "text": [
      "\n",
      "Confirmed Cases\n"
     ]
    },
    {
     "data": {
      "application/vnd.jupyter.widget-view+json": {
       "model_id": "3b0d241f908d42248d0ff4cc5d159d94",
       "version_major": 2,
       "version_minor": 0
      },
      "text/plain": [
       "HBox(children=(FloatProgress(value=0.0, max=196.0), HTML(value='')))"
      ]
     },
     "metadata": {},
     "output_type": "display_data"
    },
    {
     "name": "stdout",
     "output_type": "stream",
     "text": [
      "\n"
     ]
    },
    {
     "data": {
      "application/vnd.jupyter.widget-view+json": {
       "model_id": "7dd31e1568ea457aa7644abcf4cbf525",
       "version_major": 2,
       "version_minor": 0
      },
      "text/plain": [
       "HBox(children=(FloatProgress(value=0.0, max=196.0), HTML(value='')))"
      ]
     },
     "metadata": {},
     "output_type": "display_data"
    },
    {
     "name": "stdout",
     "output_type": "stream",
     "text": [
      "\n"
     ]
    },
    {
     "data": {
      "application/vnd.jupyter.widget-view+json": {
       "model_id": "384d6324de7b482ab8f0afebb7b27dca",
       "version_major": 2,
       "version_minor": 0
      },
      "text/plain": [
       "HBox(children=(FloatProgress(value=0.0, max=196.0), HTML(value='')))"
      ]
     },
     "metadata": {},
     "output_type": "display_data"
    },
    {
     "name": "stdout",
     "output_type": "stream",
     "text": [
      "\n",
      "Deaths Cases\n"
     ]
    },
    {
     "data": {
      "application/vnd.jupyter.widget-view+json": {
       "model_id": "2c94267741f04f94acb86e9dd995ffe0",
       "version_major": 2,
       "version_minor": 0
      },
      "text/plain": [
       "HBox(children=(FloatProgress(value=0.0, max=196.0), HTML(value='')))"
      ]
     },
     "metadata": {},
     "output_type": "display_data"
    },
    {
     "name": "stdout",
     "output_type": "stream",
     "text": [
      "\n"
     ]
    },
    {
     "data": {
      "application/vnd.jupyter.widget-view+json": {
       "model_id": "a447927a494b4ed1940768a9fb68eff6",
       "version_major": 2,
       "version_minor": 0
      },
      "text/plain": [
       "HBox(children=(FloatProgress(value=0.0, max=196.0), HTML(value='')))"
      ]
     },
     "metadata": {},
     "output_type": "display_data"
    },
    {
     "name": "stdout",
     "output_type": "stream",
     "text": [
      "\n",
      "Finished preparing datasets.\n",
      "Epoch 1/10\n",
      "194/194 - 1s - loss: 1.8766 - val_loss: 0.0448\n",
      "Epoch 2/10\n",
      "194/194 - 1s - loss: 0.0401 - val_loss: 0.0206\n",
      "Epoch 3/10\n",
      "194/194 - 1s - loss: 0.0169 - val_loss: 0.0141\n",
      "Epoch 4/10\n",
      "194/194 - 1s - loss: 0.0112 - val_loss: 0.0101\n",
      "Epoch 5/10\n",
      "194/194 - 1s - loss: 0.0093 - val_loss: 0.0093\n",
      "Epoch 6/10\n",
      "194/194 - 1s - loss: 0.0068 - val_loss: 0.0061\n",
      "Epoch 7/10\n",
      "194/194 - 1s - loss: 0.0051 - val_loss: 0.0048\n",
      "Epoch 8/10\n",
      "194/194 - 1s - loss: 0.0042 - val_loss: 0.0041\n",
      "Epoch 9/10\n",
      "194/194 - 1s - loss: 0.0035 - val_loss: 0.0036\n",
      "Epoch 10/10\n",
      "194/194 - 1s - loss: 0.0031 - val_loss: 0.0031\n"
     ]
    },
    {
     "data": {
      "application/vnd.jupyter.widget-view+json": {
       "model_id": "786ccd296da84b0cb0582bc67f90b0ec",
       "version_major": 2,
       "version_minor": 0
      },
      "text/plain": [
       "HBox(children=(FloatProgress(value=0.0, max=19600.0), HTML(value='')))"
      ]
     },
     "metadata": {},
     "output_type": "display_data"
    },
    {
     "name": "stdout",
     "output_type": "stream",
     "text": [
      "\n",
      "10/64/42/100\n"
     ]
    },
    {
     "data": {
      "application/vnd.jupyter.widget-view+json": {
       "model_id": "5bc00caf69fe4b7685baf488124165ee",
       "version_major": 2,
       "version_minor": 0
      },
      "text/plain": [
       "HBox(children=(FloatProgress(value=0.0, max=196.0), HTML(value='')))"
      ]
     },
     "metadata": {},
     "output_type": "display_data"
    },
    {
     "name": "stdout",
     "output_type": "stream",
     "text": [
      "\n",
      "Cumulative Confirmed Cases\n"
     ]
    },
    {
     "data": {
      "application/vnd.jupyter.widget-view+json": {
       "model_id": "25589553e9ca4042b81614135359b7f5",
       "version_major": 2,
       "version_minor": 0
      },
      "text/plain": [
       "HBox(children=(FloatProgress(value=0.0, max=196.0), HTML(value='')))"
      ]
     },
     "metadata": {},
     "output_type": "display_data"
    },
    {
     "name": "stdout",
     "output_type": "stream",
     "text": [
      "\n",
      "Confirmed Cases\n"
     ]
    },
    {
     "data": {
      "application/vnd.jupyter.widget-view+json": {
       "model_id": "f56f4db8b566402bb67b5cc4fa118070",
       "version_major": 2,
       "version_minor": 0
      },
      "text/plain": [
       "HBox(children=(FloatProgress(value=0.0, max=196.0), HTML(value='')))"
      ]
     },
     "metadata": {},
     "output_type": "display_data"
    },
    {
     "name": "stdout",
     "output_type": "stream",
     "text": [
      "\n"
     ]
    },
    {
     "data": {
      "application/vnd.jupyter.widget-view+json": {
       "model_id": "144b7a6c16ab458ca016861bb6bfa2c4",
       "version_major": 2,
       "version_minor": 0
      },
      "text/plain": [
       "HBox(children=(FloatProgress(value=0.0, max=196.0), HTML(value='')))"
      ]
     },
     "metadata": {},
     "output_type": "display_data"
    },
    {
     "name": "stdout",
     "output_type": "stream",
     "text": [
      "\n"
     ]
    },
    {
     "data": {
      "application/vnd.jupyter.widget-view+json": {
       "model_id": "d5770b0a711d41efb3eeb08051effa05",
       "version_major": 2,
       "version_minor": 0
      },
      "text/plain": [
       "HBox(children=(FloatProgress(value=0.0, max=196.0), HTML(value='')))"
      ]
     },
     "metadata": {},
     "output_type": "display_data"
    },
    {
     "name": "stdout",
     "output_type": "stream",
     "text": [
      "\n",
      "Deaths Cases\n"
     ]
    },
    {
     "data": {
      "application/vnd.jupyter.widget-view+json": {
       "model_id": "49f1ff2638514430a75033228ae74cf2",
       "version_major": 2,
       "version_minor": 0
      },
      "text/plain": [
       "HBox(children=(FloatProgress(value=0.0, max=196.0), HTML(value='')))"
      ]
     },
     "metadata": {},
     "output_type": "display_data"
    },
    {
     "name": "stdout",
     "output_type": "stream",
     "text": [
      "\n"
     ]
    },
    {
     "data": {
      "application/vnd.jupyter.widget-view+json": {
       "model_id": "f7534d8e5a2749cf8a6e281147150fed",
       "version_major": 2,
       "version_minor": 0
      },
      "text/plain": [
       "HBox(children=(FloatProgress(value=0.0, max=196.0), HTML(value='')))"
      ]
     },
     "metadata": {},
     "output_type": "display_data"
    },
    {
     "name": "stdout",
     "output_type": "stream",
     "text": [
      "\n",
      "Finished preparing datasets.\n",
      "Epoch 1/10\n",
      "194/194 - 1s - loss: 0.3843 - val_loss: 0.0311\n",
      "Epoch 2/10\n",
      "194/194 - 1s - loss: 0.0242 - val_loss: 0.0149\n",
      "Epoch 3/10\n",
      "194/194 - 1s - loss: 0.0134 - val_loss: 0.0097\n",
      "Epoch 4/10\n",
      "194/194 - 1s - loss: 0.0061 - val_loss: 0.0045\n",
      "Epoch 5/10\n",
      "194/194 - 1s - loss: 0.0031 - val_loss: 0.0025\n",
      "Epoch 6/10\n",
      "194/194 - 1s - loss: 0.0020 - val_loss: 0.0020\n",
      "Epoch 7/10\n",
      "194/194 - 1s - loss: 0.0016 - val_loss: 0.0016\n",
      "Epoch 8/10\n",
      "194/194 - 1s - loss: 0.0013 - val_loss: 0.0012\n",
      "Epoch 9/10\n",
      "194/194 - 1s - loss: 0.0011 - val_loss: 0.0012\n",
      "Epoch 10/10\n",
      "194/194 - 1s - loss: 0.0013 - val_loss: 0.0011\n"
     ]
    },
    {
     "data": {
      "application/vnd.jupyter.widget-view+json": {
       "model_id": "5d8422a005b04a80b976df1bcff5e539",
       "version_major": 2,
       "version_minor": 0
      },
      "text/plain": [
       "HBox(children=(FloatProgress(value=0.0, max=19600.0), HTML(value='')))"
      ]
     },
     "metadata": {},
     "output_type": "display_data"
    },
    {
     "name": "stdout",
     "output_type": "stream",
     "text": [
      "\n",
      "20/24/12/100\n"
     ]
    },
    {
     "data": {
      "application/vnd.jupyter.widget-view+json": {
       "model_id": "436bc5c7fa4f4c4b80fa29b6bc479d26",
       "version_major": 2,
       "version_minor": 0
      },
      "text/plain": [
       "HBox(children=(FloatProgress(value=0.0, max=196.0), HTML(value='')))"
      ]
     },
     "metadata": {},
     "output_type": "display_data"
    },
    {
     "name": "stdout",
     "output_type": "stream",
     "text": [
      "\n",
      "Cumulative Confirmed Cases\n"
     ]
    },
    {
     "data": {
      "application/vnd.jupyter.widget-view+json": {
       "model_id": "829158ccd023453c995abdf9f55fa134",
       "version_major": 2,
       "version_minor": 0
      },
      "text/plain": [
       "HBox(children=(FloatProgress(value=0.0, max=196.0), HTML(value='')))"
      ]
     },
     "metadata": {},
     "output_type": "display_data"
    },
    {
     "name": "stdout",
     "output_type": "stream",
     "text": [
      "\n",
      "Confirmed Cases\n"
     ]
    },
    {
     "data": {
      "application/vnd.jupyter.widget-view+json": {
       "model_id": "e1e05eecc68f46c983950959be5ee0e6",
       "version_major": 2,
       "version_minor": 0
      },
      "text/plain": [
       "HBox(children=(FloatProgress(value=0.0, max=196.0), HTML(value='')))"
      ]
     },
     "metadata": {},
     "output_type": "display_data"
    },
    {
     "name": "stdout",
     "output_type": "stream",
     "text": [
      "\n"
     ]
    },
    {
     "data": {
      "application/vnd.jupyter.widget-view+json": {
       "model_id": "e700bcde02234929b2adf7df322f94ee",
       "version_major": 2,
       "version_minor": 0
      },
      "text/plain": [
       "HBox(children=(FloatProgress(value=0.0, max=196.0), HTML(value='')))"
      ]
     },
     "metadata": {},
     "output_type": "display_data"
    },
    {
     "name": "stdout",
     "output_type": "stream",
     "text": [
      "\n"
     ]
    },
    {
     "data": {
      "application/vnd.jupyter.widget-view+json": {
       "model_id": "28d8ea2735d641bb842ac4a497321c9d",
       "version_major": 2,
       "version_minor": 0
      },
      "text/plain": [
       "HBox(children=(FloatProgress(value=0.0, max=196.0), HTML(value='')))"
      ]
     },
     "metadata": {},
     "output_type": "display_data"
    },
    {
     "name": "stdout",
     "output_type": "stream",
     "text": [
      "\n",
      "Deaths Cases\n"
     ]
    },
    {
     "data": {
      "application/vnd.jupyter.widget-view+json": {
       "model_id": "a199b439ed9742c296598fe5550c698f",
       "version_major": 2,
       "version_minor": 0
      },
      "text/plain": [
       "HBox(children=(FloatProgress(value=0.0, max=196.0), HTML(value='')))"
      ]
     },
     "metadata": {},
     "output_type": "display_data"
    },
    {
     "name": "stdout",
     "output_type": "stream",
     "text": [
      "\n"
     ]
    },
    {
     "data": {
      "application/vnd.jupyter.widget-view+json": {
       "model_id": "f0d7e84ac96c48dc8c5353a8b94bc6f8",
       "version_major": 2,
       "version_minor": 0
      },
      "text/plain": [
       "HBox(children=(FloatProgress(value=0.0, max=196.0), HTML(value='')))"
      ]
     },
     "metadata": {},
     "output_type": "display_data"
    },
    {
     "name": "stdout",
     "output_type": "stream",
     "text": [
      "\n",
      "Finished preparing datasets.\n",
      "Epoch 1/20\n",
      "517/517 - 2s - loss: 1.2380 - val_loss: 0.0114\n",
      "Epoch 2/20\n",
      "517/517 - 2s - loss: 0.0081 - val_loss: 0.0046\n",
      "Epoch 3/20\n",
      "517/517 - 2s - loss: 0.0031 - val_loss: 0.0025\n",
      "Epoch 4/20\n",
      "517/517 - 2s - loss: 0.0018 - val_loss: 0.0016\n",
      "Epoch 5/20\n",
      "517/517 - 2s - loss: 0.0015 - val_loss: 0.0016\n",
      "Epoch 6/20\n",
      "517/517 - 2s - loss: 0.0011 - val_loss: 0.0011\n",
      "Epoch 7/20\n",
      "517/517 - 2s - loss: 8.5977e-04 - val_loss: 8.8326e-04\n",
      "Epoch 8/20\n",
      "517/517 - 2s - loss: 8.0952e-04 - val_loss: 7.4975e-04\n",
      "Epoch 9/20\n",
      "517/517 - 2s - loss: 8.7371e-04 - val_loss: 0.0014\n",
      "Epoch 10/20\n",
      "517/517 - 2s - loss: 7.1736e-04 - val_loss: 6.2007e-04\n",
      "Epoch 11/20\n",
      "517/517 - 2s - loss: 6.5182e-04 - val_loss: 5.6868e-04\n",
      "Epoch 12/20\n",
      "517/517 - 2s - loss: 6.0488e-04 - val_loss: 5.3205e-04\n",
      "Epoch 13/20\n",
      "517/517 - 2s - loss: 5.7925e-04 - val_loss: 5.4184e-04\n",
      "Epoch 14/20\n",
      "517/517 - 2s - loss: 5.7039e-04 - val_loss: 4.5551e-04\n",
      "Epoch 15/20\n",
      "517/517 - 2s - loss: 5.1122e-04 - val_loss: 7.2115e-04\n",
      "Epoch 16/20\n",
      "517/517 - 2s - loss: 4.9970e-04 - val_loss: 9.2911e-04\n",
      "Epoch 17/20\n",
      "517/517 - 2s - loss: 4.8779e-04 - val_loss: 8.6509e-04\n",
      "Epoch 18/20\n",
      "517/517 - 2s - loss: 4.8643e-04 - val_loss: 8.3981e-04\n",
      "Epoch 19/20\n",
      "\n",
      "Epoch 00019: ReduceLROnPlateau reducing learning rate to 0.0006000000284984708.\n",
      "517/517 - 2s - loss: 4.5796e-04 - val_loss: 6.4418e-04\n",
      "Epoch 20/20\n",
      "517/517 - 2s - loss: 3.7704e-04 - val_loss: 4.2687e-04\n"
     ]
    },
    {
     "data": {
      "application/vnd.jupyter.widget-view+json": {
       "model_id": "8b6144dea72e488280cc9643175dcb5f",
       "version_major": 2,
       "version_minor": 0
      },
      "text/plain": [
       "HBox(children=(FloatProgress(value=0.0, max=19600.0), HTML(value='')))"
      ]
     },
     "metadata": {},
     "output_type": "display_data"
    },
    {
     "name": "stdout",
     "output_type": "stream",
     "text": [
      "\n",
      "20/24/32/100\n"
     ]
    },
    {
     "data": {
      "application/vnd.jupyter.widget-view+json": {
       "model_id": "d21cd256af8a418cb40b1436474b4591",
       "version_major": 2,
       "version_minor": 0
      },
      "text/plain": [
       "HBox(children=(FloatProgress(value=0.0, max=196.0), HTML(value='')))"
      ]
     },
     "metadata": {},
     "output_type": "display_data"
    },
    {
     "name": "stdout",
     "output_type": "stream",
     "text": [
      "\n",
      "Cumulative Confirmed Cases\n"
     ]
    },
    {
     "data": {
      "application/vnd.jupyter.widget-view+json": {
       "model_id": "1a67bf577ae24b4ab3277757aea33fef",
       "version_major": 2,
       "version_minor": 0
      },
      "text/plain": [
       "HBox(children=(FloatProgress(value=0.0, max=196.0), HTML(value='')))"
      ]
     },
     "metadata": {},
     "output_type": "display_data"
    },
    {
     "name": "stdout",
     "output_type": "stream",
     "text": [
      "\n",
      "Confirmed Cases\n"
     ]
    },
    {
     "data": {
      "application/vnd.jupyter.widget-view+json": {
       "model_id": "934e7735cd6444aa84f65f6c132fdb93",
       "version_major": 2,
       "version_minor": 0
      },
      "text/plain": [
       "HBox(children=(FloatProgress(value=0.0, max=196.0), HTML(value='')))"
      ]
     },
     "metadata": {},
     "output_type": "display_data"
    },
    {
     "name": "stdout",
     "output_type": "stream",
     "text": [
      "\n"
     ]
    },
    {
     "data": {
      "application/vnd.jupyter.widget-view+json": {
       "model_id": "cd0765a699dc4715acd777587afaf6f4",
       "version_major": 2,
       "version_minor": 0
      },
      "text/plain": [
       "HBox(children=(FloatProgress(value=0.0, max=196.0), HTML(value='')))"
      ]
     },
     "metadata": {},
     "output_type": "display_data"
    },
    {
     "name": "stdout",
     "output_type": "stream",
     "text": [
      "\n"
     ]
    },
    {
     "data": {
      "application/vnd.jupyter.widget-view+json": {
       "model_id": "a398b9cacd80442c904a7f4be2e5b080",
       "version_major": 2,
       "version_minor": 0
      },
      "text/plain": [
       "HBox(children=(FloatProgress(value=0.0, max=196.0), HTML(value='')))"
      ]
     },
     "metadata": {},
     "output_type": "display_data"
    },
    {
     "name": "stdout",
     "output_type": "stream",
     "text": [
      "\n",
      "Deaths Cases\n"
     ]
    },
    {
     "data": {
      "application/vnd.jupyter.widget-view+json": {
       "model_id": "52dad12a40bb4c3280b9e51759d2686f",
       "version_major": 2,
       "version_minor": 0
      },
      "text/plain": [
       "HBox(children=(FloatProgress(value=0.0, max=196.0), HTML(value='')))"
      ]
     },
     "metadata": {},
     "output_type": "display_data"
    },
    {
     "name": "stdout",
     "output_type": "stream",
     "text": [
      "\n"
     ]
    },
    {
     "data": {
      "application/vnd.jupyter.widget-view+json": {
       "model_id": "f3288736920f43b2894b53e421bcf27a",
       "version_major": 2,
       "version_minor": 0
      },
      "text/plain": [
       "HBox(children=(FloatProgress(value=0.0, max=196.0), HTML(value='')))"
      ]
     },
     "metadata": {},
     "output_type": "display_data"
    },
    {
     "name": "stdout",
     "output_type": "stream",
     "text": [
      "\n",
      "Finished preparing datasets.\n",
      "Epoch 1/20\n",
      "517/517 - 2s - loss: 0.2168 - val_loss: 0.0081\n",
      "Epoch 2/20\n",
      "517/517 - 2s - loss: 0.0047 - val_loss: 0.0031\n",
      "Epoch 3/20\n",
      "517/517 - 2s - loss: 0.0025 - val_loss: 0.0027\n",
      "Epoch 4/20\n",
      "517/517 - 2s - loss: 0.0018 - val_loss: 0.0015\n",
      "Epoch 5/20\n",
      "517/517 - 2s - loss: 0.0013 - val_loss: 0.0011\n",
      "Epoch 6/20\n",
      "517/517 - 2s - loss: 9.8045e-04 - val_loss: 8.9772e-04\n",
      "Epoch 7/20\n",
      "517/517 - 2s - loss: 8.7376e-04 - val_loss: 8.1789e-04\n",
      "Epoch 8/20\n",
      "517/517 - 2s - loss: 7.3275e-04 - val_loss: 7.5263e-04\n",
      "Epoch 9/20\n",
      "517/517 - 2s - loss: 6.0964e-04 - val_loss: 6.2113e-04\n",
      "Epoch 10/20\n",
      "517/517 - 2s - loss: 6.0227e-04 - val_loss: 5.8136e-04\n",
      "Epoch 11/20\n",
      "517/517 - 2s - loss: 5.2498e-04 - val_loss: 5.0881e-04\n",
      "Epoch 12/20\n",
      "517/517 - 2s - loss: 4.8414e-04 - val_loss: 4.4433e-04\n",
      "Epoch 13/20\n",
      "517/517 - 2s - loss: 4.6361e-04 - val_loss: 4.1523e-04\n",
      "Epoch 14/20\n",
      "517/517 - 2s - loss: 5.0409e-04 - val_loss: 4.1447e-04\n",
      "Epoch 15/20\n",
      "517/517 - 2s - loss: 4.3478e-04 - val_loss: 3.8739e-04\n",
      "Epoch 16/20\n",
      "517/517 - 2s - loss: 4.3238e-04 - val_loss: 4.3499e-04\n",
      "Epoch 17/20\n",
      "517/517 - 2s - loss: 4.1843e-04 - val_loss: 3.5374e-04\n",
      "Epoch 18/20\n",
      "517/517 - 2s - loss: 4.2003e-04 - val_loss: 3.5129e-04\n",
      "Epoch 19/20\n",
      "517/517 - 2s - loss: 4.0472e-04 - val_loss: 3.4040e-04\n",
      "Epoch 20/20\n",
      "\n",
      "Epoch 00020: ReduceLROnPlateau reducing learning rate to 0.0006000000284984708.\n",
      "517/517 - 2s - loss: 4.2659e-04 - val_loss: 3.5637e-04\n"
     ]
    },
    {
     "data": {
      "application/vnd.jupyter.widget-view+json": {
       "model_id": "d5de0b9fb8db4ca8ba773cbd3363fdfd",
       "version_major": 2,
       "version_minor": 0
      },
      "text/plain": [
       "HBox(children=(FloatProgress(value=0.0, max=19600.0), HTML(value='')))"
      ]
     },
     "metadata": {},
     "output_type": "display_data"
    },
    {
     "name": "stdout",
     "output_type": "stream",
     "text": [
      "\n",
      "20/24/42/100\n"
     ]
    },
    {
     "data": {
      "application/vnd.jupyter.widget-view+json": {
       "model_id": "92380c54c3354def9753a523b889394a",
       "version_major": 2,
       "version_minor": 0
      },
      "text/plain": [
       "HBox(children=(FloatProgress(value=0.0, max=196.0), HTML(value='')))"
      ]
     },
     "metadata": {},
     "output_type": "display_data"
    },
    {
     "name": "stdout",
     "output_type": "stream",
     "text": [
      "\n",
      "Cumulative Confirmed Cases\n"
     ]
    },
    {
     "data": {
      "application/vnd.jupyter.widget-view+json": {
       "model_id": "9a71c0a17dd14480a7b5254f24484ebc",
       "version_major": 2,
       "version_minor": 0
      },
      "text/plain": [
       "HBox(children=(FloatProgress(value=0.0, max=196.0), HTML(value='')))"
      ]
     },
     "metadata": {},
     "output_type": "display_data"
    },
    {
     "name": "stdout",
     "output_type": "stream",
     "text": [
      "\n",
      "Confirmed Cases\n"
     ]
    },
    {
     "data": {
      "application/vnd.jupyter.widget-view+json": {
       "model_id": "2ab330684ad74f9bbcf463867f5586a1",
       "version_major": 2,
       "version_minor": 0
      },
      "text/plain": [
       "HBox(children=(FloatProgress(value=0.0, max=196.0), HTML(value='')))"
      ]
     },
     "metadata": {},
     "output_type": "display_data"
    },
    {
     "name": "stdout",
     "output_type": "stream",
     "text": [
      "\n"
     ]
    },
    {
     "data": {
      "application/vnd.jupyter.widget-view+json": {
       "model_id": "429ab0a18510460bafb4f1343cf57635",
       "version_major": 2,
       "version_minor": 0
      },
      "text/plain": [
       "HBox(children=(FloatProgress(value=0.0, max=196.0), HTML(value='')))"
      ]
     },
     "metadata": {},
     "output_type": "display_data"
    },
    {
     "name": "stdout",
     "output_type": "stream",
     "text": [
      "\n"
     ]
    },
    {
     "data": {
      "application/vnd.jupyter.widget-view+json": {
       "model_id": "c1d00526a1da4c48a4fb030818b025d7",
       "version_major": 2,
       "version_minor": 0
      },
      "text/plain": [
       "HBox(children=(FloatProgress(value=0.0, max=196.0), HTML(value='')))"
      ]
     },
     "metadata": {},
     "output_type": "display_data"
    },
    {
     "name": "stdout",
     "output_type": "stream",
     "text": [
      "\n",
      "Deaths Cases\n"
     ]
    },
    {
     "data": {
      "application/vnd.jupyter.widget-view+json": {
       "model_id": "618358ba7aad4ad68057fc8260a6792e",
       "version_major": 2,
       "version_minor": 0
      },
      "text/plain": [
       "HBox(children=(FloatProgress(value=0.0, max=196.0), HTML(value='')))"
      ]
     },
     "metadata": {},
     "output_type": "display_data"
    },
    {
     "name": "stdout",
     "output_type": "stream",
     "text": [
      "\n"
     ]
    },
    {
     "data": {
      "application/vnd.jupyter.widget-view+json": {
       "model_id": "d355a9995b9c4537a9a483be946f32b8",
       "version_major": 2,
       "version_minor": 0
      },
      "text/plain": [
       "HBox(children=(FloatProgress(value=0.0, max=196.0), HTML(value='')))"
      ]
     },
     "metadata": {},
     "output_type": "display_data"
    },
    {
     "name": "stdout",
     "output_type": "stream",
     "text": [
      "\n",
      "Finished preparing datasets.\n",
      "Epoch 1/20\n",
      "517/517 - 2s - loss: 2.3707 - val_loss: 0.0108\n",
      "Epoch 2/20\n",
      "517/517 - 2s - loss: 0.0086 - val_loss: 0.0046\n",
      "Epoch 3/20\n",
      "517/517 - 2s - loss: 0.0034 - val_loss: 0.0027\n",
      "Epoch 4/20\n",
      "517/517 - 2s - loss: 0.0024 - val_loss: 0.0020\n",
      "Epoch 5/20\n",
      "517/517 - 2s - loss: 0.0018 - val_loss: 0.0016\n",
      "Epoch 6/20\n",
      "517/517 - 2s - loss: 0.0013 - val_loss: 0.0013\n",
      "Epoch 7/20\n",
      "517/517 - 2s - loss: 0.0011 - val_loss: 0.0011\n",
      "Epoch 8/20\n",
      "517/517 - 2s - loss: 9.1435e-04 - val_loss: 9.3667e-04\n",
      "Epoch 9/20\n",
      "517/517 - 2s - loss: 8.2892e-04 - val_loss: 8.4373e-04\n",
      "Epoch 10/20\n",
      "517/517 - 2s - loss: 7.5097e-04 - val_loss: 7.5675e-04\n",
      "Epoch 11/20\n",
      "517/517 - 2s - loss: 6.9384e-04 - val_loss: 7.3821e-04\n",
      "Epoch 12/20\n",
      "517/517 - 2s - loss: 6.5571e-04 - val_loss: 7.3584e-04\n",
      "Epoch 13/20\n",
      "517/517 - 2s - loss: 6.1252e-04 - val_loss: 7.1420e-04\n",
      "Epoch 14/20\n",
      "517/517 - 2s - loss: 5.7494e-04 - val_loss: 7.4260e-04\n",
      "Epoch 15/20\n",
      "\n",
      "Epoch 00015: ReduceLROnPlateau reducing learning rate to 0.0006000000284984708.\n",
      "517/517 - 2s - loss: 5.5481e-04 - val_loss: 7.9306e-04\n",
      "Epoch 16/20\n",
      "517/517 - 2s - loss: 5.2968e-04 - val_loss: 5.9092e-04\n",
      "Epoch 17/20\n",
      "517/517 - 2s - loss: 5.0131e-04 - val_loss: 5.6296e-04\n",
      "Epoch 18/20\n",
      "517/517 - 2s - loss: 4.8967e-04 - val_loss: 5.1155e-04\n",
      "Epoch 19/20\n",
      "517/517 - 2s - loss: 4.7902e-04 - val_loss: 5.2389e-04\n",
      "Epoch 20/20\n",
      "517/517 - 2s - loss: 4.6262e-04 - val_loss: 5.1306e-04\n"
     ]
    },
    {
     "data": {
      "application/vnd.jupyter.widget-view+json": {
       "model_id": "e933e2a9d903407ebaba6e8c42585572",
       "version_major": 2,
       "version_minor": 0
      },
      "text/plain": [
       "HBox(children=(FloatProgress(value=0.0, max=19600.0), HTML(value='')))"
      ]
     },
     "metadata": {},
     "output_type": "display_data"
    },
    {
     "name": "stdout",
     "output_type": "stream",
     "text": [
      "\n",
      "20/32/12/100\n"
     ]
    },
    {
     "data": {
      "application/vnd.jupyter.widget-view+json": {
       "model_id": "66a4a0a26f5645b7831d3c99421d3e4e",
       "version_major": 2,
       "version_minor": 0
      },
      "text/plain": [
       "HBox(children=(FloatProgress(value=0.0, max=196.0), HTML(value='')))"
      ]
     },
     "metadata": {},
     "output_type": "display_data"
    },
    {
     "name": "stdout",
     "output_type": "stream",
     "text": [
      "\n",
      "Cumulative Confirmed Cases\n"
     ]
    },
    {
     "data": {
      "application/vnd.jupyter.widget-view+json": {
       "model_id": "045f3baf1eb14c13a03e70e073aff94c",
       "version_major": 2,
       "version_minor": 0
      },
      "text/plain": [
       "HBox(children=(FloatProgress(value=0.0, max=196.0), HTML(value='')))"
      ]
     },
     "metadata": {},
     "output_type": "display_data"
    },
    {
     "name": "stdout",
     "output_type": "stream",
     "text": [
      "\n",
      "Confirmed Cases\n"
     ]
    },
    {
     "data": {
      "application/vnd.jupyter.widget-view+json": {
       "model_id": "003451cfd010408f8c4d13d44ac66e30",
       "version_major": 2,
       "version_minor": 0
      },
      "text/plain": [
       "HBox(children=(FloatProgress(value=0.0, max=196.0), HTML(value='')))"
      ]
     },
     "metadata": {},
     "output_type": "display_data"
    },
    {
     "name": "stdout",
     "output_type": "stream",
     "text": [
      "\n"
     ]
    },
    {
     "data": {
      "application/vnd.jupyter.widget-view+json": {
       "model_id": "1b04c3f61bbc44139976919c9ac2291e",
       "version_major": 2,
       "version_minor": 0
      },
      "text/plain": [
       "HBox(children=(FloatProgress(value=0.0, max=196.0), HTML(value='')))"
      ]
     },
     "metadata": {},
     "output_type": "display_data"
    },
    {
     "name": "stdout",
     "output_type": "stream",
     "text": [
      "\n"
     ]
    },
    {
     "data": {
      "application/vnd.jupyter.widget-view+json": {
       "model_id": "1b6d9bc10c1645a383c1bfd13100cf8e",
       "version_major": 2,
       "version_minor": 0
      },
      "text/plain": [
       "HBox(children=(FloatProgress(value=0.0, max=196.0), HTML(value='')))"
      ]
     },
     "metadata": {},
     "output_type": "display_data"
    },
    {
     "name": "stdout",
     "output_type": "stream",
     "text": [
      "\n",
      "Deaths Cases\n"
     ]
    },
    {
     "data": {
      "application/vnd.jupyter.widget-view+json": {
       "model_id": "2899925d4a4c4760802d811afc3ae1c5",
       "version_major": 2,
       "version_minor": 0
      },
      "text/plain": [
       "HBox(children=(FloatProgress(value=0.0, max=196.0), HTML(value='')))"
      ]
     },
     "metadata": {},
     "output_type": "display_data"
    },
    {
     "name": "stdout",
     "output_type": "stream",
     "text": [
      "\n"
     ]
    },
    {
     "data": {
      "application/vnd.jupyter.widget-view+json": {
       "model_id": "34febc5356a54b6f8f74ff72c6d60639",
       "version_major": 2,
       "version_minor": 0
      },
      "text/plain": [
       "HBox(children=(FloatProgress(value=0.0, max=196.0), HTML(value='')))"
      ]
     },
     "metadata": {},
     "output_type": "display_data"
    },
    {
     "name": "stdout",
     "output_type": "stream",
     "text": [
      "\n",
      "Finished preparing datasets.\n",
      "Epoch 1/20\n",
      "388/388 - 2s - loss: 0.6000 - val_loss: 0.0145\n",
      "Epoch 2/20\n",
      "388/388 - 1s - loss: 0.0089 - val_loss: 0.0060\n",
      "Epoch 3/20\n",
      "388/388 - 1s - loss: 0.0040 - val_loss: 0.0031\n",
      "Epoch 4/20\n",
      "388/388 - 1s - loss: 0.0025 - val_loss: 0.0022\n",
      "Epoch 5/20\n",
      "388/388 - 1s - loss: 0.0018 - val_loss: 0.0017\n",
      "Epoch 6/20\n",
      "388/388 - 1s - loss: 0.0014 - val_loss: 0.0014\n",
      "Epoch 7/20\n",
      "388/388 - 1s - loss: 0.0011 - val_loss: 0.0011\n",
      "Epoch 8/20\n",
      "388/388 - 1s - loss: 9.1278e-04 - val_loss: 9.3862e-04\n",
      "Epoch 9/20\n",
      "388/388 - 1s - loss: 7.5325e-04 - val_loss: 7.5016e-04\n",
      "Epoch 10/20\n",
      "388/388 - 1s - loss: 6.4402e-04 - val_loss: 7.3620e-04\n",
      "Epoch 11/20\n",
      "388/388 - 1s - loss: 5.9071e-04 - val_loss: 7.2802e-04\n",
      "Epoch 12/20\n",
      "388/388 - 1s - loss: 5.2733e-04 - val_loss: 5.5813e-04\n",
      "Epoch 13/20\n",
      "388/388 - 1s - loss: 5.0385e-04 - val_loss: 4.9068e-04\n",
      "Epoch 14/20\n",
      "388/388 - 1s - loss: 4.9090e-04 - val_loss: 4.8064e-04\n",
      "Epoch 15/20\n",
      "388/388 - 1s - loss: 4.8045e-04 - val_loss: 4.4832e-04\n",
      "Epoch 16/20\n",
      "388/388 - 1s - loss: 4.8353e-04 - val_loss: 4.2283e-04\n",
      "Epoch 17/20\n",
      "388/388 - 1s - loss: 4.7300e-04 - val_loss: 4.2618e-04\n",
      "Epoch 18/20\n",
      "388/388 - 1s - loss: 4.6712e-04 - val_loss: 4.6568e-04\n",
      "Epoch 19/20\n",
      "388/388 - 1s - loss: 4.5666e-04 - val_loss: 6.7752e-04\n",
      "Epoch 20/20\n",
      "\n",
      "Epoch 00020: ReduceLROnPlateau reducing learning rate to 0.0006000000284984708.\n",
      "388/388 - 1s - loss: 4.8081e-04 - val_loss: 8.7980e-04\n"
     ]
    },
    {
     "data": {
      "application/vnd.jupyter.widget-view+json": {
       "model_id": "56347728c546474192f636c20358c84a",
       "version_major": 2,
       "version_minor": 0
      },
      "text/plain": [
       "HBox(children=(FloatProgress(value=0.0, max=19600.0), HTML(value='')))"
      ]
     },
     "metadata": {},
     "output_type": "display_data"
    },
    {
     "name": "stdout",
     "output_type": "stream",
     "text": [
      "\n",
      "20/32/32/100\n"
     ]
    },
    {
     "data": {
      "application/vnd.jupyter.widget-view+json": {
       "model_id": "55d74bf9c51b498baaa5429e91264307",
       "version_major": 2,
       "version_minor": 0
      },
      "text/plain": [
       "HBox(children=(FloatProgress(value=0.0, max=196.0), HTML(value='')))"
      ]
     },
     "metadata": {},
     "output_type": "display_data"
    },
    {
     "name": "stdout",
     "output_type": "stream",
     "text": [
      "\n",
      "Cumulative Confirmed Cases\n"
     ]
    },
    {
     "data": {
      "application/vnd.jupyter.widget-view+json": {
       "model_id": "ab8821a57bef494c87b5daa2a166a373",
       "version_major": 2,
       "version_minor": 0
      },
      "text/plain": [
       "HBox(children=(FloatProgress(value=0.0, max=196.0), HTML(value='')))"
      ]
     },
     "metadata": {},
     "output_type": "display_data"
    },
    {
     "name": "stdout",
     "output_type": "stream",
     "text": [
      "\n",
      "Confirmed Cases\n"
     ]
    },
    {
     "data": {
      "application/vnd.jupyter.widget-view+json": {
       "model_id": "1b1ae0963181434586b323780d451c49",
       "version_major": 2,
       "version_minor": 0
      },
      "text/plain": [
       "HBox(children=(FloatProgress(value=0.0, max=196.0), HTML(value='')))"
      ]
     },
     "metadata": {},
     "output_type": "display_data"
    },
    {
     "name": "stdout",
     "output_type": "stream",
     "text": [
      "\n"
     ]
    },
    {
     "data": {
      "application/vnd.jupyter.widget-view+json": {
       "model_id": "f23b6e192c1942ec917110d49bb060a7",
       "version_major": 2,
       "version_minor": 0
      },
      "text/plain": [
       "HBox(children=(FloatProgress(value=0.0, max=196.0), HTML(value='')))"
      ]
     },
     "metadata": {},
     "output_type": "display_data"
    },
    {
     "name": "stdout",
     "output_type": "stream",
     "text": [
      "\n"
     ]
    },
    {
     "data": {
      "application/vnd.jupyter.widget-view+json": {
       "model_id": "0ecca9fb4a0f4811bfdbfcb1a3a9fa57",
       "version_major": 2,
       "version_minor": 0
      },
      "text/plain": [
       "HBox(children=(FloatProgress(value=0.0, max=196.0), HTML(value='')))"
      ]
     },
     "metadata": {},
     "output_type": "display_data"
    },
    {
     "name": "stdout",
     "output_type": "stream",
     "text": [
      "\n",
      "Deaths Cases\n"
     ]
    },
    {
     "data": {
      "application/vnd.jupyter.widget-view+json": {
       "model_id": "cc2a62f0891d4d87b752545d32cf29f0",
       "version_major": 2,
       "version_minor": 0
      },
      "text/plain": [
       "HBox(children=(FloatProgress(value=0.0, max=196.0), HTML(value='')))"
      ]
     },
     "metadata": {},
     "output_type": "display_data"
    },
    {
     "name": "stdout",
     "output_type": "stream",
     "text": [
      "\n"
     ]
    },
    {
     "data": {
      "application/vnd.jupyter.widget-view+json": {
       "model_id": "ac027cb621cd4cad9e9cc6edc55752ac",
       "version_major": 2,
       "version_minor": 0
      },
      "text/plain": [
       "HBox(children=(FloatProgress(value=0.0, max=196.0), HTML(value='')))"
      ]
     },
     "metadata": {},
     "output_type": "display_data"
    },
    {
     "name": "stdout",
     "output_type": "stream",
     "text": [
      "\n",
      "Finished preparing datasets.\n",
      "Epoch 1/20\n",
      "388/388 - 2s - loss: 0.2253 - val_loss: 0.0112\n",
      "Epoch 2/20\n",
      "388/388 - 1s - loss: 0.0078 - val_loss: 0.0053\n",
      "Epoch 3/20\n",
      "388/388 - 1s - loss: 0.0030 - val_loss: 0.0013\n",
      "Epoch 4/20\n",
      "388/388 - 1s - loss: 9.9235e-04 - val_loss: 9.2079e-04\n",
      "Epoch 5/20\n",
      "388/388 - 1s - loss: 8.2134e-04 - val_loss: 7.9390e-04\n",
      "Epoch 6/20\n",
      "388/388 - 1s - loss: 7.2739e-04 - val_loss: 6.9914e-04\n",
      "Epoch 7/20\n",
      "388/388 - 1s - loss: 6.4307e-04 - val_loss: 6.5713e-04\n",
      "Epoch 8/20\n",
      "388/388 - 1s - loss: 8.9946e-04 - val_loss: 6.8136e-04\n",
      "Epoch 9/20\n",
      "388/388 - 1s - loss: 5.9974e-04 - val_loss: 5.8166e-04\n",
      "Epoch 10/20\n",
      "388/388 - 1s - loss: 6.0471e-04 - val_loss: 5.4089e-04\n",
      "Epoch 11/20\n",
      "388/388 - 1s - loss: 5.3959e-04 - val_loss: 5.0035e-04\n",
      "Epoch 12/20\n",
      "388/388 - 1s - loss: 5.0537e-04 - val_loss: 4.8956e-04\n",
      "Epoch 13/20\n",
      "388/388 - 1s - loss: 4.9395e-04 - val_loss: 5.1322e-04\n",
      "Epoch 14/20\n",
      "388/388 - 1s - loss: 4.7771e-04 - val_loss: 5.0257e-04\n",
      "Epoch 15/20\n",
      "\n",
      "Epoch 00015: ReduceLROnPlateau reducing learning rate to 0.0006000000284984708.\n",
      "388/388 - 1s - loss: 4.6346e-04 - val_loss: 5.0444e-04\n",
      "Epoch 16/20\n",
      "388/388 - 1s - loss: 4.3613e-04 - val_loss: 5.7248e-04\n",
      "Epoch 17/20\n",
      "388/388 - 1s - loss: 4.3637e-04 - val_loss: 4.2432e-04\n",
      "Epoch 18/20\n",
      "388/388 - 1s - loss: 4.2428e-04 - val_loss: 4.0834e-04\n",
      "Epoch 19/20\n",
      "388/388 - 1s - loss: 4.1787e-04 - val_loss: 4.0253e-04\n",
      "Epoch 20/20\n",
      "388/388 - 1s - loss: 4.0275e-04 - val_loss: 3.9824e-04\n"
     ]
    },
    {
     "data": {
      "application/vnd.jupyter.widget-view+json": {
       "model_id": "41bb45c1ba5d4d779ac24e6fcfc20fe3",
       "version_major": 2,
       "version_minor": 0
      },
      "text/plain": [
       "HBox(children=(FloatProgress(value=0.0, max=19600.0), HTML(value='')))"
      ]
     },
     "metadata": {},
     "output_type": "display_data"
    },
    {
     "name": "stdout",
     "output_type": "stream",
     "text": [
      "\n",
      "20/32/42/100\n"
     ]
    },
    {
     "data": {
      "application/vnd.jupyter.widget-view+json": {
       "model_id": "dae25bacb57e487c8e378d78b5a6ea69",
       "version_major": 2,
       "version_minor": 0
      },
      "text/plain": [
       "HBox(children=(FloatProgress(value=0.0, max=196.0), HTML(value='')))"
      ]
     },
     "metadata": {},
     "output_type": "display_data"
    },
    {
     "name": "stdout",
     "output_type": "stream",
     "text": [
      "\n",
      "Cumulative Confirmed Cases\n"
     ]
    },
    {
     "data": {
      "application/vnd.jupyter.widget-view+json": {
       "model_id": "005048812a9f440b81e04c24f8ab29b3",
       "version_major": 2,
       "version_minor": 0
      },
      "text/plain": [
       "HBox(children=(FloatProgress(value=0.0, max=196.0), HTML(value='')))"
      ]
     },
     "metadata": {},
     "output_type": "display_data"
    },
    {
     "name": "stdout",
     "output_type": "stream",
     "text": [
      "\n",
      "Confirmed Cases\n"
     ]
    },
    {
     "data": {
      "application/vnd.jupyter.widget-view+json": {
       "model_id": "3e57774926ce4f7eaad092eb82550dc4",
       "version_major": 2,
       "version_minor": 0
      },
      "text/plain": [
       "HBox(children=(FloatProgress(value=0.0, max=196.0), HTML(value='')))"
      ]
     },
     "metadata": {},
     "output_type": "display_data"
    },
    {
     "name": "stdout",
     "output_type": "stream",
     "text": [
      "\n"
     ]
    },
    {
     "data": {
      "application/vnd.jupyter.widget-view+json": {
       "model_id": "55c11b8ed4694f46bb2b1f53c27c9515",
       "version_major": 2,
       "version_minor": 0
      },
      "text/plain": [
       "HBox(children=(FloatProgress(value=0.0, max=196.0), HTML(value='')))"
      ]
     },
     "metadata": {},
     "output_type": "display_data"
    },
    {
     "name": "stdout",
     "output_type": "stream",
     "text": [
      "\n"
     ]
    },
    {
     "data": {
      "application/vnd.jupyter.widget-view+json": {
       "model_id": "343ce620f6514c58960050e7b83a2925",
       "version_major": 2,
       "version_minor": 0
      },
      "text/plain": [
       "HBox(children=(FloatProgress(value=0.0, max=196.0), HTML(value='')))"
      ]
     },
     "metadata": {},
     "output_type": "display_data"
    },
    {
     "name": "stdout",
     "output_type": "stream",
     "text": [
      "\n",
      "Deaths Cases\n"
     ]
    },
    {
     "data": {
      "application/vnd.jupyter.widget-view+json": {
       "model_id": "dc4897fcf7c74d9e866158305b75e617",
       "version_major": 2,
       "version_minor": 0
      },
      "text/plain": [
       "HBox(children=(FloatProgress(value=0.0, max=196.0), HTML(value='')))"
      ]
     },
     "metadata": {},
     "output_type": "display_data"
    },
    {
     "name": "stdout",
     "output_type": "stream",
     "text": [
      "\n"
     ]
    },
    {
     "data": {
      "application/vnd.jupyter.widget-view+json": {
       "model_id": "1c3d0186221d434ea2885222726c1f5b",
       "version_major": 2,
       "version_minor": 0
      },
      "text/plain": [
       "HBox(children=(FloatProgress(value=0.0, max=196.0), HTML(value='')))"
      ]
     },
     "metadata": {},
     "output_type": "display_data"
    },
    {
     "name": "stdout",
     "output_type": "stream",
     "text": [
      "\n",
      "Finished preparing datasets.\n",
      "Epoch 1/20\n",
      "388/388 - 2s - loss: 0.4317 - val_loss: 0.0137\n",
      "Epoch 2/20\n",
      "388/388 - 1s - loss: 0.0079 - val_loss: 0.0037\n",
      "Epoch 3/20\n",
      "388/388 - 1s - loss: 0.0036 - val_loss: 0.0043\n",
      "Epoch 4/20\n",
      "388/388 - 1s - loss: 0.0024 - val_loss: 0.0020\n",
      "Epoch 5/20\n",
      "388/388 - 1s - loss: 0.0016 - val_loss: 0.0014\n",
      "Epoch 6/20\n",
      "388/388 - 1s - loss: 0.0013 - val_loss: 0.0012\n",
      "Epoch 7/20\n",
      "388/388 - 1s - loss: 0.0010 - val_loss: 0.0011\n",
      "Epoch 8/20\n",
      "388/388 - 1s - loss: 9.3387e-04 - val_loss: 9.1512e-04\n",
      "Epoch 9/20\n",
      "388/388 - 1s - loss: 8.3998e-04 - val_loss: 8.0905e-04\n",
      "Epoch 10/20\n",
      "388/388 - 1s - loss: 7.4350e-04 - val_loss: 7.3071e-04\n",
      "Epoch 11/20\n",
      "388/388 - 1s - loss: 7.2064e-04 - val_loss: 7.7716e-04\n",
      "Epoch 12/20\n",
      "388/388 - 1s - loss: 6.7315e-04 - val_loss: 7.6848e-04\n",
      "Epoch 13/20\n",
      "388/388 - 1s - loss: 6.4394e-04 - val_loss: 8.6736e-04\n",
      "Epoch 14/20\n",
      "\n",
      "Epoch 00014: ReduceLROnPlateau reducing learning rate to 0.0006000000284984708.\n",
      "388/388 - 1s - loss: 6.1080e-04 - val_loss: 7.5982e-04\n",
      "Epoch 15/20\n",
      "388/388 - 1s - loss: 5.5764e-04 - val_loss: 5.3740e-04\n",
      "Epoch 16/20\n",
      "388/388 - 1s - loss: 5.3099e-04 - val_loss: 5.6208e-04\n",
      "Epoch 17/20\n",
      "388/388 - 1s - loss: 5.2085e-04 - val_loss: 5.2631e-04\n",
      "Epoch 18/20\n",
      "388/388 - 1s - loss: 5.1766e-04 - val_loss: 4.9228e-04\n",
      "Epoch 19/20\n",
      "388/388 - 1s - loss: 5.0355e-04 - val_loss: 4.8916e-04\n",
      "Epoch 20/20\n",
      "\n",
      "Epoch 00020: ReduceLROnPlateau reducing learning rate to 0.0003600000170990825.\n",
      "388/388 - 1s - loss: 5.0260e-04 - val_loss: 4.9053e-04\n"
     ]
    },
    {
     "data": {
      "application/vnd.jupyter.widget-view+json": {
       "model_id": "238bb2d9cb7243fea0115acd96b9c645",
       "version_major": 2,
       "version_minor": 0
      },
      "text/plain": [
       "HBox(children=(FloatProgress(value=0.0, max=19600.0), HTML(value='')))"
      ]
     },
     "metadata": {},
     "output_type": "display_data"
    },
    {
     "name": "stdout",
     "output_type": "stream",
     "text": [
      "\n",
      "20/64/12/100\n"
     ]
    },
    {
     "data": {
      "application/vnd.jupyter.widget-view+json": {
       "model_id": "64b51454218d4f4aa4f01d913e34650e",
       "version_major": 2,
       "version_minor": 0
      },
      "text/plain": [
       "HBox(children=(FloatProgress(value=0.0, max=196.0), HTML(value='')))"
      ]
     },
     "metadata": {},
     "output_type": "display_data"
    },
    {
     "name": "stdout",
     "output_type": "stream",
     "text": [
      "\n",
      "Cumulative Confirmed Cases\n"
     ]
    },
    {
     "data": {
      "application/vnd.jupyter.widget-view+json": {
       "model_id": "a6802758cd5545c895268cab2217907f",
       "version_major": 2,
       "version_minor": 0
      },
      "text/plain": [
       "HBox(children=(FloatProgress(value=0.0, max=196.0), HTML(value='')))"
      ]
     },
     "metadata": {},
     "output_type": "display_data"
    },
    {
     "name": "stdout",
     "output_type": "stream",
     "text": [
      "\n",
      "Confirmed Cases\n"
     ]
    },
    {
     "data": {
      "application/vnd.jupyter.widget-view+json": {
       "model_id": "af35e1472fea4c4ab9473534c47cdfb1",
       "version_major": 2,
       "version_minor": 0
      },
      "text/plain": [
       "HBox(children=(FloatProgress(value=0.0, max=196.0), HTML(value='')))"
      ]
     },
     "metadata": {},
     "output_type": "display_data"
    },
    {
     "name": "stdout",
     "output_type": "stream",
     "text": [
      "\n"
     ]
    },
    {
     "data": {
      "application/vnd.jupyter.widget-view+json": {
       "model_id": "6704e0c4896b4d149e2c6f2152eb3d1e",
       "version_major": 2,
       "version_minor": 0
      },
      "text/plain": [
       "HBox(children=(FloatProgress(value=0.0, max=196.0), HTML(value='')))"
      ]
     },
     "metadata": {},
     "output_type": "display_data"
    },
    {
     "name": "stdout",
     "output_type": "stream",
     "text": [
      "\n"
     ]
    },
    {
     "data": {
      "application/vnd.jupyter.widget-view+json": {
       "model_id": "b447f47dad454d52a20ab55ba1d9fc45",
       "version_major": 2,
       "version_minor": 0
      },
      "text/plain": [
       "HBox(children=(FloatProgress(value=0.0, max=196.0), HTML(value='')))"
      ]
     },
     "metadata": {},
     "output_type": "display_data"
    },
    {
     "name": "stdout",
     "output_type": "stream",
     "text": [
      "\n",
      "Deaths Cases\n"
     ]
    },
    {
     "data": {
      "application/vnd.jupyter.widget-view+json": {
       "model_id": "cabe3c63bb8d4c7c811283a93951fbc7",
       "version_major": 2,
       "version_minor": 0
      },
      "text/plain": [
       "HBox(children=(FloatProgress(value=0.0, max=196.0), HTML(value='')))"
      ]
     },
     "metadata": {},
     "output_type": "display_data"
    },
    {
     "name": "stdout",
     "output_type": "stream",
     "text": [
      "\n"
     ]
    },
    {
     "data": {
      "application/vnd.jupyter.widget-view+json": {
       "model_id": "bdca6ef456254f8eb389e11f818a162d",
       "version_major": 2,
       "version_minor": 0
      },
      "text/plain": [
       "HBox(children=(FloatProgress(value=0.0, max=196.0), HTML(value='')))"
      ]
     },
     "metadata": {},
     "output_type": "display_data"
    },
    {
     "name": "stdout",
     "output_type": "stream",
     "text": [
      "\n",
      "Finished preparing datasets.\n",
      "Epoch 1/20\n",
      "194/194 - 1s - loss: 1.4793 - val_loss: 0.0669\n",
      "Epoch 2/20\n",
      "194/194 - 1s - loss: 0.0234 - val_loss: 0.0174\n",
      "Epoch 3/20\n",
      "194/194 - 1s - loss: 0.0122 - val_loss: 0.0093\n",
      "Epoch 4/20\n",
      "194/194 - 1s - loss: 0.0078 - val_loss: 0.0075\n",
      "Epoch 5/20\n",
      "194/194 - 1s - loss: 0.0062 - val_loss: 0.0041\n",
      "Epoch 6/20\n",
      "194/194 - 1s - loss: 0.0034 - val_loss: 0.0031\n",
      "Epoch 7/20\n",
      "194/194 - 1s - loss: 0.0037 - val_loss: 0.0027\n",
      "Epoch 8/20\n",
      "194/194 - 1s - loss: 0.0020 - val_loss: 0.0019\n",
      "Epoch 9/20\n",
      "194/194 - 1s - loss: 0.0015 - val_loss: 0.0015\n",
      "Epoch 10/20\n",
      "194/194 - 1s - loss: 0.0013 - val_loss: 0.0014\n",
      "Epoch 11/20\n",
      "194/194 - 1s - loss: 0.0012 - val_loss: 0.0013\n",
      "Epoch 12/20\n",
      "194/194 - 1s - loss: 0.0011 - val_loss: 0.0012\n",
      "Epoch 13/20\n",
      "194/194 - 1s - loss: 0.0010 - val_loss: 0.0012\n",
      "Epoch 14/20\n",
      "194/194 - 1s - loss: 9.6706e-04 - val_loss: 0.0011\n",
      "Epoch 15/20\n",
      "194/194 - 1s - loss: 9.0914e-04 - val_loss: 9.7412e-04\n",
      "Epoch 16/20\n",
      "194/194 - 1s - loss: 8.4552e-04 - val_loss: 9.3308e-04\n",
      "Epoch 17/20\n",
      "194/194 - 1s - loss: 8.0347e-04 - val_loss: 9.2157e-04\n",
      "Epoch 18/20\n",
      "194/194 - 1s - loss: 7.7580e-04 - val_loss: 9.0341e-04\n",
      "Epoch 19/20\n",
      "194/194 - 1s - loss: 7.3905e-04 - val_loss: 9.3150e-04\n",
      "Epoch 20/20\n",
      "\n",
      "Epoch 00020: ReduceLROnPlateau reducing learning rate to 0.0006000000284984708.\n",
      "194/194 - 1s - loss: 7.2969e-04 - val_loss: 9.7203e-04\n"
     ]
    },
    {
     "data": {
      "application/vnd.jupyter.widget-view+json": {
       "model_id": "b50315c01b4147909d7affc7d830955e",
       "version_major": 2,
       "version_minor": 0
      },
      "text/plain": [
       "HBox(children=(FloatProgress(value=0.0, max=19600.0), HTML(value='')))"
      ]
     },
     "metadata": {},
     "output_type": "display_data"
    },
    {
     "name": "stdout",
     "output_type": "stream",
     "text": [
      "\n",
      "20/64/32/100\n"
     ]
    },
    {
     "data": {
      "application/vnd.jupyter.widget-view+json": {
       "model_id": "5b8a737cc82a46008755ca1d2c9932fc",
       "version_major": 2,
       "version_minor": 0
      },
      "text/plain": [
       "HBox(children=(FloatProgress(value=0.0, max=196.0), HTML(value='')))"
      ]
     },
     "metadata": {},
     "output_type": "display_data"
    },
    {
     "name": "stdout",
     "output_type": "stream",
     "text": [
      "\n",
      "Cumulative Confirmed Cases\n"
     ]
    },
    {
     "data": {
      "application/vnd.jupyter.widget-view+json": {
       "model_id": "ae0e25ec83c4478f8b2cd7b80f93c57c",
       "version_major": 2,
       "version_minor": 0
      },
      "text/plain": [
       "HBox(children=(FloatProgress(value=0.0, max=196.0), HTML(value='')))"
      ]
     },
     "metadata": {},
     "output_type": "display_data"
    },
    {
     "name": "stdout",
     "output_type": "stream",
     "text": [
      "\n",
      "Confirmed Cases\n"
     ]
    },
    {
     "data": {
      "application/vnd.jupyter.widget-view+json": {
       "model_id": "279062e3aa32408c9a4a72d3f64bb632",
       "version_major": 2,
       "version_minor": 0
      },
      "text/plain": [
       "HBox(children=(FloatProgress(value=0.0, max=196.0), HTML(value='')))"
      ]
     },
     "metadata": {},
     "output_type": "display_data"
    },
    {
     "name": "stdout",
     "output_type": "stream",
     "text": [
      "\n"
     ]
    },
    {
     "data": {
      "application/vnd.jupyter.widget-view+json": {
       "model_id": "15520b227ed348fbab427553c59ed1ea",
       "version_major": 2,
       "version_minor": 0
      },
      "text/plain": [
       "HBox(children=(FloatProgress(value=0.0, max=196.0), HTML(value='')))"
      ]
     },
     "metadata": {},
     "output_type": "display_data"
    },
    {
     "name": "stdout",
     "output_type": "stream",
     "text": [
      "\n"
     ]
    },
    {
     "data": {
      "application/vnd.jupyter.widget-view+json": {
       "model_id": "7f04e0e00436438786342aabbea5cf70",
       "version_major": 2,
       "version_minor": 0
      },
      "text/plain": [
       "HBox(children=(FloatProgress(value=0.0, max=196.0), HTML(value='')))"
      ]
     },
     "metadata": {},
     "output_type": "display_data"
    },
    {
     "name": "stdout",
     "output_type": "stream",
     "text": [
      "\n",
      "Deaths Cases\n"
     ]
    },
    {
     "data": {
      "application/vnd.jupyter.widget-view+json": {
       "model_id": "d6c2e253ecf942d98fdfe3a6a731ed19",
       "version_major": 2,
       "version_minor": 0
      },
      "text/plain": [
       "HBox(children=(FloatProgress(value=0.0, max=196.0), HTML(value='')))"
      ]
     },
     "metadata": {},
     "output_type": "display_data"
    },
    {
     "name": "stdout",
     "output_type": "stream",
     "text": [
      "\n"
     ]
    },
    {
     "data": {
      "application/vnd.jupyter.widget-view+json": {
       "model_id": "1e8e4e00da8e4e439304fa6d3cfd0939",
       "version_major": 2,
       "version_minor": 0
      },
      "text/plain": [
       "HBox(children=(FloatProgress(value=0.0, max=196.0), HTML(value='')))"
      ]
     },
     "metadata": {},
     "output_type": "display_data"
    },
    {
     "name": "stdout",
     "output_type": "stream",
     "text": [
      "\n",
      "Finished preparing datasets.\n",
      "Epoch 1/20\n",
      "194/194 - 1s - loss: 0.4093 - val_loss: 0.0183\n",
      "Epoch 2/20\n",
      "194/194 - 1s - loss: 0.0155 - val_loss: 0.0106\n",
      "Epoch 3/20\n",
      "194/194 - 1s - loss: 0.0084 - val_loss: 0.0052\n",
      "Epoch 4/20\n",
      "194/194 - 1s - loss: 0.0050 - val_loss: 0.0035\n",
      "Epoch 5/20\n",
      "194/194 - 1s - loss: 0.0037 - val_loss: 0.0024\n",
      "Epoch 6/20\n",
      "194/194 - 1s - loss: 0.0022 - val_loss: 0.0018\n",
      "Epoch 7/20\n",
      "194/194 - 1s - loss: 0.0020 - val_loss: 0.0019\n",
      "Epoch 8/20\n",
      "194/194 - 1s - loss: 0.0015 - val_loss: 0.0015\n",
      "Epoch 9/20\n",
      "194/194 - 1s - loss: 0.0013 - val_loss: 0.0013\n",
      "Epoch 10/20\n",
      "194/194 - 1s - loss: 0.0011 - val_loss: 0.0011\n",
      "Epoch 11/20\n",
      "194/194 - 1s - loss: 9.8370e-04 - val_loss: 0.0010\n",
      "Epoch 12/20\n",
      "194/194 - 1s - loss: 9.0233e-04 - val_loss: 9.8284e-04\n",
      "Epoch 13/20\n",
      "194/194 - 1s - loss: 9.2272e-04 - val_loss: 0.0010\n",
      "Epoch 14/20\n",
      "194/194 - 1s - loss: 8.5975e-04 - val_loss: 9.3667e-04\n",
      "Epoch 15/20\n",
      "194/194 - 1s - loss: 7.9245e-04 - val_loss: 8.3015e-04\n",
      "Epoch 16/20\n",
      "194/194 - 1s - loss: 7.4365e-04 - val_loss: 7.8250e-04\n",
      "Epoch 17/20\n",
      "194/194 - 1s - loss: 7.0148e-04 - val_loss: 8.1825e-04\n",
      "Epoch 18/20\n",
      "194/194 - 1s - loss: 6.4946e-04 - val_loss: 8.1458e-04\n",
      "Epoch 19/20\n",
      "194/194 - 1s - loss: 6.0731e-04 - val_loss: 7.8982e-04\n",
      "Epoch 20/20\n",
      "\n",
      "Epoch 00020: ReduceLROnPlateau reducing learning rate to 0.0006000000284984708.\n",
      "194/194 - 1s - loss: 5.7877e-04 - val_loss: 8.3116e-04\n"
     ]
    },
    {
     "data": {
      "application/vnd.jupyter.widget-view+json": {
       "model_id": "674438d848d8407fb27bf987113ee885",
       "version_major": 2,
       "version_minor": 0
      },
      "text/plain": [
       "HBox(children=(FloatProgress(value=0.0, max=19600.0), HTML(value='')))"
      ]
     },
     "metadata": {},
     "output_type": "display_data"
    },
    {
     "name": "stdout",
     "output_type": "stream",
     "text": [
      "\n",
      "20/64/42/100\n"
     ]
    },
    {
     "data": {
      "application/vnd.jupyter.widget-view+json": {
       "model_id": "22427317cbd440b1b0156f19a019cfd2",
       "version_major": 2,
       "version_minor": 0
      },
      "text/plain": [
       "HBox(children=(FloatProgress(value=0.0, max=196.0), HTML(value='')))"
      ]
     },
     "metadata": {},
     "output_type": "display_data"
    },
    {
     "name": "stdout",
     "output_type": "stream",
     "text": [
      "\n",
      "Cumulative Confirmed Cases\n"
     ]
    },
    {
     "data": {
      "application/vnd.jupyter.widget-view+json": {
       "model_id": "57da8add1c874978b24bd0b825f98272",
       "version_major": 2,
       "version_minor": 0
      },
      "text/plain": [
       "HBox(children=(FloatProgress(value=0.0, max=196.0), HTML(value='')))"
      ]
     },
     "metadata": {},
     "output_type": "display_data"
    },
    {
     "name": "stdout",
     "output_type": "stream",
     "text": [
      "\n",
      "Confirmed Cases\n"
     ]
    },
    {
     "data": {
      "application/vnd.jupyter.widget-view+json": {
       "model_id": "d7fc2a3d6820436995c1c3395b617898",
       "version_major": 2,
       "version_minor": 0
      },
      "text/plain": [
       "HBox(children=(FloatProgress(value=0.0, max=196.0), HTML(value='')))"
      ]
     },
     "metadata": {},
     "output_type": "display_data"
    },
    {
     "name": "stdout",
     "output_type": "stream",
     "text": [
      "\n"
     ]
    },
    {
     "data": {
      "application/vnd.jupyter.widget-view+json": {
       "model_id": "92d8abffa0e241d1b8c44c65c74132e2",
       "version_major": 2,
       "version_minor": 0
      },
      "text/plain": [
       "HBox(children=(FloatProgress(value=0.0, max=196.0), HTML(value='')))"
      ]
     },
     "metadata": {},
     "output_type": "display_data"
    },
    {
     "name": "stdout",
     "output_type": "stream",
     "text": [
      "\n"
     ]
    },
    {
     "data": {
      "application/vnd.jupyter.widget-view+json": {
       "model_id": "686b3cb73c774db79628bc3ec5f78d28",
       "version_major": 2,
       "version_minor": 0
      },
      "text/plain": [
       "HBox(children=(FloatProgress(value=0.0, max=196.0), HTML(value='')))"
      ]
     },
     "metadata": {},
     "output_type": "display_data"
    },
    {
     "name": "stdout",
     "output_type": "stream",
     "text": [
      "\n",
      "Deaths Cases\n"
     ]
    },
    {
     "data": {
      "application/vnd.jupyter.widget-view+json": {
       "model_id": "388f1b8cdd614b5b9049bd3cf19995fb",
       "version_major": 2,
       "version_minor": 0
      },
      "text/plain": [
       "HBox(children=(FloatProgress(value=0.0, max=196.0), HTML(value='')))"
      ]
     },
     "metadata": {},
     "output_type": "display_data"
    },
    {
     "name": "stdout",
     "output_type": "stream",
     "text": [
      "\n"
     ]
    },
    {
     "data": {
      "application/vnd.jupyter.widget-view+json": {
       "model_id": "99ed808947a74042867dab608904a33e",
       "version_major": 2,
       "version_minor": 0
      },
      "text/plain": [
       "HBox(children=(FloatProgress(value=0.0, max=196.0), HTML(value='')))"
      ]
     },
     "metadata": {},
     "output_type": "display_data"
    },
    {
     "name": "stdout",
     "output_type": "stream",
     "text": [
      "\n",
      "Finished preparing datasets.\n",
      "Epoch 1/20\n",
      "194/194 - 1s - loss: 1.0955 - val_loss: 0.0120\n",
      "Epoch 2/20\n",
      "194/194 - 1s - loss: 0.0074 - val_loss: 0.0058\n",
      "Epoch 3/20\n",
      "194/194 - 1s - loss: 0.0047 - val_loss: 0.0042\n",
      "Epoch 4/20\n",
      "194/194 - 1s - loss: 0.0033 - val_loss: 0.0027\n",
      "Epoch 5/20\n",
      "194/194 - 1s - loss: 0.0023 - val_loss: 0.0021\n",
      "Epoch 6/20\n",
      "194/194 - 1s - loss: 0.0022 - val_loss: 0.0021\n",
      "Epoch 7/20\n",
      "194/194 - 1s - loss: 0.0016 - val_loss: 0.0016\n",
      "Epoch 8/20\n",
      "194/194 - 1s - loss: 0.0014 - val_loss: 0.0014\n",
      "Epoch 9/20\n",
      "194/194 - 1s - loss: 0.0012 - val_loss: 0.0012\n",
      "Epoch 10/20\n",
      "194/194 - 1s - loss: 0.0010 - val_loss: 0.0011\n",
      "Epoch 11/20\n",
      "194/194 - 1s - loss: 9.4985e-04 - val_loss: 0.0011\n",
      "Epoch 12/20\n",
      "194/194 - 1s - loss: 8.9076e-04 - val_loss: 9.6039e-04\n",
      "Epoch 13/20\n",
      "194/194 - 1s - loss: 8.2780e-04 - val_loss: 8.5974e-04\n",
      "Epoch 14/20\n",
      "194/194 - 1s - loss: 7.7898e-04 - val_loss: 8.3830e-04\n",
      "Epoch 15/20\n",
      "194/194 - 1s - loss: 7.4388e-04 - val_loss: 8.0582e-04\n",
      "Epoch 16/20\n",
      "194/194 - 1s - loss: 7.1303e-04 - val_loss: 7.8192e-04\n",
      "Epoch 17/20\n",
      "194/194 - 1s - loss: 6.8248e-04 - val_loss: 7.6282e-04\n",
      "Epoch 18/20\n",
      "194/194 - 1s - loss: 6.5469e-04 - val_loss: 7.4695e-04\n",
      "Epoch 19/20\n",
      "194/194 - 1s - loss: 6.2823e-04 - val_loss: 7.5108e-04\n",
      "Epoch 20/20\n",
      "194/194 - 1s - loss: 6.0889e-04 - val_loss: 7.0651e-04\n"
     ]
    },
    {
     "data": {
      "application/vnd.jupyter.widget-view+json": {
       "model_id": "a769965efdc04463912b7412f9aedfbc",
       "version_major": 2,
       "version_minor": 0
      },
      "text/plain": [
       "HBox(children=(FloatProgress(value=0.0, max=19600.0), HTML(value='')))"
      ]
     },
     "metadata": {},
     "output_type": "display_data"
    },
    {
     "name": "stdout",
     "output_type": "stream",
     "text": [
      "\n"
     ]
    }
   ],
   "source": [
    "\n",
    "epochs = [10, 20]\n",
    "batch_sizes = [24, 32, 64]\n",
    "n_hiddens = [12, 32, 42]\n",
    "np.random.seed(42)\n",
    "tf.random.set_seed(42)\n",
    "\n",
    "epoch = 30\n",
    "batch_size = 32\n",
    "n_hidden = 36\n",
    "num_days = 5\n",
    "\n",
    "MAE, MSE, RMSE, R2 = {}, {}, {}, {}\n",
    "target = \"New Confirmed\"\n",
    "countries = train_df[\"Country\"].unique()\n",
    "\n",
    "for epoch in epochs:\n",
    "    for batch_size in batch_sizes:\n",
    "        for n_hidden in n_hiddens:\n",
    "# numdays = [2, 3, 4, 5, 6, 7]\n",
    "# for num_days in numdays:\n",
    "            iteration = str(epoch) + \"/\" + str(batch_size) +  \"/\" + str(n_hidden) + \"/\" + str(num_days)\n",
    "            print(iteration)\n",
    "\n",
    "            train = train_df.rename(columns={'Country': 'Country/Region','Fatal': 'Deaths', 'Date': 'ObservationDate'})\n",
    "            covid_timeseries = train.copy()\n",
    "\n",
    "            num_cols = ['Confirmed', 'Deaths']\n",
    "            for col in num_cols:\n",
    "                temp = [int(i) for i in train[col]]\n",
    "                train[col] = temp\n",
    "\n",
    "            # Create empty test set\n",
    "            countries = train[\"Country/Region\"].unique()\n",
    "            dates = list(train[train[\"Country/Region\"] == countries[0]].ObservationDate)\n",
    "\n",
    "            # Create empty test set\n",
    "            d = []\n",
    "            for country in countries:\n",
    "                for date in dates:\n",
    "                    d.append(\n",
    "                        {\n",
    "                            'Country/Region': country,\n",
    "                            'Date': date,\n",
    "                        }\n",
    "                    )\n",
    "            test = pd.DataFrame(d)\n",
    "\n",
    "            states_per_regions, unique_regions = list_per_region(test)\n",
    "\n",
    "            # Number of steps to look back\n",
    "            n_steps = num_days\n",
    "\n",
    "            # Number of days to forcast\n",
    "            num_days = 100\n",
    "\n",
    "            pivot_date = \"'2020-10-01'\"\n",
    "\n",
    "\n",
    "            print('Cumulative Confirmed Cases')\n",
    "            X_c, y_c = create_train_dataset('Confirmed', n_steps, train, pivot_date, unique_regions, states_per_regions)\n",
    "\n",
    "            print('Confirmed Cases')\n",
    "            X_nc, y_nc = create_train_dataset('New Confirmed', n_steps, covid_timeseries, pivot_date, unique_regions, states_per_regions)\n",
    "            test_confirmed, regs = create_test_dataset('Confirmed', n_steps, train, pivot_date, unique_regions, states_per_regions)\n",
    "            test_nc, reg_nc = create_test_dataset_new_c('New Confirmed', n_steps, covid_timeseries, pivot_date, unique_regions, states_per_regions)\n",
    "\n",
    "            print('Deaths Cases')\n",
    "            X_d, y_d = create_train_dataset('Deaths', n_steps, train, pivot_date, unique_regions, states_per_regions)\n",
    "            test_deaths, regs = create_test_dataset('Deaths', n_steps, train, pivot_date, unique_regions, states_per_regions)\n",
    "            print('Finished preparing datasets.')\n",
    "\n",
    "            # Split the train data in to train and val data\n",
    "            X_train_c, X_val_c, y_train_c, y_val_c = train_test_split(\n",
    "                X_c, y_c, test_size=0.30, random_state=42)\n",
    "            X_train_d, X_val_d, y_train_d, y_val_d = train_test_split(\n",
    "                X_d, y_d, test_size=0.30, random_state=42)\n",
    "            X_train_nc, X_val_nc, y_train_nc, y_val_nc = train_test_split(\n",
    "                X_c, y_c, test_size=0.30, random_state=42)\n",
    "\n",
    "            # Reshape data\n",
    "            test_confirmed = pd.DataFrame(test_confirmed).values\n",
    "            test_nc = pd.DataFrame(test_nc).values\n",
    "            test_deaths = pd.DataFrame(test_deaths).values\n",
    "\n",
    "\n",
    "            # Reshapping the Confirmed data for LSTM\n",
    "            X_train_c = X_train_c.reshape((X_train_c.shape[0], 1, X_train_c.shape[1]))\n",
    "            X_val_c = X_val_c.reshape((X_val_c.shape[0], 1,  X_val_c.shape[1]))\n",
    "            X_train_nc = X_train_nc.reshape((X_train_nc.shape[0], 1, X_train_nc.shape[1]))\n",
    "            X_val_nc = X_val_nc.reshape((X_val_nc.shape[0], 1,  X_val_nc.shape[1]))\n",
    "            X_test_c = test_confirmed.reshape(\n",
    "                (test_confirmed.shape[0], 1, test_confirmed.shape[1]))\n",
    "            X_test_nc = test_nc.reshape((test_nc.shape[0], 1, test_nc.shape[1]))\n",
    "\n",
    "\n",
    "            # Reshapping the donfirmed data for LSTM\n",
    "            X_train_d = X_train_d.reshape((X_train_d.shape[0], 1, X_train_d.shape[1]))\n",
    "            X_val_d = X_val_d.reshape((X_val_d.shape[0], 1,  X_val_d.shape[1]))\n",
    "            X_test_d = test_deaths.reshape((test_deaths.shape[0], 1, test_deaths.shape[1]))\n",
    "\n",
    "            # Initializing model components\n",
    "            timesteps = X_train_c.shape[1]\n",
    "            input_dim = X_train_c.shape[2]\n",
    "            n_features = 1\n",
    "\n",
    "            # Model for Death cases\n",
    "            #     model_d = Sequential()\n",
    "            #     model_d.add(LSTM(50, activation='relu', input_shape=(n_features,n_steps),return_sequences=True))\n",
    "            #     model_d.add(LSTM(50, activation='relu'))\n",
    "            #     model_d.add(Dense(1))\n",
    "            #     model_d.compile(optimizer='adam', loss=tf.keras.losses.MeanSquaredLogarithmicError())\n",
    "            #     callbacks = [ReduceLROnPlateau(monitor='val_loss', patience=5, verbose=1, factor=0.6),\n",
    "            #                  EarlyStopping(monitor='val_loss', patience=20),\n",
    "            #                  ModelCheckpoint(filepath='best_model.h5', monitor='val_loss', save_best_only=True)]\n",
    "            # hist=model_d.fit(X_train_d,y_train_d, epochs=epoch, batch_size=batch_size, validation_data=(X_val_d, y_val_d), verbose=2, shuffle=False,callbacks=callbacks)\n",
    "\n",
    "\n",
    "            # Model for Confirmed cases\n",
    "            #     model_c = Sequential()\n",
    "            #     model_c.add(LSTM(50, activation='relu', input_shape=(n_features,n_steps),return_sequences=True))\n",
    "            #     model_c.add(LSTM(150, activation='relu'))\n",
    "            #     model_c.add(Dense(1,activation='relu'))\n",
    "            #     model_c.compile(optimizer='adam', loss=tf.keras.losses.MeanSquaredLogarithmicError())\n",
    "            #     callbacks = [ReduceLROnPlateau(monitor='val_loss', patience=5, verbose=1, factor=0.6),\n",
    "            #                  EarlyStopping(monitor='val_loss', patience=20),\n",
    "            #                  ModelCheckpoint(filepath='best_model.h5', monitor='val_loss', save_best_only=True)]\n",
    "            # fit the model\n",
    "            # hist=model_c.fit(X_train_c,y_train_c, epochs=epoch, batch_size=batch_size, validation_data=(X_val_c, y_val_c), verbose=2, shuffle=False,callbacks=callbacks)\n",
    "\n",
    "            # Model for new confirmed cases\n",
    "            model_nc = Sequential()\n",
    "            model_nc.add(LSTM(50, activation='relu', input_shape=(n_features,n_steps),return_sequences=True))\n",
    "            model_nc.add(LSTM(50, activation='relu'))\n",
    "            model_nc.add(Dense(1))\n",
    "            model_nc.compile(optimizer='adam', loss=tf.keras.losses.MeanSquaredLogarithmicError())\n",
    "            callbacks = [ReduceLROnPlateau(monitor='val_loss', patience=5, verbose=1, factor=0.6),\n",
    "                        EarlyStopping(monitor='val_loss', patience=20),\n",
    "                        ModelCheckpoint(filepath='best_model.h5', monitor='val_loss', save_best_only=True)]\n",
    "            hist=model_nc.fit(X_train_nc,y_train_nc, epochs=epoch, batch_size=batch_size, validation_data=(X_val_nc, y_val_nc), verbose=2, shuffle=False,callbacks=callbacks)\n",
    "\n",
    "\n",
    "            forcast_start_date = pivot_date.replace(\"'\", \"\")\n",
    "            #     res_confirmed=forcast(model_c,X_test_c,forcast_start_date, num_days, n_steps, regs)\n",
    "            #     res_deaths=forcast(model_d,X_test_d,forcast_start_date, num_days, n_steps, regs)\n",
    "            res_new_confirmed = forcast(model_nc,X_test_nc,forcast_start_date, num_days, n_steps, regs)\n",
    "\n",
    "            begin_date = pivot_date\n",
    "            end_date = f\"'{res_new_confirmed.columns[-2:][0]}'\"\n",
    "\n",
    "            #     sub, res_regional = convert_predictions_df(res_confirmed, res_deaths, res_new_confirmed, test,begin_date, end_date)\n",
    "            sub, res_regional = convert_predictions_nc(res_new_confirmed, test, begin_date, end_date)\n",
    "            res_regional = res_regional.rename(columns={\"New Confirmed\": \"New Confirmed_LSTM\"})\n",
    "            maes, mses, rmses, r2s = [], [], [], []\n",
    "            # for country in countries:\n",
    "            country = \"Netherlands\"\n",
    "            #     try:\n",
    "            Y_pred = res_regional[res_regional[\"Country/Region\"] == country]\n",
    "            Y_true = train_df[train_df[\"Country\"] == country]\n",
    "            temp = pd.merge(Y_true, Y_pred, on=\"Date\")\n",
    "            y, yhat = temp[target + \"_LSTM\"], temp[target]\n",
    "            maes.append(metrics.mean_absolute_error(y, yhat))\n",
    "            mses.append(metrics.mean_squared_error(y, yhat))\n",
    "            rmses.append(np.sqrt(metrics.mean_squared_error(y, yhat)))\n",
    "            r2s.append(metrics.r2_score(y,yhat))\n",
    "            #     except:\n",
    "            #         print(country)\n",
    "\n",
    "            MAE[iteration] = np.mean(maes)\n",
    "            MSE[iteration] = np.mean(mses)\n",
    "            RMSE[iteration] = np.mean(rmses)\n",
    "            R2[iteration] = np.mean(r2s)\n",
    "\n",
    "    "
   ]
  },
  {
   "cell_type": "code",
   "execution_count": 55,
   "metadata": {},
   "outputs": [
    {
     "data": {
      "text/plain": [
       "[('30/32/36/5', 2396.8401346590676)]"
      ]
     },
     "execution_count": 55,
     "metadata": {},
     "output_type": "execute_result"
    }
   ],
   "source": [
    "sorted(MAE.items(), key=lambda x: x[1])\n",
    "# print(MSE)\n",
    "# print(RMSE)\n",
    "# print(R2)"
   ]
  },
  {
   "cell_type": "code",
   "execution_count": 40,
   "metadata": {},
   "outputs": [
    {
     "data": {
      "text/plain": [
       "[('10/32/32/4', 183573516.02899396)]"
      ]
     },
     "execution_count": 40,
     "metadata": {},
     "output_type": "execute_result"
    }
   ],
   "source": [
    "sorted(MSE.items(), key=lambda x: x[1])\n"
   ]
  },
  {
   "cell_type": "code",
   "execution_count": 41,
   "metadata": {
    "scrolled": true
   },
   "outputs": [
    {
     "data": {
      "text/plain": [
       "[('10/32/32/4', 5397.240159190289)]"
      ]
     },
     "execution_count": 41,
     "metadata": {},
     "output_type": "execute_result"
    }
   ],
   "source": [
    "sorted(RMSE.items(), key=lambda x: x[1])\n"
   ]
  },
  {
   "cell_type": "code",
   "execution_count": 42,
   "metadata": {},
   "outputs": [
    {
     "data": {
      "text/plain": [
       "[('10/32/32/4', -8947.921462422379)]"
      ]
     },
     "execution_count": 42,
     "metadata": {},
     "output_type": "execute_result"
    }
   ],
   "source": [
    "sorted(R2.items(), key=lambda x: x[1], reverse=True)\n"
   ]
  },
  {
   "cell_type": "code",
   "execution_count": 56,
   "metadata": {
    "scrolled": false
   },
   "outputs": [
    {
     "name": "stdout",
     "output_type": "stream",
     "text": [
      "MAE 7769.407219304377\n",
      "MSE 154169558.48279887\n",
      "RMSE 9316.25570417732\n",
      "R2 -36.32451626018613\n"
     ]
    },
    {
     "data": {
      "image/png": "[encoded data removed]",
      "text/plain": [
       "<Figure size 1080x864 with 9 Axes>"
      ]
     },
     "metadata": {
      "needs_background": "light"
     },
     "output_type": "display_data"
    }
   ],
   "source": [
    "\n",
    "countries = [\"Japan\", \"Germany\", \"Italy\", \"Spain\", \"United Kingdom\", \"Netherlands\", \"Australia\", \"Portugal\", \"Canada\"]\n",
    "nrow, ncol = 3, 3\n",
    "colors = map('C{}'.format, cycle(range(nrow*ncol)))\n",
    "fig, axs = plt.subplots(nrow,ncol,figsize=(ncol*5, nrow*4), constrained_layout=True);\n",
    "MAE, MSE, RMSE, R2 = [], [], [], []\n",
    "target = \"New Confirmed\"\n",
    "# res_regional = res_regional.rename(columns={\"Confirmed\": \"Confirmed_LSTM\", \"New Confirmed\": \"New Confirmed_LSTM\", \"Deaths\": \"Deaths_LSTM\"})\n",
    "# res_regional = res_regional.rename(columns={\"New Confirmed\": \"New Confirmed_LSTM\"})\n",
    "\n",
    "\n",
    "for country, ax in zip(countries, axs.flatten()):\n",
    "    Y_pred = res_regional[res_regional[\"Country/Region\"] == country]\n",
    "    Y_pred.plot(x=\"Date\", y=target + \"_LSTM\", label=\"LSTM Pred\", ax=ax)\n",
    "    Y_true = train_df[train_df[\"Country\"] == country]\n",
    "    Y_true.plot(x=\"Date\", y=target, ax=ax, label=\"True\", title=country);\n",
    "    temp = pd.merge(Y_true, Y_pred, on=\"Date\")\n",
    "    y, yhat = temp[target + \"_LSTM\"], temp[target]\n",
    "    \n",
    "    MAE.append(metrics.mean_absolute_error(y, yhat))\n",
    "    MSE.append(metrics.mean_squared_error(y, yhat))\n",
    "    RMSE.append(np.sqrt(metrics.mean_squared_error(y, yhat)))\n",
    "    R2.append(metrics.r2_score(y,yhat))\n",
    "    \n",
    "print(\"MAE\", np.mean(MAE))\n",
    "print(\"MSE\", np.mean(MSE))\n",
    "print(\"RMSE\", np.mean(RMSE))\n",
    "print(\"R2\", np.mean(R2))\n",
    "\n",
    "\n"
   ]
  },
  {
   "cell_type": "code",
   "execution_count": 8,
   "metadata": {},
   "outputs": [],
   "source": [
    "def select_window(df, start, end):\n",
    "    return df[start:end]"
   ]
  },
  {
   "cell_type": "code",
   "execution_count": 9,
   "metadata": {},
   "outputs": [],
   "source": [
    "country = \"Netherlands\"\n",
    "\n",
    "data = pickle.load(open(\"data/Netherlands_2020-10-01_SIR.p\", \"rb\"))\n",
    "data[\"Infected\"] = data[\"Infected\"] / 10\n",
    "data[\"New Confirmed\"] = data[\"Confirmed\"].diff() "
   ]
  },
  {
   "cell_type": "code",
   "execution_count": 10,
   "metadata": {},
   "outputs": [],
   "source": [
    "start = 184\n",
    "\n",
    "lstm = res_regional.copy()\n",
    "train_select = train_df.copy()\n",
    "\n",
    "country_selection_LSTM = lstm[lstm[\"Country/Region\"] == country]\n",
    "train_selection = train_select[train_select[\"Country\"] == country]\n",
    "train_selection = train_selection.rename(columns={\"New Confirmed\": \"New Confirmed_true\"})\n",
    "\n",
    "# Merge true, SIR and LSTM\n",
    "merged_df = pd.merge(data, country_selection_LSTM, on=\"Date\", how=\"outer\")\n",
    "merged = pd.merge(merged_df, train_selection[[\"Date\", target + \"_true\"]], on=\"Date\", how=\"outer\")\n",
    "merged = merged.sort_values(\"Date\")"
   ]
  },
  {
   "cell_type": "code",
   "execution_count": 11,
   "metadata": {},
   "outputs": [
    {
     "data": {
      "image/png": "[encoded data removed]",
      "text/plain": [
       "<Figure size 432x288 with 1 Axes>"
      ]
     },
     "metadata": {
      "needs_background": "light"
     },
     "output_type": "display_data"
    },
    {
     "data": {
      "image/png": "[encoded data removed]",
      "text/plain": [
       "<Figure size 432x288 with 1 Axes>"
      ]
     },
     "metadata": {
      "needs_background": "light"
     },
     "output_type": "display_data"
    }
   ],
   "source": [
    "windows = [20, 100]\n",
    "for i in windows:\n",
    "    window = select_window(merged, start, start + i)\n",
    "    window.plot(x=\"Date\", y=[target, \"New Confirmed_LSTM\", \"New Confirmed_true\"])"
   ]
  },
  {
   "cell_type": "code",
   "execution_count": 12,
   "metadata": {},
   "outputs": [],
   "source": [
    "def calc_accuracy(df, window):\n",
    "    \"\"\"\n",
    "    df columns are: New Confirmed, New Confirmed_LSTM, New Confirmed_true\n",
    "    \"\"\"\n",
    "    lstm_accuracy = {}\n",
    "    SIRF_accuracy = {}\n",
    "    \n",
    "    y_pred_lstm = df[\"New Confirmed_LSTM\"].values\n",
    "    y_pred_SIR = df[\"New Confirmed\"].values\n",
    "    y_true = df[\"New Confirmed_true\"].values\n",
    "    \n",
    "    lstm_accuracy[\"MAE\"] = metrics.mean_absolute_error(y_pred_lstm, y_true)\n",
    "    lstm_accuracy[\"MSE\"] = metrics.mean_squared_error(y_pred_lstm, y_true)\n",
    "    lstm_accuracy[\"RMSE\"] = np.sqrt(metrics.mean_squared_error(y_pred_lstm, y_true))\n",
    "    lstm_accuracy[\"R2\"] = metrics.r2_score(y_pred_lstm, y_true)\n",
    "    \n",
    "    SIRF_accuracy[\"MAE\"] = metrics.mean_absolute_error(y_pred_SIR, y_true)\n",
    "    SIRF_accuracy[\"MSE\"] = metrics.mean_squared_error(y_pred_SIR, y_true)\n",
    "    SIRF_accuracy[\"RMSE\"] = np.sqrt(metrics.mean_squared_error(y_pred_SIR, y_true))\n",
    "    SIRF_accuracy[\"R2\"] = metrics.r2_score(y_pred_lstm, y_pred_SIR)\n",
    "    \n",
    "    lstm_accuracy = pd.DataFrame([lstm_accuracy])\n",
    "    SIRF_accuracy = pd.DataFrame([SIRF_accuracy])\n",
    "    return lstm_accuracy, SIRF_accuracy\n",
    "\n",
    "windows = range(10, 50)\n",
    "columns = ['MAE', 'MSE', 'RMSE', 'R2']\n",
    "lstm_accuracy = pd.DataFrame(columns=columns, index=windows)\n",
    "SIRF_accuracy = lstm_accuracy.copy()\n",
    "\n",
    "for i in range(len(windows)):\n",
    "    window = select_window(merged, start, start + windows[i])\n",
    "    lstm_acc, SIR_acc = calc_accuracy(window, windows[i])\n",
    "    lstm_accuracy.iloc[i] = lstm_acc.values[0]\n",
    "    SIRF_accuracy.iloc[i] = SIR_acc.values[0]"
   ]
  },
  {
   "cell_type": "code",
   "execution_count": null,
   "metadata": {},
   "outputs": [],
   "source": []
  },
  {
   "cell_type": "code",
   "execution_count": 13,
   "metadata": {
    "scrolled": true
   },
   "outputs": [
    {
     "data": {
      "image/png": "[encoded data removed]",
      "text/plain": [
       "<Figure size 432x288 with 1 Axes>"
      ]
     },
     "metadata": {
      "needs_background": "light"
     },
     "output_type": "display_data"
    },
    {
     "data": {
      "image/png": "[encoded data removed]",
      "text/plain": [
       "<Figure size 432x288 with 1 Axes>"
      ]
     },
     "metadata": {
      "needs_background": "light"
     },
     "output_type": "display_data"
    },
    {
     "data": {
      "image/png": "[encoded data removed]",
      "text/plain": [
       "<Figure size 432x288 with 1 Axes>"
      ]
     },
     "metadata": {
      "needs_background": "light"
     },
     "output_type": "display_data"
    },
    {
     "data": {
      "image/png": "[encoded data removed]",
      "text/plain": [
       "<Figure size 432x288 with 1 Axes>"
      ]
     },
     "metadata": {
      "needs_background": "light"
     },
     "output_type": "display_data"
    }
   ],
   "source": [
    "for measure in columns:\n",
    "    ax = SIRF_accuracy.reset_index().plot(x=\"index\", y=measure, label=\"SIRF\", title=measure)\n",
    "    lstm_accuracy.reset_index().plot(x=\"index\", y=measure, label=\"LSTM\", ax=ax)"
   ]
  },
  {
   "cell_type": "code",
   "execution_count": null,
   "metadata": {},
   "outputs": [],
   "source": []
  }
 ],
 "metadata": {
  "kernelspec": {
   "display_name": "Python 3",
   "language": "python",
   "name": "python3"
  },
  "language_info": {
   "codemirror_mode": {
    "name": "ipython",
    "version": 3
   },
   "file_extension": ".py",
   "mimetype": "text/x-python",
   "name": "python",
   "nbconvert_exporter": "python",
   "pygments_lexer": "ipython3",
   "version": "3.7.8"
  }
 },
 "nbformat": 4,
 "nbformat_minor": 4
}
