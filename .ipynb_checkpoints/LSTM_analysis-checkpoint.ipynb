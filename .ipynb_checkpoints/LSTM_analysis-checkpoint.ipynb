{
 "cells": [
  {
   "cell_type": "code",
   "execution_count": 1,
   "metadata": {},
   "outputs": [],
   "source": [
    "import pickle\n",
    "import datetime\n",
    "from dateutil.relativedelta import relativedelta\n",
    "from tensorflow.keras.layers import BatchNormalization\n",
    "from tensorflow.keras import Input\n",
    "from tensorflow.keras.utils import plot_model\n",
    "from tensorflow.keras.layers import LSTM\n",
    "from tensorflow.keras.layers import Dropout\n",
    "from tensorflow.keras.callbacks import ModelCheckpoint, ReduceLROnPlateau, EarlyStopping\n",
    "from tensorflow.keras.layers import Dense\n",
    "from tensorflow.keras.models import Sequential\n",
    "from sklearn.metrics import mean_squared_error\n",
    "from sklearn.preprocessing import LabelEncoder\n",
    "from sklearn.preprocessing import MinMaxScaler\n",
    "from sklearn.model_selection import train_test_split\n",
    "import sklearn.metrics as metrics\n",
    "from numpy import array\n",
    "import tensorflow as tf\n",
    "import warnings\n",
    "from tqdm import tqdm_notebook as tqdm\n",
    "import plotly.graph_objects as go\n",
    "import plotly.express as px\n",
    "from plotly.subplots import make_subplots\n",
    "import plotly as py\n",
    "from matplotlib import rcParams\n",
    "import seaborn as sns\n",
    "import matplotlib.pylab as plt\n",
    "import math\n",
    "import pickle\n",
    "import os\n",
    "import pandas as pd\n",
    "import folium\n",
    "import math\n",
    "import numpy as np\n",
    "import matplotlib\n",
    "import covsirphy as cs\n",
    "from itertools import cycle\n",
    "sns.set()\n",
    "matplotlib.use('nbagg')\n",
    "warnings.filterwarnings(\"ignore\")"
   ]
  },
  {
   "cell_type": "code",
   "execution_count": 2,
   "metadata": {},
   "outputs": [],
   "source": [
    "%matplotlib inline\n",
    "import covsirphy as cs\n",
    "\n",
    "# Download datasets\n",
    "data_loader = cs.DataLoader(\"input\")\n",
    "jhu_data = data_loader.jhu()\n",
    "population_data = data_loader.population()"
   ]
  },
  {
   "cell_type": "code",
   "execution_count": 3,
   "metadata": {},
   "outputs": [
    {
     "name": "stdout",
     "output_type": "stream",
     "text": [
      "American Samoa not found\n",
      "Others not found\n",
      "South Korea not found\n"
     ]
    }
   ],
   "source": [
    "train = jhu_data.cleaned()\n",
    "countries = train[\"Country\"].unique()\n",
    "total_data = []\n",
    "days_moving_average = 3\n",
    "\n",
    "for country in countries:\n",
    "    try:\n",
    "        s = cs.Scenario(jhu_data, population_data, country=country)\n",
    "        s.complement()\n",
    "        diff = s.records_diff(variables=[\"Confirmed\"], window=days_moving_average, show_figure=False)\n",
    "        d = s.records(show_figure=False)\n",
    "\n",
    "        # Add country name and number of new confirmed cases\n",
    "        d[\"Country\"] = country\n",
    "        d[\"New Confirmed\"] = diff.reset_index()[\"Confirmed\"]\n",
    "        d[\"Confirmed\"] = s.record_df[\"Confirmed\"]\n",
    "        d = d[:-3]\n",
    "        total_data.append(d)\n",
    "    except:\n",
    "        print(country + \" not found\")\n",
    "        "
   ]
  },
  {
   "cell_type": "code",
   "execution_count": 4,
   "metadata": {},
   "outputs": [
    {
     "data": {
      "text/html": [
       "<div>\n",
       "<style scoped>\n",
       "    .dataframe tbody tr th:only-of-type {\n",
       "        vertical-align: middle;\n",
       "    }\n",
       "\n",
       "    .dataframe tbody tr th {\n",
       "        vertical-align: top;\n",
       "    }\n",
       "\n",
       "    .dataframe thead th {\n",
       "        text-align: right;\n",
       "    }\n",
       "</style>\n",
       "<table border=\"1\" class=\"dataframe\">\n",
       "  <thead>\n",
       "    <tr style=\"text-align: right;\">\n",
       "      <th></th>\n",
       "      <th>Date</th>\n",
       "      <th>Infected</th>\n",
       "      <th>Fatal</th>\n",
       "      <th>Recovered</th>\n",
       "      <th>Country</th>\n",
       "      <th>New Confirmed</th>\n",
       "      <th>Confirmed</th>\n",
       "    </tr>\n",
       "  </thead>\n",
       "  <tbody>\n",
       "    <tr>\n",
       "      <th>0</th>\n",
       "      <td>2020-03-16</td>\n",
       "      <td>17</td>\n",
       "      <td>0</td>\n",
       "      <td>1</td>\n",
       "      <td>Afghanistan</td>\n",
       "      <td>2.0</td>\n",
       "      <td>18</td>\n",
       "    </tr>\n",
       "    <tr>\n",
       "      <th>1</th>\n",
       "      <td>2020-03-17</td>\n",
       "      <td>19</td>\n",
       "      <td>0</td>\n",
       "      <td>1</td>\n",
       "      <td>Afghanistan</td>\n",
       "      <td>3.0</td>\n",
       "      <td>20</td>\n",
       "    </tr>\n",
       "    <tr>\n",
       "      <th>2</th>\n",
       "      <td>2020-03-18</td>\n",
       "      <td>23</td>\n",
       "      <td>0</td>\n",
       "      <td>1</td>\n",
       "      <td>Afghanistan</td>\n",
       "      <td>2.0</td>\n",
       "      <td>24</td>\n",
       "    </tr>\n",
       "    <tr>\n",
       "      <th>3</th>\n",
       "      <td>2020-03-19</td>\n",
       "      <td>24</td>\n",
       "      <td>0</td>\n",
       "      <td>1</td>\n",
       "      <td>Afghanistan</td>\n",
       "      <td>3.0</td>\n",
       "      <td>25</td>\n",
       "    </tr>\n",
       "    <tr>\n",
       "      <th>4</th>\n",
       "      <td>2020-03-20</td>\n",
       "      <td>28</td>\n",
       "      <td>0</td>\n",
       "      <td>1</td>\n",
       "      <td>Afghanistan</td>\n",
       "      <td>4.0</td>\n",
       "      <td>29</td>\n",
       "    </tr>\n",
       "  </tbody>\n",
       "</table>\n",
       "</div>"
      ],
      "text/plain": [
       "        Date  Infected  Fatal  Recovered      Country  New Confirmed  \\\n",
       "0 2020-03-16        17      0          1  Afghanistan            2.0   \n",
       "1 2020-03-17        19      0          1  Afghanistan            3.0   \n",
       "2 2020-03-18        23      0          1  Afghanistan            2.0   \n",
       "3 2020-03-19        24      0          1  Afghanistan            3.0   \n",
       "4 2020-03-20        28      0          1  Afghanistan            4.0   \n",
       "\n",
       "   Confirmed  \n",
       "0         18  \n",
       "1         20  \n",
       "2         24  \n",
       "3         25  \n",
       "4         29  "
      ]
     },
     "execution_count": 4,
     "metadata": {},
     "output_type": "execute_result"
    }
   ],
   "source": [
    "train_df = pd.concat(total_data)\n",
    "train_df.head()"
   ]
  },
  {
   "cell_type": "code",
   "execution_count": 5,
   "metadata": {},
   "outputs": [],
   "source": [
    "\n",
    "def pred(model, data):\n",
    "    y_pred = model.predict(data)\n",
    "    return y_pred\n",
    "\n",
    "\n",
    "def forcast(model, data, start_date, num_days, n_steps, regs):\n",
    "    \"\"\"\n",
    "    Utility method for Forcasting\n",
    "    model - trained model on Confirmed/Deaths data\n",
    "    start_date - Starting date of forcasting\n",
    "    num_days - Number of days for which forcasting is required\n",
    "    \"\"\"\n",
    "    res_ = dict()\n",
    "    for i in range(len(data)):\n",
    "        res_[i] = []\n",
    "    y_pred = pred(model, data)\n",
    "    dates = []\n",
    "    date1 = datetime.datetime.strptime(start_date, \"%Y-%m-%d\")\n",
    "\n",
    "    for j in range(1, num_days+1):\n",
    "        for i in range(len(data)):\n",
    "            cur_window = list(data[i][0][1: n_steps+1])\n",
    "            res_[i].append(cur_window[-1])\n",
    "            cur_window.append(y_pred[i])\n",
    "            data[i][0] = cur_window\n",
    "        y_pred = pred(model, data)\n",
    "        dates.append(date1.strftime(\"%Y-%m-%d\"))\n",
    "        date1 += relativedelta(days=1)\n",
    "    res = pd.DataFrame(pd.DataFrame(pd.DataFrame(res_).values.T))\n",
    "    res.columns = dates\n",
    "    res['Country/State'] = regs\n",
    "    return res\n",
    "\n",
    "\n",
    "def get_countrywise_forcast_(\n",
    "    covid_timeseries,\n",
    "    res_regional,\n",
    "    target,\n",
    "    country_name,\n",
    "    state_name,\n",
    "    num_days,\n",
    "    begin_date,\n",
    "    ):\n",
    "    temp = covid_timeseries[covid_timeseries['Country/Region']\n",
    "                            == country_name].query('ObservationDate>='\n",
    "            + begin_date)\n",
    "    x_truth = temp.ObservationDate\n",
    "    y_truth = temp[target]\n",
    "    pred_ = res_regional[res_regional['Country/Region'] == country_name]\n",
    "    x_pred = pred_.Date[0:num_days]\n",
    "    y_pred = (pred_[target])[0:num_days]\n",
    "    return (list(x_truth), list(y_truth), list(x_pred), list(y_pred))\n",
    "\n",
    "\n",
    "\n",
    "def get_countrywise_forcast(\n",
    "    train,\n",
    "    res_regional,\n",
    "    country_name,\n",
    "    state_name,\n",
    "    num_days,\n",
    "    begin_date,\n",
    "    ):\n",
    "    temp = train[train['Country/Region']\n",
    "                 == country_name].query('ObservationDate>='\n",
    "            + begin_date)\n",
    "    x_truth = temp.ObservationDate\n",
    "    y_truth = temp.Confirmed\n",
    "    pred_ = res_regional[res_regional['Country/Region'] == country_name]\n",
    "    x_pred = pred_.Date[0:num_days]\n",
    "    y_pred = pred_.ConfirmedCases[0:num_days]\n",
    "    return (list(x_truth), list(y_truth), list(x_pred), list(y_pred))\n",
    "\n",
    "\n",
    "# Call only when forcast and submission data are available\n",
    "def get_countrywise_forcast_Deaths(country_name, state_name, num_days):\n",
    "    temp = train[(train['Country/Region'] == country_name)\n",
    "                 & (train['Province/State']\n",
    "                 == state_name)].query('ObservationDate>=' + pivot_date)\n",
    "    x_truth = temp.ObservationDate\n",
    "    y_truth = temp.Deaths\n",
    "    pred_ = res_regional[(res_regional['Country_Region']\n",
    "                         == country_name)\n",
    "                         & (res_regional['Province_State']\n",
    "                         == state_name)]\n",
    "    x_pred = pred_.Date[0:num_days]\n",
    "    y_pred = pred_.Fatalities[0:num_days]\n",
    "    return (list(x_truth), list(y_truth), list(x_pred), list(y_pred))\n",
    "\n",
    "\n",
    "# Utility Method to convert newly added prediction to cumulative [Not Accurate]\n",
    "def get_cumulative_confirmed_cases(world_data_):\n",
    "    world_data_ = world_data_.sort_values(['Country_Region', 'Date'])\n",
    "    world_data_['Cumulative Confirmed'] = world_data_['New Confirmed']\n",
    "    for i in tqdm(range(1, len(world_data_))):\n",
    "        if world_data_['Country_Region'].iloc[i] \\\n",
    "            != world_data_['Country_Region'].iloc[i - 1]:\n",
    "            world_data_['Cumulative Confirmed'].iloc[i] = \\\n",
    "                world_data_['ConfirmedCases'].iloc[i]\n",
    "    for i in tqdm(range(1, len(world_data_))):\n",
    "        if world_data_['Country_Region'].iloc[i] \\\n",
    "            == world_data_['Country_Region'].iloc[i - 1]:\n",
    "            world_data_['Cumulative Confirmed'].iloc[i] = \\\n",
    "                world_data_['Cumulative Confirmed'].iloc[i] \\\n",
    "                + world_data_['Cumulative Confirmed'].iloc[i - 1]\n",
    "    return world_data_\n",
    "\n",
    "\n",
    "# function to create training data for LSTM\n",
    "# We will take last 7 days Cases as input and 8th day's case as output\n",
    "def create_train_dataset(target, n_steps, train, pivot_date,\n",
    "                         unique_regions, states_per_regions):\n",
    "    train = train.query(\"ObservationDate<\"+pivot_date)\n",
    "    x, y =[], []\n",
    "    for k in tqdm(range(len(unique_regions))):\n",
    "        for state in states_per_regions[k]:\n",
    "            temp = train[(train['Country/Region'] == unique_regions[k])]\n",
    "            sequence = list(temp[target])\n",
    "            for i in range(len(sequence)):\n",
    "                end_ix = i + n_steps\n",
    "                if end_ix > len(sequence) - 1:\n",
    "                    break\n",
    "                seq_x, seq_y = sequence[i:end_ix], sequence[end_ix]\n",
    "                if(seq_y != 0):\n",
    "                    x.append(seq_x)\n",
    "                    y.append(seq_y)\n",
    "    return array(x), array(y)\n",
    "\n",
    "\n",
    "def create_countrywise_newly_added_train_dataset(target,\n",
    "                                                n_steps,\n",
    "                                                train,\n",
    "                                                pivot_date):\n",
    "    train = train.query(\"ObservationDate<\"+pivot_date)\n",
    "    x, y = [], []\n",
    "    for k in tqdm(range(len(unique_regions))):\n",
    "        temp = train[(train['Country/Region']==unique_regions[k])]\n",
    "        sequence = list(temp[target])\n",
    "        for i in range(len(sequence)):\n",
    "            end_ix = i + n_steps\n",
    "            if end_ix > len(sequence)-1:\n",
    "                break\n",
    "            seq_x, seq_y = sequence[i:end_ix], sequence[end_ix]\n",
    "            if( seq_y != 0):\n",
    "                x.append(seq_x)\n",
    "                y.append(seq_y)\n",
    "    return array(x), array\n",
    "\n",
    "\n",
    "def create_test_dataset_new_c(target, n_steps, train,pivot_date, unique_regions,\n",
    "                        states_per_regions):\n",
    "    train = train.query(\"ObservationDate<\"+pivot_date)\n",
    "    x, regs = [], []\n",
    "    for k in tqdm(range(len(unique_regions))):\n",
    "        for state in states_per_regions[k]:\n",
    "            temp = train[(train['Country/Region'] == unique_regions[k])]\n",
    "            sequence = temp[target].values\n",
    "            x.append(sequence[len(sequence)-n_steps:len(sequence)+1])\n",
    "            regs.append((unique_regions[k],state))  \n",
    "    return x, regs\n",
    "\n",
    "\n",
    "def create_test_dataset(target, n_steps, train,pivot_date, unique_regions,\n",
    "                        states_per_regions):\n",
    "    \"\"\"\n",
    "    Function to create test dataset\n",
    "    our supervised probem is now given last 7 days data predict \n",
    "    the no of cases for 8th day;\n",
    "    target : 'Confirmed'/'Deaths'\n",
    "    \"\"\"\n",
    "\n",
    "    train = train.query(\"ObservationDate<\"+pivot_date)\n",
    "    x, regs = [], []\n",
    "    for k in tqdm(range(len(unique_regions))):\n",
    "        for state in states_per_regions[k]:\n",
    "            temp = train[(train['Country/Region'] == unique_regions[k])]\n",
    "            sequence = temp[target].values\n",
    "            x.append(sequence[len(sequence)-n_steps:len(sequence)+1])\n",
    "            regs.append((unique_regions[k],state))  \n",
    "    return x, regs\n",
    "\n",
    "\n",
    "def create_countrywise_newly_added_test_dataset(target,n_steps,train,pivot_date):\n",
    "    train = train.query(\"ObservationDate<\"+pivot_date)\n",
    "    x=[]\n",
    "    regs=[]\n",
    "    for k in tqdm(range(len(unique_regions))):\n",
    "        temp=train[(train['Country/Region']==unique_regions[k])]\n",
    "        sequence=temp[target]\n",
    "        #print(sequence[len(sequence)-n_steps:len(sequence)+1])\n",
    "        x.append(sequence[len(sequence)-n_steps:len(sequence)+1])\n",
    "        regs.append(unique_regions[k])      \n",
    "    return array(x),regs\n",
    "\n",
    "def get_newly_added(world_data_):\n",
    "    world_data_=world_data_.sort_values(['Country/Region','ObservationDate'])\n",
    "    temp=[0*i for i in range(len(world_data_))]\n",
    "    world_data_['New Confirmed']=temp\n",
    "    world_data_['New Death']=temp\n",
    "    for i in tqdm(range(1,len(world_data_))):\n",
    "        if(world_data_['Country/Region'].iloc[i]==world_data_['Country/Region'].iloc[i-1]):\n",
    "            if(world_data_['Deaths'].iloc[i]<world_data_['Deaths'].iloc[i-1]):\n",
    "                world_data_['Deaths'].iloc[i]=world_data_['Deaths'].iloc[i-1]\n",
    "            if(world_data_['Confirmed'].iloc[i]<world_data_['Confirmed'].iloc[i-1]):\n",
    "                world_data_['Confirmed'].iloc[i]=world_data_['Confirmed'].iloc[i-1]     \n",
    "            world_data_['New Confirmed'].iloc[i]=world_data_['Confirmed'].iloc[i]-world_data_['Confirmed'].iloc[i-1]\n",
    "            world_data_['New Death'].iloc[i]=world_data_['Deaths'].iloc[i]-world_data_['Deaths'].iloc[i-1]\n",
    "        else:\n",
    "            world_data_['New Confirmed'].iloc[i]=world_data_['Confirmed'].iloc[i]\n",
    "            world_data_['New Death'].iloc[i]=world_data_['Deaths'].iloc[i]\n",
    "    return world_data_\n",
    "\n",
    "def list_per_region(train):\n",
    "  # Creating list of all regions of all counntries\n",
    "    unique_regions = train['Country/Region'].unique()\n",
    "    states_per_regions = []\n",
    "    for reg in tqdm(unique_regions):\n",
    "        states_per_regions.append(\n",
    "            train[train['Country/Region'] == reg]['Country/Region'].unique())\n",
    "    return states_per_regions, unique_regions\n",
    "\n",
    "def prepare_submission(res_c, res_d, res_nc, test, pivot_date, end_date): \n",
    "    test = test.query(\"Date>=\"+pivot_date)\n",
    "    test = test.query(\"Date<=\"+end_date)\n",
    "    index=dict()\n",
    "    for i in range(len(res_c)):\n",
    "        index[res_c.iloc[i]['Country/State'][0]]=i\n",
    "    pred_c=[]\n",
    "    pred_d=[]\n",
    "    pred_nc=[]\n",
    "    for i in tqdm(range(len(test))):\n",
    "        if(test.iloc[i]['Country/Region'] in index):\n",
    "            loc=index[test.iloc[i]['Country/Region']]\n",
    "            date = datetime.datetime.strftime(test.iloc[i]['Date'].date(), format=\"%Y-%m-%d\")\n",
    "            \n",
    "            pred_c.append(res_c.iloc[loc][date])     \n",
    "            pred_d.append(res_d.iloc[loc][date]) \n",
    "            pred_nc.append(res_nc.iloc[loc][date]) \n",
    "\n",
    "    test['ConfirmedCases']=pred_c\n",
    "    test['Fatalities']=pred_d\n",
    "    test['New Confirmed']=pred_nc\n",
    "    res_regional=test\n",
    "    res=test.drop(columns=['Country/Region','Date','New Confirmed'])\n",
    "    return res, res_regional\n",
    "\n",
    "def convert_predictions_df(res_c, res_d, res_nc, test, pivot_date, end_date):\n",
    "    test = test.query(\"Date>=\"+pivot_date)\n",
    "    test = test.query(\"Date<=\"+end_date)\n",
    "    index=dict()\n",
    "    for i in range(len(res_nc)):\n",
    "        index[res_nc.iloc[i]['Country/State'][0]]=i\n",
    "\n",
    "    pred_c, pred_d, pred_nc=[], [], []\n",
    "    for i in tqdm(range(len(test))):\n",
    "        if(test.iloc[i]['Country/Region'] in index):\n",
    "            loc=index[test.iloc[i]['Country/Region']]\n",
    "            date = datetime.datetime.strftime(test.iloc[i]['Date'].date(), format=\"%Y-%m-%d\")\n",
    "            pred_nc.append(res_nc.iloc[loc][date]) \n",
    "            pred_c.append(res_c.iloc[loc][date]) \n",
    "            pred_d.append(res_d.iloc[loc][date]) \n",
    "    \n",
    "    test[\"Confirmed\"] = pred_c\n",
    "    test['New Confirmed'] = pred_nc\n",
    "    test[\"Deaths\"] = pred_d\n",
    "   \n",
    "    res_regional=test\n",
    "    res=test.drop(columns=['Country/Region','Date','New Confirmed'])\n",
    "    return res, res_regional\n",
    "\n",
    "def convert_predictions_nc(res_nc, test, pivot_date, end_date):\n",
    "    test = test.query(\"Date>=\"+pivot_date)\n",
    "    test = test.query(\"Date<=\"+end_date)\n",
    "    index=dict()\n",
    "    for i in range(len(res_nc)):\n",
    "        index[res_nc.iloc[i]['Country/State'][0]]=i\n",
    "\n",
    "    pred_c, pred_d, pred_nc=[], [], []\n",
    "    for i in tqdm(range(len(test))):\n",
    "        if(test.iloc[i]['Country/Region'] in index):\n",
    "            loc=index[test.iloc[i]['Country/Region']]\n",
    "            date = datetime.datetime.strftime(test.iloc[i]['Date'].date(), format=\"%Y-%m-%d\")\n",
    "            pred_nc.append(res_nc.iloc[loc][date]) \n",
    "    \n",
    "    test['New Confirmed'] = pred_nc\n",
    "   \n",
    "    res_regional=test\n",
    "    res=test.drop(columns=['Country/Region','Date','New Confirmed'])\n",
    "    return res, res_regional"
   ]
  },
  {
   "cell_type": "markdown",
   "metadata": {},
   "source": [
    "# Hyperparameter tuning"
   ]
  },
  {
   "cell_type": "code",
   "execution_count": null,
   "metadata": {
    "scrolled": true
   },
   "outputs": [
    {
     "name": "stdout",
     "output_type": "stream",
     "text": [
      "10/24/12\n"
     ]
    },
    {
     "data": {
      "application/vnd.jupyter.widget-view+json": {
       "model_id": "b5419d6b24fd471fa5023183ab1cb18f",
       "version_major": 2,
       "version_minor": 0
      },
      "text/plain": [
       "HBox(children=(FloatProgress(value=0.0, max=196.0), HTML(value='')))"
      ]
     },
     "metadata": {},
     "output_type": "display_data"
    },
    {
     "name": "stdout",
     "output_type": "stream",
     "text": [
      "\n",
      "Cumulative Confirmed Cases\n"
     ]
    },
    {
     "data": {
      "application/vnd.jupyter.widget-view+json": {
       "model_id": "bf230c9351424524a38f7d65c8b98fac",
       "version_major": 2,
       "version_minor": 0
      },
      "text/plain": [
       "HBox(children=(FloatProgress(value=0.0, max=196.0), HTML(value='')))"
      ]
     },
     "metadata": {},
     "output_type": "display_data"
    },
    {
     "name": "stdout",
     "output_type": "stream",
     "text": [
      "\n",
      "Confirmed Cases\n"
     ]
    },
    {
     "data": {
      "application/vnd.jupyter.widget-view+json": {
       "model_id": "357a2b4008c641789ee752cf6a41d297",
       "version_major": 2,
       "version_minor": 0
      },
      "text/plain": [
       "HBox(children=(FloatProgress(value=0.0, max=196.0), HTML(value='')))"
      ]
     },
     "metadata": {},
     "output_type": "display_data"
    },
    {
     "name": "stdout",
     "output_type": "stream",
     "text": [
      "\n"
     ]
    },
    {
     "data": {
      "application/vnd.jupyter.widget-view+json": {
       "model_id": "fce17de3680246c09a55fa39cbc85048",
       "version_major": 2,
       "version_minor": 0
      },
      "text/plain": [
       "HBox(children=(FloatProgress(value=0.0, max=196.0), HTML(value='')))"
      ]
     },
     "metadata": {},
     "output_type": "display_data"
    },
    {
     "name": "stdout",
     "output_type": "stream",
     "text": [
      "\n"
     ]
    },
    {
     "data": {
      "application/vnd.jupyter.widget-view+json": {
       "model_id": "89982a23437e4246a56a232b3085842b",
       "version_major": 2,
       "version_minor": 0
      },
      "text/plain": [
       "HBox(children=(FloatProgress(value=0.0, max=196.0), HTML(value='')))"
      ]
     },
     "metadata": {},
     "output_type": "display_data"
    },
    {
     "name": "stdout",
     "output_type": "stream",
     "text": [
      "\n",
      "Deaths Cases\n"
     ]
    },
    {
     "data": {
      "application/vnd.jupyter.widget-view+json": {
       "model_id": "9ccdafae15134fd8b9e8e46527a026c7",
       "version_major": 2,
       "version_minor": 0
      },
      "text/plain": [
       "HBox(children=(FloatProgress(value=0.0, max=196.0), HTML(value='')))"
      ]
     },
     "metadata": {},
     "output_type": "display_data"
    },
    {
     "name": "stdout",
     "output_type": "stream",
     "text": [
      "\n"
     ]
    },
    {
     "data": {
      "application/vnd.jupyter.widget-view+json": {
       "model_id": "de02dc4affa84431bd6789b55474b4bb",
       "version_major": 2,
       "version_minor": 0
      },
      "text/plain": [
       "HBox(children=(FloatProgress(value=0.0, max=196.0), HTML(value='')))"
      ]
     },
     "metadata": {},
     "output_type": "display_data"
    },
    {
     "name": "stdout",
     "output_type": "stream",
     "text": [
      "\n",
      "Finished preparing datasets.\n",
      "Epoch 1/10\n",
      "1035/1035 - 4s - loss: 0.4295 - val_loss: 0.0047\n",
      "Epoch 2/10\n",
      "1035/1035 - 4s - loss: 0.0029 - val_loss: 0.0030\n",
      "Epoch 3/10\n",
      "1035/1035 - 4s - loss: 0.0026 - val_loss: 0.0027\n",
      "Epoch 4/10\n",
      "1035/1035 - 4s - loss: 0.0026 - val_loss: 0.0026\n",
      "Epoch 5/10\n",
      "1035/1035 - 4s - loss: 0.0026 - val_loss: 0.0029\n",
      "Epoch 6/10\n",
      "1035/1035 - 4s - loss: 0.0025 - val_loss: 0.0027\n",
      "Epoch 7/10\n",
      "1035/1035 - 4s - loss: 0.0025 - val_loss: 0.0027\n",
      "Epoch 8/10\n",
      "\n",
      "Epoch 00008: ReduceLROnPlateau reducing learning rate to 0.0006000000284984708.\n",
      "1035/1035 - 4s - loss: 0.0025 - val_loss: 0.0028\n",
      "Epoch 9/10\n",
      "1035/1035 - 4s - loss: 0.0024 - val_loss: 0.0025\n",
      "Epoch 10/10\n",
      "1035/1035 - 4s - loss: 0.0024 - val_loss: 0.0025\n"
     ]
    },
    {
     "data": {
      "application/vnd.jupyter.widget-view+json": {
       "model_id": "ab39fc65741a44cca816fafdc4478dd0",
       "version_major": 2,
       "version_minor": 0
      },
      "text/plain": [
       "HBox(children=(FloatProgress(value=0.0, max=19600.0), HTML(value='')))"
      ]
     },
     "metadata": {},
     "output_type": "display_data"
    },
    {
     "name": "stdout",
     "output_type": "stream",
     "text": [
      "\n",
      "Marshall Islands [138.50248313903808, 4095.9893009948732, 1998.029075164795, 429.1578122711182, 14156.38752685547, 95485.87865234374, 8919.731259765626, 1947.8380433106422, 175.28240975379944, 7257.348834838867, 1660.8510794830322, 1517.3476013970376, 31415.33010498047, 1381.1787524652482, 1724.4725492477417, 6904.276260986328, 2563.011311187744, 2555.798078613281, 847.3885543823242, 1099.8038648986817, 3863.2395599365236, 542.7546205902099, 1320.9744003248215, 2655.6054461669924, 366717.45734375, 2096.144361271858, 1325.2086628627776, 1475.169727061987, 204.43162213325502, 1325.3886628627777, 1750.3026965904237, 6782.613182373047, 11169.885195922852, 11861.856274414062, 902.5861920928955, 898.5166226577759, 2153.9668773269655, 323.47462884902956, 34569.18909179688, 2027.2402912783623, 1286.1665315246582, 9707.603416748047, 1204.898620223999, 174.52751197814942, 79755.01814453125, 24939.517236328124, 1507.2351458227633, 1325.7683504030108, 1473.5633239746094, 14449.44253540039, 1226.9440620422363, 10798.025911865234, 1285.990034942627, 2834.4708821582794, 36700.27196289063, 1144.4133335876465, 10589.682020874023, 2012.7542826843262, 1325.2686628627778, 178673.21568359376, 377.8051687145233, 140489.20619140624, 7000.527474365234, 548.8331628417968, 262.232728061676, 1285.5898089623452, 3086.5148274612425, 2202.181677274704, 1325.3886628627777, 3518.4585494995117, 1324.5286628627778, 7000.124896240234, 3068.4179232788088, 318.857831325531, 3922.2393542480468, 5845.332731628418, 438.1877773475647, 11412.271317138671, 25633.599077148436, 419587.542265625, 6549.988461303711, 18033.479096679686, 24722.78859375, 1266.0307056427002, 43772.359482421874, 41315.16568359375, 790.320834274292, 4810.403768310547, 2779.0371453857424, 3149.3003858947754, 2096.5153518676757, 1324.562177836895, 1325.3486628627777, 2025.5737530517579, 1325.2686580112577, 11274.92522705078, 1678.487706475258, 2136.7835317993163, 1321.5186628627778, 1305.0416522693633, 468.90316678524016, 2200.0035845184325, 1164.1413731384278, 792.9227095794678, 1913.0865382385255, 23361.912319335937, 1656.4613298535346, 14255.228920898437, 717.6457950210571, 860.56965549469, 36244.855473632815]\n",
      "Solomon Islands [138.50248313903808, 4095.9893009948732, 1998.029075164795, 429.1578122711182, 14156.38752685547, 95485.87865234374, 8919.731259765626, 1947.8380433106422, 175.28240975379944, 7257.348834838867, 1660.8510794830322, 1517.3476013970376, 31415.33010498047, 1381.1787524652482, 1724.4725492477417, 6904.276260986328, 2563.011311187744, 2555.798078613281, 847.3885543823242, 1099.8038648986817, 3863.2395599365236, 542.7546205902099, 1320.9744003248215, 2655.6054461669924, 366717.45734375, 2096.144361271858, 1325.2086628627776, 1475.169727061987, 204.43162213325502, 1325.3886628627777, 1750.3026965904237, 6782.613182373047, 11169.885195922852, 11861.856274414062, 902.5861920928955, 898.5166226577759, 2153.9668773269655, 323.47462884902956, 34569.18909179688, 2027.2402912783623, 1286.1665315246582, 9707.603416748047, 1204.898620223999, 174.52751197814942, 79755.01814453125, 24939.517236328124, 1507.2351458227633, 1325.7683504030108, 1473.5633239746094, 14449.44253540039, 1226.9440620422363, 10798.025911865234, 1285.990034942627, 2834.4708821582794, 36700.27196289063, 1144.4133335876465, 10589.682020874023, 2012.7542826843262, 1325.2686628627778, 178673.21568359376, 377.8051687145233, 140489.20619140624, 7000.527474365234, 548.8331628417968, 262.232728061676, 1285.5898089623452, 3086.5148274612425, 2202.181677274704, 1325.3886628627777, 3518.4585494995117, 1324.5286628627778, 7000.124896240234, 3068.4179232788088, 318.857831325531, 3922.2393542480468, 5845.332731628418, 438.1877773475647, 11412.271317138671, 25633.599077148436, 419587.542265625, 6549.988461303711, 18033.479096679686, 24722.78859375, 1266.0307056427002, 43772.359482421874, 41315.16568359375, 790.320834274292, 4810.403768310547, 2779.0371453857424, 3149.3003858947754, 2096.5153518676757, 1324.562177836895, 1325.3486628627777, 2025.5737530517579, 1325.2686580112577, 11274.92522705078, 1678.487706475258, 2136.7835317993163, 1321.5186628627778, 1305.0416522693633, 468.90316678524016, 2200.0035845184325, 1164.1413731384278, 792.9227095794678, 1913.0865382385255, 23361.912319335937, 1656.4613298535346, 14255.228920898437, 717.6457950210571, 860.56965549469, 36244.855473632815, 5764.532287597656, 985.5138548088074, 2754.0474153900145, 11482.2903125, 21524.92227996826, 1314.3986628627777, 1780.1700114917755, 894.6124168395996, 203.43755570888518, 1325.3886628627777, 1641.0442124414444, 1669.2224034023284, 16705.559026489256, 1635.5624487304688, 1540.0245060431957, 758.3823608398437, 377.8116191101074, 34518.32715820312, 1172.3555680084228, 48728.98222412109, 1513.0598968243598, 956.5256886291504, 1871.7995568847657, 4430.623635253906, 10757.864731445312, 17628.251486816407, 2124.456540596485, 40439.81921142578, 1653.1849206542968, 8717.69856262207, 10219.558095703125, 2059.305953979492, 1126.59940826416, 577.4187077713012, 26575.466899414063, 71479.53331054687, 1007.4132448720932, 3331.5305197143553, 286.8182998800278, 424.29816400527955, 148.62155234336853]\n",
      "Slovenia [138.50248313903808, 4095.9893009948732, 1998.029075164795, 429.1578122711182, 14156.38752685547, 95485.87865234374, 8919.731259765626, 1947.8380433106422, 175.28240975379944, 7257.348834838867, 1660.8510794830322, 1517.3476013970376, 31415.33010498047, 1381.1787524652482, 1724.4725492477417, 6904.276260986328, 2563.011311187744, 2555.798078613281, 847.3885543823242, 1099.8038648986817, 3863.2395599365236, 542.7546205902099, 1320.9744003248215, 2655.6054461669924, 366717.45734375, 2096.144361271858, 1325.2086628627776, 1475.169727061987, 204.43162213325502, 1325.3886628627777, 1750.3026965904237, 6782.613182373047, 11169.885195922852, 11861.856274414062, 902.5861920928955, 898.5166226577759, 2153.9668773269655, 323.47462884902956, 34569.18909179688, 2027.2402912783623, 1286.1665315246582, 9707.603416748047, 1204.898620223999, 174.52751197814942, 79755.01814453125, 24939.517236328124, 1507.2351458227633, 1325.7683504030108, 1473.5633239746094, 14449.44253540039, 1226.9440620422363, 10798.025911865234, 1285.990034942627, 2834.4708821582794, 36700.27196289063, 1144.4133335876465, 10589.682020874023, 2012.7542826843262, 1325.2686628627778, 178673.21568359376, 377.8051687145233, 140489.20619140624, 7000.527474365234, 548.8331628417968, 262.232728061676, 1285.5898089623452, 3086.5148274612425, 2202.181677274704, 1325.3886628627777, 3518.4585494995117, 1324.5286628627778, 7000.124896240234, 3068.4179232788088, 318.857831325531, 3922.2393542480468, 5845.332731628418, 438.1877773475647, 11412.271317138671, 25633.599077148436, 419587.542265625, 6549.988461303711, 18033.479096679686, 24722.78859375, 1266.0307056427002, 43772.359482421874, 41315.16568359375, 790.320834274292, 4810.403768310547, 2779.0371453857424, 3149.3003858947754, 2096.5153518676757, 1324.562177836895, 1325.3486628627777, 2025.5737530517579, 1325.2686580112577, 11274.92522705078, 1678.487706475258, 2136.7835317993163, 1321.5186628627778, 1305.0416522693633, 468.90316678524016, 2200.0035845184325, 1164.1413731384278, 792.9227095794678, 1913.0865382385255, 23361.912319335937, 1656.4613298535346, 14255.228920898437, 717.6457950210571, 860.56965549469, 36244.855473632815, 5764.532287597656, 985.5138548088074, 2754.0474153900145, 11482.2903125, 21524.92227996826, 1314.3986628627777, 1780.1700114917755, 894.6124168395996, 203.43755570888518, 1325.3886628627777, 1641.0442124414444, 1669.2224034023284, 16705.559026489256, 1635.5624487304688, 1540.0245060431957, 758.3823608398437, 377.8116191101074, 34518.32715820312, 1172.3555680084228, 48728.98222412109, 1513.0598968243598, 956.5256886291504, 1871.7995568847657, 4430.623635253906, 10757.864731445312, 17628.251486816407, 2124.456540596485, 40439.81921142578, 1653.1849206542968, 8717.69856262207, 10219.558095703125, 2059.305953979492, 1126.59940826416, 577.4187077713012, 26575.466899414063, 71479.53331054687, 1007.4132448720932, 3331.5305197143553, 286.8182998800278, 424.29816400527955, 148.62155234336853, 992.6564542007446, 730.3528882598877, 1435.0295438349247, 2240.4743767166137, 2444.615778579712, 978.4212278079987, 1324.2814878368379, 322.8205368900299, 19157.478514404298]\n"
     ]
    },
    {
     "name": "stdout",
     "output_type": "stream",
     "text": [
      "Vanuatu [138.50248313903808, 4095.9893009948732, 1998.029075164795, 429.1578122711182, 14156.38752685547, 95485.87865234374, 8919.731259765626, 1947.8380433106422, 175.28240975379944, 7257.348834838867, 1660.8510794830322, 1517.3476013970376, 31415.33010498047, 1381.1787524652482, 1724.4725492477417, 6904.276260986328, 2563.011311187744, 2555.798078613281, 847.3885543823242, 1099.8038648986817, 3863.2395599365236, 542.7546205902099, 1320.9744003248215, 2655.6054461669924, 366717.45734375, 2096.144361271858, 1325.2086628627776, 1475.169727061987, 204.43162213325502, 1325.3886628627777, 1750.3026965904237, 6782.613182373047, 11169.885195922852, 11861.856274414062, 902.5861920928955, 898.5166226577759, 2153.9668773269655, 323.47462884902956, 34569.18909179688, 2027.2402912783623, 1286.1665315246582, 9707.603416748047, 1204.898620223999, 174.52751197814942, 79755.01814453125, 24939.517236328124, 1507.2351458227633, 1325.7683504030108, 1473.5633239746094, 14449.44253540039, 1226.9440620422363, 10798.025911865234, 1285.990034942627, 2834.4708821582794, 36700.27196289063, 1144.4133335876465, 10589.682020874023, 2012.7542826843262, 1325.2686628627778, 178673.21568359376, 377.8051687145233, 140489.20619140624, 7000.527474365234, 548.8331628417968, 262.232728061676, 1285.5898089623452, 3086.5148274612425, 2202.181677274704, 1325.3886628627777, 3518.4585494995117, 1324.5286628627778, 7000.124896240234, 3068.4179232788088, 318.857831325531, 3922.2393542480468, 5845.332731628418, 438.1877773475647, 11412.271317138671, 25633.599077148436, 419587.542265625, 6549.988461303711, 18033.479096679686, 24722.78859375, 1266.0307056427002, 43772.359482421874, 41315.16568359375, 790.320834274292, 4810.403768310547, 2779.0371453857424, 3149.3003858947754, 2096.5153518676757, 1324.562177836895, 1325.3486628627777, 2025.5737530517579, 1325.2686580112577, 11274.92522705078, 1678.487706475258, 2136.7835317993163, 1321.5186628627778, 1305.0416522693633, 468.90316678524016, 2200.0035845184325, 1164.1413731384278, 792.9227095794678, 1913.0865382385255, 23361.912319335937, 1656.4613298535346, 14255.228920898437, 717.6457950210571, 860.56965549469, 36244.855473632815, 5764.532287597656, 985.5138548088074, 2754.0474153900145, 11482.2903125, 21524.92227996826, 1314.3986628627777, 1780.1700114917755, 894.6124168395996, 203.43755570888518, 1325.3886628627777, 1641.0442124414444, 1669.2224034023284, 16705.559026489256, 1635.5624487304688, 1540.0245060431957, 758.3823608398437, 377.8116191101074, 34518.32715820312, 1172.3555680084228, 48728.98222412109, 1513.0598968243598, 956.5256886291504, 1871.7995568847657, 4430.623635253906, 10757.864731445312, 17628.251486816407, 2124.456540596485, 40439.81921142578, 1653.1849206542968, 8717.69856262207, 10219.558095703125, 2059.305953979492, 1126.59940826416, 577.4187077713012, 26575.466899414063, 71479.53331054687, 1007.4132448720932, 3331.5305197143553, 286.8182998800278, 424.29816400527955, 148.62155234336853, 992.6564542007446, 730.3528882598877, 1435.0295438349247, 2240.4743767166137, 2444.615778579712, 978.4212278079987, 1324.2814878368379, 322.8205368900299, 19157.478514404298, 4557.746848144531, 207.8303134918213, 1321.5986628627777, 703.5276066207886, 681.9491438245773, 589.0052614212036, 271.4041818094254, 691.4586339569091, 1325.2486628627778, 1186.0075023651123, 6101.759762573242, 16302.772958984375, 1679.800139913559, 1325.3886628627777, 1245.2849534606933, 48341.82729492187, 1614.8028310394286, 429476.487109375, 4522.636114196777, 1325.2935679483414, 1323.8686628627777, 6703.295462646484, 1837.0483254694939, 1633.0881527256965]\n",
      "Samoa [138.50248313903808, 4095.9893009948732, 1998.029075164795, 429.1578122711182, 14156.38752685547, 95485.87865234374, 8919.731259765626, 1947.8380433106422, 175.28240975379944, 7257.348834838867, 1660.8510794830322, 1517.3476013970376, 31415.33010498047, 1381.1787524652482, 1724.4725492477417, 6904.276260986328, 2563.011311187744, 2555.798078613281, 847.3885543823242, 1099.8038648986817, 3863.2395599365236, 542.7546205902099, 1320.9744003248215, 2655.6054461669924, 366717.45734375, 2096.144361271858, 1325.2086628627776, 1475.169727061987, 204.43162213325502, 1325.3886628627777, 1750.3026965904237, 6782.613182373047, 11169.885195922852, 11861.856274414062, 902.5861920928955, 898.5166226577759, 2153.9668773269655, 323.47462884902956, 34569.18909179688, 2027.2402912783623, 1286.1665315246582, 9707.603416748047, 1204.898620223999, 174.52751197814942, 79755.01814453125, 24939.517236328124, 1507.2351458227633, 1325.7683504030108, 1473.5633239746094, 14449.44253540039, 1226.9440620422363, 10798.025911865234, 1285.990034942627, 2834.4708821582794, 36700.27196289063, 1144.4133335876465, 10589.682020874023, 2012.7542826843262, 1325.2686628627778, 178673.21568359376, 377.8051687145233, 140489.20619140624, 7000.527474365234, 548.8331628417968, 262.232728061676, 1285.5898089623452, 3086.5148274612425, 2202.181677274704, 1325.3886628627777, 3518.4585494995117, 1324.5286628627778, 7000.124896240234, 3068.4179232788088, 318.857831325531, 3922.2393542480468, 5845.332731628418, 438.1877773475647, 11412.271317138671, 25633.599077148436, 419587.542265625, 6549.988461303711, 18033.479096679686, 24722.78859375, 1266.0307056427002, 43772.359482421874, 41315.16568359375, 790.320834274292, 4810.403768310547, 2779.0371453857424, 3149.3003858947754, 2096.5153518676757, 1324.562177836895, 1325.3486628627777, 2025.5737530517579, 1325.2686580112577, 11274.92522705078, 1678.487706475258, 2136.7835317993163, 1321.5186628627778, 1305.0416522693633, 468.90316678524016, 2200.0035845184325, 1164.1413731384278, 792.9227095794678, 1913.0865382385255, 23361.912319335937, 1656.4613298535346, 14255.228920898437, 717.6457950210571, 860.56965549469, 36244.855473632815, 5764.532287597656, 985.5138548088074, 2754.0474153900145, 11482.2903125, 21524.92227996826, 1314.3986628627777, 1780.1700114917755, 894.6124168395996, 203.43755570888518, 1325.3886628627777, 1641.0442124414444, 1669.2224034023284, 16705.559026489256, 1635.5624487304688, 1540.0245060431957, 758.3823608398437, 377.8116191101074, 34518.32715820312, 1172.3555680084228, 48728.98222412109, 1513.0598968243598, 956.5256886291504, 1871.7995568847657, 4430.623635253906, 10757.864731445312, 17628.251486816407, 2124.456540596485, 40439.81921142578, 1653.1849206542968, 8717.69856262207, 10219.558095703125, 2059.305953979492, 1126.59940826416, 577.4187077713012, 26575.466899414063, 71479.53331054687, 1007.4132448720932, 3331.5305197143553, 286.8182998800278, 424.29816400527955, 148.62155234336853, 992.6564542007446, 730.3528882598877, 1435.0295438349247, 2240.4743767166137, 2444.615778579712, 978.4212278079987, 1324.2814878368379, 322.8205368900299, 19157.478514404298, 4557.746848144531, 207.8303134918213, 1321.5986628627777, 703.5276066207886, 681.9491438245773, 589.0052614212036, 271.4041818094254, 691.4586339569091, 1325.2486628627778, 1186.0075023651123, 6101.759762573242, 16302.772958984375, 1679.800139913559, 1325.3886628627777, 1245.2849534606933, 48341.82729492187, 1614.8028310394286, 429476.487109375, 4522.636114196777, 1325.2935679483414, 1323.8686628627777, 6703.295462646484, 1837.0483254694939, 1633.0881527256965]\n",
      "10/24/32\n"
     ]
    },
    {
     "data": {
      "application/vnd.jupyter.widget-view+json": {
       "model_id": "539faa313644494ab10e8aa0d77593c7",
       "version_major": 2,
       "version_minor": 0
      },
      "text/plain": [
       "HBox(children=(FloatProgress(value=0.0, max=196.0), HTML(value='')))"
      ]
     },
     "metadata": {},
     "output_type": "display_data"
    },
    {
     "name": "stdout",
     "output_type": "stream",
     "text": [
      "\n",
      "Cumulative Confirmed Cases\n"
     ]
    },
    {
     "data": {
      "application/vnd.jupyter.widget-view+json": {
       "model_id": "85def28d636149afaa127887c7c0e575",
       "version_major": 2,
       "version_minor": 0
      },
      "text/plain": [
       "HBox(children=(FloatProgress(value=0.0, max=196.0), HTML(value='')))"
      ]
     },
     "metadata": {},
     "output_type": "display_data"
    },
    {
     "name": "stdout",
     "output_type": "stream",
     "text": [
      "\n",
      "Confirmed Cases\n"
     ]
    },
    {
     "data": {
      "application/vnd.jupyter.widget-view+json": {
       "model_id": "204c720ddbe84517914ba3f9661ff0f7",
       "version_major": 2,
       "version_minor": 0
      },
      "text/plain": [
       "HBox(children=(FloatProgress(value=0.0, max=196.0), HTML(value='')))"
      ]
     },
     "metadata": {},
     "output_type": "display_data"
    },
    {
     "name": "stdout",
     "output_type": "stream",
     "text": [
      "\n"
     ]
    },
    {
     "data": {
      "application/vnd.jupyter.widget-view+json": {
       "model_id": "6b688c41e34249b5a7a480d5a8ec993c",
       "version_major": 2,
       "version_minor": 0
      },
      "text/plain": [
       "HBox(children=(FloatProgress(value=0.0, max=196.0), HTML(value='')))"
      ]
     },
     "metadata": {},
     "output_type": "display_data"
    },
    {
     "name": "stdout",
     "output_type": "stream",
     "text": [
      "\n"
     ]
    },
    {
     "data": {
      "application/vnd.jupyter.widget-view+json": {
       "model_id": "6c1a04b11bb6428fbf6d55e14a88585f",
       "version_major": 2,
       "version_minor": 0
      },
      "text/plain": [
       "HBox(children=(FloatProgress(value=0.0, max=196.0), HTML(value='')))"
      ]
     },
     "metadata": {},
     "output_type": "display_data"
    },
    {
     "name": "stdout",
     "output_type": "stream",
     "text": [
      "\n",
      "Deaths Cases\n"
     ]
    },
    {
     "data": {
      "application/vnd.jupyter.widget-view+json": {
       "model_id": "dc1352c809934ab49da2e51ce3100823",
       "version_major": 2,
       "version_minor": 0
      },
      "text/plain": [
       "HBox(children=(FloatProgress(value=0.0, max=196.0), HTML(value='')))"
      ]
     },
     "metadata": {},
     "output_type": "display_data"
    },
    {
     "name": "stdout",
     "output_type": "stream",
     "text": [
      "\n"
     ]
    },
    {
     "data": {
      "application/vnd.jupyter.widget-view+json": {
       "model_id": "daca810276c24dcc82abba4066255bba",
       "version_major": 2,
       "version_minor": 0
      },
      "text/plain": [
       "HBox(children=(FloatProgress(value=0.0, max=196.0), HTML(value='')))"
      ]
     },
     "metadata": {},
     "output_type": "display_data"
    },
    {
     "name": "stdout",
     "output_type": "stream",
     "text": [
      "\n",
      "Finished preparing datasets.\n",
      "Epoch 1/10\n",
      "1035/1035 - 4s - loss: 0.1693 - val_loss: 0.0038\n",
      "Epoch 2/10\n",
      "1035/1035 - 4s - loss: 0.0028 - val_loss: 0.0030\n",
      "Epoch 3/10\n",
      "1035/1035 - 3s - loss: 0.0026 - val_loss: 0.0028\n",
      "Epoch 4/10\n",
      "1035/1035 - 3s - loss: 0.0026 - val_loss: 0.0026\n",
      "Epoch 5/10\n",
      "1035/1035 - 4s - loss: 0.0025 - val_loss: 0.0028\n",
      "Epoch 6/10\n",
      "1035/1035 - 4s - loss: 0.0025 - val_loss: 0.0026\n",
      "Epoch 7/10\n",
      "1035/1035 - 3s - loss: 0.0025 - val_loss: 0.0026\n",
      "Epoch 8/10\n",
      "1035/1035 - 3s - loss: 0.0025 - val_loss: 0.0027\n",
      "Epoch 9/10\n",
      "\n",
      "Epoch 00009: ReduceLROnPlateau reducing learning rate to 0.0006000000284984708.\n",
      "1035/1035 - 4s - loss: 0.0025 - val_loss: 0.0025\n",
      "Epoch 10/10\n",
      "1035/1035 - 3s - loss: 0.0024 - val_loss: 0.0025\n"
     ]
    },
    {
     "data": {
      "application/vnd.jupyter.widget-view+json": {
       "model_id": "d396212f7c8243428cd788279dc39514",
       "version_major": 2,
       "version_minor": 0
      },
      "text/plain": [
       "HBox(children=(FloatProgress(value=0.0, max=19600.0), HTML(value='')))"
      ]
     },
     "metadata": {},
     "output_type": "display_data"
    },
    {
     "name": "stdout",
     "output_type": "stream",
     "text": [
      "\n",
      "Marshall Islands [342.51958425998686, 3698.0111589050293, 2248.5332231140137, 197.19512935638429, 13568.682312011719, 78792.47776367188, 9218.295329589844, 1404.8719784069062, 183.18337403297426, 7063.874905395508, 1717.836484069824, 1087.6678549647331, 25991.67593017578, 1069.1369427967072, 1481.0762232971192, 3979.5821618652344, 2319.2121871948243, 1107.8797439575196, 474.63351959228515, 777.8530708312989, 4113.599256286621, 91.76425266265869, 855.0935143238306, 1138.2594140625, 324164.84279296873, 1492.7372334098816, 859.3217611342668, 899.4737386119366, 570.3150417232514, 859.5017611342669, 1213.5039300060273, 3432.089411621094, 9973.245399169922, 7675.526821289062, 1041.97688747406, 796.6130855751038, 1574.2234743499755, 568.9320311498642, 19307.318427734375, 1441.7693150544167, 1209.268447265625, 9033.02537475586, 1310.416566619873, 227.33493963241577, 57243.25525878906, 20531.141220703124, 930.0840109807253, 843.0721140408516, 729.6695327758789, 15172.878831176758, 1137.2680931091309, 9431.591291503906, 1314.3781784057617, 1926.2105298233032, 11501.383305664063, 1285.8304068756104, 11047.111818847656, 2221.213204345703, 859.3817611342669, 204269.82717773438, 443.2205118560791, 139681.7346484375, 6738.693505554199, 312.58268901824954, 257.026914768219, 1043.105003721714, 2257.1810473632813, 1595.932834558487, 859.5017611342669, 3336.0612771606447, 858.6417611342669, 5289.7311975097655, 2709.0995135498047, 141.5457052707672, 2449.637835693359, 5472.062646789551, 553.97485704422, 10783.886146240235, 17296.427631835937, 200944.735078125, 7004.626032104492, 12619.71142578125, 15261.414106445312, 1451.3334520339965, 28722.241083984376, 37186.58423828125, 471.82895545959474, 3980.25962890625, 2560.340254211426, 3149.3376097106934, 2054.845405731201, 858.6793414086103, 859.4617611342669, 355.7388571929932, 859.3835939073563, 10555.031893310546, 1181.1569620192051, 444.8667800140381, 855.6317611342669, 840.1754582184553, 588.3820966005326, 1844.8486861801148, 1221.4402099609374, 464.38245265960694, 1546.3339213562012, 21224.52721923828, 1215.9484317553042, 12511.488323974609, 780.8227307891846, 835.7039991760254, 30348.928671875]\n",
      "Solomon Islands [342.51958425998686, 3698.0111589050293, 2248.5332231140137, 197.19512935638429, 13568.682312011719, 78792.47776367188, 9218.295329589844, 1404.8719784069062, 183.18337403297426, 7063.874905395508, 1717.836484069824, 1087.6678549647331, 25991.67593017578, 1069.1369427967072, 1481.0762232971192, 3979.5821618652344, 2319.2121871948243, 1107.8797439575196, 474.63351959228515, 777.8530708312989, 4113.599256286621, 91.76425266265869, 855.0935143238306, 1138.2594140625, 324164.84279296873, 1492.7372334098816, 859.3217611342668, 899.4737386119366, 570.3150417232514, 859.5017611342669, 1213.5039300060273, 3432.089411621094, 9973.245399169922, 7675.526821289062, 1041.97688747406, 796.6130855751038, 1574.2234743499755, 568.9320311498642, 19307.318427734375, 1441.7693150544167, 1209.268447265625, 9033.02537475586, 1310.416566619873, 227.33493963241577, 57243.25525878906, 20531.141220703124, 930.0840109807253, 843.0721140408516, 729.6695327758789, 15172.878831176758, 1137.2680931091309, 9431.591291503906, 1314.3781784057617, 1926.2105298233032, 11501.383305664063, 1285.8304068756104, 11047.111818847656, 2221.213204345703, 859.3817611342669, 204269.82717773438, 443.2205118560791, 139681.7346484375, 6738.693505554199, 312.58268901824954, 257.026914768219, 1043.105003721714, 2257.1810473632813, 1595.932834558487, 859.5017611342669, 3336.0612771606447, 858.6417611342669, 5289.7311975097655, 2709.0995135498047, 141.5457052707672, 2449.637835693359, 5472.062646789551, 553.97485704422, 10783.886146240235, 17296.427631835937, 200944.735078125, 7004.626032104492, 12619.71142578125, 15261.414106445312, 1451.3334520339965, 28722.241083984376, 37186.58423828125, 471.82895545959474, 3980.25962890625, 2560.340254211426, 3149.3376097106934, 2054.845405731201, 858.6793414086103, 859.4617611342669, 355.7388571929932, 859.3835939073563, 10555.031893310546, 1181.1569620192051, 444.8667800140381, 855.6317611342669, 840.1754582184553, 588.3820966005326, 1844.8486861801148, 1221.4402099609374, 464.38245265960694, 1546.3339213562012, 21224.52721923828, 1215.9484317553042, 12511.488323974609, 780.8227307891846, 835.7039991760254, 30348.928671875, 5150.494862060546, 948.4986301040649, 2262.0179374313357, 11669.159875488282, 15545.455325317384, 848.5136070102453, 1263.7322321605682, 389.9648289489746, 704.080417778492, 859.5017611342669, 1171.5299901509286, 1281.6108061432838, 12452.065330200196, 1673.1863500213624, 1055.4423232609033, 357.9610873413086, 821.5788796472549, 34995.699958496094, 1169.7603967285156, 40134.75633056641, 1169.3169537377357, 857.2874575042724, 1193.0973016357423, 3759.996203613281, 809.8532452392578, 12211.484536132812, 1518.437904753685, 33722.63586914063, 399.21473388671876, 8241.685836791992, 10072.376270141602, 1340.3057846069337, 494.33950469970705, 603.0110898590087, 23442.147053222656, 67646.79725585938, 930.1311895823478, 2655.118021850586, 749.9723260498047, 360.68766326904296, 319.619170627594]\n",
      "Slovenia [342.51958425998686, 3698.0111589050293, 2248.5332231140137, 197.19512935638429, 13568.682312011719, 78792.47776367188, 9218.295329589844, 1404.8719784069062, 183.18337403297426, 7063.874905395508, 1717.836484069824, 1087.6678549647331, 25991.67593017578, 1069.1369427967072, 1481.0762232971192, 3979.5821618652344, 2319.2121871948243, 1107.8797439575196, 474.63351959228515, 777.8530708312989, 4113.599256286621, 91.76425266265869, 855.0935143238306, 1138.2594140625, 324164.84279296873, 1492.7372334098816, 859.3217611342668, 899.4737386119366, 570.3150417232514, 859.5017611342669, 1213.5039300060273, 3432.089411621094, 9973.245399169922, 7675.526821289062, 1041.97688747406, 796.6130855751038, 1574.2234743499755, 568.9320311498642, 19307.318427734375, 1441.7693150544167, 1209.268447265625, 9033.02537475586, 1310.416566619873, 227.33493963241577, 57243.25525878906, 20531.141220703124, 930.0840109807253, 843.0721140408516, 729.6695327758789, 15172.878831176758, 1137.2680931091309, 9431.591291503906, 1314.3781784057617, 1926.2105298233032, 11501.383305664063, 1285.8304068756104, 11047.111818847656, 2221.213204345703, 859.3817611342669, 204269.82717773438, 443.2205118560791, 139681.7346484375, 6738.693505554199, 312.58268901824954, 257.026914768219, 1043.105003721714, 2257.1810473632813, 1595.932834558487, 859.5017611342669, 3336.0612771606447, 858.6417611342669, 5289.7311975097655, 2709.0995135498047, 141.5457052707672, 2449.637835693359, 5472.062646789551, 553.97485704422, 10783.886146240235, 17296.427631835937, 200944.735078125, 7004.626032104492, 12619.71142578125, 15261.414106445312, 1451.3334520339965, 28722.241083984376, 37186.58423828125, 471.82895545959474, 3980.25962890625, 2560.340254211426, 3149.3376097106934, 2054.845405731201, 858.6793414086103, 859.4617611342669, 355.7388571929932, 859.3835939073563, 10555.031893310546, 1181.1569620192051, 444.8667800140381, 855.6317611342669, 840.1754582184553, 588.3820966005326, 1844.8486861801148, 1221.4402099609374, 464.38245265960694, 1546.3339213562012, 21224.52721923828, 1215.9484317553042, 12511.488323974609, 780.8227307891846, 835.7039991760254, 30348.928671875, 5150.494862060546, 948.4986301040649, 2262.0179374313357, 11669.159875488282, 15545.455325317384, 848.5136070102453, 1263.7322321605682, 389.9648289489746, 704.080417778492, 859.5017611342669, 1171.5299901509286, 1281.6108061432838, 12452.065330200196, 1673.1863500213624, 1055.4423232609033, 357.9610873413086, 821.5788796472549, 34995.699958496094, 1169.7603967285156, 40134.75633056641, 1169.3169537377357, 857.2874575042724, 1193.0973016357423, 3759.996203613281, 809.8532452392578, 12211.484536132812, 1518.437904753685, 33722.63586914063, 399.21473388671876, 8241.685836791992, 10072.376270141602, 1340.3057846069337, 494.33950469970705, 603.0110898590087, 23442.147053222656, 67646.79725585938, 930.1311895823478, 2655.118021850586, 749.9723260498047, 360.68766326904296, 319.619170627594, 1033.0969547080995, 358.68264083862306, 926.7694940680266, 1635.312679555416, 2466.9509705352784, 950.1447418522835, 858.420726723075, 496.51779275894165, 17456.34305847168]\n"
     ]
    },
    {
     "name": "stdout",
     "output_type": "stream",
     "text": [
      "Vanuatu [342.51958425998686, 3698.0111589050293, 2248.5332231140137, 197.19512935638429, 13568.682312011719, 78792.47776367188, 9218.295329589844, 1404.8719784069062, 183.18337403297426, 7063.874905395508, 1717.836484069824, 1087.6678549647331, 25991.67593017578, 1069.1369427967072, 1481.0762232971192, 3979.5821618652344, 2319.2121871948243, 1107.8797439575196, 474.63351959228515, 777.8530708312989, 4113.599256286621, 91.76425266265869, 855.0935143238306, 1138.2594140625, 324164.84279296873, 1492.7372334098816, 859.3217611342668, 899.4737386119366, 570.3150417232514, 859.5017611342669, 1213.5039300060273, 3432.089411621094, 9973.245399169922, 7675.526821289062, 1041.97688747406, 796.6130855751038, 1574.2234743499755, 568.9320311498642, 19307.318427734375, 1441.7693150544167, 1209.268447265625, 9033.02537475586, 1310.416566619873, 227.33493963241577, 57243.25525878906, 20531.141220703124, 930.0840109807253, 843.0721140408516, 729.6695327758789, 15172.878831176758, 1137.2680931091309, 9431.591291503906, 1314.3781784057617, 1926.2105298233032, 11501.383305664063, 1285.8304068756104, 11047.111818847656, 2221.213204345703, 859.3817611342669, 204269.82717773438, 443.2205118560791, 139681.7346484375, 6738.693505554199, 312.58268901824954, 257.026914768219, 1043.105003721714, 2257.1810473632813, 1595.932834558487, 859.5017611342669, 3336.0612771606447, 858.6417611342669, 5289.7311975097655, 2709.0995135498047, 141.5457052707672, 2449.637835693359, 5472.062646789551, 553.97485704422, 10783.886146240235, 17296.427631835937, 200944.735078125, 7004.626032104492, 12619.71142578125, 15261.414106445312, 1451.3334520339965, 28722.241083984376, 37186.58423828125, 471.82895545959474, 3980.25962890625, 2560.340254211426, 3149.3376097106934, 2054.845405731201, 858.6793414086103, 859.4617611342669, 355.7388571929932, 859.3835939073563, 10555.031893310546, 1181.1569620192051, 444.8667800140381, 855.6317611342669, 840.1754582184553, 588.3820966005326, 1844.8486861801148, 1221.4402099609374, 464.38245265960694, 1546.3339213562012, 21224.52721923828, 1215.9484317553042, 12511.488323974609, 780.8227307891846, 835.7039991760254, 30348.928671875, 5150.494862060546, 948.4986301040649, 2262.0179374313357, 11669.159875488282, 15545.455325317384, 848.5136070102453, 1263.7322321605682, 389.9648289489746, 704.080417778492, 859.5017611342669, 1171.5299901509286, 1281.6108061432838, 12452.065330200196, 1673.1863500213624, 1055.4423232609033, 357.9610873413086, 821.5788796472549, 34995.699958496094, 1169.7603967285156, 40134.75633056641, 1169.3169537377357, 857.2874575042724, 1193.0973016357423, 3759.996203613281, 809.8532452392578, 12211.484536132812, 1518.437904753685, 33722.63586914063, 399.21473388671876, 8241.685836791992, 10072.376270141602, 1340.3057846069337, 494.33950469970705, 603.0110898590087, 23442.147053222656, 67646.79725585938, 930.1311895823478, 2655.118021850586, 749.9723260498047, 360.68766326904296, 319.619170627594, 1033.0969547080995, 358.68264083862306, 926.7694940680266, 1635.312679555416, 2466.9509705352784, 950.1447418522835, 858.420726723075, 496.51779275894165, 17456.34305847168, 3434.9557470703126, 209.10778232574464, 855.7117611342669, 756.6116474151611, 784.6054170131683, 741.6760194587707, 637.9319724655152, 729.5388928604126, 859.3617611342669, 1311.0115718460083, 3999.657177734375, 15148.248807373047, 1182.46803591609, 859.5017611342669, 907.7598789978027, 48694.49854980469, 1294.8500492668152, 422828.7051171875, 3894.9768841552736, 859.4434373337031, 857.9817611342669, 5770.569792480469, 1360.7018523573875, 1118.773173854351]\n",
      "Samoa [342.51958425998686, 3698.0111589050293, 2248.5332231140137, 197.19512935638429, 13568.682312011719, 78792.47776367188, 9218.295329589844, 1404.8719784069062, 183.18337403297426, 7063.874905395508, 1717.836484069824, 1087.6678549647331, 25991.67593017578, 1069.1369427967072, 1481.0762232971192, 3979.5821618652344, 2319.2121871948243, 1107.8797439575196, 474.63351959228515, 777.8530708312989, 4113.599256286621, 91.76425266265869, 855.0935143238306, 1138.2594140625, 324164.84279296873, 1492.7372334098816, 859.3217611342668, 899.4737386119366, 570.3150417232514, 859.5017611342669, 1213.5039300060273, 3432.089411621094, 9973.245399169922, 7675.526821289062, 1041.97688747406, 796.6130855751038, 1574.2234743499755, 568.9320311498642, 19307.318427734375, 1441.7693150544167, 1209.268447265625, 9033.02537475586, 1310.416566619873, 227.33493963241577, 57243.25525878906, 20531.141220703124, 930.0840109807253, 843.0721140408516, 729.6695327758789, 15172.878831176758, 1137.2680931091309, 9431.591291503906, 1314.3781784057617, 1926.2105298233032, 11501.383305664063, 1285.8304068756104, 11047.111818847656, 2221.213204345703, 859.3817611342669, 204269.82717773438, 443.2205118560791, 139681.7346484375, 6738.693505554199, 312.58268901824954, 257.026914768219, 1043.105003721714, 2257.1810473632813, 1595.932834558487, 859.5017611342669, 3336.0612771606447, 858.6417611342669, 5289.7311975097655, 2709.0995135498047, 141.5457052707672, 2449.637835693359, 5472.062646789551, 553.97485704422, 10783.886146240235, 17296.427631835937, 200944.735078125, 7004.626032104492, 12619.71142578125, 15261.414106445312, 1451.3334520339965, 28722.241083984376, 37186.58423828125, 471.82895545959474, 3980.25962890625, 2560.340254211426, 3149.3376097106934, 2054.845405731201, 858.6793414086103, 859.4617611342669, 355.7388571929932, 859.3835939073563, 10555.031893310546, 1181.1569620192051, 444.8667800140381, 855.6317611342669, 840.1754582184553, 588.3820966005326, 1844.8486861801148, 1221.4402099609374, 464.38245265960694, 1546.3339213562012, 21224.52721923828, 1215.9484317553042, 12511.488323974609, 780.8227307891846, 835.7039991760254, 30348.928671875, 5150.494862060546, 948.4986301040649, 2262.0179374313357, 11669.159875488282, 15545.455325317384, 848.5136070102453, 1263.7322321605682, 389.9648289489746, 704.080417778492, 859.5017611342669, 1171.5299901509286, 1281.6108061432838, 12452.065330200196, 1673.1863500213624, 1055.4423232609033, 357.9610873413086, 821.5788796472549, 34995.699958496094, 1169.7603967285156, 40134.75633056641, 1169.3169537377357, 857.2874575042724, 1193.0973016357423, 3759.996203613281, 809.8532452392578, 12211.484536132812, 1518.437904753685, 33722.63586914063, 399.21473388671876, 8241.685836791992, 10072.376270141602, 1340.3057846069337, 494.33950469970705, 603.0110898590087, 23442.147053222656, 67646.79725585938, 930.1311895823478, 2655.118021850586, 749.9723260498047, 360.68766326904296, 319.619170627594, 1033.0969547080995, 358.68264083862306, 926.7694940680266, 1635.312679555416, 2466.9509705352784, 950.1447418522835, 858.420726723075, 496.51779275894165, 17456.34305847168, 3434.9557470703126, 209.10778232574464, 855.7117611342669, 756.6116474151611, 784.6054170131683, 741.6760194587707, 637.9319724655152, 729.5388928604126, 859.3617611342669, 1311.0115718460083, 3999.657177734375, 15148.248807373047, 1182.46803591609, 859.5017611342669, 907.7598789978027, 48694.49854980469, 1294.8500492668152, 422828.7051171875, 3894.9768841552736, 859.4434373337031, 857.9817611342669, 5770.569792480469, 1360.7018523573875, 1118.773173854351]\n",
      "10/24/42\n"
     ]
    },
    {
     "data": {
      "application/vnd.jupyter.widget-view+json": {
       "model_id": "bf0a88f5639d4d9ab0dad6c8e48ab16a",
       "version_major": 2,
       "version_minor": 0
      },
      "text/plain": [
       "HBox(children=(FloatProgress(value=0.0, max=196.0), HTML(value='')))"
      ]
     },
     "metadata": {},
     "output_type": "display_data"
    },
    {
     "name": "stdout",
     "output_type": "stream",
     "text": [
      "\n",
      "Cumulative Confirmed Cases\n"
     ]
    },
    {
     "data": {
      "application/vnd.jupyter.widget-view+json": {
       "model_id": "81f33871e7fa48aba3fbef06da2f33c1",
       "version_major": 2,
       "version_minor": 0
      },
      "text/plain": [
       "HBox(children=(FloatProgress(value=0.0, max=196.0), HTML(value='')))"
      ]
     },
     "metadata": {},
     "output_type": "display_data"
    },
    {
     "name": "stdout",
     "output_type": "stream",
     "text": [
      "\n",
      "Confirmed Cases\n"
     ]
    },
    {
     "data": {
      "application/vnd.jupyter.widget-view+json": {
       "model_id": "63d5f7dd5ee840099bf09fc25782bd86",
       "version_major": 2,
       "version_minor": 0
      },
      "text/plain": [
       "HBox(children=(FloatProgress(value=0.0, max=196.0), HTML(value='')))"
      ]
     },
     "metadata": {},
     "output_type": "display_data"
    },
    {
     "name": "stdout",
     "output_type": "stream",
     "text": [
      "\n"
     ]
    },
    {
     "data": {
      "application/vnd.jupyter.widget-view+json": {
       "model_id": "55752a0d49a74a38b2b47996a10df979",
       "version_major": 2,
       "version_minor": 0
      },
      "text/plain": [
       "HBox(children=(FloatProgress(value=0.0, max=196.0), HTML(value='')))"
      ]
     },
     "metadata": {},
     "output_type": "display_data"
    },
    {
     "name": "stdout",
     "output_type": "stream",
     "text": [
      "\n"
     ]
    },
    {
     "data": {
      "application/vnd.jupyter.widget-view+json": {
       "model_id": "2b3be2aa7bfe4079bf12017e0cd8b28f",
       "version_major": 2,
       "version_minor": 0
      },
      "text/plain": [
       "HBox(children=(FloatProgress(value=0.0, max=196.0), HTML(value='')))"
      ]
     },
     "metadata": {},
     "output_type": "display_data"
    },
    {
     "name": "stdout",
     "output_type": "stream",
     "text": [
      "\n",
      "Deaths Cases\n"
     ]
    },
    {
     "data": {
      "application/vnd.jupyter.widget-view+json": {
       "model_id": "5d41e24991d54e6eac648ac208b848c7",
       "version_major": 2,
       "version_minor": 0
      },
      "text/plain": [
       "HBox(children=(FloatProgress(value=0.0, max=196.0), HTML(value='')))"
      ]
     },
     "metadata": {},
     "output_type": "display_data"
    },
    {
     "name": "stdout",
     "output_type": "stream",
     "text": [
      "\n"
     ]
    },
    {
     "data": {
      "application/vnd.jupyter.widget-view+json": {
       "model_id": "12c0deff72714ce29f6126ea81bf955a",
       "version_major": 2,
       "version_minor": 0
      },
      "text/plain": [
       "HBox(children=(FloatProgress(value=0.0, max=196.0), HTML(value='')))"
      ]
     },
     "metadata": {},
     "output_type": "display_data"
    },
    {
     "name": "stdout",
     "output_type": "stream",
     "text": [
      "\n",
      "Finished preparing datasets.\n",
      "Epoch 1/10\n",
      "1035/1035 - 4s - loss: 0.1911 - val_loss: 0.0042\n",
      "Epoch 2/10\n",
      "1035/1035 - 4s - loss: 0.0031 - val_loss: 0.0029\n",
      "Epoch 3/10\n",
      "1035/1035 - 4s - loss: 0.0027 - val_loss: 0.0027\n",
      "Epoch 4/10\n",
      "1035/1035 - 4s - loss: 0.0026 - val_loss: 0.0026\n",
      "Epoch 5/10\n",
      "1035/1035 - 4s - loss: 0.0025 - val_loss: 0.0029\n",
      "Epoch 6/10\n",
      "1035/1035 - 5s - loss: 0.0025 - val_loss: 0.0027\n",
      "Epoch 7/10\n",
      "1035/1035 - 6s - loss: 0.0025 - val_loss: 0.0026\n",
      "Epoch 8/10\n",
      "1035/1035 - 5s - loss: 0.0025 - val_loss: 0.0027\n",
      "Epoch 9/10\n",
      "\n",
      "Epoch 00009: ReduceLROnPlateau reducing learning rate to 0.0006000000284984708.\n",
      "1035/1035 - 4s - loss: 0.0025 - val_loss: 0.0026\n",
      "Epoch 10/10\n",
      "1035/1035 - 4s - loss: 0.0024 - val_loss: 0.0025\n"
     ]
    },
    {
     "data": {
      "application/vnd.jupyter.widget-view+json": {
       "model_id": "6f9bfeec688640f1b27e75997af4d20f",
       "version_major": 2,
       "version_minor": 0
      },
      "text/plain": [
       "HBox(children=(FloatProgress(value=0.0, max=19600.0), HTML(value='')))"
      ]
     },
     "metadata": {},
     "output_type": "display_data"
    },
    {
     "name": "stdout",
     "output_type": "stream",
     "text": [
      "\n",
      "Marshall Islands [633.4764948272705, 10720.182874298096, 8956.159833374024, 2317.121749248505, 54310.056403808594, 310005.1337988281, 33690.075006713865, 2641.6680115067957, 446.42685737133024, 29341.593071289062, 6666.735972366333, 1857.0751780796052, 116256.37867675781, 1709.468196144104, 4404.775772819519, 17947.300734863282, 7930.920477905273, 154.36509026050567, 124.64876141071319, 804.3685645484925, 17932.885951538086, 1994.2552252578735, 1686.9471768689154, 321.5130233860016, 1259398.486328125, 2907.0458600902557, 1691.1862696170806, 1674.6181915843488, 3016.522328853607, 1691.3662696170807, 2610.890624408722, 24187.700589599608, 42488.01680236816, 25486.747310791015, 3881.997976951599, 3527.6529689788817, 4616.167489395141, 1585.1013736486434, 58906.85687011719, 2748.3460679888726, 4244.7892401123045, 35935.26701660156, 4968.941389694214, 1205.7707534217834, 220324.84321777345, 118466.56852783203, 1698.2844775110484, 1588.047336907685, 1442.9027276468278, 46402.717266235355, 4395.133786315918, 42765.7448828125, 5529.967176361084, 3913.6129253578188, 11318.41656003952, 5449.2273314666745, 41060.43988464356, 8241.729638519288, 1691.2462696170808, 862246.8792871094, 1529.9170951747894, 458678.4239355469, 26222.894953308107, 155.86095566272735, 219.19526450634004, 1799.7022749853134, 4541.527317714691, 3082.328874015808, 1691.3662696170807, 13926.824549865723, 1690.5062696170808, 22393.759034423827, 7520.89710899353, 239.95124811172485, 5709.092058105469, 20917.968808898924, 1739.3667698192596, 50552.99637207031, 82347.98370605469, 951158.37234375, 27296.59108581543, 64766.40977050781, 62808.13859375, 4982.40466835022, 110235.24907714844, 130673.82827148438, 92.24492711544036, 2764.196328115463, 12696.298652954101, 10646.042993164063, 8070.25992553711, 1690.5346279263497, 1691.3262696170807, 401.62754705429074, 1691.2492061102391, 43361.54089599609, 2041.4838626253604, 601.8370148801804, 1687.4962696170808, 1670.4337628650665, 1236.985343313217, 3864.7121278381346, 7243.966337890625, 368.92299488067624, 6163.615945587158, 89419.97666503907, 1977.3380040597915, 40890.11460571289, 2891.074541091919, 2624.474252471924, 133671.06592285156]\n",
      "Solomon Islands [633.4764948272705, 10720.182874298096, 8956.159833374024, 2317.121749248505, 54310.056403808594, 310005.1337988281, 33690.075006713865, 2641.6680115067957, 446.42685737133024, 29341.593071289062, 6666.735972366333, 1857.0751780796052, 116256.37867675781, 1709.468196144104, 4404.775772819519, 17947.300734863282, 7930.920477905273, 154.36509026050567, 124.64876141071319, 804.3685645484925, 17932.885951538086, 1994.2552252578735, 1686.9471768689154, 321.5130233860016, 1259398.486328125, 2907.0458600902557, 1691.1862696170806, 1674.6181915843488, 3016.522328853607, 1691.3662696170807, 2610.890624408722, 24187.700589599608, 42488.01680236816, 25486.747310791015, 3881.997976951599, 3527.6529689788817, 4616.167489395141, 1585.1013736486434, 58906.85687011719, 2748.3460679888726, 4244.7892401123045, 35935.26701660156, 4968.941389694214, 1205.7707534217834, 220324.84321777345, 118466.56852783203, 1698.2844775110484, 1588.047336907685, 1442.9027276468278, 46402.717266235355, 4395.133786315918, 42765.7448828125, 5529.967176361084, 3913.6129253578188, 11318.41656003952, 5449.2273314666745, 41060.43988464356, 8241.729638519288, 1691.2462696170808, 862246.8792871094, 1529.9170951747894, 458678.4239355469, 26222.894953308107, 155.86095566272735, 219.19526450634004, 1799.7022749853134, 4541.527317714691, 3082.328874015808, 1691.3662696170807, 13926.824549865723, 1690.5062696170808, 22393.759034423827, 7520.89710899353, 239.95124811172485, 5709.092058105469, 20917.968808898924, 1739.3667698192596, 50552.99637207031, 82347.98370605469, 951158.37234375, 27296.59108581543, 64766.40977050781, 62808.13859375, 4982.40466835022, 110235.24907714844, 130673.82827148438, 92.24492711544036, 2764.196328115463, 12696.298652954101, 10646.042993164063, 8070.25992553711, 1690.5346279263497, 1691.3262696170807, 401.62754705429074, 1691.2492061102391, 43361.54089599609, 2041.4838626253604, 601.8370148801804, 1687.4962696170808, 1670.4337628650665, 1236.985343313217, 3864.7121278381346, 7243.966337890625, 368.92299488067624, 6163.615945587158, 89419.97666503907, 1977.3380040597915, 40890.11460571289, 2891.074541091919, 2624.474252471924, 133671.06592285156, 17043.694747772217, 2688.519671630859, 6002.285705299378, 45716.60711914062, 59752.7255456543, 1680.3762696170807, 2375.2054947149754, 71.1363366985321, 1136.9559762573242, 1691.3662696170807, 2137.0212366986275, 2175.8414603710175, 39937.52356842041, 6694.9712795257565, 2081.3954285287855, 325.95456644058225, 1351.819287519455, 147586.64390136718, 4693.616125946045, 130811.31203857422, 1943.3017030382157, 5136.133986358643, 1801.9251276540756, 17470.76823913574, 1736.8457041358947, 54569.82831787109, 2933.917737598419, 120651.36879638671, 577.6405971002579, 39106.65851745605, 39231.5926763916, 7261.208873901367, 137.3690683364868, 1174.9580493164062, 94854.96420654297, 307653.2610546875, 1503.528223671913, 9611.064572448731, 1320.150159034729, 1164.6120653533935, 605.2521976757049]\n",
      "Slovenia [633.4764948272705, 10720.182874298096, 8956.159833374024, 2317.121749248505, 54310.056403808594, 310005.1337988281, 33690.075006713865, 2641.6680115067957, 446.42685737133024, 29341.593071289062, 6666.735972366333, 1857.0751780796052, 116256.37867675781, 1709.468196144104, 4404.775772819519, 17947.300734863282, 7930.920477905273, 154.36509026050567, 124.64876141071319, 804.3685645484925, 17932.885951538086, 1994.2552252578735, 1686.9471768689154, 321.5130233860016, 1259398.486328125, 2907.0458600902557, 1691.1862696170806, 1674.6181915843488, 3016.522328853607, 1691.3662696170807, 2610.890624408722, 24187.700589599608, 42488.01680236816, 25486.747310791015, 3881.997976951599, 3527.6529689788817, 4616.167489395141, 1585.1013736486434, 58906.85687011719, 2748.3460679888726, 4244.7892401123045, 35935.26701660156, 4968.941389694214, 1205.7707534217834, 220324.84321777345, 118466.56852783203, 1698.2844775110484, 1588.047336907685, 1442.9027276468278, 46402.717266235355, 4395.133786315918, 42765.7448828125, 5529.967176361084, 3913.6129253578188, 11318.41656003952, 5449.2273314666745, 41060.43988464356, 8241.729638519288, 1691.2462696170808, 862246.8792871094, 1529.9170951747894, 458678.4239355469, 26222.894953308107, 155.86095566272735, 219.19526450634004, 1799.7022749853134, 4541.527317714691, 3082.328874015808, 1691.3662696170807, 13926.824549865723, 1690.5062696170808, 22393.759034423827, 7520.89710899353, 239.95124811172485, 5709.092058105469, 20917.968808898924, 1739.3667698192596, 50552.99637207031, 82347.98370605469, 951158.37234375, 27296.59108581543, 64766.40977050781, 62808.13859375, 4982.40466835022, 110235.24907714844, 130673.82827148438, 92.24492711544036, 2764.196328115463, 12696.298652954101, 10646.042993164063, 8070.25992553711, 1690.5346279263497, 1691.3262696170807, 401.62754705429074, 1691.2492061102391, 43361.54089599609, 2041.4838626253604, 601.8370148801804, 1687.4962696170808, 1670.4337628650665, 1236.985343313217, 3864.7121278381346, 7243.966337890625, 368.92299488067624, 6163.615945587158, 89419.97666503907, 1977.3380040597915, 40890.11460571289, 2891.074541091919, 2624.474252471924, 133671.06592285156, 17043.694747772217, 2688.519671630859, 6002.285705299378, 45716.60711914062, 59752.7255456543, 1680.3762696170807, 2375.2054947149754, 71.1363366985321, 1136.9559762573242, 1691.3662696170807, 2137.0212366986275, 2175.8414603710175, 39937.52356842041, 6694.9712795257565, 2081.3954285287855, 325.95456644058225, 1351.819287519455, 147586.64390136718, 4693.616125946045, 130811.31203857422, 1943.3017030382157, 5136.133986358643, 1801.9251276540756, 17470.76823913574, 1736.8457041358947, 54569.82831787109, 2933.917737598419, 120651.36879638671, 577.6405971002579, 39106.65851745605, 39231.5926763916, 7261.208873901367, 137.3690683364868, 1174.9580493164062, 94854.96420654297, 307653.2610546875, 1503.528223671913, 9611.064572448731, 1320.150159034729, 1164.6120653533935, 605.2521976757049, 2204.5587643146514, 141.47457008838654, 1676.5306742215157, 3029.249753739834, 6649.816398010254, 1445.4096507644654, 1690.2215676021576, 1300.1633406448364, 56284.98255004883]\n"
     ]
    },
    {
     "name": "stdout",
     "output_type": "stream",
     "text": [
      "Vanuatu [633.4764948272705, 10720.182874298096, 8956.159833374024, 2317.121749248505, 54310.056403808594, 310005.1337988281, 33690.075006713865, 2641.6680115067957, 446.42685737133024, 29341.593071289062, 6666.735972366333, 1857.0751780796052, 116256.37867675781, 1709.468196144104, 4404.775772819519, 17947.300734863282, 7930.920477905273, 154.36509026050567, 124.64876141071319, 804.3685645484925, 17932.885951538086, 1994.2552252578735, 1686.9471768689154, 321.5130233860016, 1259398.486328125, 2907.0458600902557, 1691.1862696170806, 1674.6181915843488, 3016.522328853607, 1691.3662696170807, 2610.890624408722, 24187.700589599608, 42488.01680236816, 25486.747310791015, 3881.997976951599, 3527.6529689788817, 4616.167489395141, 1585.1013736486434, 58906.85687011719, 2748.3460679888726, 4244.7892401123045, 35935.26701660156, 4968.941389694214, 1205.7707534217834, 220324.84321777345, 118466.56852783203, 1698.2844775110484, 1588.047336907685, 1442.9027276468278, 46402.717266235355, 4395.133786315918, 42765.7448828125, 5529.967176361084, 3913.6129253578188, 11318.41656003952, 5449.2273314666745, 41060.43988464356, 8241.729638519288, 1691.2462696170808, 862246.8792871094, 1529.9170951747894, 458678.4239355469, 26222.894953308107, 155.86095566272735, 219.19526450634004, 1799.7022749853134, 4541.527317714691, 3082.328874015808, 1691.3662696170807, 13926.824549865723, 1690.5062696170808, 22393.759034423827, 7520.89710899353, 239.95124811172485, 5709.092058105469, 20917.968808898924, 1739.3667698192596, 50552.99637207031, 82347.98370605469, 951158.37234375, 27296.59108581543, 64766.40977050781, 62808.13859375, 4982.40466835022, 110235.24907714844, 130673.82827148438, 92.24492711544036, 2764.196328115463, 12696.298652954101, 10646.042993164063, 8070.25992553711, 1690.5346279263497, 1691.3262696170807, 401.62754705429074, 1691.2492061102391, 43361.54089599609, 2041.4838626253604, 601.8370148801804, 1687.4962696170808, 1670.4337628650665, 1236.985343313217, 3864.7121278381346, 7243.966337890625, 368.92299488067624, 6163.615945587158, 89419.97666503907, 1977.3380040597915, 40890.11460571289, 2891.074541091919, 2624.474252471924, 133671.06592285156, 17043.694747772217, 2688.519671630859, 6002.285705299378, 45716.60711914062, 59752.7255456543, 1680.3762696170807, 2375.2054947149754, 71.1363366985321, 1136.9559762573242, 1691.3662696170807, 2137.0212366986275, 2175.8414603710175, 39937.52356842041, 6694.9712795257565, 2081.3954285287855, 325.95456644058225, 1351.819287519455, 147586.64390136718, 4693.616125946045, 130811.31203857422, 1943.3017030382157, 5136.133986358643, 1801.9251276540756, 17470.76823913574, 1736.8457041358947, 54569.82831787109, 2933.917737598419, 120651.36879638671, 577.6405971002579, 39106.65851745605, 39231.5926763916, 7261.208873901367, 137.3690683364868, 1174.9580493164062, 94854.96420654297, 307653.2610546875, 1503.528223671913, 9611.064572448731, 1320.150159034729, 1164.6120653533935, 605.2521976757049, 2204.5587643146514, 141.47457008838654, 1676.5306742215157, 3029.249753739834, 6649.816398010254, 1445.4096507644654, 1690.2215676021576, 1300.1633406448364, 56284.98255004883, 23334.69335205078, 674.9216693687439, 1687.5762696170807, 2882.187143974304, 1576.2744064807891, 2149.7882913017274, 1178.5100055456162, 2572.288846282959, 1691.2262696170808, 4656.348753089905, 2571.6378430175782, 30924.393946533204, 2042.793182502985, 1691.3662696170807, 226.69132327079774, 203480.3594873047, 3616.89430229187, 1999646.338046875, 121.50689765930176, 1691.2499148464203, 1689.8462696170807, 21392.887094726564, 2330.5216765546797, 2078.727303290367]\n",
      "Samoa [633.4764948272705, 10720.182874298096, 8956.159833374024, 2317.121749248505, 54310.056403808594, 310005.1337988281, 33690.075006713865, 2641.6680115067957, 446.42685737133024, 29341.593071289062, 6666.735972366333, 1857.0751780796052, 116256.37867675781, 1709.468196144104, 4404.775772819519, 17947.300734863282, 7930.920477905273, 154.36509026050567, 124.64876141071319, 804.3685645484925, 17932.885951538086, 1994.2552252578735, 1686.9471768689154, 321.5130233860016, 1259398.486328125, 2907.0458600902557, 1691.1862696170806, 1674.6181915843488, 3016.522328853607, 1691.3662696170807, 2610.890624408722, 24187.700589599608, 42488.01680236816, 25486.747310791015, 3881.997976951599, 3527.6529689788817, 4616.167489395141, 1585.1013736486434, 58906.85687011719, 2748.3460679888726, 4244.7892401123045, 35935.26701660156, 4968.941389694214, 1205.7707534217834, 220324.84321777345, 118466.56852783203, 1698.2844775110484, 1588.047336907685, 1442.9027276468278, 46402.717266235355, 4395.133786315918, 42765.7448828125, 5529.967176361084, 3913.6129253578188, 11318.41656003952, 5449.2273314666745, 41060.43988464356, 8241.729638519288, 1691.2462696170808, 862246.8792871094, 1529.9170951747894, 458678.4239355469, 26222.894953308107, 155.86095566272735, 219.19526450634004, 1799.7022749853134, 4541.527317714691, 3082.328874015808, 1691.3662696170807, 13926.824549865723, 1690.5062696170808, 22393.759034423827, 7520.89710899353, 239.95124811172485, 5709.092058105469, 20917.968808898924, 1739.3667698192596, 50552.99637207031, 82347.98370605469, 951158.37234375, 27296.59108581543, 64766.40977050781, 62808.13859375, 4982.40466835022, 110235.24907714844, 130673.82827148438, 92.24492711544036, 2764.196328115463, 12696.298652954101, 10646.042993164063, 8070.25992553711, 1690.5346279263497, 1691.3262696170807, 401.62754705429074, 1691.2492061102391, 43361.54089599609, 2041.4838626253604, 601.8370148801804, 1687.4962696170808, 1670.4337628650665, 1236.985343313217, 3864.7121278381346, 7243.966337890625, 368.92299488067624, 6163.615945587158, 89419.97666503907, 1977.3380040597915, 40890.11460571289, 2891.074541091919, 2624.474252471924, 133671.06592285156, 17043.694747772217, 2688.519671630859, 6002.285705299378, 45716.60711914062, 59752.7255456543, 1680.3762696170807, 2375.2054947149754, 71.1363366985321, 1136.9559762573242, 1691.3662696170807, 2137.0212366986275, 2175.8414603710175, 39937.52356842041, 6694.9712795257565, 2081.3954285287855, 325.95456644058225, 1351.819287519455, 147586.64390136718, 4693.616125946045, 130811.31203857422, 1943.3017030382157, 5136.133986358643, 1801.9251276540756, 17470.76823913574, 1736.8457041358947, 54569.82831787109, 2933.917737598419, 120651.36879638671, 577.6405971002579, 39106.65851745605, 39231.5926763916, 7261.208873901367, 137.3690683364868, 1174.9580493164062, 94854.96420654297, 307653.2610546875, 1503.528223671913, 9611.064572448731, 1320.150159034729, 1164.6120653533935, 605.2521976757049, 2204.5587643146514, 141.47457008838654, 1676.5306742215157, 3029.249753739834, 6649.816398010254, 1445.4096507644654, 1690.2215676021576, 1300.1633406448364, 56284.98255004883, 23334.69335205078, 674.9216693687439, 1687.5762696170807, 2882.187143974304, 1576.2744064807891, 2149.7882913017274, 1178.5100055456162, 2572.288846282959, 1691.2262696170808, 4656.348753089905, 2571.6378430175782, 30924.393946533204, 2042.793182502985, 1691.3662696170807, 226.69132327079774, 203480.3594873047, 3616.89430229187, 1999646.338046875, 121.50689765930176, 1691.2499148464203, 1689.8462696170807, 21392.887094726564, 2330.5216765546797, 2078.727303290367]\n",
      "10/32/12\n"
     ]
    },
    {
     "data": {
      "application/vnd.jupyter.widget-view+json": {
       "model_id": "ee3baf2abf0f44c382d2fac526c1fb73",
       "version_major": 2,
       "version_minor": 0
      },
      "text/plain": [
       "HBox(children=(FloatProgress(value=0.0, max=196.0), HTML(value='')))"
      ]
     },
     "metadata": {},
     "output_type": "display_data"
    },
    {
     "name": "stdout",
     "output_type": "stream",
     "text": [
      "\n",
      "Cumulative Confirmed Cases\n"
     ]
    },
    {
     "data": {
      "application/vnd.jupyter.widget-view+json": {
       "model_id": "5951974ab51d48dcaac1eb2c9509cbe1",
       "version_major": 2,
       "version_minor": 0
      },
      "text/plain": [
       "HBox(children=(FloatProgress(value=0.0, max=196.0), HTML(value='')))"
      ]
     },
     "metadata": {},
     "output_type": "display_data"
    },
    {
     "name": "stdout",
     "output_type": "stream",
     "text": [
      "\n",
      "Confirmed Cases\n"
     ]
    },
    {
     "data": {
      "application/vnd.jupyter.widget-view+json": {
       "model_id": "53051c3b3e7446248b10147e0658bd7e",
       "version_major": 2,
       "version_minor": 0
      },
      "text/plain": [
       "HBox(children=(FloatProgress(value=0.0, max=196.0), HTML(value='')))"
      ]
     },
     "metadata": {},
     "output_type": "display_data"
    },
    {
     "name": "stdout",
     "output_type": "stream",
     "text": [
      "\n"
     ]
    },
    {
     "data": {
      "application/vnd.jupyter.widget-view+json": {
       "model_id": "1e0891a30aea40c5a896376c5a81d284",
       "version_major": 2,
       "version_minor": 0
      },
      "text/plain": [
       "HBox(children=(FloatProgress(value=0.0, max=196.0), HTML(value='')))"
      ]
     },
     "metadata": {},
     "output_type": "display_data"
    },
    {
     "name": "stdout",
     "output_type": "stream",
     "text": [
      "\n"
     ]
    },
    {
     "data": {
      "application/vnd.jupyter.widget-view+json": {
       "model_id": "2d175a7cea304c53bdd7c786490c983e",
       "version_major": 2,
       "version_minor": 0
      },
      "text/plain": [
       "HBox(children=(FloatProgress(value=0.0, max=196.0), HTML(value='')))"
      ]
     },
     "metadata": {},
     "output_type": "display_data"
    },
    {
     "name": "stdout",
     "output_type": "stream",
     "text": [
      "\n",
      "Deaths Cases\n"
     ]
    },
    {
     "data": {
      "application/vnd.jupyter.widget-view+json": {
       "model_id": "b9c75acaf2044398933c9e2fbe9b1218",
       "version_major": 2,
       "version_minor": 0
      },
      "text/plain": [
       "HBox(children=(FloatProgress(value=0.0, max=196.0), HTML(value='')))"
      ]
     },
     "metadata": {},
     "output_type": "display_data"
    },
    {
     "name": "stdout",
     "output_type": "stream",
     "text": [
      "\n"
     ]
    },
    {
     "data": {
      "application/vnd.jupyter.widget-view+json": {
       "model_id": "49c52c8be61b441998b0dc61e2a017a7",
       "version_major": 2,
       "version_minor": 0
      },
      "text/plain": [
       "HBox(children=(FloatProgress(value=0.0, max=196.0), HTML(value='')))"
      ]
     },
     "metadata": {},
     "output_type": "display_data"
    },
    {
     "name": "stdout",
     "output_type": "stream",
     "text": [
      "\n",
      "Finished preparing datasets.\n",
      "Epoch 1/10\n",
      "776/776 - 3s - loss: 0.3275 - val_loss: 0.0041\n",
      "Epoch 2/10\n",
      "776/776 - 3s - loss: 0.0030 - val_loss: 0.0029\n",
      "Epoch 3/10\n",
      "776/776 - 3s - loss: 0.0027 - val_loss: 0.0027\n",
      "Epoch 4/10\n",
      "776/776 - 3s - loss: 0.0026 - val_loss: 0.0027\n",
      "Epoch 5/10\n",
      "776/776 - 3s - loss: 0.0025 - val_loss: 0.0027\n",
      "Epoch 6/10\n",
      "776/776 - 3s - loss: 0.0025 - val_loss: 0.0026\n",
      "Epoch 7/10\n",
      "776/776 - 3s - loss: 0.0024 - val_loss: 0.0026\n",
      "Epoch 8/10\n",
      "776/776 - 3s - loss: 0.0024 - val_loss: 0.0025\n",
      "Epoch 9/10\n",
      "776/776 - 3s - loss: 0.0024 - val_loss: 0.0025\n",
      "Epoch 10/10\n",
      "776/776 - 3s - loss: 0.0024 - val_loss: 0.0025\n"
     ]
    },
    {
     "data": {
      "application/vnd.jupyter.widget-view+json": {
       "model_id": "2a10bdb4de7249e7b0388c187d6a1506",
       "version_major": 2,
       "version_minor": 0
      },
      "text/plain": [
       "HBox(children=(FloatProgress(value=0.0, max=19600.0), HTML(value='')))"
      ]
     },
     "metadata": {},
     "output_type": "display_data"
    },
    {
     "name": "stdout",
     "output_type": "stream",
     "text": [
      "\n",
      "Marshall Islands [259.02694546699524, 2839.2343615722657, 1641.829464569092, 785.3618342971802, 7815.9111291503905, 10209.49150390625, 5834.542780761719, 1351.141000622511, 154.77734089851378, 3002.6800036621094, 1400.7659153747559, 1336.1307632493972, 8638.991745605468, 1174.2658105230332, 1383.221812057495, 385.6468298339844, 1604.1714842224121, 1637.4944635009765, 1173.4977960205078, 1315.3561114501954, 2072.176311340332, 728.060489578247, 804.3298738655448, 1591.9243905639648, 185306.055703125, 1346.0786040568353, 808.5517741605639, 1164.153880366087, 1327.4895589447021, 808.731774160564, 963.4200745153427, 2330.35498046875, 5676.062772827148, 2465.657731933594, 1030.1401892471313, 630.2758865356445, 1520.1561100769043, 1074.692231721878, 4868.982197265625, 1398.0701834654808, 1094.5647064971924, 3209.0897985839842, 1273.0028031921386, 148.09657354354857, 33400.6410546875, 6759.811845703125, 1075.1491928541661, 863.1444205456972, 439.8672113037109, 9979.143541259766, 761.4965962219238, 4350.952141113281, 984.7050381469727, 1723.200257616043, 21236.481030273437, 1184.1386209106445, 6236.594444580078, 1777.1768130493165, 808.611774160564, 116347.20868164062, 222.06192678451538, 69174.11681640625, 3354.334742736816, 1062.9408113098145, 712.7392754554749, 1072.82814899683, 1864.5308373832702, 1557.449989862442, 808.731774160564, 1781.0044491577148, 807.871774160564, 2334.9084741210936, 2360.6165650177004, 758.2105563354493, 1365.6286291503907, 3467.3769647216795, 544.0341626167298, 5277.800716552734, 1223.1195654296876, 45144.888671875, 3988.850358886719, 4175.298444824219, 2733.3163232421875, 1349.8831676101684, 11789.008940429687, 18290.752915039062, 1577.0759133911133, 2435.385307006836, 1493.5733703613282, 2292.904888153076, 1539.0020248413086, 807.9136208340526, 808.6917741605639, 1700.868484802246, 808.6112311717868, 4057.79466796875, 1191.7152306890487, 2561.035231323242, 804.861774160564, 791.0632202318311, 493.00154245376586, 1438.4205784606934, 753.0783792114257, 944.4761338806152, 1204.2835035705566, 9043.920258789063, 1275.6391732025147, 6936.899473876953, 837.8778553009033, 949.9863591003418, 6968.001982421875]\n",
      "Solomon Islands [259.02694546699524, 2839.2343615722657, 1641.829464569092, 785.3618342971802, 7815.9111291503905, 10209.49150390625, 5834.542780761719, 1351.141000622511, 154.77734089851378, 3002.6800036621094, 1400.7659153747559, 1336.1307632493972, 8638.991745605468, 1174.2658105230332, 1383.221812057495, 385.6468298339844, 1604.1714842224121, 1637.4944635009765, 1173.4977960205078, 1315.3561114501954, 2072.176311340332, 728.060489578247, 804.3298738655448, 1591.9243905639648, 185306.055703125, 1346.0786040568353, 808.5517741605639, 1164.153880366087, 1327.4895589447021, 808.731774160564, 963.4200745153427, 2330.35498046875, 5676.062772827148, 2465.657731933594, 1030.1401892471313, 630.2758865356445, 1520.1561100769043, 1074.692231721878, 4868.982197265625, 1398.0701834654808, 1094.5647064971924, 3209.0897985839842, 1273.0028031921386, 148.09657354354857, 33400.6410546875, 6759.811845703125, 1075.1491928541661, 863.1444205456972, 439.8672113037109, 9979.143541259766, 761.4965962219238, 4350.952141113281, 984.7050381469727, 1723.200257616043, 21236.481030273437, 1184.1386209106445, 6236.594444580078, 1777.1768130493165, 808.611774160564, 116347.20868164062, 222.06192678451538, 69174.11681640625, 3354.334742736816, 1062.9408113098145, 712.7392754554749, 1072.82814899683, 1864.5308373832702, 1557.449989862442, 808.731774160564, 1781.0044491577148, 807.871774160564, 2334.9084741210936, 2360.6165650177004, 758.2105563354493, 1365.6286291503907, 3467.3769647216795, 544.0341626167298, 5277.800716552734, 1223.1195654296876, 45144.888671875, 3988.850358886719, 4175.298444824219, 2733.3163232421875, 1349.8831676101684, 11789.008940429687, 18290.752915039062, 1577.0759133911133, 2435.385307006836, 1493.5733703613282, 2292.904888153076, 1539.0020248413086, 807.9136208340526, 808.6917741605639, 1700.868484802246, 808.6112311717868, 4057.79466796875, 1191.7152306890487, 2561.035231323242, 804.861774160564, 791.0632202318311, 493.00154245376586, 1438.4205784606934, 753.0783792114257, 944.4761338806152, 1204.2835035705566, 9043.920258789063, 1275.6391732025147, 6936.899473876953, 837.8778553009033, 949.9863591003418, 6968.001982421875, 3630.021836090088, 885.4794046401978, 2053.929987030029, 5830.165994873047, 12411.169665527344, 797.7602295979857, 1167.1394196856022, 1811.5444827270508, 586.9800828552246, 808.731774160564, 1162.5078644156456, 1274.2307649970055, 9521.071088256836, 1462.4433912658692, 937.6816314464808, 990.2244688415527, 1348.5267996072769, 14212.499165039062, 944.5652507781982, 24245.59521972656, 1087.2262817406654, 2118.8206967163087, 668.6715734863282, 519.9482104492188, 12287.846811523437, 2941.361708984375, 1392.3422434961797, 17447.294392089843, 3217.9373046875, 3852.4033715820315, 5496.624415283203, 435.9784204101563, 1207.977714996338, 703.6682831573486, 11777.867348632812, 16250.322294921874, 1000.6576472854614, 840.9344955444336, 811.0780341815948, 490.82323307037353, 412.6317827510834]\n",
      "Slovenia [259.02694546699524, 2839.2343615722657, 1641.829464569092, 785.3618342971802, 7815.9111291503905, 10209.49150390625, 5834.542780761719, 1351.141000622511, 154.77734089851378, 3002.6800036621094, 1400.7659153747559, 1336.1307632493972, 8638.991745605468, 1174.2658105230332, 1383.221812057495, 385.6468298339844, 1604.1714842224121, 1637.4944635009765, 1173.4977960205078, 1315.3561114501954, 2072.176311340332, 728.060489578247, 804.3298738655448, 1591.9243905639648, 185306.055703125, 1346.0786040568353, 808.5517741605639, 1164.153880366087, 1327.4895589447021, 808.731774160564, 963.4200745153427, 2330.35498046875, 5676.062772827148, 2465.657731933594, 1030.1401892471313, 630.2758865356445, 1520.1561100769043, 1074.692231721878, 4868.982197265625, 1398.0701834654808, 1094.5647064971924, 3209.0897985839842, 1273.0028031921386, 148.09657354354857, 33400.6410546875, 6759.811845703125, 1075.1491928541661, 863.1444205456972, 439.8672113037109, 9979.143541259766, 761.4965962219238, 4350.952141113281, 984.7050381469727, 1723.200257616043, 21236.481030273437, 1184.1386209106445, 6236.594444580078, 1777.1768130493165, 808.611774160564, 116347.20868164062, 222.06192678451538, 69174.11681640625, 3354.334742736816, 1062.9408113098145, 712.7392754554749, 1072.82814899683, 1864.5308373832702, 1557.449989862442, 808.731774160564, 1781.0044491577148, 807.871774160564, 2334.9084741210936, 2360.6165650177004, 758.2105563354493, 1365.6286291503907, 3467.3769647216795, 544.0341626167298, 5277.800716552734, 1223.1195654296876, 45144.888671875, 3988.850358886719, 4175.298444824219, 2733.3163232421875, 1349.8831676101684, 11789.008940429687, 18290.752915039062, 1577.0759133911133, 2435.385307006836, 1493.5733703613282, 2292.904888153076, 1539.0020248413086, 807.9136208340526, 808.6917741605639, 1700.868484802246, 808.6112311717868, 4057.79466796875, 1191.7152306890487, 2561.035231323242, 804.861774160564, 791.0632202318311, 493.00154245376586, 1438.4205784606934, 753.0783792114257, 944.4761338806152, 1204.2835035705566, 9043.920258789063, 1275.6391732025147, 6936.899473876953, 837.8778553009033, 949.9863591003418, 6968.001982421875, 3630.021836090088, 885.4794046401978, 2053.929987030029, 5830.165994873047, 12411.169665527344, 797.7602295979857, 1167.1394196856022, 1811.5444827270508, 586.9800828552246, 808.731774160564, 1162.5078644156456, 1274.2307649970055, 9521.071088256836, 1462.4433912658692, 937.6816314464808, 990.2244688415527, 1348.5267996072769, 14212.499165039062, 944.5652507781982, 24245.59521972656, 1087.2262817406654, 2118.8206967163087, 668.6715734863282, 519.9482104492188, 12287.846811523437, 2941.361708984375, 1392.3422434961797, 17447.294392089843, 3217.9373046875, 3852.4033715820315, 5496.624415283203, 435.9784204101563, 1207.977714996338, 703.6682831573486, 11777.867348632812, 16250.322294921874, 1000.6576472854614, 840.9344955444336, 811.0780341815948, 490.82323307037353, 412.6317827510834, 896.2988824367524, 1370.451856689453, 976.2182517236471, 1330.7752120113373, 2080.657892074585, 886.3632742977143, 807.6756450864673, 292.8728343009949, 11120.091685180663]\n"
     ]
    },
    {
     "name": "stdout",
     "output_type": "stream",
     "text": [
      "Vanuatu [259.02694546699524, 2839.2343615722657, 1641.829464569092, 785.3618342971802, 7815.9111291503905, 10209.49150390625, 5834.542780761719, 1351.141000622511, 154.77734089851378, 3002.6800036621094, 1400.7659153747559, 1336.1307632493972, 8638.991745605468, 1174.2658105230332, 1383.221812057495, 385.6468298339844, 1604.1714842224121, 1637.4944635009765, 1173.4977960205078, 1315.3561114501954, 2072.176311340332, 728.060489578247, 804.3298738655448, 1591.9243905639648, 185306.055703125, 1346.0786040568353, 808.5517741605639, 1164.153880366087, 1327.4895589447021, 808.731774160564, 963.4200745153427, 2330.35498046875, 5676.062772827148, 2465.657731933594, 1030.1401892471313, 630.2758865356445, 1520.1561100769043, 1074.692231721878, 4868.982197265625, 1398.0701834654808, 1094.5647064971924, 3209.0897985839842, 1273.0028031921386, 148.09657354354857, 33400.6410546875, 6759.811845703125, 1075.1491928541661, 863.1444205456972, 439.8672113037109, 9979.143541259766, 761.4965962219238, 4350.952141113281, 984.7050381469727, 1723.200257616043, 21236.481030273437, 1184.1386209106445, 6236.594444580078, 1777.1768130493165, 808.611774160564, 116347.20868164062, 222.06192678451538, 69174.11681640625, 3354.334742736816, 1062.9408113098145, 712.7392754554749, 1072.82814899683, 1864.5308373832702, 1557.449989862442, 808.731774160564, 1781.0044491577148, 807.871774160564, 2334.9084741210936, 2360.6165650177004, 758.2105563354493, 1365.6286291503907, 3467.3769647216795, 544.0341626167298, 5277.800716552734, 1223.1195654296876, 45144.888671875, 3988.850358886719, 4175.298444824219, 2733.3163232421875, 1349.8831676101684, 11789.008940429687, 18290.752915039062, 1577.0759133911133, 2435.385307006836, 1493.5733703613282, 2292.904888153076, 1539.0020248413086, 807.9136208340526, 808.6917741605639, 1700.868484802246, 808.6112311717868, 4057.79466796875, 1191.7152306890487, 2561.035231323242, 804.861774160564, 791.0632202318311, 493.00154245376586, 1438.4205784606934, 753.0783792114257, 944.4761338806152, 1204.2835035705566, 9043.920258789063, 1275.6391732025147, 6936.899473876953, 837.8778553009033, 949.9863591003418, 6968.001982421875, 3630.021836090088, 885.4794046401978, 2053.929987030029, 5830.165994873047, 12411.169665527344, 797.7602295979857, 1167.1394196856022, 1811.5444827270508, 586.9800828552246, 808.731774160564, 1162.5078644156456, 1274.2307649970055, 9521.071088256836, 1462.4433912658692, 937.6816314464808, 990.2244688415527, 1348.5267996072769, 14212.499165039062, 944.5652507781982, 24245.59521972656, 1087.2262817406654, 2118.8206967163087, 668.6715734863282, 519.9482104492188, 12287.846811523437, 2941.361708984375, 1392.3422434961797, 17447.294392089843, 3217.9373046875, 3852.4033715820315, 5496.624415283203, 435.9784204101563, 1207.977714996338, 703.6682831573486, 11777.867348632812, 16250.322294921874, 1000.6576472854614, 840.9344955444336, 811.0780341815948, 490.82323307037353, 412.6317827510834, 896.2988824367524, 1370.451856689453, 976.2182517236471, 1330.7752120113373, 2080.657892074585, 886.3632742977143, 807.6756450864673, 292.8728343009949, 11120.091685180663, 1431.250721435547, 123.0781979560852, 804.9417741605639, 859.6287432098388, 713.1509493160248, 617.7332999610901, 652.8758328437805, 824.0781076812744, 808.591774160564, 1292.462158203125, 1154.0282360839844, 18277.760100097657, 1193.022945075035, 808.731774160564, 1324.4931811523438, 22823.134228515624, 1240.704444656372, 150453.36046875, 2522.3665673828127, 808.7303299435973, 807.2117741605639, 1719.7761236572267, 1449.8280279660225, 1366.8555391407012]\n",
      "Samoa [259.02694546699524, 2839.2343615722657, 1641.829464569092, 785.3618342971802, 7815.9111291503905, 10209.49150390625, 5834.542780761719, 1351.141000622511, 154.77734089851378, 3002.6800036621094, 1400.7659153747559, 1336.1307632493972, 8638.991745605468, 1174.2658105230332, 1383.221812057495, 385.6468298339844, 1604.1714842224121, 1637.4944635009765, 1173.4977960205078, 1315.3561114501954, 2072.176311340332, 728.060489578247, 804.3298738655448, 1591.9243905639648, 185306.055703125, 1346.0786040568353, 808.5517741605639, 1164.153880366087, 1327.4895589447021, 808.731774160564, 963.4200745153427, 2330.35498046875, 5676.062772827148, 2465.657731933594, 1030.1401892471313, 630.2758865356445, 1520.1561100769043, 1074.692231721878, 4868.982197265625, 1398.0701834654808, 1094.5647064971924, 3209.0897985839842, 1273.0028031921386, 148.09657354354857, 33400.6410546875, 6759.811845703125, 1075.1491928541661, 863.1444205456972, 439.8672113037109, 9979.143541259766, 761.4965962219238, 4350.952141113281, 984.7050381469727, 1723.200257616043, 21236.481030273437, 1184.1386209106445, 6236.594444580078, 1777.1768130493165, 808.611774160564, 116347.20868164062, 222.06192678451538, 69174.11681640625, 3354.334742736816, 1062.9408113098145, 712.7392754554749, 1072.82814899683, 1864.5308373832702, 1557.449989862442, 808.731774160564, 1781.0044491577148, 807.871774160564, 2334.9084741210936, 2360.6165650177004, 758.2105563354493, 1365.6286291503907, 3467.3769647216795, 544.0341626167298, 5277.800716552734, 1223.1195654296876, 45144.888671875, 3988.850358886719, 4175.298444824219, 2733.3163232421875, 1349.8831676101684, 11789.008940429687, 18290.752915039062, 1577.0759133911133, 2435.385307006836, 1493.5733703613282, 2292.904888153076, 1539.0020248413086, 807.9136208340526, 808.6917741605639, 1700.868484802246, 808.6112311717868, 4057.79466796875, 1191.7152306890487, 2561.035231323242, 804.861774160564, 791.0632202318311, 493.00154245376586, 1438.4205784606934, 753.0783792114257, 944.4761338806152, 1204.2835035705566, 9043.920258789063, 1275.6391732025147, 6936.899473876953, 837.8778553009033, 949.9863591003418, 6968.001982421875, 3630.021836090088, 885.4794046401978, 2053.929987030029, 5830.165994873047, 12411.169665527344, 797.7602295979857, 1167.1394196856022, 1811.5444827270508, 586.9800828552246, 808.731774160564, 1162.5078644156456, 1274.2307649970055, 9521.071088256836, 1462.4433912658692, 937.6816314464808, 990.2244688415527, 1348.5267996072769, 14212.499165039062, 944.5652507781982, 24245.59521972656, 1087.2262817406654, 2118.8206967163087, 668.6715734863282, 519.9482104492188, 12287.846811523437, 2941.361708984375, 1392.3422434961797, 17447.294392089843, 3217.9373046875, 3852.4033715820315, 5496.624415283203, 435.9784204101563, 1207.977714996338, 703.6682831573486, 11777.867348632812, 16250.322294921874, 1000.6576472854614, 840.9344955444336, 811.0780341815948, 490.82323307037353, 412.6317827510834, 896.2988824367524, 1370.451856689453, 976.2182517236471, 1330.7752120113373, 2080.657892074585, 886.3632742977143, 807.6756450864673, 292.8728343009949, 11120.091685180663, 1431.250721435547, 123.0781979560852, 804.9417741605639, 859.6287432098388, 713.1509493160248, 617.7332999610901, 652.8758328437805, 824.0781076812744, 808.591774160564, 1292.462158203125, 1154.0282360839844, 18277.760100097657, 1193.022945075035, 808.731774160564, 1324.4931811523438, 22823.134228515624, 1240.704444656372, 150453.36046875, 2522.3665673828127, 808.7303299435973, 807.2117741605639, 1719.7761236572267, 1449.8280279660225, 1366.8555391407012]\n",
      "10/32/32\n"
     ]
    },
    {
     "data": {
      "application/vnd.jupyter.widget-view+json": {
       "model_id": "86ecf2654ca74f3493036a9461b9a3e3",
       "version_major": 2,
       "version_minor": 0
      },
      "text/plain": [
       "HBox(children=(FloatProgress(value=0.0, max=196.0), HTML(value='')))"
      ]
     },
     "metadata": {},
     "output_type": "display_data"
    },
    {
     "name": "stdout",
     "output_type": "stream",
     "text": [
      "\n",
      "Cumulative Confirmed Cases\n"
     ]
    },
    {
     "data": {
      "application/vnd.jupyter.widget-view+json": {
       "model_id": "25cfc098afb4418dbc17271f69f4b64a",
       "version_major": 2,
       "version_minor": 0
      },
      "text/plain": [
       "HBox(children=(FloatProgress(value=0.0, max=196.0), HTML(value='')))"
      ]
     },
     "metadata": {},
     "output_type": "display_data"
    },
    {
     "name": "stdout",
     "output_type": "stream",
     "text": [
      "\n",
      "Confirmed Cases\n"
     ]
    },
    {
     "data": {
      "application/vnd.jupyter.widget-view+json": {
       "model_id": "323071a5b1664563b7ce04bca676e966",
       "version_major": 2,
       "version_minor": 0
      },
      "text/plain": [
       "HBox(children=(FloatProgress(value=0.0, max=196.0), HTML(value='')))"
      ]
     },
     "metadata": {},
     "output_type": "display_data"
    },
    {
     "name": "stdout",
     "output_type": "stream",
     "text": [
      "\n"
     ]
    },
    {
     "data": {
      "application/vnd.jupyter.widget-view+json": {
       "model_id": "2ff9ed8a95094680be487cf39710666a",
       "version_major": 2,
       "version_minor": 0
      },
      "text/plain": [
       "HBox(children=(FloatProgress(value=0.0, max=196.0), HTML(value='')))"
      ]
     },
     "metadata": {},
     "output_type": "display_data"
    },
    {
     "name": "stdout",
     "output_type": "stream",
     "text": [
      "\n"
     ]
    },
    {
     "data": {
      "application/vnd.jupyter.widget-view+json": {
       "model_id": "d675abbcaf6f4a178b5f6c73e1d13c88",
       "version_major": 2,
       "version_minor": 0
      },
      "text/plain": [
       "HBox(children=(FloatProgress(value=0.0, max=196.0), HTML(value='')))"
      ]
     },
     "metadata": {},
     "output_type": "display_data"
    },
    {
     "name": "stdout",
     "output_type": "stream",
     "text": [
      "\n",
      "Deaths Cases\n"
     ]
    },
    {
     "data": {
      "application/vnd.jupyter.widget-view+json": {
       "model_id": "010068eaa84e464385f83d6c469d51c6",
       "version_major": 2,
       "version_minor": 0
      },
      "text/plain": [
       "HBox(children=(FloatProgress(value=0.0, max=196.0), HTML(value='')))"
      ]
     },
     "metadata": {},
     "output_type": "display_data"
    },
    {
     "name": "stdout",
     "output_type": "stream",
     "text": [
      "\n"
     ]
    },
    {
     "data": {
      "application/vnd.jupyter.widget-view+json": {
       "model_id": "3c80e0c86ef742f4bba3f6fe7e7fa387",
       "version_major": 2,
       "version_minor": 0
      },
      "text/plain": [
       "HBox(children=(FloatProgress(value=0.0, max=196.0), HTML(value='')))"
      ]
     },
     "metadata": {},
     "output_type": "display_data"
    },
    {
     "name": "stdout",
     "output_type": "stream",
     "text": [
      "\n",
      "Finished preparing datasets.\n",
      "Epoch 1/10\n",
      "776/776 - 3s - loss: 0.1523 - val_loss: 0.0033\n",
      "Epoch 2/10\n",
      "776/776 - 3s - loss: 0.0028 - val_loss: 0.0028\n",
      "Epoch 3/10\n",
      "776/776 - 3s - loss: 0.0026 - val_loss: 0.0027\n",
      "Epoch 4/10\n",
      "776/776 - 3s - loss: 0.0026 - val_loss: 0.0027\n",
      "Epoch 5/10\n",
      "776/776 - 3s - loss: 0.0025 - val_loss: 0.0028\n",
      "Epoch 6/10\n",
      "776/776 - 3s - loss: 0.0025 - val_loss: 0.0025\n",
      "Epoch 7/10\n",
      "776/776 - 3s - loss: 0.0024 - val_loss: 0.0026\n",
      "Epoch 8/10\n",
      "776/776 - 3s - loss: 0.0024 - val_loss: 0.0025\n",
      "Epoch 9/10\n",
      "776/776 - 3s - loss: 0.0024 - val_loss: 0.0025\n",
      "Epoch 10/10\n",
      "776/776 - 3s - loss: 0.0024 - val_loss: 0.0025\n"
     ]
    },
    {
     "data": {
      "application/vnd.jupyter.widget-view+json": {
       "model_id": "b78d254016a04e3ea17cf1106f93cf3d",
       "version_major": 2,
       "version_minor": 0
      },
      "text/plain": [
       "HBox(children=(FloatProgress(value=0.0, max=19600.0), HTML(value='')))"
      ]
     },
     "metadata": {},
     "output_type": "display_data"
    },
    {
     "name": "stdout",
     "output_type": "stream",
     "text": [
      "\n",
      "Marshall Islands [264.637043838501, 1469.8723457336425, 541.4378842163086, 219.46401075363158, 3446.596096191406, 7975.22017578125, 2829.5784930419923, 761.4469245505333, 168.363349571228, 1564.435948486328, 1134.9616245269776, 770.6820848417282, 5834.77748046875, 714.8562678623199, 765.8609572601318, 367.5574267578125, 1282.739038848877, 400.1212139892578, 415.5936624145508, 562.6969886779785, 169.65773742675782, 173.9449927330017, 531.5027923226356, 396.67849700927735, 48228.55037109375, 751.3086374735832, 535.7309937620163, 709.0950124555826, 1263.7044771575927, 535.9109937620163, 685.7474129581451, 2956.7380493164064, 2390.9409271240233, 610.7910388183594, 667.3061637496949, 195.1628331565857, 782.3198509979248, 403.5560964870453, 2099.34255859375, 767.5366744160652, 538.4925198364258, 864.0575598144532, 692.311420135498, 166.93414951324462, 16408.68923828125, 5525.92896484375, 641.5980572122336, 587.884168215394, 951.8339859008789, 4935.0408203125, 282.00629013061524, 803.4163000488281, 184.71224914550783, 994.8404712009429, 5526.135615234375, 551.4077068328858, 2816.516143798828, 816.881882019043, 535.7909937620163, 59749.26576171875, 400.1392532157898, 30575.1793359375, 906.8192437744141, 435.5016309738159, 173.96042345046996, 712.455345351696, 1069.3657621574403, 828.8818465471268, 535.9109937620163, 616.7645324707031, 535.0509937620163, 1520.983096923828, 1151.5767297363282, 344.5756862449646, 358.8141339111328, 1039.1441040039062, 453.5402654361725, 1323.962364501953, 1072.7220947265625, 47113.34796875, 1893.8617163085937, 3928.504323730469, 2660.2895263671876, 813.364122467041, 5208.081005859375, 8099.590759277344, 554.7423179626464, 1717.917969970703, 313.96943725585936, 976.635440826416, 499.7985615539551, 535.088383229971, 535.8709937620163, 288.96635803222654, 535.7920964068174, 988.1052917480469, 673.7182777667045, 269.92334716796876, 532.0409937620163, 517.0002110719681, 344.56678313732147, 819.3422747802734, 574.7167498779297, 374.29204612731934, 535.3990716552735, 2341.1790600585937, 701.469879348278, 3775.0073693847658, 438.3817033004761, 440.58258453369143, 2160.05294921875]\n",
      "Solomon Islands [264.637043838501, 1469.8723457336425, 541.4378842163086, 219.46401075363158, 3446.596096191406, 7975.22017578125, 2829.5784930419923, 761.4469245505333, 168.363349571228, 1564.435948486328, 1134.9616245269776, 770.6820848417282, 5834.77748046875, 714.8562678623199, 765.8609572601318, 367.5574267578125, 1282.739038848877, 400.1212139892578, 415.5936624145508, 562.6969886779785, 169.65773742675782, 173.9449927330017, 531.5027923226356, 396.67849700927735, 48228.55037109375, 751.3086374735832, 535.7309937620163, 709.0950124555826, 1263.7044771575927, 535.9109937620163, 685.7474129581451, 2956.7380493164064, 2390.9409271240233, 610.7910388183594, 667.3061637496949, 195.1628331565857, 782.3198509979248, 403.5560964870453, 2099.34255859375, 767.5366744160652, 538.4925198364258, 864.0575598144532, 692.311420135498, 166.93414951324462, 16408.68923828125, 5525.92896484375, 641.5980572122336, 587.884168215394, 951.8339859008789, 4935.0408203125, 282.00629013061524, 803.4163000488281, 184.71224914550783, 994.8404712009429, 5526.135615234375, 551.4077068328858, 2816.516143798828, 816.881882019043, 535.7909937620163, 59749.26576171875, 400.1392532157898, 30575.1793359375, 906.8192437744141, 435.5016309738159, 173.96042345046996, 712.455345351696, 1069.3657621574403, 828.8818465471268, 535.9109937620163, 616.7645324707031, 535.0509937620163, 1520.983096923828, 1151.5767297363282, 344.5756862449646, 358.8141339111328, 1039.1441040039062, 453.5402654361725, 1323.962364501953, 1072.7220947265625, 47113.34796875, 1893.8617163085937, 3928.504323730469, 2660.2895263671876, 813.364122467041, 5208.081005859375, 8099.590759277344, 554.7423179626464, 1717.917969970703, 313.96943725585936, 976.635440826416, 499.7985615539551, 535.088383229971, 535.8709937620163, 288.96635803222654, 535.7920964068174, 988.1052917480469, 673.7182777667045, 269.92334716796876, 532.0409937620163, 517.0002110719681, 344.56678313732147, 819.3422747802734, 574.7167498779297, 374.29204612731934, 535.3990716552735, 2341.1790600585937, 701.469879348278, 3775.0073693847658, 438.3817033004761, 440.58258453369143, 2160.05294921875, 1647.6579949951172, 612.5208761405945, 1007.0744151687622, 1997.4448168945312, 5420.209360961914, 524.9245914053917, 680.3504584097863, 536.0599700927735, 475.7320395326614, 535.9109937620163, 693.3378609371185, 760.8866078615189, 3978.447151489258, 604.7795636749267, 585.6068645060062, 240.12099838256836, 787.1506718635559, 3660.5149755859375, 271.1393081665039, 12471.987590332032, 693.4961705327034, 4850.383904266358, 1172.5624731445312, 805.229013671875, 2476.0784692382813, 1172.5167700195314, 765.4241733813286, 7378.947211914063, 781.5843634033204, 1204.5460083007813, 2127.7546826171874, 557.2488137817382, 102.63368194580079, 375.9421126556397, 4409.848820800781, 3247.847978515625, 685.1843639564514, 325.05454406738284, 499.21320526599885, 181.2440934753418, 358.054033575058]\n",
      "Slovenia [264.637043838501, 1469.8723457336425, 541.4378842163086, 219.46401075363158, 3446.596096191406, 7975.22017578125, 2829.5784930419923, 761.4469245505333, 168.363349571228, 1564.435948486328, 1134.9616245269776, 770.6820848417282, 5834.77748046875, 714.8562678623199, 765.8609572601318, 367.5574267578125, 1282.739038848877, 400.1212139892578, 415.5936624145508, 562.6969886779785, 169.65773742675782, 173.9449927330017, 531.5027923226356, 396.67849700927735, 48228.55037109375, 751.3086374735832, 535.7309937620163, 709.0950124555826, 1263.7044771575927, 535.9109937620163, 685.7474129581451, 2956.7380493164064, 2390.9409271240233, 610.7910388183594, 667.3061637496949, 195.1628331565857, 782.3198509979248, 403.5560964870453, 2099.34255859375, 767.5366744160652, 538.4925198364258, 864.0575598144532, 692.311420135498, 166.93414951324462, 16408.68923828125, 5525.92896484375, 641.5980572122336, 587.884168215394, 951.8339859008789, 4935.0408203125, 282.00629013061524, 803.4163000488281, 184.71224914550783, 994.8404712009429, 5526.135615234375, 551.4077068328858, 2816.516143798828, 816.881882019043, 535.7909937620163, 59749.26576171875, 400.1392532157898, 30575.1793359375, 906.8192437744141, 435.5016309738159, 173.96042345046996, 712.455345351696, 1069.3657621574403, 828.8818465471268, 535.9109937620163, 616.7645324707031, 535.0509937620163, 1520.983096923828, 1151.5767297363282, 344.5756862449646, 358.8141339111328, 1039.1441040039062, 453.5402654361725, 1323.962364501953, 1072.7220947265625, 47113.34796875, 1893.8617163085937, 3928.504323730469, 2660.2895263671876, 813.364122467041, 5208.081005859375, 8099.590759277344, 554.7423179626464, 1717.917969970703, 313.96943725585936, 976.635440826416, 499.7985615539551, 535.088383229971, 535.8709937620163, 288.96635803222654, 535.7920964068174, 988.1052917480469, 673.7182777667045, 269.92334716796876, 532.0409937620163, 517.0002110719681, 344.56678313732147, 819.3422747802734, 574.7167498779297, 374.29204612731934, 535.3990716552735, 2341.1790600585937, 701.469879348278, 3775.0073693847658, 438.3817033004761, 440.58258453369143, 2160.05294921875, 1647.6579949951172, 612.5208761405945, 1007.0744151687622, 1997.4448168945312, 5420.209360961914, 524.9245914053917, 680.3504584097863, 536.0599700927735, 475.7320395326614, 535.9109937620163, 693.3378609371185, 760.8866078615189, 3978.447151489258, 604.7795636749267, 585.6068645060062, 240.12099838256836, 787.1506718635559, 3660.5149755859375, 271.1393081665039, 12471.987590332032, 693.4961705327034, 4850.383904266358, 1172.5624731445312, 805.229013671875, 2476.0784692382813, 1172.5167700195314, 765.4241733813286, 7378.947211914063, 781.5843634033204, 1204.5460083007813, 2127.7546826171874, 557.2488137817382, 102.63368194580079, 375.9421126556397, 4409.848820800781, 3247.847978515625, 685.1843639564514, 325.05454406738284, 499.21320526599885, 181.2440934753418, 358.054033575058, 652.6394593334198, 271.96591094970705, 580.1336539447308, 1117.4702506446838, 2051.6628804016113, 653.2631365823746, 534.8330954539775, 457.6888201236725, 4815.361428833008]\n",
      "Vanuatu [264.637043838501, 1469.8723457336425, 541.4378842163086, 219.46401075363158, 3446.596096191406, 7975.22017578125, 2829.5784930419923, 761.4469245505333, 168.363349571228, 1564.435948486328, 1134.9616245269776, 770.6820848417282, 5834.77748046875, 714.8562678623199, 765.8609572601318, 367.5574267578125, 1282.739038848877, 400.1212139892578, 415.5936624145508, 562.6969886779785, 169.65773742675782, 173.9449927330017, 531.5027923226356, 396.67849700927735, 48228.55037109375, 751.3086374735832, 535.7309937620163, 709.0950124555826, 1263.7044771575927, 535.9109937620163, 685.7474129581451, 2956.7380493164064, 2390.9409271240233, 610.7910388183594, 667.3061637496949, 195.1628331565857, 782.3198509979248, 403.5560964870453, 2099.34255859375, 767.5366744160652, 538.4925198364258, 864.0575598144532, 692.311420135498, 166.93414951324462, 16408.68923828125, 5525.92896484375, 641.5980572122336, 587.884168215394, 951.8339859008789, 4935.0408203125, 282.00629013061524, 803.4163000488281, 184.71224914550783, 994.8404712009429, 5526.135615234375, 551.4077068328858, 2816.516143798828, 816.881882019043, 535.7909937620163, 59749.26576171875, 400.1392532157898, 30575.1793359375, 906.8192437744141, 435.5016309738159, 173.96042345046996, 712.455345351696, 1069.3657621574403, 828.8818465471268, 535.9109937620163, 616.7645324707031, 535.0509937620163, 1520.983096923828, 1151.5767297363282, 344.5756862449646, 358.8141339111328, 1039.1441040039062, 453.5402654361725, 1323.962364501953, 1072.7220947265625, 47113.34796875, 1893.8617163085937, 3928.504323730469, 2660.2895263671876, 813.364122467041, 5208.081005859375, 8099.590759277344, 554.7423179626464, 1717.917969970703, 313.96943725585936, 976.635440826416, 499.7985615539551, 535.088383229971, 535.8709937620163, 288.96635803222654, 535.7920964068174, 988.1052917480469, 673.7182777667045, 269.92334716796876, 532.0409937620163, 517.0002110719681, 344.56678313732147, 819.3422747802734, 574.7167498779297, 374.29204612731934, 535.3990716552735, 2341.1790600585937, 701.469879348278, 3775.0073693847658, 438.3817033004761, 440.58258453369143, 2160.05294921875, 1647.6579949951172, 612.5208761405945, 1007.0744151687622, 1997.4448168945312, 5420.209360961914, 524.9245914053917, 680.3504584097863, 536.0599700927735, 475.7320395326614, 535.9109937620163, 693.3378609371185, 760.8866078615189, 3978.447151489258, 604.7795636749267, 585.6068645060062, 240.12099838256836, 787.1506718635559, 3660.5149755859375, 271.1393081665039, 12471.987590332032, 693.4961705327034, 4850.383904266358, 1172.5624731445312, 805.229013671875, 2476.0784692382813, 1172.5167700195314, 765.4241733813286, 7378.947211914063, 781.5843634033204, 1204.5460083007813, 2127.7546826171874, 557.2488137817382, 102.63368194580079, 375.9421126556397, 4409.848820800781, 3247.847978515625, 685.1843639564514, 325.05454406738284, 499.21320526599885, 181.2440934753418, 358.054033575058, 652.6394593334198, 271.96591094970705, 580.1336539447308, 1117.4702506446838, 2051.6628804016113, 653.2631365823746, 534.8330954539775, 457.6888201236725, 4815.361428833008, 1868.9129986572266, 47.89438398361206, 532.1209937620163, 471.34352592468264, 561.2979452466965, 569.2466424179078, 507.27512627124787, 422.55578426361086, 535.7709937620162, 715.969123764038, 544.7142053222656, 18343.367481689453, 675.0241303968429, 535.9109937620163, 93.76670516967773, 7622.359038085938, 593.7519703292846, 25656.5303125, 595.2346310424805, 535.8609698212147, 534.3909937620163, 696.853466796875, 829.6627416014671, 782.8914467728138]\n",
      "Samoa [264.637043838501, 1469.8723457336425, 541.4378842163086, 219.46401075363158, 3446.596096191406, 7975.22017578125, 2829.5784930419923, 761.4469245505333, 168.363349571228, 1564.435948486328, 1134.9616245269776, 770.6820848417282, 5834.77748046875, 714.8562678623199, 765.8609572601318, 367.5574267578125, 1282.739038848877, 400.1212139892578, 415.5936624145508, 562.6969886779785, 169.65773742675782, 173.9449927330017, 531.5027923226356, 396.67849700927735, 48228.55037109375, 751.3086374735832, 535.7309937620163, 709.0950124555826, 1263.7044771575927, 535.9109937620163, 685.7474129581451, 2956.7380493164064, 2390.9409271240233, 610.7910388183594, 667.3061637496949, 195.1628331565857, 782.3198509979248, 403.5560964870453, 2099.34255859375, 767.5366744160652, 538.4925198364258, 864.0575598144532, 692.311420135498, 166.93414951324462, 16408.68923828125, 5525.92896484375, 641.5980572122336, 587.884168215394, 951.8339859008789, 4935.0408203125, 282.00629013061524, 803.4163000488281, 184.71224914550783, 994.8404712009429, 5526.135615234375, 551.4077068328858, 2816.516143798828, 816.881882019043, 535.7909937620163, 59749.26576171875, 400.1392532157898, 30575.1793359375, 906.8192437744141, 435.5016309738159, 173.96042345046996, 712.455345351696, 1069.3657621574403, 828.8818465471268, 535.9109937620163, 616.7645324707031, 535.0509937620163, 1520.983096923828, 1151.5767297363282, 344.5756862449646, 358.8141339111328, 1039.1441040039062, 453.5402654361725, 1323.962364501953, 1072.7220947265625, 47113.34796875, 1893.8617163085937, 3928.504323730469, 2660.2895263671876, 813.364122467041, 5208.081005859375, 8099.590759277344, 554.7423179626464, 1717.917969970703, 313.96943725585936, 976.635440826416, 499.7985615539551, 535.088383229971, 535.8709937620163, 288.96635803222654, 535.7920964068174, 988.1052917480469, 673.7182777667045, 269.92334716796876, 532.0409937620163, 517.0002110719681, 344.56678313732147, 819.3422747802734, 574.7167498779297, 374.29204612731934, 535.3990716552735, 2341.1790600585937, 701.469879348278, 3775.0073693847658, 438.3817033004761, 440.58258453369143, 2160.05294921875, 1647.6579949951172, 612.5208761405945, 1007.0744151687622, 1997.4448168945312, 5420.209360961914, 524.9245914053917, 680.3504584097863, 536.0599700927735, 475.7320395326614, 535.9109937620163, 693.3378609371185, 760.8866078615189, 3978.447151489258, 604.7795636749267, 585.6068645060062, 240.12099838256836, 787.1506718635559, 3660.5149755859375, 271.1393081665039, 12471.987590332032, 693.4961705327034, 4850.383904266358, 1172.5624731445312, 805.229013671875, 2476.0784692382813, 1172.5167700195314, 765.4241733813286, 7378.947211914063, 781.5843634033204, 1204.5460083007813, 2127.7546826171874, 557.2488137817382, 102.63368194580079, 375.9421126556397, 4409.848820800781, 3247.847978515625, 685.1843639564514, 325.05454406738284, 499.21320526599885, 181.2440934753418, 358.054033575058, 652.6394593334198, 271.96591094970705, 580.1336539447308, 1117.4702506446838, 2051.6628804016113, 653.2631365823746, 534.8330954539775, 457.6888201236725, 4815.361428833008, 1868.9129986572266, 47.89438398361206, 532.1209937620163, 471.34352592468264, 561.2979452466965, 569.2466424179078, 507.27512627124787, 422.55578426361086, 535.7709937620162, 715.969123764038, 544.7142053222656, 18343.367481689453, 675.0241303968429, 535.9109937620163, 93.76670516967773, 7622.359038085938, 593.7519703292846, 25656.5303125, 595.2346310424805, 535.8609698212147, 534.3909937620163, 696.853466796875, 829.6627416014671, 782.8914467728138]\n",
      "10/32/42\n"
     ]
    },
    {
     "data": {
      "application/vnd.jupyter.widget-view+json": {
       "model_id": "9567721aa2e94e7b822e58895c61c783",
       "version_major": 2,
       "version_minor": 0
      },
      "text/plain": [
       "HBox(children=(FloatProgress(value=0.0, max=196.0), HTML(value='')))"
      ]
     },
     "metadata": {},
     "output_type": "display_data"
    },
    {
     "name": "stdout",
     "output_type": "stream",
     "text": [
      "\n",
      "Cumulative Confirmed Cases\n"
     ]
    },
    {
     "data": {
      "application/vnd.jupyter.widget-view+json": {
       "model_id": "fc15b0c748e0424e9db72449d91c9821",
       "version_major": 2,
       "version_minor": 0
      },
      "text/plain": [
       "HBox(children=(FloatProgress(value=0.0, max=196.0), HTML(value='')))"
      ]
     },
     "metadata": {},
     "output_type": "display_data"
    },
    {
     "name": "stdout",
     "output_type": "stream",
     "text": [
      "\n",
      "Confirmed Cases\n"
     ]
    },
    {
     "data": {
      "application/vnd.jupyter.widget-view+json": {
       "model_id": "6363de3a0dc047369e7fd81193e6a9bb",
       "version_major": 2,
       "version_minor": 0
      },
      "text/plain": [
       "HBox(children=(FloatProgress(value=0.0, max=196.0), HTML(value='')))"
      ]
     },
     "metadata": {},
     "output_type": "display_data"
    },
    {
     "name": "stdout",
     "output_type": "stream",
     "text": [
      "\n"
     ]
    },
    {
     "data": {
      "application/vnd.jupyter.widget-view+json": {
       "model_id": "7a0b1336402d49188c404fe38feee5ed",
       "version_major": 2,
       "version_minor": 0
      },
      "text/plain": [
       "HBox(children=(FloatProgress(value=0.0, max=196.0), HTML(value='')))"
      ]
     },
     "metadata": {},
     "output_type": "display_data"
    },
    {
     "name": "stdout",
     "output_type": "stream",
     "text": [
      "\n"
     ]
    },
    {
     "data": {
      "application/vnd.jupyter.widget-view+json": {
       "model_id": "de3ab3c402f041e9a114038bec691d4a",
       "version_major": 2,
       "version_minor": 0
      },
      "text/plain": [
       "HBox(children=(FloatProgress(value=0.0, max=196.0), HTML(value='')))"
      ]
     },
     "metadata": {},
     "output_type": "display_data"
    },
    {
     "name": "stdout",
     "output_type": "stream",
     "text": [
      "\n",
      "Deaths Cases\n"
     ]
    },
    {
     "data": {
      "application/vnd.jupyter.widget-view+json": {
       "model_id": "583f08073d6048c4bf61ce62189a7aaf",
       "version_major": 2,
       "version_minor": 0
      },
      "text/plain": [
       "HBox(children=(FloatProgress(value=0.0, max=196.0), HTML(value='')))"
      ]
     },
     "metadata": {},
     "output_type": "display_data"
    },
    {
     "name": "stdout",
     "output_type": "stream",
     "text": [
      "\n"
     ]
    },
    {
     "data": {
      "application/vnd.jupyter.widget-view+json": {
       "model_id": "d719b99046de4698a7fce0e6489fc346",
       "version_major": 2,
       "version_minor": 0
      },
      "text/plain": [
       "HBox(children=(FloatProgress(value=0.0, max=196.0), HTML(value='')))"
      ]
     },
     "metadata": {},
     "output_type": "display_data"
    },
    {
     "name": "stdout",
     "output_type": "stream",
     "text": [
      "\n",
      "Finished preparing datasets.\n",
      "Epoch 1/10\n",
      "776/776 - 3s - loss: 0.4697 - val_loss: 0.0041\n",
      "Epoch 2/10\n",
      "776/776 - 3s - loss: 0.0035 - val_loss: 0.0033\n",
      "Epoch 3/10\n",
      "776/776 - 3s - loss: 0.0029 - val_loss: 0.0029\n",
      "Epoch 4/10\n",
      "776/776 - 3s - loss: 0.0028 - val_loss: 0.0028\n",
      "Epoch 5/10\n",
      "776/776 - 4s - loss: 0.0026 - val_loss: 0.0031\n",
      "Epoch 6/10\n",
      "776/776 - 4s - loss: 0.0027 - val_loss: 0.0027\n",
      "Epoch 7/10\n",
      "776/776 - 4s - loss: 0.0026 - val_loss: 0.0027\n",
      "Epoch 8/10\n",
      "776/776 - 4s - loss: 0.0025 - val_loss: 0.0026\n",
      "Epoch 9/10\n",
      "776/776 - 3s - loss: 0.0025 - val_loss: 0.0026\n",
      "Epoch 10/10\n",
      "776/776 - 3s - loss: 0.0025 - val_loss: 0.0026\n"
     ]
    }
   ],
   "source": [
    "\n",
    "epochs = [10, 20]\n",
    "batch_sizes = [24, 32, 64]\n",
    "n_hiddens = [12, 32, 42]\n",
    "np.random.seed(42)\n",
    "tf.random.set_seed(42)\n",
    "\n",
    "# epoch = 20\n",
    "# batch_size = 36\n",
    "# n_hidden = 36\n",
    "\n",
    "MAE, MSE, RMSE, R2 = {}, {}, {}, {}\n",
    "target = \"New Confirmed\"\n",
    "countries = train_df[\"Country\"].unique()\n",
    "\n",
    "for epoch in epochs:\n",
    "    for batch_size in batch_sizes:\n",
    "        for n_hidden in n_hiddens:\n",
    "            iteration = str(epoch) + \"/\" + str(batch_size) +  \"/\" + str(n_hidden)\n",
    "            print(iteration)\n",
    "\n",
    "            train = train_df.rename(columns={'Country': 'Country/Region','Fatal': 'Deaths', 'Date': 'ObservationDate'})\n",
    "            covid_timeseries = train.copy()\n",
    "\n",
    "            num_cols = ['Confirmed', 'Deaths']\n",
    "            for col in num_cols:\n",
    "                temp = [int(i) for i in train[col]]\n",
    "                train[col] = temp\n",
    "\n",
    "            # Create empty test set\n",
    "            countries = train[\"Country/Region\"].unique()\n",
    "            dates = list(train[train[\"Country/Region\"] == countries[0]].ObservationDate)\n",
    "\n",
    "            # Create empty test set\n",
    "            d = []\n",
    "            for country in countries:\n",
    "                for date in dates:\n",
    "                    d.append(\n",
    "                        {\n",
    "                            'Country/Region': country,\n",
    "                            'Date': date,\n",
    "                        }\n",
    "                    )\n",
    "            test = pd.DataFrame(d)\n",
    "\n",
    "            states_per_regions, unique_regions = list_per_region(test)\n",
    "\n",
    "            # Number of steps to look back\n",
    "            n_steps = 7\n",
    "\n",
    "            # Number of days to forcast\n",
    "            num_days = 100\n",
    "\n",
    "            pivot_date = \"'2020-10-01'\"\n",
    "\n",
    "\n",
    "            print('Cumulative Confirmed Cases')\n",
    "            X_c, y_c = create_train_dataset('Confirmed', n_steps, train, pivot_date, unique_regions, states_per_regions)\n",
    "\n",
    "            print('Confirmed Cases')\n",
    "            X_nc, y_nc = create_train_dataset('New Confirmed', n_steps, covid_timeseries, pivot_date, unique_regions, states_per_regions)\n",
    "            test_confirmed, regs = create_test_dataset('Confirmed', n_steps, train, pivot_date, unique_regions, states_per_regions)\n",
    "            test_nc, reg_nc = create_test_dataset_new_c('New Confirmed', n_steps, covid_timeseries, pivot_date, unique_regions, states_per_regions)\n",
    "\n",
    "            print('Deaths Cases')\n",
    "            X_d, y_d = create_train_dataset('Deaths', n_steps, train, pivot_date, unique_regions, states_per_regions)\n",
    "            test_deaths, regs = create_test_dataset('Deaths', n_steps, train, pivot_date, unique_regions, states_per_regions)\n",
    "            print('Finished preparing datasets.')\n",
    "\n",
    "            # Split the train data in to train and val data\n",
    "            X_train_c, X_val_c, y_train_c, y_val_c = train_test_split(\n",
    "                X_c, y_c, test_size=0.30, random_state=42)\n",
    "            X_train_d, X_val_d, y_train_d, y_val_d = train_test_split(\n",
    "                X_d, y_d, test_size=0.30, random_state=42)\n",
    "            X_train_nc, X_val_nc, y_train_nc, y_val_nc = train_test_split(\n",
    "                X_c, y_c, test_size=0.30, random_state=42)\n",
    "\n",
    "            # Reshape data\n",
    "            test_confirmed = pd.DataFrame(test_confirmed).values\n",
    "            test_nc = pd.DataFrame(test_nc).values\n",
    "            test_deaths = pd.DataFrame(test_deaths).values\n",
    "\n",
    "\n",
    "            # Reshapping the Confirmed data for LSTM\n",
    "            X_train_c = X_train_c.reshape((X_train_c.shape[0], 1, X_train_c.shape[1]))\n",
    "            X_val_c = X_val_c.reshape((X_val_c.shape[0], 1,  X_val_c.shape[1]))\n",
    "            X_train_nc = X_train_nc.reshape((X_train_nc.shape[0], 1, X_train_nc.shape[1]))\n",
    "            X_val_nc = X_val_nc.reshape((X_val_nc.shape[0], 1,  X_val_nc.shape[1]))\n",
    "            X_test_c = test_confirmed.reshape(\n",
    "                (test_confirmed.shape[0], 1, test_confirmed.shape[1]))\n",
    "            X_test_nc = test_nc.reshape((test_nc.shape[0], 1, test_nc.shape[1]))\n",
    "\n",
    "\n",
    "            # Reshapping the donfirmed data for LSTM\n",
    "            X_train_d = X_train_d.reshape((X_train_d.shape[0], 1, X_train_d.shape[1]))\n",
    "            X_val_d = X_val_d.reshape((X_val_d.shape[0], 1,  X_val_d.shape[1]))\n",
    "            X_test_d = test_deaths.reshape((test_deaths.shape[0], 1, test_deaths.shape[1]))\n",
    "\n",
    "            # Initializing model components\n",
    "            timesteps = X_train_c.shape[1]\n",
    "            input_dim = X_train_c.shape[2]\n",
    "            n_features = 1\n",
    "\n",
    "            # Model for Death cases\n",
    "            model_d = Sequential()\n",
    "            model_d.add(LSTM(50, activation='relu', input_shape=(n_features,n_steps),return_sequences=True))\n",
    "            model_d.add(LSTM(50, activation='relu'))\n",
    "            model_d.add(Dense(1))\n",
    "            model_d.compile(optimizer='adam', loss=tf.keras.losses.MeanSquaredLogarithmicError())\n",
    "            callbacks = [ReduceLROnPlateau(monitor='val_loss', patience=5, verbose=1, factor=0.6),\n",
    "                         EarlyStopping(monitor='val_loss', patience=20),\n",
    "                         ModelCheckpoint(filepath='best_model.h5', monitor='val_loss', save_best_only=True)]\n",
    "            # hist=model_d.fit(X_train_d,y_train_d, epochs=epoch, batch_size=batch_size, validation_data=(X_val_d, y_val_d), verbose=2, shuffle=True,callbacks=callbacks)\n",
    "\n",
    "\n",
    "            # Model for Confirmed cases\n",
    "            model_c = Sequential()\n",
    "            model_c.add(LSTM(50, activation='relu', input_shape=(n_features,n_steps),return_sequences=True))\n",
    "            model_c.add(LSTM(150, activation='relu'))\n",
    "            model_c.add(Dense(1,activation='relu'))\n",
    "            model_c.compile(optimizer='adam', loss=tf.keras.losses.MeanSquaredLogarithmicError())\n",
    "            callbacks = [ReduceLROnPlateau(monitor='val_loss', patience=5, verbose=1, factor=0.6),\n",
    "                         EarlyStopping(monitor='val_loss', patience=20),\n",
    "                         ModelCheckpoint(filepath='best_model.h5', monitor='val_loss', save_best_only=True)]\n",
    "            # fit the model\n",
    "            # hist=model_c.fit(X_train_c,y_train_c, epochs=epoch, batch_size=batch_size, validation_data=(X_val_c, y_val_c), verbose=2, shuffle=True,callbacks=callbacks)\n",
    "\n",
    "            # Model for new confirmed cases\n",
    "            model_nc = Sequential()\n",
    "            model_nc.add(LSTM(50, activation='relu', input_shape=(n_features,n_steps),return_sequences=True))\n",
    "            model_nc.add(LSTM(50, activation='relu'))\n",
    "            model_nc.add(Dense(1))\n",
    "            model_nc.compile(optimizer='adam', loss=tf.keras.losses.MeanSquaredLogarithmicError())\n",
    "            callbacks = [ReduceLROnPlateau(monitor='val_loss', patience=5, verbose=1, factor=0.6),\n",
    "                        EarlyStopping(monitor='val_loss', patience=20),\n",
    "                        ModelCheckpoint(filepath='best_model.h5', monitor='val_loss', save_best_only=True)]\n",
    "            hist=model_nc.fit(X_train_nc,y_train_nc, epochs=epoch, batch_size=batch_size, validation_data=(X_val_nc, y_val_nc), verbose=2, shuffle=True,callbacks=callbacks)\n",
    "\n",
    "\n",
    "            forcast_start_date = pivot_date.replace(\"'\", \"\")\n",
    "            res_confirmed=forcast(model_c,X_test_c,forcast_start_date, num_days, n_steps, regs)\n",
    "            res_deaths=forcast(model_d,X_test_d,forcast_start_date, num_days, n_steps, regs)\n",
    "            res_new_confirmed = forcast(model_nc,X_test_nc,forcast_start_date, num_days, n_steps, regs)\n",
    "\n",
    "            begin_date = pivot_date\n",
    "            end_date = f\"'{res_new_confirmed.columns[-2:][0]}'\"\n",
    "\n",
    "            sub, res_regional = convert_predictions_df(res_confirmed, res_deaths, res_new_confirmed, test,begin_date, end_date)\n",
    "            # sub, res_regional = convert_predictions_nc(res_new_confirmed, test, begin_date, end_date)\n",
    "            res_regional = res_regional.rename(columns={\"New Confirmed\": \"New Confirmed_LSTM\", \"Deaths\": \"Deaths_LSTM\", \"Confirmed\": \"Confirmed_LSTM\"})\n",
    "            maes, mses, rmses, r2s = [], [], [], []\n",
    "            for country in countries:\n",
    "                try:\n",
    "                    Y_pred = res_regional[res_regional[\"Country/Region\"] == country]\n",
    "                    Y_true = train_df[train_df[\"Country\"] == country]\n",
    "                    temp = pd.merge(Y_true, Y_pred, on=\"Date\")\n",
    "                    y, yhat = temp[target + \"_LSTM\"], temp[target]\n",
    "                    maes.append(metrics.mean_absolute_error(y, yhat))\n",
    "                    mses.append(metrics.mean_squared_error(y, yhat))\n",
    "                    rmses.append(np.sqrt(metrics.mean_squared_error(y, yhat)))\n",
    "                    r2s.append(metrics.r2_score(y,yhat))\n",
    "                except:\n",
    "                    print(country)\n",
    "            \n",
    "            MAE[iteration] = np.mean(maes)\n",
    "            MSE[iteration] = np.mean(mses)\n",
    "            RMSE[iteration] = np.mean(rmses)\n",
    "            R2[iteration] = np.mean(r2s)\n",
    "\n",
    "    "
   ]
  },
  {
   "cell_type": "code",
   "execution_count": null,
   "metadata": {},
   "outputs": [],
   "source": [
    "print(MAE)\n",
    "print(MSE)\n",
    "print(RMSE)\n",
    "print(R2)"
   ]
  },
  {
   "cell_type": "code",
   "execution_count": null,
   "metadata": {},
   "outputs": [],
   "source": []
  },
  {
   "cell_type": "code",
   "execution_count": null,
   "metadata": {
    "scrolled": false
   },
   "outputs": [],
   "source": [
    "\n",
    "countries = [\"Japan\", \"Germany\", \"Italy\", \"Spain\", \"United Kingdom\", \"Netherlands\", \"Australia\", \"Portugal\", \"Canada\"]\n",
    "nrow, ncol = 3, 3\n",
    "colors = map('C{}'.format, cycle(range(nrow*ncol)))\n",
    "fig, axs = plt.subplots(nrow,ncol,figsize=(ncol*5, nrow*4), constrained_layout=True);\n",
    "MAE, MSE, RMSE, R2 = [], [], [], []\n",
    "target = \"New Confirmed\"\n",
    "# res_regional = res_regional.rename(columns={\"Confirmed\": \"Confirmed_LSTM\", \"New Confirmed\": \"New Confirmed_LSTM\", \"Deaths\": \"Deaths_LSTM\"})\n",
    "# res_regional = res_regional.rename(columns={\"New Confirmed\": \"New Confirmed_LSTM\"})\n",
    "\n",
    "\n",
    "for country, ax in zip(countries, axs.flatten()):\n",
    "    Y_pred = res_regional[res_regional[\"Country/Region\"] == country]\n",
    "    Y_pred.plot(x=\"Date\", y=target + \"_LSTM\", label=\"LSTM Pred\", ax=ax)\n",
    "    Y_true = train_df[train_df[\"Country\"] == country]\n",
    "    Y_true.plot(x=\"Date\", y=target, ax=ax, label=\"True\", title=country);\n",
    "    temp = pd.merge(Y_true, Y_pred, on=\"Date\")\n",
    "    y, yhat = temp[target + \"_LSTM\"], temp[target]\n",
    "    \n",
    "    MAE.append(metrics.mean_absolute_error(y, yhat))\n",
    "    MSE.append(metrics.mean_squared_error(y, yhat))\n",
    "    RMSE.append(np.sqrt(metrics.mean_squared_error(y, yhat)))\n",
    "    R2.append(metrics.r2_score(y,yhat))\n",
    "    \n",
    "print(\"MAE\", np.mean(MAE))\n",
    "print(\"MSE\", np.mean(MSE))\n",
    "print(\"RMSE\", np.mean(RMSE))\n",
    "print(\"R2\", np.mean(R2))\n",
    "\n",
    "\n"
   ]
  },
  {
   "cell_type": "code",
   "execution_count": 8,
   "metadata": {},
   "outputs": [],
   "source": [
    "def select_window(df, start, end):\n",
    "    return df[start:end]"
   ]
  },
  {
   "cell_type": "code",
   "execution_count": 9,
   "metadata": {},
   "outputs": [],
   "source": [
    "country = \"Netherlands\"\n",
    "\n",
    "data = pickle.load(open(\"data/Netherlands_2020-10-01_SIR.p\", \"rb\"))\n",
    "data[\"Infected\"] = data[\"Infected\"] / 10\n",
    "data[\"New Confirmed\"] = data[\"Confirmed\"].diff() "
   ]
  },
  {
   "cell_type": "code",
   "execution_count": 10,
   "metadata": {},
   "outputs": [],
   "source": [
    "start = 184\n",
    "\n",
    "lstm = res_regional.copy()\n",
    "train_select = train_df.copy()\n",
    "\n",
    "country_selection_LSTM = lstm[lstm[\"Country/Region\"] == country]\n",
    "train_selection = train_select[train_select[\"Country\"] == country]\n",
    "train_selection = train_selection.rename(columns={\"New Confirmed\": \"New Confirmed_true\"})\n",
    "\n",
    "# Merge true, SIR and LSTM\n",
    "merged_df = pd.merge(data, country_selection_LSTM, on=\"Date\", how=\"outer\")\n",
    "merged = pd.merge(merged_df, train_selection[[\"Date\", target + \"_true\"]], on=\"Date\", how=\"outer\")\n",
    "merged = merged.sort_values(\"Date\")"
   ]
  },
  {
   "cell_type": "code",
   "execution_count": 11,
   "metadata": {},
   "outputs": [
    {
     "data": {
      "image/png": "[encoded data removed]",
      "text/plain": [
       "<Figure size 432x288 with 1 Axes>"
      ]
     },
     "metadata": {
      "needs_background": "light"
     },
     "output_type": "display_data"
    },
    {
     "data": {
      "image/png": "[encoded data removed]",
      "text/plain": [
       "<Figure size 432x288 with 1 Axes>"
      ]
     },
     "metadata": {
      "needs_background": "light"
     },
     "output_type": "display_data"
    }
   ],
   "source": [
    "windows = [20, 100]\n",
    "for i in windows:\n",
    "    window = select_window(merged, start, start + i)\n",
    "    window.plot(x=\"Date\", y=[target, \"New Confirmed_LSTM\", \"New Confirmed_true\"])"
   ]
  },
  {
   "cell_type": "code",
   "execution_count": 12,
   "metadata": {},
   "outputs": [],
   "source": [
    "def calc_accuracy(df, window):\n",
    "    \"\"\"\n",
    "    df columns are: New Confirmed, New Confirmed_LSTM, New Confirmed_true\n",
    "    \"\"\"\n",
    "    lstm_accuracy = {}\n",
    "    SIRF_accuracy = {}\n",
    "    \n",
    "    y_pred_lstm = df[\"New Confirmed_LSTM\"].values\n",
    "    y_pred_SIR = df[\"New Confirmed\"].values\n",
    "    y_true = df[\"New Confirmed_true\"].values\n",
    "    \n",
    "    lstm_accuracy[\"MAE\"] = metrics.mean_absolute_error(y_pred_lstm, y_true)\n",
    "    lstm_accuracy[\"MSE\"] = metrics.mean_squared_error(y_pred_lstm, y_true)\n",
    "    lstm_accuracy[\"RMSE\"] = np.sqrt(metrics.mean_squared_error(y_pred_lstm, y_true))\n",
    "    lstm_accuracy[\"R2\"] = metrics.r2_score(y_pred_lstm, y_true)\n",
    "    \n",
    "    SIRF_accuracy[\"MAE\"] = metrics.mean_absolute_error(y_pred_SIR, y_true)\n",
    "    SIRF_accuracy[\"MSE\"] = metrics.mean_squared_error(y_pred_SIR, y_true)\n",
    "    SIRF_accuracy[\"RMSE\"] = np.sqrt(metrics.mean_squared_error(y_pred_SIR, y_true))\n",
    "    SIRF_accuracy[\"R2\"] = metrics.r2_score(y_pred_lstm, y_pred_SIR)\n",
    "    \n",
    "    lstm_accuracy = pd.DataFrame([lstm_accuracy])\n",
    "    SIRF_accuracy = pd.DataFrame([SIRF_accuracy])\n",
    "    return lstm_accuracy, SIRF_accuracy\n",
    "\n",
    "windows = range(10, 50)\n",
    "columns = ['MAE', 'MSE', 'RMSE', 'R2']\n",
    "lstm_accuracy = pd.DataFrame(columns=columns, index=windows)\n",
    "SIRF_accuracy = lstm_accuracy.copy()\n",
    "\n",
    "for i in range(len(windows)):\n",
    "    window = select_window(merged, start, start + windows[i])\n",
    "    lstm_acc, SIR_acc = calc_accuracy(window, windows[i])\n",
    "    lstm_accuracy.iloc[i] = lstm_acc.values[0]\n",
    "    SIRF_accuracy.iloc[i] = SIR_acc.values[0]"
   ]
  },
  {
   "cell_type": "code",
   "execution_count": null,
   "metadata": {},
   "outputs": [],
   "source": []
  },
  {
   "cell_type": "code",
   "execution_count": 13,
   "metadata": {
    "scrolled": true
   },
   "outputs": [
    {
     "data": {
      "image/png": "[encoded data removed]",
      "text/plain": [
       "<Figure size 432x288 with 1 Axes>"
      ]
     },
     "metadata": {
      "needs_background": "light"
     },
     "output_type": "display_data"
    },
    {
     "data": {
      "image/png": "[encoded data removed]",
      "text/plain": [
       "<Figure size 432x288 with 1 Axes>"
      ]
     },
     "metadata": {
      "needs_background": "light"
     },
     "output_type": "display_data"
    },
    {
     "data": {
      "image/png": "[encoded data removed]",
      "text/plain": [
       "<Figure size 432x288 with 1 Axes>"
      ]
     },
     "metadata": {
      "needs_background": "light"
     },
     "output_type": "display_data"
    },
    {
     "data": {
      "image/png": "[encoded data removed]",
      "text/plain": [
       "<Figure size 432x288 with 1 Axes>"
      ]
     },
     "metadata": {
      "needs_background": "light"
     },
     "output_type": "display_data"
    }
   ],
   "source": [
    "for measure in columns:\n",
    "    ax = SIRF_accuracy.reset_index().plot(x=\"index\", y=measure, label=\"SIRF\", title=measure)\n",
    "    lstm_accuracy.reset_index().plot(x=\"index\", y=measure, label=\"LSTM\", ax=ax)"
   ]
  },
  {
   "cell_type": "code",
   "execution_count": null,
   "metadata": {},
   "outputs": [],
   "source": []
  }
 ],
 "metadata": {
  "kernelspec": {
   "display_name": "Python 3",
   "language": "python",
   "name": "python3"
  },
  "language_info": {
   "codemirror_mode": {
    "name": "ipython",
    "version": 3
   },
   "file_extension": ".py",
   "mimetype": "text/x-python",
   "name": "python",
   "nbconvert_exporter": "python",
   "pygments_lexer": "ipython3",
   "version": "3.7.8"
  }
 },
 "nbformat": 4,
 "nbformat_minor": 4
}
