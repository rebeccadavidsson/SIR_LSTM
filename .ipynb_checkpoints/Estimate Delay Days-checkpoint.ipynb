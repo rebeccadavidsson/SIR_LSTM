{
 "cells": [
  {
   "cell_type": "code",
   "execution_count": 1,
   "metadata": {},
   "outputs": [],
   "source": [
    "import covsirphy as cs\n",
    "import matplotlib.pylab as plt\n",
    "import numpy as np\n",
    "import plotly as py\n",
    "import plotly.graph_objs as go\n",
    "import pandas as pd\n",
    "import plotly.express as px"
   ]
  },
  {
   "cell_type": "markdown",
   "metadata": {},
   "source": [
    "## Load data"
   ]
  },
  {
   "cell_type": "code",
   "execution_count": 2,
   "metadata": {
    "scrolled": false
   },
   "outputs": [],
   "source": [
    "data_loader = cs.DataLoader(directory=\"kaggle/input\")\n",
    "jhu_data = data_loader.jhu()\n",
    "population_data = data_loader.population()\n",
    "oxcgrt_data = data_loader.oxcgrt()"
   ]
  },
  {
   "cell_type": "markdown",
   "metadata": {},
   "source": [
    "## Estimate number of days of delay for a given country"
   ]
  },
  {
   "cell_type": "code",
   "execution_count": 3,
   "metadata": {},
   "outputs": [
    {
     "name": "stdout",
     "output_type": "stream",
     "text": [
      "Indicators:  ['Country' 'ISO3' 'School_closing' 'Workplace_closing' 'Cancel_events'\n",
      " 'Gatherings_restrictions' 'Transport_closing' 'Stay_home_restrictions'\n",
      " 'Internal_movement_restrictions' 'International_movement_restrictions'\n",
      " 'Information_campaigns' 'Testing_policy' 'Contact_tracing'\n",
      " 'Stringency_index']\n",
      "Targets:  ['Infected' 'Fatal' 'Recovered']\n"
     ]
    }
   ],
   "source": [
    "country = \"Japan\"\n",
    "scn = cs.Scenario(jhu_data, population_data, country)\n",
    "\n",
    "indicators = oxcgrt_data.cleaned().columns.values[1:]\n",
    "print(\"Indicators: \", indicators)\n",
    "\n",
    "records = scn.records(show_figure=False)\n",
    "print(\"Targets: \", records.columns.values[1:])"
   ]
  },
  {
   "cell_type": "code",
   "execution_count": 4,
   "metadata": {},
   "outputs": [
    {
     "name": "stdout",
     "output_type": "stream",
     "text": [
      "Float64Index([], dtype='float64', name='Infected')\n"
     ]
    },
    {
     "ename": "TypeError",
     "evalue": "cannot unpack non-iterable NoneType object",
     "output_type": "error",
     "traceback": [
      "\u001b[0;31m---------------------------------------------------------------------------\u001b[0m",
      "\u001b[0;31mTypeError\u001b[0m                                 Traceback (most recent call last)",
      "\u001b[0;32m<ipython-input-4-1ca57ee458a6>\u001b[0m in \u001b[0;36m<module>\u001b[0;34m\u001b[0m\n\u001b[1;32m      1\u001b[0m \u001b[0mindicator\u001b[0m\u001b[0;34m,\u001b[0m \u001b[0mtarget\u001b[0m \u001b[0;34m=\u001b[0m \u001b[0;34m\"Stringency_index\"\u001b[0m\u001b[0;34m,\u001b[0m \u001b[0;34m\"Infected\"\u001b[0m\u001b[0;34m\u001b[0m\u001b[0;34m\u001b[0m\u001b[0m\n\u001b[0;32m----> 2\u001b[0;31m \u001b[0mdays\u001b[0m\u001b[0;34m,\u001b[0m \u001b[0mdf_periods\u001b[0m \u001b[0;34m=\u001b[0m \u001b[0mscn\u001b[0m\u001b[0;34m.\u001b[0m\u001b[0mestimate_delay\u001b[0m\u001b[0;34m(\u001b[0m\u001b[0moxcgrt_data\u001b[0m\u001b[0;34m,\u001b[0m \u001b[0mindicator\u001b[0m\u001b[0;34m=\u001b[0m\u001b[0mindicator\u001b[0m\u001b[0;34m,\u001b[0m \u001b[0mtarget\u001b[0m\u001b[0;34m=\u001b[0m\u001b[0mtarget\u001b[0m\u001b[0;34m)\u001b[0m\u001b[0;34m\u001b[0m\u001b[0;34m\u001b[0m\u001b[0m\n\u001b[0m",
      "\u001b[0;31mTypeError\u001b[0m: cannot unpack non-iterable NoneType object"
     ]
    }
   ],
   "source": [
    "indicator, target = \"Stringency_index\", \"Infected\"\n",
    "days, df_periods = scn.estimate_delay(oxcgrt_data, indicator=indicator, target=target)"
   ]
  },
  {
   "cell_type": "code",
   "execution_count": null,
   "metadata": {
    "scrolled": true
   },
   "outputs": [],
   "source": [
    "print(\"Days of delay for\", country, \":\", round(days, 2))"
   ]
  },
  {
   "cell_type": "markdown",
   "metadata": {},
   "source": [
    "## View the calculated periods in a graph"
   ]
  },
  {
   "cell_type": "code",
   "execution_count": null,
   "metadata": {
    "scrolled": true
   },
   "outputs": [],
   "source": [
    "df_periods[\"Cumulative days\"] = df_periods[\"Period Length\"].cumsum()\n",
    "\n",
    "plt.plot(records[\"Date\"], records[target])\n",
    "plt.xlabel(\"Date\")\n",
    "plt.ylabel(target)\n",
    "\n",
    "start_date = records[\"Date\"].values[0]\n",
    "for day in df_periods[\"Cumulative days\"].values[1:].astype(int):\n",
    "    plt.axvline(start_date + np.timedelta64(day, 'D'), linestyle=\":\", color=\"black\")\n"
   ]
  },
  {
   "cell_type": "markdown",
   "metadata": {},
   "source": [
    "## Calculate delay days for every country"
   ]
  },
  {
   "cell_type": "code",
   "execution_count": null,
   "metadata": {},
   "outputs": [],
   "source": [
    "countries = jhu_data.cleaned()[\"Country\"].unique()"
   ]
  },
  {
   "cell_type": "code",
   "execution_count": null,
   "metadata": {},
   "outputs": [],
   "source": [
    "delay_days = {}\n",
    "\n",
    "for country in countries:\n",
    "    try:\n",
    "        sn = cs.Scenario(jhu_data, population_data, country)\n",
    "    except:\n",
    "        print(\"Skipped\", country)\n",
    "        continue\n",
    "        \n",
    "    days, df_periods = sn.estimate_delay(oxcgrt_data, indicator=indicator, target=target)\n",
    "    delay_days[country] = days\n",
    "\n"
   ]
  },
  {
   "cell_type": "code",
   "execution_count": null,
   "metadata": {},
   "outputs": [],
   "source": [
    "data = dict (\n",
    "    type = 'choropleth',\n",
    "    locations = list(delay_days.keys()),\n",
    "    locationmode='country names',\n",
    "    z=list(delay_days.values()),\n",
    "    colorscale=px.colors.named_colorscales()[9],\n",
    "    colorbar=dict(thickness=30,\n",
    "                           ticklen=7,\n",
    "                           tickfont=dict(size=20)),\n",
    ")\n",
    "\n",
    "map = go.Figure(data=[data], \n",
    "                        layout = go.Layout(\n",
    "                        title=\"Average number of delay days\",\n",
    "                        geo=dict(bgcolor= 'rgba(233,233,233,0.3)')))\n",
    "\n",
    "py.offline.iplot(map)"
   ]
  },
  {
   "cell_type": "code",
   "execution_count": null,
   "metadata": {},
   "outputs": [],
   "source": [
    "delay_days"
   ]
  },
  {
   "cell_type": "code",
   "execution_count": null,
   "metadata": {},
   "outputs": [],
   "source": [
    "for i in countries:\n",
    "    print(i)"
   ]
  },
  {
   "cell_type": "code",
   "execution_count": null,
   "metadata": {},
   "outputs": [],
   "source": []
  }
 ],
 "metadata": {
  "kernelspec": {
   "display_name": "Python 3",
   "language": "python",
   "name": "python3"
  },
  "language_info": {
   "codemirror_mode": {
    "name": "ipython",
    "version": 3
   },
   "file_extension": ".py",
   "mimetype": "text/x-python",
   "name": "python",
   "nbconvert_exporter": "python",
   "pygments_lexer": "ipython3",
   "version": "3.7.8"
  }
 },
 "nbformat": 4,
 "nbformat_minor": 2
}
