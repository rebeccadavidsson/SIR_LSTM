{
 "cells": [
  {
   "cell_type": "code",
   "execution_count": null,
   "metadata": {},
   "outputs": [],
   "source": [
    "import pickle\n",
    "import datetime\n",
    "from numpy import array\n",
    "import warnings\n",
    "from tqdm import tqdm_notebook as tqdm\n",
    "import plotly.graph_objects as go\n",
    "import plotly.express as px\n",
    "from plotly.subplots import make_subplots\n",
    "import plotly as py\n",
    "from matplotlib import rcParams\n",
    "import seaborn as sns\n",
    "import matplotlib.pylab as plt\n",
    "import math\n",
    "import pickle\n",
    "import os\n",
    "import pandas as pd\n",
    "import folium\n",
    "import math\n",
    "import numpy as np\n",
    "import matplotlib\n",
    "import covsirphy as cs\n",
    "from itertools import cycle\n",
    "sns.set()\n",
    "matplotlib.use('nbagg')\n",
    "warnings.filterwarnings(\"ignore\")"
   ]
  },
  {
   "cell_type": "code",
   "execution_count": null,
   "metadata": {},
   "outputs": [],
   "source": [
    "%matplotlib inline\n",
    "import covsirphy as cs\n",
    "\n",
    "# Download datasets\n",
    "data_loader = cs.DataLoader(\"input\")\n",
    "jhu_data = data_loader.jhu()\n",
    "population_data = data_loader.population()"
   ]
  },
  {
   "cell_type": "code",
   "execution_count": null,
   "metadata": {
    "scrolled": true
   },
   "outputs": [],
   "source": [
    "# all_phases = snl.summary().index.tolist()\n",
    "# snl.enable(all_phases)\n",
    "# snl.disable(phases=[\"17th\", \"5th\", \"7th\", \"6th\", \"12th\", \"3rd\", \"13th\", \"14th\", ])\n",
    "# snl.history(\"Infected\")"
   ]
  },
  {
   "cell_type": "markdown",
   "metadata": {},
   "source": [
    "# Create trainingset for the SIRF model"
   ]
  },
  {
   "cell_type": "code",
   "execution_count": null,
   "metadata": {},
   "outputs": [],
   "source": [
    "train = jhu_data.cleaned()\n",
    "countries = train[\"Country\"].unique()\n",
    "total_data = []\n",
    "days_moving_average = 3\n",
    "\n",
    "for country in countries:\n",
    "    try:\n",
    "        s = cs.Scenario(jhu_data, population_data, country=country)\n",
    "        s.complement()\n",
    "        diff = s.records_diff(variables=[\"Confirmed\"], window=days_moving_average, show_figure=False)\n",
    "        d = s.records(show_figure=False)\n",
    "        \n",
    "        # Add country name and number of new confirmed cases\n",
    "        d[\"Country\"] = country\n",
    "        d[\"New Confirmed\"] = diff.reset_index()[\"Confirmed\"]\n",
    "        d = d[:-3]\n",
    "        total_data.append(d)\n",
    "    except:\n",
    "        print(country + \" not found\")\n",
    "        \n",
    "train_df = pd.concat(total_data)\n",
    "train_df.head()"
   ]
  },
  {
   "cell_type": "markdown",
   "metadata": {},
   "source": [
    "### Make selection of data up until pivot date"
   ]
  },
  {
   "cell_type": "code",
   "execution_count": null,
   "metadata": {},
   "outputs": [],
   "source": [
    "# First, convert data to the correct format\n",
    "country = \"Netherlands\"\n",
    "pivot_date = \"'2020-10-01'\"\n",
    "train_section = train_df[train_df[\"Country\"] == country].query(\"Date<=\" + pivot_date)\n",
    "train_section.plot(x=\"Date\", y=\"New Confirmed\")\n",
    "train_section[\"Province\"] = \"-\"\n",
    "jhu_data = cs.JHUData.from_dataframe(train_section)\n"
   ]
  },
  {
   "cell_type": "code",
   "execution_count": null,
   "metadata": {},
   "outputs": [],
   "source": [
    "# population_data = cs.PopulationData()\n",
    "# population_data.update(17280000, country=country)\n",
    "snl = cs.Scenario(jhu_data, population_data, country=country)\n",
    "data = snl.records()\n",
    "snl.add(days=60)\n",
    "trend = snl.trend(show_figure=True)"
   ]
  },
  {
   "cell_type": "code",
   "execution_count": null,
   "metadata": {},
   "outputs": [],
   "source": [
    "# Parameter estimation of SIR model\n",
    "snl.estimate(cs.SIRF, show_figure=False, auto_complement=False)"
   ]
  },
  {
   "cell_type": "code",
   "execution_count": null,
   "metadata": {},
   "outputs": [],
   "source": [
    "# all_phases = snl.summary().index.tolist()\n",
    "# snl.enable(all_phases)\n",
    "# snl.disable(phases=[\"17th\", \"5th\", \"7th\", \"6th\", \"12th\", \"3rd\", \"13th\", \"14th\", ])\n",
    "# snl.history(\"Infected\")\n",
    "snl.add(days=100)"
   ]
  },
  {
   "cell_type": "code",
   "execution_count": null,
   "metadata": {},
   "outputs": [],
   "source": [
    "print(plt.style.available)\n",
    "plt.style.use('seaborn')\n",
    "\n",
    "data = snl.simulate()"
   ]
  },
  {
   "cell_type": "code",
   "execution_count": null,
   "metadata": {},
   "outputs": [],
   "source": [
    "# data.to_pickle(\"data/Netherlands_2020-10-01_SIR.p\")\n",
    "plt.plot(data[\"Date\"], data[\"Infected\"]);\n",
    "plt.show()"
   ]
  },
  {
   "cell_type": "code",
   "execution_count": null,
   "metadata": {},
   "outputs": [],
   "source": []
  }
 ],
 "metadata": {
  "kernelspec": {
   "display_name": "Python 3",
   "language": "python",
   "name": "python3"
  },
  "language_info": {
   "codemirror_mode": {
    "name": "ipython",
    "version": 3
   },
   "file_extension": ".py",
   "mimetype": "text/x-python",
   "name": "python",
   "nbconvert_exporter": "python",
   "pygments_lexer": "ipython3",
   "version": "3.7.8"
  }
 },
 "nbformat": 4,
 "nbformat_minor": 4
}
