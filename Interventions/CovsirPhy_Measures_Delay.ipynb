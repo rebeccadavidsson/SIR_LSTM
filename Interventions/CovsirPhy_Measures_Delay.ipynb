{
 "cells": [
  {
   "cell_type": "code",
   "execution_count": 1,
   "metadata": {},
   "outputs": [
    {
     "ename": "KeyboardInterrupt",
     "evalue": "",
     "output_type": "error",
     "traceback": [
      "\u001b[0;31m---------------------------------------------------------------------------\u001b[0m",
      "\u001b[0;31mKeyboardInterrupt\u001b[0m                         Traceback (most recent call last)",
      "\u001b[0;32m<ipython-input-1-29be1c80d508>\u001b[0m in \u001b[0;36m<module>\u001b[0;34m\u001b[0m\n\u001b[1;32m      1\u001b[0m \u001b[0;32mimport\u001b[0m \u001b[0mmatplotlib\u001b[0m\u001b[0;34m.\u001b[0m\u001b[0mpyplot\u001b[0m \u001b[0;32mas\u001b[0m \u001b[0mplt\u001b[0m\u001b[0;34m\u001b[0m\u001b[0;34m\u001b[0m\u001b[0m\n\u001b[1;32m      2\u001b[0m \u001b[0;32mimport\u001b[0m \u001b[0mnumpy\u001b[0m \u001b[0;32mas\u001b[0m \u001b[0mnp\u001b[0m\u001b[0;34m\u001b[0m\u001b[0;34m\u001b[0m\u001b[0m\n\u001b[0;32m----> 3\u001b[0;31m \u001b[0;32mimport\u001b[0m \u001b[0mpandas\u001b[0m \u001b[0;32mas\u001b[0m \u001b[0mpd\u001b[0m\u001b[0;34m\u001b[0m\u001b[0;34m\u001b[0m\u001b[0m\n\u001b[0m\u001b[1;32m      4\u001b[0m \u001b[0;32mimport\u001b[0m \u001b[0mcovsirphy\u001b[0m \u001b[0;32mas\u001b[0m \u001b[0mcs\u001b[0m\u001b[0;34m\u001b[0m\u001b[0;34m\u001b[0m\u001b[0m\n\u001b[1;32m      5\u001b[0m \u001b[0;32mimport\u001b[0m \u001b[0mruptures\u001b[0m \u001b[0;32mas\u001b[0m \u001b[0mrpt\u001b[0m\u001b[0;34m\u001b[0m\u001b[0;34m\u001b[0m\u001b[0m\n",
      "\u001b[0;32m/usr/local/Caskroom/miniconda/base/lib/python3.7/site-packages/pandas/__init__.py\u001b[0m in \u001b[0;36m<module>\u001b[0;34m\u001b[0m\n\u001b[1;32m      9\u001b[0m \u001b[0;32mfor\u001b[0m \u001b[0mdependency\u001b[0m \u001b[0;32min\u001b[0m \u001b[0mhard_dependencies\u001b[0m\u001b[0;34m:\u001b[0m\u001b[0;34m\u001b[0m\u001b[0;34m\u001b[0m\u001b[0m\n\u001b[1;32m     10\u001b[0m     \u001b[0;32mtry\u001b[0m\u001b[0;34m:\u001b[0m\u001b[0;34m\u001b[0m\u001b[0;34m\u001b[0m\u001b[0m\n\u001b[0;32m---> 11\u001b[0;31m         \u001b[0m__import__\u001b[0m\u001b[0;34m(\u001b[0m\u001b[0mdependency\u001b[0m\u001b[0;34m)\u001b[0m\u001b[0;34m\u001b[0m\u001b[0;34m\u001b[0m\u001b[0m\n\u001b[0m\u001b[1;32m     12\u001b[0m     \u001b[0;32mexcept\u001b[0m \u001b[0mImportError\u001b[0m \u001b[0;32mas\u001b[0m \u001b[0me\u001b[0m\u001b[0;34m:\u001b[0m\u001b[0;34m\u001b[0m\u001b[0;34m\u001b[0m\u001b[0m\n\u001b[1;32m     13\u001b[0m         \u001b[0mmissing_dependencies\u001b[0m\u001b[0;34m.\u001b[0m\u001b[0mappend\u001b[0m\u001b[0;34m(\u001b[0m\u001b[0;34mf\"{dependency}: {e}\"\u001b[0m\u001b[0;34m)\u001b[0m\u001b[0;34m\u001b[0m\u001b[0;34m\u001b[0m\u001b[0m\n",
      "\u001b[0;32m/usr/local/Caskroom/miniconda/base/lib/python3.7/site-packages/pytz/__init__.py\u001b[0m in \u001b[0;36m<module>\u001b[0;34m\u001b[0m\n\u001b[1;32m     19\u001b[0m \u001b[0;32mfrom\u001b[0m \u001b[0mpytz\u001b[0m\u001b[0;34m.\u001b[0m\u001b[0mlazy\u001b[0m \u001b[0;32mimport\u001b[0m \u001b[0mLazyDict\u001b[0m\u001b[0;34m,\u001b[0m \u001b[0mLazyList\u001b[0m\u001b[0;34m,\u001b[0m \u001b[0mLazySet\u001b[0m  \u001b[0;31m# noqa\u001b[0m\u001b[0;34m\u001b[0m\u001b[0;34m\u001b[0m\u001b[0m\n\u001b[1;32m     20\u001b[0m \u001b[0;32mfrom\u001b[0m \u001b[0mpytz\u001b[0m\u001b[0;34m.\u001b[0m\u001b[0mtzinfo\u001b[0m \u001b[0;32mimport\u001b[0m \u001b[0munpickler\u001b[0m\u001b[0;34m,\u001b[0m \u001b[0mBaseTzInfo\u001b[0m\u001b[0;34m\u001b[0m\u001b[0;34m\u001b[0m\u001b[0m\n\u001b[0;32m---> 21\u001b[0;31m \u001b[0;32mfrom\u001b[0m \u001b[0mpytz\u001b[0m\u001b[0;34m.\u001b[0m\u001b[0mtzfile\u001b[0m \u001b[0;32mimport\u001b[0m \u001b[0mbuild_tzinfo\u001b[0m\u001b[0;34m\u001b[0m\u001b[0;34m\u001b[0m\u001b[0m\n\u001b[0m\u001b[1;32m     22\u001b[0m \u001b[0;34m\u001b[0m\u001b[0m\n\u001b[1;32m     23\u001b[0m \u001b[0;34m\u001b[0m\u001b[0m\n",
      "\u001b[0;32m/usr/local/Caskroom/miniconda/base/lib/python3.7/importlib/_bootstrap.py\u001b[0m in \u001b[0;36m_find_and_load\u001b[0;34m(name, import_)\u001b[0m\n",
      "\u001b[0;32m/usr/local/Caskroom/miniconda/base/lib/python3.7/importlib/_bootstrap.py\u001b[0m in \u001b[0;36m_find_and_load_unlocked\u001b[0;34m(name, import_)\u001b[0m\n",
      "\u001b[0;32m/usr/local/Caskroom/miniconda/base/lib/python3.7/importlib/_bootstrap.py\u001b[0m in \u001b[0;36m_load_unlocked\u001b[0;34m(spec)\u001b[0m\n",
      "\u001b[0;32m/usr/local/Caskroom/miniconda/base/lib/python3.7/importlib/_bootstrap_external.py\u001b[0m in \u001b[0;36mexec_module\u001b[0;34m(self, module)\u001b[0m\n",
      "\u001b[0;32m/usr/local/Caskroom/miniconda/base/lib/python3.7/importlib/_bootstrap_external.py\u001b[0m in \u001b[0;36mget_code\u001b[0;34m(self, fullname)\u001b[0m\n",
      "\u001b[0;32m/usr/local/Caskroom/miniconda/base/lib/python3.7/importlib/_bootstrap_external.py\u001b[0m in \u001b[0;36mget_data\u001b[0;34m(self, path)\u001b[0m\n",
      "\u001b[0;31mKeyboardInterrupt\u001b[0m: "
     ]
    }
   ],
   "source": [
    "import matplotlib.pyplot as plt\n",
    "import numpy as np\n",
    "import pandas as pd\n",
    "import covsirphy as cs\n",
    "import ruptures as rpt\n",
    "import tqdm.notebook as tq\n",
    "import plotly as py\n",
    "import plotly.graph_objs as go\n",
    "import warnings\n",
    "import plotly.express as px\n",
    "warnings.filterwarnings('ignore')"
   ]
  },
  {
   "cell_type": "code",
   "execution_count": null,
   "metadata": {},
   "outputs": [],
   "source": [
    "data_loader = cs.DataLoader(directory=\"kaggle/input\")\n",
    "jhu_data = data_loader.jhu()\n",
    "population_data = data_loader.population()\n",
    "oxcgrt_data = data_loader.oxcgrt()\n",
    "\n",
    "measures_delay = pd.DataFrame(columns=[\"Country\", \"Measures_Delay\"])\n",
    "measures_delay.set_index(\"Country\", inplace=True)\n",
    "\n",
    "plt.rcParams['figure.figsize'] = 4, 3\n",
    "\n",
    "\n",
    "countries = [\"Italy\", \"Japan\", \"China\", \"India\", \"USA\",\n",
    "                          \"Greece\", \"Brazil\", \"Russia\", \"Spain\", \"France\",\n",
    "                          \"United Kingdom\", \"Germany\", \"Netherlands\", \"Czech Republic\",\n",
    "                          \"Poland\", \"Sweden\", \"Austria\", \"Australia\",\n",
    "                          \"Switzerland\", \"Portugal\", \"South Africa\"]\n",
    "\n",
    "countries = jhu_data.cleaned()[\"Country\"].unique()"
   ]
  },
  {
   "cell_type": "code",
   "execution_count": null,
   "metadata": {},
   "outputs": [],
   "source": [
    "measures_delay = pd.DataFrame(columns=[\"Country\", \"Measures_Delay\"])\n",
    "measures_delay.set_index(\"Country\", inplace=True)\n",
    "\n",
    "for i in tq.tqdm(range(len(countries))):\n",
    "    country = countries[i]\n",
    "    \n",
    "    try:\n",
    "        scn = cs.Scenario(jhu_data, population_data, country)\n",
    "    except:\n",
    "        print(country)\n",
    "    records = scn.records(show_figure=False,\n",
    "                                        variables=[\"Confirmed\", \"Infected\",\n",
    "                                                  \"Fatal\", \"Recovered\"])\n",
    "    records[\"Confirmed_diff\"] = records[\"Confirmed\"].diff()\n",
    "    records.replace(0, np.nan, inplace=True)\n",
    "    records.fillna(method=\"bfill\", inplace=True)\n",
    "    records.fillna(method=\"ffill\", inplace=True)\n",
    "\n",
    "    oxcgrt_df = oxcgrt_data.subset(country=country).set_index(\"Date\")\n",
    "    records = records.set_index(\"Date\")\n",
    "    records[\"Stringency_index\"] = oxcgrt_df[\"Stringency_index\"]\n",
    "    \n",
    "    df = records.pivot_table(index=\"Confirmed\", values=\"Stringency_index\")\n",
    "    df_run = df.copy()\n",
    "\n",
    "    # Convert index to serial numbers\n",
    "    serial_df = pd.DataFrame(np.arange(1, df_run.index.max() + 1, 1))\n",
    "    serial_df.index += 1\n",
    "    df_run = df_run.join(serial_df, how=\"outer\")\n",
    "    series = df_run.reset_index(drop=True).iloc[:, 0]\n",
    "    series = series.dropna()\n",
    "\n",
    "    records = records.reset_index()\n",
    "    \n",
    "    \n",
    "    # Convert index values to Susceptible values\n",
    "    reset_series = series.reset_index(drop=True)\n",
    "    reset_series.index += 1\n",
    "    reset_series\n",
    "    \n",
    "    # Detection with Ruptures\n",
    "    algorithm = rpt.Pelt(model=\"rbf\", jump=1, min_size=7)\n",
    "    \n",
    "    try:\n",
    "        results = algorithm.fit_predict(series.values, pen=0.5)\n",
    "    except: \n",
    "        continue\n",
    "\n",
    "    new_confirmed_df = reset_series[results].reset_index()\n",
    "    new_confirmed_df = new_confirmed_df.interpolate(method=\"linear\").dropna().astype(np.float64)\n",
    "    \n",
    "    # Convert new_confirmed values to dates\n",
    "    df = pd.merge_asof(\n",
    "        new_confirmed_df.sort_values(\"Stringency_index\"),\n",
    "        df.reset_index().sort_values(\"Stringency_index\"),\n",
    "        on=\"Stringency_index\", direction=\"nearest\"\n",
    "    )\n",
    "    \n",
    "    df[\"periods\"] = df[\"index\"].sort_values(ignore_index=True)\n",
    "    df[\"periods\"] = df[\"periods\"].diff()\n",
    "    \n",
    "    # Filter out outliers (very long periods)\n",
    "#     df_filtered = df[(df[\"periods\"] < df[\"periods\"].quantile(0.90))]\n",
    "    df_filtered = df[(df[\"periods\"] < 35)]\n",
    "\n",
    "    measures_delay.loc[country] = df_filtered[\"periods\"].mean()\n",
    "\n",
    "print(measures_delay)\n",
    "print(measures_delay.mean())\n",
    "measures_delay = measures_delay.reset_index()"
   ]
  },
  {
   "cell_type": "code",
   "execution_count": null,
   "metadata": {},
   "outputs": [],
   "source": [
    "i = 9\n",
    "data = dict (\n",
    "    type = 'choropleth',\n",
    "    locations = measures_delay[\"Country\"].values,\n",
    "    locationmode='country names',\n",
    "    z=measures_delay[\"Measures_Delay\"].values,\n",
    "    colorscale=px.colors.named_colorscales()[i],\n",
    "    colorbar=dict(thickness=30,\n",
    "                           ticklen=7,\n",
    "                           tickfont=dict(size=20)),\n",
    ")\n",
    "\n",
    "map = go.Figure(data=[data], \n",
    "                        layout = go.Layout(\n",
    "                        title=\"Average number of days before effect of interventions is detected\",\n",
    "                        geo=dict(bgcolor= 'rgba(233,233,233,0.3)')))\n",
    "\n",
    "py.offline.plot(map)"
   ]
  },
  {
   "cell_type": "code",
   "execution_count": null,
   "metadata": {
    "scrolled": true
   },
   "outputs": [],
   "source": [
    "named_colorscales = px.colors.named_colorscales()\n",
    "named_colorscales"
   ]
  },
  {
   "cell_type": "code",
   "execution_count": null,
   "metadata": {
    "scrolled": true
   },
   "outputs": [],
   "source": [
    "list(set(countries) - set(measures_delay[\"Country\"]))"
   ]
  },
  {
   "cell_type": "code",
   "execution_count": null,
   "metadata": {},
   "outputs": [],
   "source": [
    "import covsirphy as cs\n",
    "\n",
    "data_loader = cs.DataLoader(directory=\"kaggle/input\")\n",
    "jhu_data = data_loader.jhu()\n",
    "population_data = data_loader.population()\n",
    "oxcgrt_data = data_loader.oxcgrt()\n"
   ]
  },
  {
   "cell_type": "code",
   "execution_count": null,
   "metadata": {},
   "outputs": [],
   "source": [
    "country = \"Netherlands\"\n",
    "\n",
    "scn = cs.Scenario(jhu_data, population_data, country)"
   ]
  },
  {
   "cell_type": "code",
   "execution_count": null,
   "metadata": {},
   "outputs": [],
   "source": []
  }
 ],
 "metadata": {
  "kernelspec": {
   "display_name": "Python 3",
   "language": "python",
   "name": "python3"
  },
  "language_info": {
   "codemirror_mode": {
    "name": "ipython",
    "version": 3
   },
   "file_extension": ".py",
   "mimetype": "text/x-python",
   "name": "python",
   "nbconvert_exporter": "python",
   "pygments_lexer": "ipython3",
   "version": "3.7.8"
  }
 },
 "nbformat": 4,
 "nbformat_minor": 2
}
