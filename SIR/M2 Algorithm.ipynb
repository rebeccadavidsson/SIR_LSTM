{
 "cells": [
  {
   "cell_type": "markdown",
   "metadata": {},
   "source": [
    "# M2 - SIR based"
   ]
  },
  {
   "cell_type": "markdown",
   "metadata": {},
   "source": [
    "On top of solving the ODE parameters, data fitting can also be done by machine learning. An LSTM model, that looks back in time and is able to remember values from the past, can be used to learn the relationship of the model parameter values and the NPI-scores. Here, an assumption is made that there will be a delay between the first day of implementing an NPI and the day that actual effect is seen in the number of confirmed cases. This delay is computed by **Change Point Analysis**. "
   ]
  },
  {
   "cell_type": "code",
   "execution_count": 6,
   "metadata": {},
   "outputs": [],
   "source": [
    "import os\n",
    "os.chdir(\"../LSTM\")"
   ]
  },
  {
   "cell_type": "code",
   "execution_count": 7,
   "metadata": {},
   "outputs": [],
   "source": [
    "from core.nn.LSTM_M2 import LSTM_M2\n",
    "\n",
    "%load_ext autoreload\n",
    "%autoreload 2\n",
    "\n",
    "from SIR_ODE import SIR\n",
    "import math\n",
    "import pickle\n",
    "import datetime\n",
    "from numpy import array\n",
    "import matplotlib.pylab as plt\n",
    "import pandas as pd\n",
    "import covsirphy as cs\n",
    "import requests, io, json, urllib\n",
    "import numpy as np\n",
    "import plotly.express as px\n",
    "import plotly.graph_objects as go\n",
    "from itertools import cycle\n",
    "import os.path\n",
    "import plotly.graph_objects as go\n",
    "from plotly.subplots import make_subplots\n",
    "import plotly.express as px\n",
    "import math\n",
    "from sklearn.metrics import mean_squared_error\n",
    "from itertools import cycle\n",
    "\n",
    "import seaborn as sns\n",
    "sns.set()\n",
    "%matplotlib inline"
   ]
  },
  {
   "cell_type": "markdown",
   "metadata": {},
   "source": [
    "### Prepare datasets"
   ]
  },
  {
   "cell_type": "code",
   "execution_count": 8,
   "metadata": {},
   "outputs": [
    {
     "name": "stdout",
     "output_type": "stream",
     "text": [
      "Retrieving datasets from COVID-19 Data Hub: https://covid19datahub.io/\n",
      "\n",
      "Please set verbose=2 to see the detailed citation list.\n",
      "\n",
      "\n",
      "Retrieving COVID-19 dataset in Japan from https://github.com/lisphilar/covid19-sir/data/japan\n"
     ]
    }
   ],
   "source": [
    "# Download datasets\n",
    "data_loader = cs.DataLoader(\"input\")\n",
    "jhu_data = data_loader.jhu()\n",
    "population_data = data_loader.population()\n",
    "population_df = population_data.cleaned()\n",
    "oxcgrt_data = data_loader.oxcgrt()\n",
    "TARGET_NPI = \"Stringency_index\"\n",
    "target_column = \"Infected\"\n",
    "df = jhu_data.cleaned()\n",
    "\n",
    "# Save copy\n",
    "old_df = df.copy()"
   ]
  },
  {
   "cell_type": "code",
   "execution_count": 9,
   "metadata": {},
   "outputs": [],
   "source": [
    "NPIS = [ 'Stringency_index', 'School_closing', 'Workplace_closing',\n",
    "       'Gatherings_restrictions', 'Stay_home_restrictions',\n",
    "       'International_movement_restrictions', 'Testing_policy']"
   ]
  },
  {
   "cell_type": "markdown",
   "metadata": {},
   "source": [
    "### Select Country"
   ]
  },
  {
   "cell_type": "code",
   "execution_count": 13,
   "metadata": {},
   "outputs": [
    {
     "name": "stdout",
     "output_type": "stream",
     "text": [
      "Population: 17231624\n"
     ]
    }
   ],
   "source": [
    "COUNTRY = \"Netherlands\"\n",
    "N = population_df[population_df[\"Country\"] == COUNTRY][\"Population\"].values[0]\n",
    "print(\"Population:\", N)"
   ]
  },
  {
   "cell_type": "code",
   "execution_count": 7,
   "metadata": {},
   "outputs": [],
   "source": [
    "def preprocess_data(COUNTRY):\n",
    "    df = jhu_data.cleaned()\n",
    "    df = df[df[\"Country\"] == COUNTRY]\n",
    "    old_df = df.copy()\n",
    "    df = df[df[\"Province\"] == \"-\"]\n",
    "    df[df.columns[-4:]] = df[df.columns[-4:]].rolling(7).mean()\n",
    "    df[\"New Confirmed\"] = df.Confirmed.diff()\n",
    "    \n",
    "    SIR_LSTM = LSTM_M2(COUNTRY)\n",
    "    DELAY_START, df_params, NPI_dates, days_delay = SIR_LSTM.estimate_country(jhu_data, \n",
    "                                                                              population_data, \n",
    "                                                                              oxcgrt_data, \n",
    "                                                                              TARGET_NPI)\n",
    "\n",
    "    train = df[df[\"Date\"] <= DELAY_START.strftime(\"%Y-%m-%d\")]\n",
    "    test = df[df[\"Date\"] >= DELAY_START.strftime(\"%Y-%m-%d\")]\n",
    "    \n",
    "    return df, train, test"
   ]
  },
  {
   "cell_type": "markdown",
   "metadata": {},
   "source": [
    "### Compute associated SIR model parameters for a given Non-pharmaceutical Intervention (NPI)."
   ]
  },
  {
   "cell_type": "code",
   "execution_count": 16,
   "metadata": {},
   "outputs": [],
   "source": [
    "def calc_param(df, dates):\n",
    "    \"\"\"\n",
    "    Compute model parameters associated with NPIs, implemented\n",
    "    on a given date range. \n",
    "    \n",
    "        df: input dataframe with total model parameters over \n",
    "        time for a given country.\n",
    "        dates: a list of dates (in timestamp format) that \n",
    "        cover the dates of implementing an NPI.\n",
    "    \"\"\"\n",
    "    total_params = [\"theta\", \"kappa\", \"rho\", \"sigma\"]\n",
    "    calc_params_df = {}\n",
    "    for param in total_params:\n",
    "        values = []\n",
    "        for date in df[\"Date\"].values:\n",
    "            if date in dates.values:\n",
    "                values.append(np.mean(df[df['Date'] == date][param]))\n",
    "        calc_params_df[param] = np.mean(values)\n",
    "    return calc_params_df"
   ]
  },
  {
   "cell_type": "code",
   "execution_count": 17,
   "metadata": {},
   "outputs": [],
   "source": [
    "def get_res_df(NPI, selection, plot=True):\n",
    "    params_total = {}\n",
    "    sir_params_total = {}\n",
    "    for p in NPI_dates:\n",
    "        res = calc_param(df_params, pd.Series(NPI_dates[p]))\n",
    "        \n",
    "        # Check if parameter exists\n",
    "        if not math.isnan(res[\"kappa\"]):\n",
    "            params_total[p] = res\n",
    "            sir = SIR(N=N, I0=selection[target_column], R0=selection[\"Recovered\"], \n",
    "                      beta=res[\"rho\"], gamma=res[\"theta\"], rho=res[\"rho\"], sigma=res[\"sigma\"],\n",
    "                      days=len(test))\n",
    "            SIR_results = sir.simulate(target=\"Infected\", plot=False)\n",
    "            sir_params_total[p] = SIR_results\n",
    "    test[\"SIR Infected\" + NPI] = SIR_results[\"I\"]\n",
    "\n",
    "    SIR_LSTM = LSTM_M2(COUNTRY, DELAY_START, FUTURE_DAYS=len(test))\n",
    "    SIR_LSTM.input_data(df)\n",
    "    results = SIR_LSTM.simulate();\n",
    "    \n",
    "    test[\"LSTM\"] = results[\"pred\"]\n",
    "    test[\"M2\"] = SIR_LSTM.update_predictions(test[\"SIR Infected\" + NPI], tau=days_delay)\n",
    "    subset_old_df = old_df[old_df[\"Country\"] == COUNTRY]\n",
    "    test[\"Observed\"] = subset_old_df[subset_old_df[\"Date\"] >= DELAY_START.strftime(\"%Y-%m-%d\")][\"Infected\"]\n",
    "    \n",
    "    if plot:\n",
    "        train_copy = train[train[\"Date\"] >= pd.to_datetime('2020-08-01')].copy()\n",
    "        ax = train_copy.plot(x=\"Date\", y=\"Infected\", label=\"Train\");\n",
    "        test.plot(x=\"Date\", y=[\"Infected\", \"SIR Infected\" + NPI, \"LSTM\", \"M2\", \"Observed\"], ax=ax);\n",
    "        ax.axvline(x=DELAY_START.strftime(\"%Y-%m-%d\"), color=\"grey\");\n",
    "    return test"
   ]
  },
  {
   "cell_type": "code",
   "execution_count": 18,
   "metadata": {},
   "outputs": [],
   "source": [
    "COUNTRIES = [\"United Kingdom\", \"Netherlands\", \"Japan\", \"United States\", \"China\", \"Australia\"]\n",
    "for COUNTRY in COUNTRIES:\n",
    "    SIR_LSTM = LSTM_M2(COUNTRY)\n",
    "\n",
    "    N = population_df[population_df[\"Country\"] == COUNTRY][\"Population\"].values[0]\n",
    "    print('Population in', COUNTRY, \":\", N)\n",
    "    results = pd.DataFrame(columns = [\"RMSE\", \"MAE\", \"MAPE\"])\n",
    "    DELAY_START, df_params, NPI_dates, days_delay = SIR_LSTM.estimate_country(jhu_data, \n",
    "                                                                          population_data, \n",
    "                                                                          oxcgrt_data, \n",
    "                                                                          NPIS[0])\n",
    "    for intervention in NPIS:\n",
    "        print(intervention)\n",
    "        if DELAY_START is False:\n",
    "            errors = pd.DataFrame(columns = [\"RMSE\", \"MAE\", \"MAPE\"])\n",
    "            errors = errors.append(pd.Series([np.nan, np.nan, np.nan], index=errors.columns ), ignore_index=True)\n",
    "            errors = errors.set_index(pd.Index([intervention]))\n",
    "            results = results.append(errors)\n",
    "            print(\"too little data\", intervention)\n",
    "        else:\n",
    "            df, train, test = preprocess_data(COUNTRY)\n",
    "            selection = train.iloc[-1]\n",
    "            res_df = get_res_df(NPI=intervention, selection=selection, plot=True)\n",
    "            errors = SIR_LSTM.compute_errors(N, test)\n",
    "            errors = errors.set_index(pd.Index([intervention]))\n",
    "            results = results.append(errors)\n",
    "    display(results)\n",
    "    results.to_pickle('./results/' + COUNTRY + \"_errors_SIR\")\n"
   ]
  },
  {
   "cell_type": "code",
   "execution_count": null,
   "metadata": {},
   "outputs": [],
   "source": []
  }
 ],
 "metadata": {
  "kernelspec": {
   "display_name": "Python 3",
   "language": "python",
   "name": "python3"
  },
  "language_info": {
   "codemirror_mode": {
    "name": "ipython",
    "version": 3
   },
   "file_extension": ".py",
   "mimetype": "text/x-python",
   "name": "python",
   "nbconvert_exporter": "python",
   "pygments_lexer": "ipython3",
   "version": "3.7.8"
  }
 },
 "nbformat": 4,
 "nbformat_minor": 4
}
