{
 "cells": [
  {
   "cell_type": "markdown",
   "metadata": {},
   "source": [
    "# Sobol Sensitivity Analysis\n",
    "\n",
    "Here, the goal was to determine whether results of the models were sensitive to small changes in model specification, defined as **second-order** sensitivity indices. This was researched by varying model parameters along with making new predictions. The sensitivity coefficiënt $E$ was calculated by $E = \\frac{\\delta A}{ \\delta F}$, where $\\delta A$ represents the percentage of index change and $\\delta F$ the percentage of uncertainty change. \n",
    "\n",
    "\n",
    "In addition, to study whether results (output) of the model are sensitive to changes in the input data set, **first-order** sensitivity indices were computed. This was done by studying subsets of the dataset that were independently used to make new predictions. In short, **first-order indices** were computed to measure the relative contribution of a single model input to the output variance and **second-order indices** measured the relative contribution by the interaction of model inputs to the output variance. Then, the **total-order index** gives an indication of the relative contribution by a model input to the output variance, including both first- and higher-order interactions. "
   ]
  },
  {
   "cell_type": "code",
   "execution_count": 1,
   "metadata": {},
   "outputs": [],
   "source": [
    "import SALib\n",
    "from SALib.sample import saltelli\n",
    "from SALib.analyze import sobol, morris\n",
    "from SALib.test_functions import Ishigami\n",
    "import numpy as np\n",
    "import math\n",
    "import plotly.express as px"
   ]
  },
  {
   "cell_type": "code",
   "execution_count": 2,
   "metadata": {},
   "outputs": [],
   "source": [
    "import os\n",
    "os.chdir(\"../LSTM\")"
   ]
  },
  {
   "cell_type": "code",
   "execution_count": 3,
   "metadata": {},
   "outputs": [],
   "source": [
    "from core.nn.LSTM_M2 import LSTM_M2\n",
    "\n",
    "%load_ext autoreload\n",
    "%autoreload 2\n",
    "\n",
    "from SIR_ODE import SIR\n",
    "import matplotlib.pylab as plt\n",
    "import pandas as pd\n",
    "import covsirphy as cs\n",
    "import datetime\n",
    "import math\n",
    "\n",
    "import seaborn as sns\n",
    "sns.set()\n",
    "%matplotlib inline"
   ]
  },
  {
   "cell_type": "code",
   "execution_count": 4,
   "metadata": {
    "scrolled": true
   },
   "outputs": [
    {
     "name": "stdout",
     "output_type": "stream",
     "text": [
      "Retrieving datasets from COVID-19 Data Hub: https://covid19datahub.io/\n",
      "\n",
      "Please set verbose=2 to see the detailed citation list.\n",
      "\n",
      "\n",
      "Retrieving COVID-19 dataset in Japan from https://github.com/lisphilar/covid19-sir/data/japan\n"
     ]
    }
   ],
   "source": [
    "# Download datasets\n",
    "data_loader = cs.DataLoader(\"input\")\n",
    "jhu_data = data_loader.jhu()\n",
    "population_data = data_loader.population()\n",
    "oxcgrt_data = data_loader.oxcgrt()"
   ]
  },
  {
   "cell_type": "markdown",
   "metadata": {},
   "source": [
    "## SA for the LSTM model"
   ]
  },
  {
   "cell_type": "code",
   "execution_count": 111,
   "metadata": {},
   "outputs": [],
   "source": [
    "DEVICE       = 'cpu'\n",
    "ThreshConf   = 70\n",
    "ThreshDead   = 20\n",
    "TARGET       = \"New Confirmed\"\n",
    "TYPE         = \"LSTMCell\"\n",
    "FUTURE_DAYS  = 30\n",
    "RUNS         = 1\n",
    "ERROR_THRESH = 1\n",
    "TARGET_NPI   = \"Stringency_index\"\n",
    "COUNTRY      = \"Netherlands\"\n",
    "TRAIN_UP_TO  = pd.to_datetime(\"2020-12-06\")\n",
    "DELAY_START  = pd.to_datetime(\"2020-12-16\")\n",
    "\n",
    "\n",
    "datelist = pd.date_range(pd.to_datetime(\"2020-11-01\"), periods=75).tolist()\n",
    "\n",
    "def evaluate_model(X):\n",
    "    errThresh, trainSize, futureDays, hiddenCells, dropoutRate = int(X[0]), datelist[int(X[1])], int(X[2]), int(X[3]), X[4]\n",
    "    lstm = LSTM_M2(COUNTRY, trainSize, futureDays, trainSize, hiddenCells, dropoutRate, show_Figure=True)\n",
    "    \n",
    "    results = lstm.simulate(ThreshConf=errThresh)\n",
    "    error = results[\"errors\"][0]\n",
    "    if error == np.nan:\n",
    "        error = 1\n",
    "    print(error)\n",
    "    return error\n"
   ]
  },
  {
   "cell_type": "code",
   "execution_count": 116,
   "metadata": {},
   "outputs": [],
   "source": [
    "problem = {\n",
    "    'num_vars': 5,\n",
    "    'names': ['errThresh', 'trainSize', 'futureDays', 'hiddenCells', 'dropoutRate'],\n",
    "    'bounds': [[70, 150],\n",
    "               [0, 70],\n",
    "               [10, 30],\n",
    "               [16, 64],\n",
    "               [0, 0.8]]\n",
    "}"
   ]
  },
  {
   "cell_type": "code",
   "execution_count": 117,
   "metadata": {},
   "outputs": [
    {
     "data": {
      "text/plain": [
       "array([87.578125  ,  6.76757812, 20.37109375, 48.484375  ,  0.22421875])"
      ]
     },
     "execution_count": 117,
     "metadata": {},
     "output_type": "execute_result"
    }
   ],
   "source": [
    "param_values = saltelli.sample(problem, 7)\n",
    "param_values[0]"
   ]
  },
  {
   "cell_type": "code",
   "execution_count": null,
   "metadata": {},
   "outputs": [],
   "source": [
    "Y = np.zeros([param_values.shape[0]])\n",
    "\n",
    "for i, X in enumerate(param_values):\n",
    "    Y[i] = evaluate_model(X)"
   ]
  },
  {
   "cell_type": "code",
   "execution_count": 141,
   "metadata": {},
   "outputs": [],
   "source": [
    "np.savetxt(\"output.txt\", Y)\n",
    "np.savetxt(\"param_values.txt\", param_values)"
   ]
  },
  {
   "cell_type": "code",
   "execution_count": 126,
   "metadata": {},
   "outputs": [],
   "source": [
    "Si = sobol.analyze(problem, Y)"
   ]
  },
  {
   "cell_type": "code",
   "execution_count": 139,
   "metadata": {},
   "outputs": [],
   "source": [
    "names = [i + \" S2\" for i in problem[\"names\"]]\n",
    "df1 = pd.DataFrame(Si[\"S2\"], columns=problem[\"names\"], index=names)"
   ]
  },
  {
   "cell_type": "code",
   "execution_count": 163,
   "metadata": {
    "scrolled": true
   },
   "outputs": [
    {
     "data": {
      "image/png": "[encoded data removed]",
      "text/plain": [
       "<Figure size 432x288 with 2 Axes>"
      ]
     },
     "metadata": {
      "needs_background": "light"
     },
     "output_type": "display_data"
    }
   ],
   "source": [
    "pd.set_option('display.float_format', lambda x: '%.3f' % x)\n",
    "df = pd.DataFrame(columns=problem[\"names\"])\n",
    "df.loc[\"S1\"] = Si[\"S1\"]\n",
    "df.loc[\"Total\"] = Si[\"ST\"]\n",
    "df = df.append(df1)\n",
    "sns.heatmap(df, annot=True, vmin=-10, vmax=4, cmap=\"YlGnBu\");"
   ]
  },
  {
   "cell_type": "markdown",
   "metadata": {},
   "source": [
    "## Morris Method"
   ]
  },
  {
   "cell_type": "code",
   "execution_count": null,
   "metadata": {},
   "outputs": [],
   "source": [
    "param_values_morris = SALib.sample.morris.sample(problem, 7)\n",
    "param_values_morris[0:3]\n",
    "\n",
    "Y_morris = np.zeros([param_values.shape[0]])\n",
    "\n",
    "for i, X in enumerate(param_values):\n",
    "    Y_morris[i] = evaluate_model(X)\n",
    "    \n",
    "    "
   ]
  },
  {
   "cell_type": "code",
   "execution_count": 99,
   "metadata": {},
   "outputs": [],
   "source": [
    "Si_morris = morris.analyze(problem, param_values_morris, Y_morris, conf_level=0.95, print_to_console=False, num_levels=4)"
   ]
  },
  {
   "cell_type": "code",
   "execution_count": null,
   "metadata": {},
   "outputs": [],
   "source": [
    "df = Si_morris.to_df()"
   ]
  },
  {
   "cell_type": "markdown",
   "metadata": {},
   "source": [
    "## SA for the SIR model"
   ]
  },
  {
   "cell_type": "code",
   "execution_count": 106,
   "metadata": {},
   "outputs": [],
   "source": [
    "snl = cs.Scenario(country=COUNTRY, province=None, jhu_data=jhu_data, population_data=population_data)\n",
    "snl.interactive = True"
   ]
  },
  {
   "cell_type": "code",
   "execution_count": 107,
   "metadata": {},
   "outputs": [
    {
     "data": {
      "image/png": "[encoded data removed]",
      "text/plain": [
       "<Figure size 432x288 with 1 Axes>"
      ]
     },
     "metadata": {
      "needs_background": "light"
     },
     "output_type": "display_data"
    },
    {
     "data": {
      "text/plain": [
       "<covsirphy.analysis.scenario.Scenario at 0x13da23150>"
      ]
     },
     "execution_count": 107,
     "metadata": {},
     "output_type": "execute_result"
    }
   ],
   "source": [
    "snl.trend()"
   ]
  },
  {
   "cell_type": "code",
   "execution_count": 108,
   "metadata": {},
   "outputs": [
    {
     "name": "stdout",
     "output_type": "stream",
     "text": [
      "\n",
      "<SIR-F model: parameter estimation>\n",
      "Running optimization with 4 CPUs...\n",
      "\t 6th phase (12Mar2021 - 27Mar2021): finished 2173 trials in 3 min  1 sec\n",
      "\t 9th phase (06Jan2021 - 23Jan2021): finished  266 trials in 0 min 30 sec\n",
      "\t10th phase (24Jan2021 - 18Feb2021): finished  336 trials in 0 min 40 sec\n",
      "\t 5th phase (14Oct2020 - 28Oct2020): finished  525 trials in 1 min 10 sec\n",
      "\t 3rd phase (28Mar2021 - 13Apr2021): finished  736 trials in 1 min 51 sec\n",
      "\t 0th phase (19Feb2021 - 11Mar2021): finished 1233 trials in 3 min  3 sec\n",
      "\t11th phase (09Dec2020 - 21Dec2020): finished  156 trials in 0 min 20 sec\n",
      "\t 8th phase (20Sep2020 - 13Oct2020): finished 1186 trials in 3 min  2 sec\n",
      "\t 2nd phase (18Nov2020 - 08Dec2020): finished  232 trials in 0 min 30 sec\n",
      "\t 4th phase (22Dec2020 - 05Jan2021): finished 1277 trials in 3 min  2 sec\n",
      "\t 7th phase (15Mar2020 - 19Sep2020): finished 1651 trials in 3 min  1 sec\n",
      "\t 1st phase (29Oct2020 - 17Nov2020): finished 2162 trials in 3 min  1 sec\n",
      "Completed optimization. Total: 9 min 49 sec\n"
     ]
    }
   ],
   "source": [
    "snl.estimate(cs.SIRF, timeout=180)"
   ]
  },
  {
   "cell_type": "code",
   "execution_count": null,
   "metadata": {},
   "outputs": [],
   "source": []
  }
 ],
 "metadata": {
  "kernelspec": {
   "display_name": "Python 3",
   "language": "python",
   "name": "python3"
  },
  "language_info": {
   "codemirror_mode": {
    "name": "ipython",
    "version": 3
   },
   "file_extension": ".py",
   "mimetype": "text/x-python",
   "name": "python",
   "nbconvert_exporter": "python",
   "pygments_lexer": "ipython3",
   "version": "3.7.8"
  }
 },
 "nbformat": 4,
 "nbformat_minor": 4
}
