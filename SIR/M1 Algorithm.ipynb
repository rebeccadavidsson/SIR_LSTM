{
 "cells": [
  {
   "cell_type": "markdown",
   "metadata": {},
   "source": [
    "# M1 - LSTM based"
   ]
  },
  {
   "cell_type": "markdown",
   "metadata": {},
   "source": [
    "Ideally, a hybrid model can include aspects of both SIR- and ML- models. At least two important aspects of the SIR model that have to be included: **phase dependent parameters** and **high long-term accuracy**. Phase dependent parameters have to be included since the time series data is non-stationary and therefore cannot fit to one set of parameter values for the entire dataset, and its long term accuracy. \n",
    "\n",
    "\n",
    "Two models were implemented to combine the model aspects. Model 1 (M1) was based on an LSTM model enhanced by SIR model predictions. Contrarily, Model 2 (M2) was based on SIR models enhanced by LSTM predictions. "
   ]
  },
  {
   "cell_type": "code",
   "execution_count": null,
   "metadata": {},
   "outputs": [],
   "source": []
  },
  {
   "cell_type": "code",
   "execution_count": 8,
   "metadata": {},
   "outputs": [],
   "source": [
    "import os\n",
    "os.chdir(\"../LSTM\")"
   ]
  },
  {
   "cell_type": "code",
   "execution_count": 9,
   "metadata": {},
   "outputs": [],
   "source": [
    "from core.nn.LSTMmodel import LSTM\n",
    "from core.nn import compute_weight\n",
    "from SIR.nn import *\n",
    "import pandas as pd\n",
    "\n",
    "COUNTRY = \"Netherlands\"\n",
    "SIR_predictions, NPI_data, days_delay = SIR(COUNTRY=\"Netherlands\")\n",
    "\n",
    "%load_ext autoreload\n",
    "%autoreload 2"
   ]
  },
  {
   "cell_type": "code",
   "execution_count": 10,
   "metadata": {},
   "outputs": [],
   "source": [
    "import numpy as np\n",
    "import matplotlib.pyplot as plt\n",
    "import scipy.stats\n",
    "import pandas as pd\n",
    "import seaborn as sns\n",
    "sns.set()\n",
    "\n",
    "FUTURE_DAYS = 35\n",
    "TARGET = \"Confirmed cases\"\n",
    "TYPE = \"LSTMCell\""
   ]
  },
  {
   "cell_type": "markdown",
   "metadata": {},
   "source": [
    "### Here, LSTM and SIR predictions are computed separately and combined using a rolling update mechanism. From the SIR model predictions, the parameters are calculated that are associated with a given type of NPI. The rolling update mechanism ensures that the model is trained on data that includes SIR prediction bias. \n",
    "    "
   ]
  },
  {
   "cell_type": "markdown",
   "metadata": {},
   "source": [
    "M1 is based on the following steps:\n",
    "\n",
    "1. Compute the gradient of the SIR predictions at timestep t instead of using the direct predictions for scaling/normalization purposes.\n",
    "\n",
    "2. Compute the trend of the given NPI \n",
    "\n",
    "3. Compute weight of NPI at a given timestep. The weight is a value between 0 and 1 and indicates the strength that is expected an NPI to have towards the effect on new confirmed cases. When the weight is equal to 1, NPI strength is at its maximum. Weights are dependent of the delay period - the period between implementing an NPI and the effect on the number of cases.\n",
    "\n",
    "4. Update LSTM model using the rolling update mechanism.\n",
    "\n",
    "5. Repeat steps 1-4 for every NPI. "
   ]
  },
  {
   "cell_type": "code",
   "execution_count": 11,
   "metadata": {},
   "outputs": [
    {
     "data": {
      "image/png": "[encoded data removed]",
      "text/plain": [
       "<Figure size 432x288 with 1 Axes>"
      ]
     },
     "metadata": {},
     "output_type": "display_data"
    }
   ],
   "source": [
    "# Select NPI\n",
    "NPI = \"Gatherings_restrictions\"\n",
    "LSTM_predictions, feature_data, SIR_data, weights = [], [], [], []\n",
    "for day in range(len(SIR_predictions)):\n",
    "    \n",
    "    # Compute Gradient instead of using the direct predictions \n",
    "    # for scaling/normalization purposes\n",
    "    gradient = get_gradient(SIR_predictions[day + 1], SIR_predictions[day])\n",
    "    SIR_data.append(gradient)\n",
    "        \n",
    "    # Compute trend of NPI\n",
    "    y = np.array(NPI_data[NPI])\n",
    "    z = np.polyfit(np.arange(0, len(NPI_data[NPI])), y, 1)[0]\n",
    "    \n",
    "    # Compute new weight, where weight is between 0 and 1,\n",
    "    # if 0, then influence of the NPI predictions is none, \n",
    "    # if 1, then influence of the LSTM model predictions is none.\n",
    "    weight = compute_weight(z, day, days_delay)\n",
    "    weights.append(weight)\n",
    "    \n",
    "    # Here, the weight of the NPI (z * weight) at timestep i\n",
    "    # is determined by the delay period (the period between\n",
    "    # implementing an NPI and the effect on the number of cases).\n",
    "    result = z * weight\n",
    "    feature_data.append(result)\n",
    "\n",
    "# Multivariate LSTM model with SIR based NPI predictions as \n",
    "# input feature, along with the number of (previous) \n",
    "# confirmed cases (df) and SIR predictions.\n",
    "model = LSTM(SIR_data=SIR_data, feature=feature_data, input_data=df,\n",
    "             COUNTRY, FUTURE_DAYS,\n",
    "             TARGET, TYPE)\n",
    "model.fit()\n",
    "LSTM_pred = model.predict(future_days=FUTURE_DAYS)\n",
    "plotweights(weights)"
   ]
  },
  {
   "cell_type": "code",
   "execution_count": null,
   "metadata": {},
   "outputs": [],
   "source": []
  }
 ],
 "metadata": {
  "kernelspec": {
   "display_name": "Python 3",
   "language": "python",
   "name": "python3"
  },
  "language_info": {
   "codemirror_mode": {
    "name": "ipython",
    "version": 3
   },
   "file_extension": ".py",
   "mimetype": "text/x-python",
   "name": "python",
   "nbconvert_exporter": "python",
   "pygments_lexer": "ipython3",
   "version": "3.7.8"
  }
 },
 "nbformat": 4,
 "nbformat_minor": 4
}
