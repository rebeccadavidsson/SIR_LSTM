{
 "cells": [
  {
   "cell_type": "code",
   "execution_count": 1,
   "metadata": {},
   "outputs": [],
   "source": [
    "import os\n",
    "os.chdir(\"../LSTM\")"
   ]
  },
  {
   "cell_type": "code",
   "execution_count": 2,
   "metadata": {},
   "outputs": [],
   "source": [
    "from core.nn.LSTM_M2 import LSTM_M2\n",
    "\n",
    "%load_ext autoreload\n",
    "%autoreload 2\n",
    "\n",
    "from SIR_ODE import SIR\n",
    "import math\n",
    "import pickle\n",
    "import datetime\n",
    "from numpy import array\n",
    "import matplotlib.pylab as plt\n",
    "import pandas as pd\n",
    "import covsirphy as cs\n",
    "import requests, io, json, urllib\n",
    "import numpy as np\n",
    "import plotly.express as px\n",
    "import plotly.graph_objects as go\n",
    "from itertools import cycle\n",
    "import os.path\n",
    "import plotly.graph_objects as go\n",
    "from plotly.subplots import make_subplots\n",
    "import plotly.express as px\n",
    "import math\n",
    "from sklearn.metrics import mean_squared_error\n",
    "from itertools import cycle\n",
    "\n",
    "import seaborn as sns\n",
    "sns.set()\n",
    "%matplotlib inline"
   ]
  },
  {
   "cell_type": "code",
   "execution_count": 3,
   "metadata": {},
   "outputs": [],
   "source": [
    "def get_periods(nums):\n",
    "    nums = sorted(set(nums))\n",
    "    gaps = [[s, e] for s, e in zip(nums, nums[1:]) if s+1 < e]\n",
    "    edges = iter(nums[:1] + sum(gaps, []) + nums[-1:])\n",
    "    return list(zip(edges, edges))\n",
    "    \n",
    "\n",
    "def plot_param(df, periods, TARGET):\n",
    "    fig = px.line(df, x=\"Date\", y=TARGET, title='Lockdown periods in ' + COUNTRY)\n",
    "    for dates in periods:\n",
    "        fig.add_vrect(x0=NPI_df.iloc[dates[0]][\"Date\"], x1=NPI_df.iloc[dates[1]][\"Date\"], line_width=0, fillcolor=\"red\", opacity=0.2)\n",
    "    fig.show()\n",
    "\n",
    "def add_bias(results, BIAS, isBias=True):\n",
    "    data = results.copy()\n",
    "    preds = []\n",
    "    SIR_data = []\n",
    "    dates = []\n",
    "    x_dates, x_preds, total_dates = [], [], []\n",
    "    x_plot_preds = []\n",
    "    \n",
    "    # START Adding bias after days_delay\n",
    "    BIAS_START = DELAY_START + datetime.timedelta(days_delay)\n",
    "    for date, pred, index in zip(data[\"valData\"][\"Date\"], data[\"pred\"], range(0, len(data[\"valData\"]))):\n",
    "        if date >= BIAS_START:\n",
    "            preds.append(pred)\n",
    "            dates.append(date)\n",
    "            SIR_data.append(SIR_results[\"I\"][index])\n",
    "        x_dates.append(date)\n",
    "        x_preds.append(pred)\n",
    "        total_dates.append(date)\n",
    "     # Add bias to prediction\n",
    "    # Calculate trend in SIR-predictions\n",
    "    x = np.arange(0,len(SIR_data))\n",
    "    y = np.array(SIR_data)\n",
    "    if len(y) > 1:\n",
    "        z = np.polyfit(x, y, 1)[0]\n",
    "    else:\n",
    "        z = 1\n",
    "        \n",
    "    new_preds, old_preds = [], []\n",
    "    weight = 3\n",
    "    for i in range(len(preds)):\n",
    "        if i == len(preds) - 1:\n",
    "            diff = preds[i] - preds[i-1]\n",
    "        else:\n",
    "            diff = preds[i + 1] - preds[i]\n",
    "        percent = (i+1) / days_delay\n",
    "        weight += 0.1\n",
    "        if isBias:\n",
    "            new_trend = (percent * z/weight + diff)\n",
    "            new_trend = new_trend + diff\n",
    "            new_preds.append(preds[i] + new_trend)\n",
    "        else:\n",
    "            new_preds.append(preds[i])\n",
    "        old_preds.append(preds[i])\n",
    "\n",
    "    if len(y) <= 1:\n",
    "        new_preds = data[\"pred\"]\n",
    "    combined_new_preds = new_preds\n",
    "#     plt.plot(combined_new_preds)\n",
    "#     plt.show()\n",
    "    # Add data to results\n",
    "    data[\"total_old_pred\"] = data[\"pred\"]\n",
    "    data[\"pred\"] = combined_new_preds\n",
    "    data[\"oldpred\"] = old_preds\n",
    "    return data\n"
   ]
  },
  {
   "cell_type": "code",
   "execution_count": 4,
   "metadata": {},
   "outputs": [
    {
     "name": "stdout",
     "output_type": "stream",
     "text": [
      "Retrieving datasets from COVID-19 Data Hub: https://covid19datahub.io/\n",
      "\n",
      "Please set verbose=2 to see the detailed citation list.\n",
      "\n",
      "\n",
      "Retrieving COVID-19 dataset in Japan from https://github.com/lisphilar/covid19-sir/data/japan\n"
     ]
    }
   ],
   "source": [
    "# Download datasets\n",
    "data_loader = cs.DataLoader(\"input\")\n",
    "jhu_data = data_loader.jhu()\n",
    "population_data = data_loader.population()\n",
    "population_df = population_data.cleaned()\n",
    "oxcgrt_data = data_loader.oxcgrt()"
   ]
  },
  {
   "cell_type": "code",
   "execution_count": 5,
   "metadata": {},
   "outputs": [],
   "source": [
    "COUNTRY = \"Italy\"\n",
    "TARGET_NPI = \"Stringency_index\"\n",
    "FACTOR = 5"
   ]
  },
  {
   "cell_type": "code",
   "execution_count": 112,
   "metadata": {},
   "outputs": [
    {
     "name": "stdout",
     "output_type": "stream",
     "text": [
      "Delay days: 15\n",
      "[(69, 123), (310, 447)]\n",
      "2020-12-21 00:00:00\n"
     ]
    }
   ],
   "source": [
    "NPI_df = oxcgrt_data.cleaned()\n",
    "NPI_df = NPI_df[NPI_df[\"Country\"] == COUNTRY]\n",
    "\n",
    "# Get lockdown dates\n",
    "NPI_df = NPI_df.reset_index().drop('index', axis=1)\n",
    "NPI_df = NPI_df.groupby(\"Date\").mean().reset_index()\n",
    "\n",
    "s = cs.Scenario(jhu_data, population_data, country=COUNTRY)\n",
    "days_delay, df_periods = s.estimate_delay(oxcgrt_data)\n",
    "print(f'Delay days: {days_delay}')\n",
    "\n",
    "NPI = TARGET_NPI\n",
    "NPI_dates = {}\n",
    "min_rate = 75\n",
    "periods = []\n",
    "while periods == [] or min_rate < 1:\n",
    "    lockdown_indexes = NPI_df[NPI_df[NPI] >= min_rate].index\n",
    "    lockdown_dates = NPI_df[NPI_df[NPI] >= min_rate][\"Date\"]\n",
    "    periods = get_periods(lockdown_indexes)\n",
    "    min_rate -= 1\n",
    "print(periods)\n",
    "lockdown_dates_adjusted = []\n",
    "for date in lockdown_dates:\n",
    "    new_date = date + datetime.timedelta(days = days_delay)\n",
    "    lockdown_dates_adjusted.append(new_date)\n",
    "NPI_dates[NPI] = lockdown_dates_adjusted\n",
    "lockdown_dates_adjusted = pd.Series(lockdown_dates_adjusted) \n",
    "\n",
    "DELAY_START = NPI_df.iloc[periods[1][0] + days_delay].Date\n",
    "index = -1\n",
    "while DELAY_START >= pd.to_datetime(\"2021-03-01\"):\n",
    "    DELAY_START = NPI_df.iloc[periods[-index][0]].Date\n",
    "    index -= 1\n",
    "if COUNTRY == \"Italy\":\n",
    "    DELAY_START = pd.to_datetime('2020-12-21')\n",
    "print(DELAY_START)\n",
    "\n",
    "if COUNTRY == \"United Kingdom\":\n",
    "    df_params = pd.read_pickle(\"df_United_Kingdom\")\n",
    "elif COUNTRY == \"Sweden\":\n",
    "    df_params = pd.read_pickle(\"../figures/pickles/df_Sweden\")\n",
    "elif COUNTRY == \"United States\":\n",
    "    df_params = pd.read_pickle(\"../figures/pickles/df_United_States\")\n",
    "else:\n",
    "    df_params = pd.read_pickle(\"../figures/pickles/df_9_countries\")\n",
    "df_params[\"Country\"].unique()\n",
    "df_params = df_params[df_params[\"Country\"] == COUNTRY]"
   ]
  },
  {
   "cell_type": "code",
   "execution_count": 157,
   "metadata": {},
   "outputs": [
    {
     "data": {
      "image/png": "[encoded data removed]",
      "text/plain": [
       "<Figure size 432x288 with 1 Axes>"
      ]
     },
     "metadata": {
      "needs_background": "light"
     },
     "output_type": "display_data"
    }
   ],
   "source": [
    "df = jhu_data.cleaned()\n",
    "df = df[df[\"Country\"] == COUNTRY]\n",
    "old_df = df.copy()\n",
    "df = df[df[\"Province\"] == \"-\"]\n",
    "df[df.columns[-4:]] = df[df.columns[-4:]].rolling(7).mean()\n",
    "df[\"New Confirmed\"] = df.Confirmed.diff()\n",
    "train = df[df[\"Date\"] <= DELAY_START.strftime(\"%Y-%m-%d\")]\n",
    "test = df[df[\"Date\"] >= DELAY_START.strftime(\"%Y-%m-%d\")]\n",
    "ax = train.plot(x=\"Date\", y=\"New Confirmed\");\n",
    "test.plot(x=\"Date\", y=\"New Confirmed\", ax=ax);"
   ]
  },
  {
   "cell_type": "markdown",
   "metadata": {},
   "source": [
    "## SIR Model"
   ]
  },
  {
   "cell_type": "code",
   "execution_count": 114,
   "metadata": {},
   "outputs": [
    {
     "name": "stdout",
     "output_type": "stream",
     "text": [
      "Population in Italy : 60421760\n"
     ]
    }
   ],
   "source": [
    "selection = train.iloc[-1]\n",
    "N = population_df[population_df[\"Country\"] == COUNTRY][\"Population\"].values[0]\n",
    "print('Population in', COUNTRY, \":\", N)"
   ]
  },
  {
   "cell_type": "code",
   "execution_count": 181,
   "metadata": {
    "scrolled": true
   },
   "outputs": [],
   "source": [
    "target_column = \"Infected\"\n",
    "\n",
    "def calc_param(df, lockdown_dates):\n",
    "    total_params = [\"theta\", \"kappa\", \"rho\", \"sigma\"]\n",
    "    calc_params_df = {}\n",
    "    for param in total_params:\n",
    "        values = []\n",
    "        for date in df[\"Date\"].values:\n",
    "            if date in lockdown_dates.values:\n",
    "                values.append(np.mean(df[df['Date'] == date][param]))\n",
    "        calc_params_df[param] = np.mean(values)\n",
    "    return calc_params_df\n",
    "\n",
    "params_total = {}\n",
    "sir_params_total = {}\n",
    "for p in NPI_dates:\n",
    "    res = calc_param(df_params, pd.Series(NPI_dates[p]))\n",
    "    if not math.isnan(res[\"kappa\"]):\n",
    "        params_total[p] = res\n",
    "        sir = SIR(N=N, I0=selection[target_column], R0=selection[\"Recovered\"], \n",
    "                  beta=res[\"rho\"], gamma=res[\"theta\"], days=len(test))\n",
    "        SIR_results = sir.simulate(target=\"Infected\", plot=False)\n",
    "        sir_params_total[p] = SIR_results\n",
    "test[\"SIR Infected lockdown scenario\"] = SIR_results[\"I\"]"
   ]
  },
  {
   "cell_type": "markdown",
   "metadata": {},
   "source": [
    "## LSTM predictions"
   ]
  },
  {
   "cell_type": "code",
   "execution_count": 155,
   "metadata": {
    "scrolled": false
   },
   "outputs": [
    {
     "name": "stdout",
     "output_type": "stream",
     "text": [
      "0.2179781049489975\n"
     ]
    }
   ],
   "source": [
    "SIR_LSTM = LSTM_M2(COUNTRY, DELAY_START, FUTURE_DAYS=len(test))\n",
    "SIR_LSTM.input_data(df)\n",
    "results = SIR_LSTM.simulate();"
   ]
  },
  {
   "cell_type": "markdown",
   "metadata": {},
   "source": [
    "### Plot prediction values of M2"
   ]
  },
  {
   "cell_type": "code",
   "execution_count": 180,
   "metadata": {
    "scrolled": true
   },
   "outputs": [
    {
     "data": {
      "image/png": "[encoded data removed]",
      "text/plain": [
       "<Figure size 432x288 with 1 Axes>"
      ]
     },
     "metadata": {
      "needs_background": "light"
     },
     "output_type": "display_data"
    }
   ],
   "source": [
    "test[\"LSTM\"] = results[\"pred\"]\n",
    "test[\"M2\"] = SIR_LSTM.update_predictions(test[\"SIR Infected lockdown scenario\"], tau=days_delay)\n",
    "test[\"Observed\"] = old_df[old_df[\"Date\"] >= DELAY_START.strftime(\"%Y-%m-%d\")][\"Infected\"]\n",
    "ax = train_copy.plot(x=\"Date\", y=\"Infected\", label=\"Train\");\n",
    "test.plot(x=\"Date\", y=[\"Infected\", \"SIR Infected lockdown scenario\", \"LSTM\", \"M2\", \"Observed\"], ax=ax);\n",
    "ax.axvline(x=DELAY_START.strftime(\"%Y-%m-%d\"), color=\"grey\");\n"
   ]
  }
 ],
 "metadata": {
  "kernelspec": {
   "display_name": "Python 3",
   "language": "python",
   "name": "python3"
  },
  "language_info": {
   "codemirror_mode": {
    "name": "ipython",
    "version": 3
   },
   "file_extension": ".py",
   "mimetype": "text/x-python",
   "name": "python",
   "nbconvert_exporter": "python",
   "pygments_lexer": "ipython3",
   "version": "3.7.8"
  }
 },
 "nbformat": 4,
 "nbformat_minor": 4
}
